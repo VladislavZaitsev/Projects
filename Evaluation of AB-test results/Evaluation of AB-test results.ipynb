{
 "cells": [
  {
   "cell_type": "markdown",
   "metadata": {},
   "source": [
    "<div style=\"border:solid green 2px; padding: 20px\"> <h1 style=\"color:green; margin-bottom:20px\">Комментарий ревьювера</h1>\n",
    "\n",
    "Владислав, привет! \n",
    "\n",
    "🤝 Тобой проделана большая работа, молодец! \n",
    "\n",
    "✏️ В этой тетрадке далее мои комментарии будут выделены по цветам:\n",
    "\n",
    "    \n",
    "<div class=\"alert alert-block alert-success\">\n",
    "<b>✔️ Комментарий ревьюера:</b> Зеленный блок указывает на твои удачные решения и сильные стороны работы\n",
    "</div>\n",
    "\n",
    "\n",
    "\n",
    "    \n",
    "<div class=\"alert alert-block alert-warning\">\n",
    "<b> ⚠️ Комментарий ревьюера:</b> Желтый блок указывает на то, что задание решено корректно, но какие-то вещи можно улучшить для большей эффективности работы, чистоты кода, поддержки и пр.\n",
    "</div>\n",
    "\n",
    "\n",
    "<div class=\"alert alert-block alert-danger\">\n",
    "<b> ❌ Комментарий ревьюера:</b> Красный блок указывает на то, то в задании допущена ошибка, которая влияет на итоговые результаты, и без исправления которой работа не будет принята.\n",
    "</div>\n",
    "\n",
    "\n",
    "    \n",
    "📈 Не удаляй мои комментарии, так будет проще следить за динамикой.\n",
    "    \n",
    "🖋 Для простоты нашего общения и ускорения процесса проверки, можешь тоже выделять свои комментарии\n",
    "<div class=\"alert alert-info\"><b>Комментарий студента:</b> Например, вот так.</div>\n",
    "    \n",
    "  Ты проделал большую и интересную работу. Ты справился с большинством шагов, но по некоторым пунктам нужны доработки.\n",
    "   Давай посмотрим, что получилось!"
   ]
  },
  {
   "cell_type": "markdown",
   "metadata": {},
   "source": [
    "# Проект по А/B-тестированию"
   ]
  },
  {
   "cell_type": "markdown",
   "metadata": {},
   "source": [
    "Ваша задача — провести оценку результатов A/B-теста. В вашем распоряжении есть датасет с действиями пользователей, техническое задание и несколько вспомогательных датасетов.\n",
    "\n",
    "Оцените корректность проведения теста. Проанализируйте результаты теста.\n",
    "\n",
    "Чтобы оценить корректность проведения теста, проверьте:\n",
    "- пересечение тестовой аудитории с конкурирующим тестом;\n",
    "- совпадение теста и маркетинговых событий, другие проблемы временных границ теста."
   ]
  },
  {
   "cell_type": "markdown",
   "metadata": {},
   "source": [
    "<div class=\"alert alert-block alert-success\">\n",
    "<b>✔️ Комментарий ревьюера:</b>  Отлично, что оставляешь краткое описание проекта в начале, с заголовком и описанием цели. Можно ещё попробовать сформулировать цель проекта с точки зрения решения бизнес-задачи и добавить ТЗ\n",
    "</div>"
   ]
  },
  {
   "cell_type": "markdown",
   "metadata": {},
   "source": [
    "<div class=\"alert alert-info\"><b>Комментарий студента:</b> Думаю, цель с точки зрения решения бизнес-задачи должна быть следующей:</div>"
   ]
  },
  {
   "cell_type": "markdown",
   "metadata": {},
   "source": [
    "В качестве эксперимента проведено тестирование изменений, связанных с внедрением улучшенной рекомендательной системы. Ожидаемый эффект состоит в том, что за 14 дней с момента регистрации в системе пользователи покажут улучшение каждой метрики не менее, чем на 10%.\n",
    "\n",
    "В связи с этим **требуется решить, внедрять ли улучшенную рекомендательную систему для всех пользователей или остаться на текущей.**"
   ]
  },
  {
   "cell_type": "markdown",
   "metadata": {},
   "source": [
    "<div class=\"alert alert-block alert-success\">\n",
    "<b>✔️ Комментарий ревьюера 2:</b>  И принесет ли она дополнительную прибыль;)\n",
    "</div>"
   ]
  },
  {
   "cell_type": "markdown",
   "metadata": {},
   "source": [
    "**Техническое задание:** \n",
    "\n",
    "- Название теста: recommender_system_test;\n",
    "- Группы: А (контрольная), B (новая платёжная воронка);\n",
    "- Дата запуска: 2020-12-07;\n",
    "- Дата остановки набора новых пользователей: 2020-12-21;\n",
    "- Дата остановки: 2021-01-04;\n",
    "- Аудитория: 15% новых пользователей из региона EU;\n",
    "- Назначение теста: тестирование изменений, связанных с внедрением улучшенной рекомендательной системы;\n",
    "- Ожидаемое количество участников теста: 6000.\n",
    "- Ожидаемый эффект: за 14 дней с момента регистрации в системе пользователи покажут улучшение каждой метрики не менее, чем на 10%: \n",
    "    - конверсии в просмотр карточек товаров — событие product_page\n",
    "    - просмотры корзины — product_cart\n",
    "    - покупки — purchase."
   ]
  },
  {
   "cell_type": "markdown",
   "metadata": {},
   "source": [
    "## Предобработка данных"
   ]
  },
  {
   "cell_type": "code",
   "execution_count": 1,
   "metadata": {},
   "outputs": [],
   "source": [
    "import pandas as pd\n",
    "import seaborn as sns\n",
    "import matplotlib.pyplot as plt\n",
    "import numpy as np\n",
    "import plotly.express as px\n",
    "import plotly.graph_objects as go\n",
    "import math as mth\n",
    "from plotly.subplots import make_subplots\n",
    "from scipy import stats as st"
   ]
  },
  {
   "cell_type": "code",
   "execution_count": 2,
   "metadata": {},
   "outputs": [],
   "source": [
    "marketing_events = pd.read_csv('https://code.s3.yandex.net/datasets/ab_project_marketing_events.csv')\n",
    "new_users = pd.read_csv('https://code.s3.yandex.net/datasets/final_ab_new_users.csv')\n",
    "events = pd.read_csv('https://code.s3.yandex.net/datasets/final_ab_events.csv')\n",
    "participants = pd.read_csv('https://code.s3.yandex.net/datasets/final_ab_participants.csv')"
   ]
  },
  {
   "cell_type": "code",
   "execution_count": 3,
   "metadata": {},
   "outputs": [
    {
     "data": {
      "text/html": [
       "<div>\n",
       "<style scoped>\n",
       "    .dataframe tbody tr th:only-of-type {\n",
       "        vertical-align: middle;\n",
       "    }\n",
       "\n",
       "    .dataframe tbody tr th {\n",
       "        vertical-align: top;\n",
       "    }\n",
       "\n",
       "    .dataframe thead th {\n",
       "        text-align: right;\n",
       "    }\n",
       "</style>\n",
       "<table border=\"1\" class=\"dataframe\">\n",
       "  <thead>\n",
       "    <tr style=\"text-align: right;\">\n",
       "      <th></th>\n",
       "      <th>name</th>\n",
       "      <th>regions</th>\n",
       "      <th>start_dt</th>\n",
       "      <th>finish_dt</th>\n",
       "    </tr>\n",
       "  </thead>\n",
       "  <tbody>\n",
       "    <tr>\n",
       "      <th>0</th>\n",
       "      <td>Christmas&amp;New Year Promo</td>\n",
       "      <td>EU, N.America</td>\n",
       "      <td>2020-12-25</td>\n",
       "      <td>2021-01-03</td>\n",
       "    </tr>\n",
       "    <tr>\n",
       "      <th>1</th>\n",
       "      <td>St. Valentine's Day Giveaway</td>\n",
       "      <td>EU, CIS, APAC, N.America</td>\n",
       "      <td>2020-02-14</td>\n",
       "      <td>2020-02-16</td>\n",
       "    </tr>\n",
       "    <tr>\n",
       "      <th>2</th>\n",
       "      <td>St. Patric's Day Promo</td>\n",
       "      <td>EU, N.America</td>\n",
       "      <td>2020-03-17</td>\n",
       "      <td>2020-03-19</td>\n",
       "    </tr>\n",
       "    <tr>\n",
       "      <th>3</th>\n",
       "      <td>Easter Promo</td>\n",
       "      <td>EU, CIS, APAC, N.America</td>\n",
       "      <td>2020-04-12</td>\n",
       "      <td>2020-04-19</td>\n",
       "    </tr>\n",
       "    <tr>\n",
       "      <th>4</th>\n",
       "      <td>4th of July Promo</td>\n",
       "      <td>N.America</td>\n",
       "      <td>2020-07-04</td>\n",
       "      <td>2020-07-11</td>\n",
       "    </tr>\n",
       "    <tr>\n",
       "      <th>5</th>\n",
       "      <td>Black Friday Ads Campaign</td>\n",
       "      <td>EU, CIS, APAC, N.America</td>\n",
       "      <td>2020-11-26</td>\n",
       "      <td>2020-12-01</td>\n",
       "    </tr>\n",
       "    <tr>\n",
       "      <th>6</th>\n",
       "      <td>Chinese New Year Promo</td>\n",
       "      <td>APAC</td>\n",
       "      <td>2020-01-25</td>\n",
       "      <td>2020-02-07</td>\n",
       "    </tr>\n",
       "    <tr>\n",
       "      <th>7</th>\n",
       "      <td>Labor day (May 1st) Ads Campaign</td>\n",
       "      <td>EU, CIS, APAC</td>\n",
       "      <td>2020-05-01</td>\n",
       "      <td>2020-05-03</td>\n",
       "    </tr>\n",
       "    <tr>\n",
       "      <th>8</th>\n",
       "      <td>International Women's Day Promo</td>\n",
       "      <td>EU, CIS, APAC</td>\n",
       "      <td>2020-03-08</td>\n",
       "      <td>2020-03-10</td>\n",
       "    </tr>\n",
       "    <tr>\n",
       "      <th>9</th>\n",
       "      <td>Victory Day CIS (May 9th) Event</td>\n",
       "      <td>CIS</td>\n",
       "      <td>2020-05-09</td>\n",
       "      <td>2020-05-11</td>\n",
       "    </tr>\n",
       "    <tr>\n",
       "      <th>10</th>\n",
       "      <td>CIS New Year Gift Lottery</td>\n",
       "      <td>CIS</td>\n",
       "      <td>2020-12-30</td>\n",
       "      <td>2021-01-07</td>\n",
       "    </tr>\n",
       "    <tr>\n",
       "      <th>11</th>\n",
       "      <td>Dragon Boat Festival Giveaway</td>\n",
       "      <td>APAC</td>\n",
       "      <td>2020-06-25</td>\n",
       "      <td>2020-07-01</td>\n",
       "    </tr>\n",
       "    <tr>\n",
       "      <th>12</th>\n",
       "      <td>Single's Day Gift Promo</td>\n",
       "      <td>APAC</td>\n",
       "      <td>2020-11-11</td>\n",
       "      <td>2020-11-12</td>\n",
       "    </tr>\n",
       "    <tr>\n",
       "      <th>13</th>\n",
       "      <td>Chinese Moon Festival</td>\n",
       "      <td>APAC</td>\n",
       "      <td>2020-10-01</td>\n",
       "      <td>2020-10-07</td>\n",
       "    </tr>\n",
       "  </tbody>\n",
       "</table>\n",
       "</div>"
      ],
      "text/plain": [
       "                                name                   regions    start_dt  \\\n",
       "0           Christmas&New Year Promo             EU, N.America  2020-12-25   \n",
       "1       St. Valentine's Day Giveaway  EU, CIS, APAC, N.America  2020-02-14   \n",
       "2             St. Patric's Day Promo             EU, N.America  2020-03-17   \n",
       "3                       Easter Promo  EU, CIS, APAC, N.America  2020-04-12   \n",
       "4                  4th of July Promo                 N.America  2020-07-04   \n",
       "5          Black Friday Ads Campaign  EU, CIS, APAC, N.America  2020-11-26   \n",
       "6             Chinese New Year Promo                      APAC  2020-01-25   \n",
       "7   Labor day (May 1st) Ads Campaign             EU, CIS, APAC  2020-05-01   \n",
       "8    International Women's Day Promo             EU, CIS, APAC  2020-03-08   \n",
       "9    Victory Day CIS (May 9th) Event                       CIS  2020-05-09   \n",
       "10         CIS New Year Gift Lottery                       CIS  2020-12-30   \n",
       "11     Dragon Boat Festival Giveaway                      APAC  2020-06-25   \n",
       "12           Single's Day Gift Promo                      APAC  2020-11-11   \n",
       "13             Chinese Moon Festival                      APAC  2020-10-01   \n",
       "\n",
       "     finish_dt  \n",
       "0   2021-01-03  \n",
       "1   2020-02-16  \n",
       "2   2020-03-19  \n",
       "3   2020-04-19  \n",
       "4   2020-07-11  \n",
       "5   2020-12-01  \n",
       "6   2020-02-07  \n",
       "7   2020-05-03  \n",
       "8   2020-03-10  \n",
       "9   2020-05-11  \n",
       "10  2021-01-07  \n",
       "11  2020-07-01  \n",
       "12  2020-11-12  \n",
       "13  2020-10-07  "
      ]
     },
     "metadata": {},
     "output_type": "display_data"
    },
    {
     "data": {
      "text/html": [
       "<div>\n",
       "<style scoped>\n",
       "    .dataframe tbody tr th:only-of-type {\n",
       "        vertical-align: middle;\n",
       "    }\n",
       "\n",
       "    .dataframe tbody tr th {\n",
       "        vertical-align: top;\n",
       "    }\n",
       "\n",
       "    .dataframe thead th {\n",
       "        text-align: right;\n",
       "    }\n",
       "</style>\n",
       "<table border=\"1\" class=\"dataframe\">\n",
       "  <thead>\n",
       "    <tr style=\"text-align: right;\">\n",
       "      <th></th>\n",
       "      <th>user_id</th>\n",
       "      <th>first_date</th>\n",
       "      <th>region</th>\n",
       "      <th>device</th>\n",
       "    </tr>\n",
       "  </thead>\n",
       "  <tbody>\n",
       "    <tr>\n",
       "      <th>0</th>\n",
       "      <td>D72A72121175D8BE</td>\n",
       "      <td>2020-12-07</td>\n",
       "      <td>EU</td>\n",
       "      <td>PC</td>\n",
       "    </tr>\n",
       "    <tr>\n",
       "      <th>1</th>\n",
       "      <td>F1C668619DFE6E65</td>\n",
       "      <td>2020-12-07</td>\n",
       "      <td>N.America</td>\n",
       "      <td>Android</td>\n",
       "    </tr>\n",
       "    <tr>\n",
       "      <th>2</th>\n",
       "      <td>2E1BF1D4C37EA01F</td>\n",
       "      <td>2020-12-07</td>\n",
       "      <td>EU</td>\n",
       "      <td>PC</td>\n",
       "    </tr>\n",
       "    <tr>\n",
       "      <th>3</th>\n",
       "      <td>50734A22C0C63768</td>\n",
       "      <td>2020-12-07</td>\n",
       "      <td>EU</td>\n",
       "      <td>iPhone</td>\n",
       "    </tr>\n",
       "    <tr>\n",
       "      <th>4</th>\n",
       "      <td>E1BDDCE0DAFA2679</td>\n",
       "      <td>2020-12-07</td>\n",
       "      <td>N.America</td>\n",
       "      <td>iPhone</td>\n",
       "    </tr>\n",
       "    <tr>\n",
       "      <th>...</th>\n",
       "      <td>...</td>\n",
       "      <td>...</td>\n",
       "      <td>...</td>\n",
       "      <td>...</td>\n",
       "    </tr>\n",
       "    <tr>\n",
       "      <th>61728</th>\n",
       "      <td>1DB53B933257165D</td>\n",
       "      <td>2020-12-20</td>\n",
       "      <td>EU</td>\n",
       "      <td>Android</td>\n",
       "    </tr>\n",
       "    <tr>\n",
       "      <th>61729</th>\n",
       "      <td>538643EB4527ED03</td>\n",
       "      <td>2020-12-20</td>\n",
       "      <td>EU</td>\n",
       "      <td>Mac</td>\n",
       "    </tr>\n",
       "    <tr>\n",
       "      <th>61730</th>\n",
       "      <td>7ADEE837D5D8CBBD</td>\n",
       "      <td>2020-12-20</td>\n",
       "      <td>EU</td>\n",
       "      <td>PC</td>\n",
       "    </tr>\n",
       "    <tr>\n",
       "      <th>61731</th>\n",
       "      <td>1C7D23927835213F</td>\n",
       "      <td>2020-12-20</td>\n",
       "      <td>EU</td>\n",
       "      <td>iPhone</td>\n",
       "    </tr>\n",
       "    <tr>\n",
       "      <th>61732</th>\n",
       "      <td>8F04273BB2860229</td>\n",
       "      <td>2020-12-20</td>\n",
       "      <td>EU</td>\n",
       "      <td>Android</td>\n",
       "    </tr>\n",
       "  </tbody>\n",
       "</table>\n",
       "<p>61733 rows × 4 columns</p>\n",
       "</div>"
      ],
      "text/plain": [
       "                user_id  first_date     region   device\n",
       "0      D72A72121175D8BE  2020-12-07         EU       PC\n",
       "1      F1C668619DFE6E65  2020-12-07  N.America  Android\n",
       "2      2E1BF1D4C37EA01F  2020-12-07         EU       PC\n",
       "3      50734A22C0C63768  2020-12-07         EU   iPhone\n",
       "4      E1BDDCE0DAFA2679  2020-12-07  N.America   iPhone\n",
       "...                 ...         ...        ...      ...\n",
       "61728  1DB53B933257165D  2020-12-20         EU  Android\n",
       "61729  538643EB4527ED03  2020-12-20         EU      Mac\n",
       "61730  7ADEE837D5D8CBBD  2020-12-20         EU       PC\n",
       "61731  1C7D23927835213F  2020-12-20         EU   iPhone\n",
       "61732  8F04273BB2860229  2020-12-20         EU  Android\n",
       "\n",
       "[61733 rows x 4 columns]"
      ]
     },
     "metadata": {},
     "output_type": "display_data"
    },
    {
     "data": {
      "text/html": [
       "<div>\n",
       "<style scoped>\n",
       "    .dataframe tbody tr th:only-of-type {\n",
       "        vertical-align: middle;\n",
       "    }\n",
       "\n",
       "    .dataframe tbody tr th {\n",
       "        vertical-align: top;\n",
       "    }\n",
       "\n",
       "    .dataframe thead th {\n",
       "        text-align: right;\n",
       "    }\n",
       "</style>\n",
       "<table border=\"1\" class=\"dataframe\">\n",
       "  <thead>\n",
       "    <tr style=\"text-align: right;\">\n",
       "      <th></th>\n",
       "      <th>user_id</th>\n",
       "      <th>event_dt</th>\n",
       "      <th>event_name</th>\n",
       "      <th>details</th>\n",
       "    </tr>\n",
       "  </thead>\n",
       "  <tbody>\n",
       "    <tr>\n",
       "      <th>0</th>\n",
       "      <td>E1BDDCE0DAFA2679</td>\n",
       "      <td>2020-12-07 20:22:03</td>\n",
       "      <td>purchase</td>\n",
       "      <td>99.99</td>\n",
       "    </tr>\n",
       "    <tr>\n",
       "      <th>1</th>\n",
       "      <td>7B6452F081F49504</td>\n",
       "      <td>2020-12-07 09:22:53</td>\n",
       "      <td>purchase</td>\n",
       "      <td>9.99</td>\n",
       "    </tr>\n",
       "    <tr>\n",
       "      <th>2</th>\n",
       "      <td>9CD9F34546DF254C</td>\n",
       "      <td>2020-12-07 12:59:29</td>\n",
       "      <td>purchase</td>\n",
       "      <td>4.99</td>\n",
       "    </tr>\n",
       "    <tr>\n",
       "      <th>3</th>\n",
       "      <td>96F27A054B191457</td>\n",
       "      <td>2020-12-07 04:02:40</td>\n",
       "      <td>purchase</td>\n",
       "      <td>4.99</td>\n",
       "    </tr>\n",
       "    <tr>\n",
       "      <th>4</th>\n",
       "      <td>1FD7660FDF94CA1F</td>\n",
       "      <td>2020-12-07 10:15:09</td>\n",
       "      <td>purchase</td>\n",
       "      <td>4.99</td>\n",
       "    </tr>\n",
       "    <tr>\n",
       "      <th>...</th>\n",
       "      <td>...</td>\n",
       "      <td>...</td>\n",
       "      <td>...</td>\n",
       "      <td>...</td>\n",
       "    </tr>\n",
       "    <tr>\n",
       "      <th>440312</th>\n",
       "      <td>245E85F65C358E08</td>\n",
       "      <td>2020-12-30 19:35:55</td>\n",
       "      <td>login</td>\n",
       "      <td>NaN</td>\n",
       "    </tr>\n",
       "    <tr>\n",
       "      <th>440313</th>\n",
       "      <td>9385A108F5A0A7A7</td>\n",
       "      <td>2020-12-30 10:54:15</td>\n",
       "      <td>login</td>\n",
       "      <td>NaN</td>\n",
       "    </tr>\n",
       "    <tr>\n",
       "      <th>440314</th>\n",
       "      <td>DB650B7559AC6EAC</td>\n",
       "      <td>2020-12-30 10:59:09</td>\n",
       "      <td>login</td>\n",
       "      <td>NaN</td>\n",
       "    </tr>\n",
       "    <tr>\n",
       "      <th>440315</th>\n",
       "      <td>F80C9BDDEA02E53C</td>\n",
       "      <td>2020-12-30 09:53:39</td>\n",
       "      <td>login</td>\n",
       "      <td>NaN</td>\n",
       "    </tr>\n",
       "    <tr>\n",
       "      <th>440316</th>\n",
       "      <td>7AEC61159B672CC5</td>\n",
       "      <td>2020-12-30 11:36:13</td>\n",
       "      <td>login</td>\n",
       "      <td>NaN</td>\n",
       "    </tr>\n",
       "  </tbody>\n",
       "</table>\n",
       "<p>440317 rows × 4 columns</p>\n",
       "</div>"
      ],
      "text/plain": [
       "                 user_id             event_dt event_name  details\n",
       "0       E1BDDCE0DAFA2679  2020-12-07 20:22:03   purchase    99.99\n",
       "1       7B6452F081F49504  2020-12-07 09:22:53   purchase     9.99\n",
       "2       9CD9F34546DF254C  2020-12-07 12:59:29   purchase     4.99\n",
       "3       96F27A054B191457  2020-12-07 04:02:40   purchase     4.99\n",
       "4       1FD7660FDF94CA1F  2020-12-07 10:15:09   purchase     4.99\n",
       "...                  ...                  ...        ...      ...\n",
       "440312  245E85F65C358E08  2020-12-30 19:35:55      login      NaN\n",
       "440313  9385A108F5A0A7A7  2020-12-30 10:54:15      login      NaN\n",
       "440314  DB650B7559AC6EAC  2020-12-30 10:59:09      login      NaN\n",
       "440315  F80C9BDDEA02E53C  2020-12-30 09:53:39      login      NaN\n",
       "440316  7AEC61159B672CC5  2020-12-30 11:36:13      login      NaN\n",
       "\n",
       "[440317 rows x 4 columns]"
      ]
     },
     "metadata": {},
     "output_type": "display_data"
    },
    {
     "data": {
      "text/html": [
       "<div>\n",
       "<style scoped>\n",
       "    .dataframe tbody tr th:only-of-type {\n",
       "        vertical-align: middle;\n",
       "    }\n",
       "\n",
       "    .dataframe tbody tr th {\n",
       "        vertical-align: top;\n",
       "    }\n",
       "\n",
       "    .dataframe thead th {\n",
       "        text-align: right;\n",
       "    }\n",
       "</style>\n",
       "<table border=\"1\" class=\"dataframe\">\n",
       "  <thead>\n",
       "    <tr style=\"text-align: right;\">\n",
       "      <th></th>\n",
       "      <th>user_id</th>\n",
       "      <th>group</th>\n",
       "      <th>ab_test</th>\n",
       "    </tr>\n",
       "  </thead>\n",
       "  <tbody>\n",
       "    <tr>\n",
       "      <th>0</th>\n",
       "      <td>D1ABA3E2887B6A73</td>\n",
       "      <td>A</td>\n",
       "      <td>recommender_system_test</td>\n",
       "    </tr>\n",
       "    <tr>\n",
       "      <th>1</th>\n",
       "      <td>A7A3664BD6242119</td>\n",
       "      <td>A</td>\n",
       "      <td>recommender_system_test</td>\n",
       "    </tr>\n",
       "    <tr>\n",
       "      <th>2</th>\n",
       "      <td>DABC14FDDFADD29E</td>\n",
       "      <td>A</td>\n",
       "      <td>recommender_system_test</td>\n",
       "    </tr>\n",
       "    <tr>\n",
       "      <th>3</th>\n",
       "      <td>04988C5DF189632E</td>\n",
       "      <td>A</td>\n",
       "      <td>recommender_system_test</td>\n",
       "    </tr>\n",
       "    <tr>\n",
       "      <th>4</th>\n",
       "      <td>482F14783456D21B</td>\n",
       "      <td>B</td>\n",
       "      <td>recommender_system_test</td>\n",
       "    </tr>\n",
       "    <tr>\n",
       "      <th>...</th>\n",
       "      <td>...</td>\n",
       "      <td>...</td>\n",
       "      <td>...</td>\n",
       "    </tr>\n",
       "    <tr>\n",
       "      <th>18263</th>\n",
       "      <td>1D302F8688B91781</td>\n",
       "      <td>B</td>\n",
       "      <td>interface_eu_test</td>\n",
       "    </tr>\n",
       "    <tr>\n",
       "      <th>18264</th>\n",
       "      <td>3DE51B726983B657</td>\n",
       "      <td>A</td>\n",
       "      <td>interface_eu_test</td>\n",
       "    </tr>\n",
       "    <tr>\n",
       "      <th>18265</th>\n",
       "      <td>F501F79D332BE86C</td>\n",
       "      <td>A</td>\n",
       "      <td>interface_eu_test</td>\n",
       "    </tr>\n",
       "    <tr>\n",
       "      <th>18266</th>\n",
       "      <td>63FBE257B05F2245</td>\n",
       "      <td>A</td>\n",
       "      <td>interface_eu_test</td>\n",
       "    </tr>\n",
       "    <tr>\n",
       "      <th>18267</th>\n",
       "      <td>79F9ABFB029CF724</td>\n",
       "      <td>B</td>\n",
       "      <td>interface_eu_test</td>\n",
       "    </tr>\n",
       "  </tbody>\n",
       "</table>\n",
       "<p>18268 rows × 3 columns</p>\n",
       "</div>"
      ],
      "text/plain": [
       "                user_id group                  ab_test\n",
       "0      D1ABA3E2887B6A73     A  recommender_system_test\n",
       "1      A7A3664BD6242119     A  recommender_system_test\n",
       "2      DABC14FDDFADD29E     A  recommender_system_test\n",
       "3      04988C5DF189632E     A  recommender_system_test\n",
       "4      482F14783456D21B     B  recommender_system_test\n",
       "...                 ...   ...                      ...\n",
       "18263  1D302F8688B91781     B        interface_eu_test\n",
       "18264  3DE51B726983B657     A        interface_eu_test\n",
       "18265  F501F79D332BE86C     A        interface_eu_test\n",
       "18266  63FBE257B05F2245     A        interface_eu_test\n",
       "18267  79F9ABFB029CF724     B        interface_eu_test\n",
       "\n",
       "[18268 rows x 3 columns]"
      ]
     },
     "metadata": {},
     "output_type": "display_data"
    }
   ],
   "source": [
    "# ознакомимся с датасетами\n",
    "\n",
    "df_list = [marketing_events, new_users, events, participants]\n",
    "\n",
    "for df in df_list:\n",
    "    display(df)"
   ]
  },
  {
   "cell_type": "markdown",
   "metadata": {},
   "source": [
    "Начнем предобработку:"
   ]
  },
  {
   "cell_type": "code",
   "execution_count": 4,
   "metadata": {},
   "outputs": [
    {
     "name": "stdout",
     "output_type": "stream",
     "text": [
      "<class 'pandas.core.frame.DataFrame'>\n",
      "RangeIndex: 14 entries, 0 to 13\n",
      "Data columns (total 4 columns):\n",
      " #   Column     Non-Null Count  Dtype \n",
      "---  ------     --------------  ----- \n",
      " 0   name       14 non-null     object\n",
      " 1   regions    14 non-null     object\n",
      " 2   start_dt   14 non-null     object\n",
      " 3   finish_dt  14 non-null     object\n",
      "dtypes: object(4)\n",
      "memory usage: 576.0+ bytes\n"
     ]
    }
   ],
   "source": [
    "marketing_events.info()"
   ]
  },
  {
   "cell_type": "code",
   "execution_count": 5,
   "metadata": {},
   "outputs": [
    {
     "data": {
      "text/html": [
       "<div>\n",
       "<style scoped>\n",
       "    .dataframe tbody tr th:only-of-type {\n",
       "        vertical-align: middle;\n",
       "    }\n",
       "\n",
       "    .dataframe tbody tr th {\n",
       "        vertical-align: top;\n",
       "    }\n",
       "\n",
       "    .dataframe thead th {\n",
       "        text-align: right;\n",
       "    }\n",
       "</style>\n",
       "<table border=\"1\" class=\"dataframe\">\n",
       "  <thead>\n",
       "    <tr style=\"text-align: right;\">\n",
       "      <th></th>\n",
       "      <th>name</th>\n",
       "      <th>regions</th>\n",
       "      <th>start_dt</th>\n",
       "      <th>finish_dt</th>\n",
       "    </tr>\n",
       "  </thead>\n",
       "  <tbody>\n",
       "    <tr>\n",
       "      <th>0</th>\n",
       "      <td>Christmas&amp;New Year Promo</td>\n",
       "      <td>EU, N.America</td>\n",
       "      <td>2020-12-25</td>\n",
       "      <td>2021-01-03</td>\n",
       "    </tr>\n",
       "    <tr>\n",
       "      <th>1</th>\n",
       "      <td>St. Valentine's Day Giveaway</td>\n",
       "      <td>EU, CIS, APAC, N.America</td>\n",
       "      <td>2020-02-14</td>\n",
       "      <td>2020-02-16</td>\n",
       "    </tr>\n",
       "    <tr>\n",
       "      <th>2</th>\n",
       "      <td>St. Patric's Day Promo</td>\n",
       "      <td>EU, N.America</td>\n",
       "      <td>2020-03-17</td>\n",
       "      <td>2020-03-19</td>\n",
       "    </tr>\n",
       "    <tr>\n",
       "      <th>3</th>\n",
       "      <td>Easter Promo</td>\n",
       "      <td>EU, CIS, APAC, N.America</td>\n",
       "      <td>2020-04-12</td>\n",
       "      <td>2020-04-19</td>\n",
       "    </tr>\n",
       "    <tr>\n",
       "      <th>4</th>\n",
       "      <td>4th of July Promo</td>\n",
       "      <td>N.America</td>\n",
       "      <td>2020-07-04</td>\n",
       "      <td>2020-07-11</td>\n",
       "    </tr>\n",
       "  </tbody>\n",
       "</table>\n",
       "</div>"
      ],
      "text/plain": [
       "                           name                   regions   start_dt  \\\n",
       "0      Christmas&New Year Promo             EU, N.America 2020-12-25   \n",
       "1  St. Valentine's Day Giveaway  EU, CIS, APAC, N.America 2020-02-14   \n",
       "2        St. Patric's Day Promo             EU, N.America 2020-03-17   \n",
       "3                  Easter Promo  EU, CIS, APAC, N.America 2020-04-12   \n",
       "4             4th of July Promo                 N.America 2020-07-04   \n",
       "\n",
       "   finish_dt  \n",
       "0 2021-01-03  \n",
       "1 2020-02-16  \n",
       "2 2020-03-19  \n",
       "3 2020-04-19  \n",
       "4 2020-07-11  "
      ]
     },
     "metadata": {},
     "output_type": "display_data"
    },
    {
     "name": "stdout",
     "output_type": "stream",
     "text": [
      "<class 'pandas.core.frame.DataFrame'>\n",
      "RangeIndex: 14 entries, 0 to 13\n",
      "Data columns (total 4 columns):\n",
      " #   Column     Non-Null Count  Dtype         \n",
      "---  ------     --------------  -----         \n",
      " 0   name       14 non-null     object        \n",
      " 1   regions    14 non-null     object        \n",
      " 2   start_dt   14 non-null     datetime64[ns]\n",
      " 3   finish_dt  14 non-null     datetime64[ns]\n",
      "dtypes: datetime64[ns](2), object(2)\n",
      "memory usage: 576.0+ bytes\n"
     ]
    }
   ],
   "source": [
    "# переведем дату и вермя в соответствующий формат\n",
    "\n",
    "columns = ['start_dt', 'finish_dt']\n",
    "\n",
    "for column in columns:\n",
    "    marketing_events[column] = pd.to_datetime(marketing_events[column])\n",
    "    \n",
    "display(marketing_events.head())\n",
    "marketing_events.info()"
   ]
  },
  {
   "cell_type": "markdown",
   "metadata": {},
   "source": [
    "**Пропуски и дубликаты в marketing_events отсутствуют. Столбец с датой скорректирован. Перейдем к следующему датасету**"
   ]
  },
  {
   "cell_type": "code",
   "execution_count": 6,
   "metadata": {},
   "outputs": [
    {
     "name": "stdout",
     "output_type": "stream",
     "text": [
      "<class 'pandas.core.frame.DataFrame'>\n",
      "RangeIndex: 61733 entries, 0 to 61732\n",
      "Data columns (total 4 columns):\n",
      " #   Column      Non-Null Count  Dtype \n",
      "---  ------      --------------  ----- \n",
      " 0   user_id     61733 non-null  object\n",
      " 1   first_date  61733 non-null  object\n",
      " 2   region      61733 non-null  object\n",
      " 3   device      61733 non-null  object\n",
      "dtypes: object(4)\n",
      "memory usage: 1.9+ MB\n"
     ]
    }
   ],
   "source": [
    "new_users.info()"
   ]
  },
  {
   "cell_type": "code",
   "execution_count": 7,
   "metadata": {},
   "outputs": [],
   "source": [
    "new_users['first_date'] = pd.to_datetime(new_users['first_date']) # сконвертируем дату"
   ]
  },
  {
   "cell_type": "code",
   "execution_count": 8,
   "metadata": {},
   "outputs": [
    {
     "data": {
      "text/plain": [
       "0"
      ]
     },
     "execution_count": 8,
     "metadata": {},
     "output_type": "execute_result"
    }
   ],
   "source": [
    "new_users.duplicated().sum() # проверим количество явных дубликатов"
   ]
  },
  {
   "cell_type": "markdown",
   "metadata": {},
   "source": [
    "**Пропуски и дубликаты в new_users отсутствуют. Столбец с датой скорректирован. Перейдем к следующему датасету**"
   ]
  },
  {
   "cell_type": "code",
   "execution_count": 9,
   "metadata": {},
   "outputs": [
    {
     "name": "stdout",
     "output_type": "stream",
     "text": [
      "<class 'pandas.core.frame.DataFrame'>\n",
      "RangeIndex: 440317 entries, 0 to 440316\n",
      "Data columns (total 4 columns):\n",
      " #   Column      Non-Null Count   Dtype  \n",
      "---  ------      --------------   -----  \n",
      " 0   user_id     440317 non-null  object \n",
      " 1   event_dt    440317 non-null  object \n",
      " 2   event_name  440317 non-null  object \n",
      " 3   details     62740 non-null   float64\n",
      "dtypes: float64(1), object(3)\n",
      "memory usage: 13.4+ MB\n"
     ]
    }
   ],
   "source": [
    "events.info()"
   ]
  },
  {
   "cell_type": "markdown",
   "metadata": {},
   "source": [
    "Пропуски есть в столбце details, однако данные там должны присутствовать только для совершения покупки. Уточним этот момент"
   ]
  },
  {
   "cell_type": "code",
   "execution_count": 10,
   "metadata": {},
   "outputs": [
    {
     "data": {
      "text/plain": [
       "['purchase', 'product_cart', 'product_page', 'login']"
      ]
     },
     "execution_count": 10,
     "metadata": {},
     "output_type": "execute_result"
    }
   ],
   "source": [
    "list(events['event_name'].unique())"
   ]
  },
  {
   "cell_type": "code",
   "execution_count": 11,
   "metadata": {},
   "outputs": [
    {
     "data": {
      "text/plain": [
       "array([nan])"
      ]
     },
     "execution_count": 11,
     "metadata": {},
     "output_type": "execute_result"
    }
   ],
   "source": [
    "events[events['event_name'] != 'purchase']['details'].unique() # уникальные значения"
   ]
  },
  {
   "cell_type": "code",
   "execution_count": 12,
   "metadata": {},
   "outputs": [
    {
     "data": {
      "text/plain": [
       "0"
      ]
     },
     "execution_count": 12,
     "metadata": {},
     "output_type": "execute_result"
    }
   ],
   "source": [
    "# сколько пустых ячеек в purchase\n",
    "events[events['event_name'] == 'purchase']['details'].isna().sum() "
   ]
  },
  {
   "cell_type": "markdown",
   "metadata": {},
   "source": [
    "Да, всё так. Заполнять здесь пропуски нецелесообразно"
   ]
  },
  {
   "cell_type": "markdown",
   "metadata": {},
   "source": [
    "<div class=\"alert alert-block alert-success\">\n",
    "<b>✔️ Комментарий ревьюера:</b> Здорово, что обращаешь внимание на нулевые значения, и верно делаешь анализ причин пропусков\n",
    "</div>"
   ]
  },
  {
   "cell_type": "code",
   "execution_count": 13,
   "metadata": {},
   "outputs": [
    {
     "data": {
      "text/plain": [
       "0"
      ]
     },
     "execution_count": 13,
     "metadata": {},
     "output_type": "execute_result"
    }
   ],
   "source": [
    "events.duplicated().sum() # проверим количество явных дубликатов"
   ]
  },
  {
   "cell_type": "markdown",
   "metadata": {},
   "source": [
    "**Дубликаты в events отсутствуют, пропуски заполнять нецелесообразно. Столбец с датой скорректирован. Перейдем к следующему датасету**"
   ]
  },
  {
   "cell_type": "code",
   "execution_count": 14,
   "metadata": {},
   "outputs": [
    {
     "name": "stdout",
     "output_type": "stream",
     "text": [
      "<class 'pandas.core.frame.DataFrame'>\n",
      "RangeIndex: 18268 entries, 0 to 18267\n",
      "Data columns (total 3 columns):\n",
      " #   Column   Non-Null Count  Dtype \n",
      "---  ------   --------------  ----- \n",
      " 0   user_id  18268 non-null  object\n",
      " 1   group    18268 non-null  object\n",
      " 2   ab_test  18268 non-null  object\n",
      "dtypes: object(3)\n",
      "memory usage: 428.3+ KB\n"
     ]
    }
   ],
   "source": [
    "participants.info()"
   ]
  },
  {
   "cell_type": "code",
   "execution_count": 15,
   "metadata": {},
   "outputs": [
    {
     "data": {
      "text/plain": [
       "0"
      ]
     },
     "execution_count": 15,
     "metadata": {},
     "output_type": "execute_result"
    }
   ],
   "source": [
    "events.duplicated().sum() # проверим количество явных дубликатов"
   ]
  },
  {
   "cell_type": "markdown",
   "metadata": {},
   "source": [
    "**Пропуски и дубликаты в participants отсутствуют**"
   ]
  },
  {
   "cell_type": "markdown",
   "metadata": {},
   "source": [
    "**Вывод**\n",
    "\n",
    "Мы завершили предобработку данных: скорректировали формат столбцов с датой, пропуски в events решили сохранить. Дубликаты в датасетах отсутствовали."
   ]
  },
  {
   "cell_type": "markdown",
   "metadata": {},
   "source": [
    "<div class=\"alert alert-block alert-success\">\n",
    "<b>✔️ Комментарий ревьюера:</b> В целом, ты используешь все необходимые методы для первого этапа изучения данных при помощи цикла\n",
    "</div>"
   ]
  },
  {
   "cell_type": "markdown",
   "metadata": {},
   "source": [
    "## Оценка корректности проведения теста"
   ]
  },
  {
   "cell_type": "code",
   "execution_count": 16,
   "metadata": {},
   "outputs": [
    {
     "data": {
      "text/plain": [
       "interface_eu_test          11567\n",
       "recommender_system_test     6701\n",
       "Name: ab_test, dtype: int64"
      ]
     },
     "execution_count": 16,
     "metadata": {},
     "output_type": "execute_result"
    }
   ],
   "source": [
    "participants['ab_test'].value_counts()"
   ]
  },
  {
   "cell_type": "markdown",
   "metadata": {},
   "source": [
    "11567 пользователей из другого теста"
   ]
  },
  {
   "cell_type": "markdown",
   "metadata": {},
   "source": [
    "Проверим, есть ли пересечения между тестами:"
   ]
  },
  {
   "cell_type": "code",
   "execution_count": 17,
   "metadata": {},
   "outputs": [
    {
     "data": {
      "text/html": [
       "<div>\n",
       "<style scoped>\n",
       "    .dataframe tbody tr th:only-of-type {\n",
       "        vertical-align: middle;\n",
       "    }\n",
       "\n",
       "    .dataframe tbody tr th {\n",
       "        vertical-align: top;\n",
       "    }\n",
       "\n",
       "    .dataframe thead th {\n",
       "        text-align: right;\n",
       "    }\n",
       "</style>\n",
       "<table border=\"1\" class=\"dataframe\">\n",
       "  <thead>\n",
       "    <tr style=\"text-align: right;\">\n",
       "      <th></th>\n",
       "      <th>user_id</th>\n",
       "      <th>group_x</th>\n",
       "      <th>ab_test_x</th>\n",
       "      <th>group_y</th>\n",
       "      <th>ab_test_y</th>\n",
       "    </tr>\n",
       "  </thead>\n",
       "  <tbody>\n",
       "    <tr>\n",
       "      <th>0</th>\n",
       "      <td>DABC14FDDFADD29E</td>\n",
       "      <td>A</td>\n",
       "      <td>recommender_system_test</td>\n",
       "      <td>A</td>\n",
       "      <td>interface_eu_test</td>\n",
       "    </tr>\n",
       "    <tr>\n",
       "      <th>1</th>\n",
       "      <td>04988C5DF189632E</td>\n",
       "      <td>A</td>\n",
       "      <td>recommender_system_test</td>\n",
       "      <td>A</td>\n",
       "      <td>interface_eu_test</td>\n",
       "    </tr>\n",
       "    <tr>\n",
       "      <th>2</th>\n",
       "      <td>B3A2485649E4A012</td>\n",
       "      <td>A</td>\n",
       "      <td>recommender_system_test</td>\n",
       "      <td>A</td>\n",
       "      <td>interface_eu_test</td>\n",
       "    </tr>\n",
       "    <tr>\n",
       "      <th>3</th>\n",
       "      <td>EAFB9027A27D510C</td>\n",
       "      <td>B</td>\n",
       "      <td>recommender_system_test</td>\n",
       "      <td>A</td>\n",
       "      <td>interface_eu_test</td>\n",
       "    </tr>\n",
       "    <tr>\n",
       "      <th>4</th>\n",
       "      <td>5D5E6EE92AF6E9E0</td>\n",
       "      <td>B</td>\n",
       "      <td>recommender_system_test</td>\n",
       "      <td>B</td>\n",
       "      <td>interface_eu_test</td>\n",
       "    </tr>\n",
       "    <tr>\n",
       "      <th>...</th>\n",
       "      <td>...</td>\n",
       "      <td>...</td>\n",
       "      <td>...</td>\n",
       "      <td>...</td>\n",
       "      <td>...</td>\n",
       "    </tr>\n",
       "    <tr>\n",
       "      <th>1597</th>\n",
       "      <td>C2DC7B6881CE6E30</td>\n",
       "      <td>B</td>\n",
       "      <td>recommender_system_test</td>\n",
       "      <td>B</td>\n",
       "      <td>interface_eu_test</td>\n",
       "    </tr>\n",
       "    <tr>\n",
       "      <th>1598</th>\n",
       "      <td>EA29547AB3C0CB9C</td>\n",
       "      <td>B</td>\n",
       "      <td>recommender_system_test</td>\n",
       "      <td>A</td>\n",
       "      <td>interface_eu_test</td>\n",
       "    </tr>\n",
       "    <tr>\n",
       "      <th>1599</th>\n",
       "      <td>9A44E27079666291</td>\n",
       "      <td>B</td>\n",
       "      <td>recommender_system_test</td>\n",
       "      <td>A</td>\n",
       "      <td>interface_eu_test</td>\n",
       "    </tr>\n",
       "    <tr>\n",
       "      <th>1600</th>\n",
       "      <td>FA86D8DFAD3ADADE</td>\n",
       "      <td>A</td>\n",
       "      <td>recommender_system_test</td>\n",
       "      <td>A</td>\n",
       "      <td>interface_eu_test</td>\n",
       "    </tr>\n",
       "    <tr>\n",
       "      <th>1601</th>\n",
       "      <td>95401934D6D6D4FC</td>\n",
       "      <td>B</td>\n",
       "      <td>recommender_system_test</td>\n",
       "      <td>A</td>\n",
       "      <td>interface_eu_test</td>\n",
       "    </tr>\n",
       "  </tbody>\n",
       "</table>\n",
       "<p>1602 rows × 5 columns</p>\n",
       "</div>"
      ],
      "text/plain": [
       "               user_id group_x                ab_test_x group_y  \\\n",
       "0     DABC14FDDFADD29E       A  recommender_system_test       A   \n",
       "1     04988C5DF189632E       A  recommender_system_test       A   \n",
       "2     B3A2485649E4A012       A  recommender_system_test       A   \n",
       "3     EAFB9027A27D510C       B  recommender_system_test       A   \n",
       "4     5D5E6EE92AF6E9E0       B  recommender_system_test       B   \n",
       "...                ...     ...                      ...     ...   \n",
       "1597  C2DC7B6881CE6E30       B  recommender_system_test       B   \n",
       "1598  EA29547AB3C0CB9C       B  recommender_system_test       A   \n",
       "1599  9A44E27079666291       B  recommender_system_test       A   \n",
       "1600  FA86D8DFAD3ADADE       A  recommender_system_test       A   \n",
       "1601  95401934D6D6D4FC       B  recommender_system_test       A   \n",
       "\n",
       "              ab_test_y  \n",
       "0     interface_eu_test  \n",
       "1     interface_eu_test  \n",
       "2     interface_eu_test  \n",
       "3     interface_eu_test  \n",
       "4     interface_eu_test  \n",
       "...                 ...  \n",
       "1597  interface_eu_test  \n",
       "1598  interface_eu_test  \n",
       "1599  interface_eu_test  \n",
       "1600  interface_eu_test  \n",
       "1601  interface_eu_test  \n",
       "\n",
       "[1602 rows x 5 columns]"
      ]
     },
     "execution_count": 17,
     "metadata": {},
     "output_type": "execute_result"
    }
   ],
   "source": [
    "participants_interface = participants[participants['ab_test'] == 'interface_eu_test']\n",
    "participants_recommender = participants[participants['ab_test'] == 'recommender_system_test']\n",
    "\n",
    "participants_both_tests = participants_recommender.merge(participants_interface, left_on='user_id', right_on='user_id', how='inner')\n",
    "participants_both_tests"
   ]
  },
  {
   "cell_type": "markdown",
   "metadata": {},
   "source": [
    "1602 человека участвовали в обоих тестах. Необходимо будет исключить их, так как второй тест может исказить данные того, с которым мы работаем"
   ]
  },
  {
   "cell_type": "markdown",
   "metadata": {},
   "source": [
    "Сохраним участников корректного теста:"
   ]
  },
  {
   "cell_type": "code",
   "execution_count": 18,
   "metadata": {},
   "outputs": [
    {
     "data": {
      "text/html": [
       "<div>\n",
       "<style scoped>\n",
       "    .dataframe tbody tr th:only-of-type {\n",
       "        vertical-align: middle;\n",
       "    }\n",
       "\n",
       "    .dataframe tbody tr th {\n",
       "        vertical-align: top;\n",
       "    }\n",
       "\n",
       "    .dataframe thead th {\n",
       "        text-align: right;\n",
       "    }\n",
       "</style>\n",
       "<table border=\"1\" class=\"dataframe\">\n",
       "  <thead>\n",
       "    <tr style=\"text-align: right;\">\n",
       "      <th></th>\n",
       "      <th>user_id</th>\n",
       "      <th>group</th>\n",
       "      <th>ab_test</th>\n",
       "    </tr>\n",
       "  </thead>\n",
       "  <tbody>\n",
       "    <tr>\n",
       "      <th>0</th>\n",
       "      <td>D1ABA3E2887B6A73</td>\n",
       "      <td>A</td>\n",
       "      <td>recommender_system_test</td>\n",
       "    </tr>\n",
       "    <tr>\n",
       "      <th>1</th>\n",
       "      <td>A7A3664BD6242119</td>\n",
       "      <td>A</td>\n",
       "      <td>recommender_system_test</td>\n",
       "    </tr>\n",
       "    <tr>\n",
       "      <th>2</th>\n",
       "      <td>DABC14FDDFADD29E</td>\n",
       "      <td>A</td>\n",
       "      <td>recommender_system_test</td>\n",
       "    </tr>\n",
       "    <tr>\n",
       "      <th>3</th>\n",
       "      <td>04988C5DF189632E</td>\n",
       "      <td>A</td>\n",
       "      <td>recommender_system_test</td>\n",
       "    </tr>\n",
       "    <tr>\n",
       "      <th>4</th>\n",
       "      <td>482F14783456D21B</td>\n",
       "      <td>B</td>\n",
       "      <td>recommender_system_test</td>\n",
       "    </tr>\n",
       "    <tr>\n",
       "      <th>...</th>\n",
       "      <td>...</td>\n",
       "      <td>...</td>\n",
       "      <td>...</td>\n",
       "    </tr>\n",
       "    <tr>\n",
       "      <th>6696</th>\n",
       "      <td>053FB26D6D49EDDC</td>\n",
       "      <td>A</td>\n",
       "      <td>recommender_system_test</td>\n",
       "    </tr>\n",
       "    <tr>\n",
       "      <th>6697</th>\n",
       "      <td>9D263B8EF15CF188</td>\n",
       "      <td>B</td>\n",
       "      <td>recommender_system_test</td>\n",
       "    </tr>\n",
       "    <tr>\n",
       "      <th>6698</th>\n",
       "      <td>F2FBBA33F37DEC46</td>\n",
       "      <td>A</td>\n",
       "      <td>recommender_system_test</td>\n",
       "    </tr>\n",
       "    <tr>\n",
       "      <th>6699</th>\n",
       "      <td>29C92313A98B1176</td>\n",
       "      <td>B</td>\n",
       "      <td>recommender_system_test</td>\n",
       "    </tr>\n",
       "    <tr>\n",
       "      <th>6700</th>\n",
       "      <td>6715343AFBA285AE</td>\n",
       "      <td>B</td>\n",
       "      <td>recommender_system_test</td>\n",
       "    </tr>\n",
       "  </tbody>\n",
       "</table>\n",
       "<p>6701 rows × 3 columns</p>\n",
       "</div>"
      ],
      "text/plain": [
       "               user_id group                  ab_test\n",
       "0     D1ABA3E2887B6A73     A  recommender_system_test\n",
       "1     A7A3664BD6242119     A  recommender_system_test\n",
       "2     DABC14FDDFADD29E     A  recommender_system_test\n",
       "3     04988C5DF189632E     A  recommender_system_test\n",
       "4     482F14783456D21B     B  recommender_system_test\n",
       "...                ...   ...                      ...\n",
       "6696  053FB26D6D49EDDC     A  recommender_system_test\n",
       "6697  9D263B8EF15CF188     B  recommender_system_test\n",
       "6698  F2FBBA33F37DEC46     A  recommender_system_test\n",
       "6699  29C92313A98B1176     B  recommender_system_test\n",
       "6700  6715343AFBA285AE     B  recommender_system_test\n",
       "\n",
       "[6701 rows x 3 columns]"
      ]
     },
     "execution_count": 18,
     "metadata": {},
     "output_type": "execute_result"
    }
   ],
   "source": [
    "participants = participants[(participants['ab_test'] == 'recommender_system_test')]\n",
    "participants"
   ]
  },
  {
   "cell_type": "markdown",
   "metadata": {},
   "source": [
    "Уберем пересечения со вторым тестом:"
   ]
  },
  {
   "cell_type": "code",
   "execution_count": 19,
   "metadata": {},
   "outputs": [
    {
     "data": {
      "text/html": [
       "<div>\n",
       "<style scoped>\n",
       "    .dataframe tbody tr th:only-of-type {\n",
       "        vertical-align: middle;\n",
       "    }\n",
       "\n",
       "    .dataframe tbody tr th {\n",
       "        vertical-align: top;\n",
       "    }\n",
       "\n",
       "    .dataframe thead th {\n",
       "        text-align: right;\n",
       "    }\n",
       "</style>\n",
       "<table border=\"1\" class=\"dataframe\">\n",
       "  <thead>\n",
       "    <tr style=\"text-align: right;\">\n",
       "      <th></th>\n",
       "      <th>user_id</th>\n",
       "      <th>group</th>\n",
       "      <th>ab_test</th>\n",
       "    </tr>\n",
       "  </thead>\n",
       "  <tbody>\n",
       "    <tr>\n",
       "      <th>0</th>\n",
       "      <td>D1ABA3E2887B6A73</td>\n",
       "      <td>A</td>\n",
       "      <td>recommender_system_test</td>\n",
       "    </tr>\n",
       "    <tr>\n",
       "      <th>1</th>\n",
       "      <td>A7A3664BD6242119</td>\n",
       "      <td>A</td>\n",
       "      <td>recommender_system_test</td>\n",
       "    </tr>\n",
       "    <tr>\n",
       "      <th>4</th>\n",
       "      <td>482F14783456D21B</td>\n",
       "      <td>B</td>\n",
       "      <td>recommender_system_test</td>\n",
       "    </tr>\n",
       "    <tr>\n",
       "      <th>5</th>\n",
       "      <td>4FF2998A348C484F</td>\n",
       "      <td>A</td>\n",
       "      <td>recommender_system_test</td>\n",
       "    </tr>\n",
       "    <tr>\n",
       "      <th>6</th>\n",
       "      <td>7473E0943673C09E</td>\n",
       "      <td>A</td>\n",
       "      <td>recommender_system_test</td>\n",
       "    </tr>\n",
       "    <tr>\n",
       "      <th>...</th>\n",
       "      <td>...</td>\n",
       "      <td>...</td>\n",
       "      <td>...</td>\n",
       "    </tr>\n",
       "    <tr>\n",
       "      <th>6696</th>\n",
       "      <td>053FB26D6D49EDDC</td>\n",
       "      <td>A</td>\n",
       "      <td>recommender_system_test</td>\n",
       "    </tr>\n",
       "    <tr>\n",
       "      <th>6697</th>\n",
       "      <td>9D263B8EF15CF188</td>\n",
       "      <td>B</td>\n",
       "      <td>recommender_system_test</td>\n",
       "    </tr>\n",
       "    <tr>\n",
       "      <th>6698</th>\n",
       "      <td>F2FBBA33F37DEC46</td>\n",
       "      <td>A</td>\n",
       "      <td>recommender_system_test</td>\n",
       "    </tr>\n",
       "    <tr>\n",
       "      <th>6699</th>\n",
       "      <td>29C92313A98B1176</td>\n",
       "      <td>B</td>\n",
       "      <td>recommender_system_test</td>\n",
       "    </tr>\n",
       "    <tr>\n",
       "      <th>6700</th>\n",
       "      <td>6715343AFBA285AE</td>\n",
       "      <td>B</td>\n",
       "      <td>recommender_system_test</td>\n",
       "    </tr>\n",
       "  </tbody>\n",
       "</table>\n",
       "<p>5099 rows × 3 columns</p>\n",
       "</div>"
      ],
      "text/plain": [
       "               user_id group                  ab_test\n",
       "0     D1ABA3E2887B6A73     A  recommender_system_test\n",
       "1     A7A3664BD6242119     A  recommender_system_test\n",
       "4     482F14783456D21B     B  recommender_system_test\n",
       "5     4FF2998A348C484F     A  recommender_system_test\n",
       "6     7473E0943673C09E     A  recommender_system_test\n",
       "...                ...   ...                      ...\n",
       "6696  053FB26D6D49EDDC     A  recommender_system_test\n",
       "6697  9D263B8EF15CF188     B  recommender_system_test\n",
       "6698  F2FBBA33F37DEC46     A  recommender_system_test\n",
       "6699  29C92313A98B1176     B  recommender_system_test\n",
       "6700  6715343AFBA285AE     B  recommender_system_test\n",
       "\n",
       "[5099 rows x 3 columns]"
      ]
     },
     "execution_count": 19,
     "metadata": {},
     "output_type": "execute_result"
    }
   ],
   "source": [
    "inappropriate_users = list(participants_both_tests['user_id'])\n",
    "\n",
    "participants = participants[~participants['user_id'].isin(inappropriate_users)]\n",
    "participants"
   ]
  },
  {
   "cell_type": "markdown",
   "metadata": {},
   "source": [
    "Проверим, есть ли пользователи, входящие в обе группы:"
   ]
  },
  {
   "cell_type": "code",
   "execution_count": 20,
   "metadata": {},
   "outputs": [
    {
     "data": {
      "text/html": [
       "<div>\n",
       "<style scoped>\n",
       "    .dataframe tbody tr th:only-of-type {\n",
       "        vertical-align: middle;\n",
       "    }\n",
       "\n",
       "    .dataframe tbody tr th {\n",
       "        vertical-align: top;\n",
       "    }\n",
       "\n",
       "    .dataframe thead th {\n",
       "        text-align: right;\n",
       "    }\n",
       "</style>\n",
       "<table border=\"1\" class=\"dataframe\">\n",
       "  <thead>\n",
       "    <tr style=\"text-align: right;\">\n",
       "      <th></th>\n",
       "      <th>user_id</th>\n",
       "      <th>group_x</th>\n",
       "      <th>ab_test_x</th>\n",
       "      <th>group_y</th>\n",
       "      <th>ab_test_y</th>\n",
       "    </tr>\n",
       "  </thead>\n",
       "  <tbody>\n",
       "  </tbody>\n",
       "</table>\n",
       "</div>"
      ],
      "text/plain": [
       "Empty DataFrame\n",
       "Columns: [user_id, group_x, ab_test_x, group_y, ab_test_y]\n",
       "Index: []"
      ]
     },
     "execution_count": 20,
     "metadata": {},
     "output_type": "execute_result"
    }
   ],
   "source": [
    "participants_a = participants[participants['group'] == 'A']\n",
    "participants_b = participants[participants['group'] == 'B']\n",
    "\n",
    "participants_double = participants_a.merge(participants_b, left_on='user_id', right_on='user_id', how='inner')\n",
    "participants_double"
   ]
  },
  {
   "cell_type": "markdown",
   "metadata": {},
   "source": [
    "**Пересечений между группами нет**"
   ]
  },
  {
   "cell_type": "markdown",
   "metadata": {},
   "source": [
    "<div class=\"alert alert-block alert-danger\">\n",
    "<b> ❌ Комментарий ревьюера:</b> Здесь также необходимо проверить не перескаются ли тесты между собой\n",
    "</div>"
   ]
  },
  {
   "cell_type": "markdown",
   "metadata": {},
   "source": [
    "<div class=\"alert alert-info\"><b>Комментарий студента:</b> Дополнил выше</div>"
   ]
  },
  {
   "cell_type": "markdown",
   "metadata": {},
   "source": [
    "<div class=\"alert alert-block alert-success\">\n",
    "<b>✔️ Комментарий ревьюера 2:</b>  Ок. Отрицательный результат тоже результат\n",
    "</div>"
   ]
  },
  {
   "cell_type": "markdown",
   "metadata": {},
   "source": [
    "Соединим таблицы"
   ]
  },
  {
   "cell_type": "code",
   "execution_count": 21,
   "metadata": {
    "scrolled": false
   },
   "outputs": [
    {
     "data": {
      "text/html": [
       "<div>\n",
       "<style scoped>\n",
       "    .dataframe tbody tr th:only-of-type {\n",
       "        vertical-align: middle;\n",
       "    }\n",
       "\n",
       "    .dataframe tbody tr th {\n",
       "        vertical-align: top;\n",
       "    }\n",
       "\n",
       "    .dataframe thead th {\n",
       "        text-align: right;\n",
       "    }\n",
       "</style>\n",
       "<table border=\"1\" class=\"dataframe\">\n",
       "  <thead>\n",
       "    <tr style=\"text-align: right;\">\n",
       "      <th></th>\n",
       "      <th>user_id</th>\n",
       "      <th>group</th>\n",
       "      <th>ab_test</th>\n",
       "      <th>first_date</th>\n",
       "      <th>region</th>\n",
       "      <th>device</th>\n",
       "      <th>event_dt</th>\n",
       "      <th>event_name</th>\n",
       "      <th>details</th>\n",
       "    </tr>\n",
       "  </thead>\n",
       "  <tbody>\n",
       "    <tr>\n",
       "      <th>0</th>\n",
       "      <td>D1ABA3E2887B6A73</td>\n",
       "      <td>A</td>\n",
       "      <td>recommender_system_test</td>\n",
       "      <td>2020-12-07</td>\n",
       "      <td>EU</td>\n",
       "      <td>PC</td>\n",
       "      <td>2020-12-07 14:43:27</td>\n",
       "      <td>purchase</td>\n",
       "      <td>99.99</td>\n",
       "    </tr>\n",
       "    <tr>\n",
       "      <th>1</th>\n",
       "      <td>D1ABA3E2887B6A73</td>\n",
       "      <td>A</td>\n",
       "      <td>recommender_system_test</td>\n",
       "      <td>2020-12-07</td>\n",
       "      <td>EU</td>\n",
       "      <td>PC</td>\n",
       "      <td>2020-12-25 00:04:56</td>\n",
       "      <td>purchase</td>\n",
       "      <td>4.99</td>\n",
       "    </tr>\n",
       "    <tr>\n",
       "      <th>2</th>\n",
       "      <td>D1ABA3E2887B6A73</td>\n",
       "      <td>A</td>\n",
       "      <td>recommender_system_test</td>\n",
       "      <td>2020-12-07</td>\n",
       "      <td>EU</td>\n",
       "      <td>PC</td>\n",
       "      <td>2020-12-07 14:43:29</td>\n",
       "      <td>product_cart</td>\n",
       "      <td>NaN</td>\n",
       "    </tr>\n",
       "    <tr>\n",
       "      <th>3</th>\n",
       "      <td>D1ABA3E2887B6A73</td>\n",
       "      <td>A</td>\n",
       "      <td>recommender_system_test</td>\n",
       "      <td>2020-12-07</td>\n",
       "      <td>EU</td>\n",
       "      <td>PC</td>\n",
       "      <td>2020-12-25 00:04:57</td>\n",
       "      <td>product_cart</td>\n",
       "      <td>NaN</td>\n",
       "    </tr>\n",
       "    <tr>\n",
       "      <th>4</th>\n",
       "      <td>D1ABA3E2887B6A73</td>\n",
       "      <td>A</td>\n",
       "      <td>recommender_system_test</td>\n",
       "      <td>2020-12-07</td>\n",
       "      <td>EU</td>\n",
       "      <td>PC</td>\n",
       "      <td>2020-12-07 14:43:27</td>\n",
       "      <td>product_page</td>\n",
       "      <td>NaN</td>\n",
       "    </tr>\n",
       "    <tr>\n",
       "      <th>...</th>\n",
       "      <td>...</td>\n",
       "      <td>...</td>\n",
       "      <td>...</td>\n",
       "      <td>...</td>\n",
       "      <td>...</td>\n",
       "      <td>...</td>\n",
       "      <td>...</td>\n",
       "      <td>...</td>\n",
       "      <td>...</td>\n",
       "    </tr>\n",
       "    <tr>\n",
       "      <th>18799</th>\n",
       "      <td>6715343AFBA285AE</td>\n",
       "      <td>B</td>\n",
       "      <td>recommender_system_test</td>\n",
       "      <td>2020-12-07</td>\n",
       "      <td>CIS</td>\n",
       "      <td>Android</td>\n",
       "      <td>2020-12-07 10:12:15</td>\n",
       "      <td>login</td>\n",
       "      <td>NaN</td>\n",
       "    </tr>\n",
       "    <tr>\n",
       "      <th>18800</th>\n",
       "      <td>6715343AFBA285AE</td>\n",
       "      <td>B</td>\n",
       "      <td>recommender_system_test</td>\n",
       "      <td>2020-12-07</td>\n",
       "      <td>CIS</td>\n",
       "      <td>Android</td>\n",
       "      <td>2020-12-08 22:51:16</td>\n",
       "      <td>login</td>\n",
       "      <td>NaN</td>\n",
       "    </tr>\n",
       "    <tr>\n",
       "      <th>18801</th>\n",
       "      <td>6715343AFBA285AE</td>\n",
       "      <td>B</td>\n",
       "      <td>recommender_system_test</td>\n",
       "      <td>2020-12-07</td>\n",
       "      <td>CIS</td>\n",
       "      <td>Android</td>\n",
       "      <td>2020-12-09 02:28:03</td>\n",
       "      <td>login</td>\n",
       "      <td>NaN</td>\n",
       "    </tr>\n",
       "    <tr>\n",
       "      <th>18802</th>\n",
       "      <td>6715343AFBA285AE</td>\n",
       "      <td>B</td>\n",
       "      <td>recommender_system_test</td>\n",
       "      <td>2020-12-07</td>\n",
       "      <td>CIS</td>\n",
       "      <td>Android</td>\n",
       "      <td>2020-12-10 22:55:14</td>\n",
       "      <td>login</td>\n",
       "      <td>NaN</td>\n",
       "    </tr>\n",
       "    <tr>\n",
       "      <th>18803</th>\n",
       "      <td>6715343AFBA285AE</td>\n",
       "      <td>B</td>\n",
       "      <td>recommender_system_test</td>\n",
       "      <td>2020-12-07</td>\n",
       "      <td>CIS</td>\n",
       "      <td>Android</td>\n",
       "      <td>2020-12-14 12:40:41</td>\n",
       "      <td>login</td>\n",
       "      <td>NaN</td>\n",
       "    </tr>\n",
       "  </tbody>\n",
       "</table>\n",
       "<p>18804 rows × 9 columns</p>\n",
       "</div>"
      ],
      "text/plain": [
       "                user_id group                  ab_test first_date region  \\\n",
       "0      D1ABA3E2887B6A73     A  recommender_system_test 2020-12-07     EU   \n",
       "1      D1ABA3E2887B6A73     A  recommender_system_test 2020-12-07     EU   \n",
       "2      D1ABA3E2887B6A73     A  recommender_system_test 2020-12-07     EU   \n",
       "3      D1ABA3E2887B6A73     A  recommender_system_test 2020-12-07     EU   \n",
       "4      D1ABA3E2887B6A73     A  recommender_system_test 2020-12-07     EU   \n",
       "...                 ...   ...                      ...        ...    ...   \n",
       "18799  6715343AFBA285AE     B  recommender_system_test 2020-12-07    CIS   \n",
       "18800  6715343AFBA285AE     B  recommender_system_test 2020-12-07    CIS   \n",
       "18801  6715343AFBA285AE     B  recommender_system_test 2020-12-07    CIS   \n",
       "18802  6715343AFBA285AE     B  recommender_system_test 2020-12-07    CIS   \n",
       "18803  6715343AFBA285AE     B  recommender_system_test 2020-12-07    CIS   \n",
       "\n",
       "        device             event_dt    event_name  details  \n",
       "0           PC  2020-12-07 14:43:27      purchase    99.99  \n",
       "1           PC  2020-12-25 00:04:56      purchase     4.99  \n",
       "2           PC  2020-12-07 14:43:29  product_cart      NaN  \n",
       "3           PC  2020-12-25 00:04:57  product_cart      NaN  \n",
       "4           PC  2020-12-07 14:43:27  product_page      NaN  \n",
       "...        ...                  ...           ...      ...  \n",
       "18799  Android  2020-12-07 10:12:15         login      NaN  \n",
       "18800  Android  2020-12-08 22:51:16         login      NaN  \n",
       "18801  Android  2020-12-09 02:28:03         login      NaN  \n",
       "18802  Android  2020-12-10 22:55:14         login      NaN  \n",
       "18803  Android  2020-12-14 12:40:41         login      NaN  \n",
       "\n",
       "[18804 rows x 9 columns]"
      ]
     },
     "execution_count": 21,
     "metadata": {},
     "output_type": "execute_result"
    }
   ],
   "source": [
    "df = participants.merge(new_users, left_on='user_id', right_on='user_id', how='inner')\n",
    "df = df.merge(events, left_on='user_id', right_on='user_id', how='inner')\n",
    "df"
   ]
  },
  {
   "cell_type": "markdown",
   "metadata": {},
   "source": [
    "Уберем события пользователей, пришедших после остановки набора (2020-12-21) и раньше запуска теста (2020-12-07), пользователей не из EU, а также события, произошедшие после остановки теста (2021-01-04)."
   ]
  },
  {
   "cell_type": "markdown",
   "metadata": {},
   "source": [
    "Посчитаем, сколько таких событий:"
   ]
  },
  {
   "cell_type": "code",
   "execution_count": 22,
   "metadata": {},
   "outputs": [
    {
     "name": "stdout",
     "output_type": "stream",
     "text": [
      "Число событий пользователей, пришедших не во время теста: 4261\n",
      "Число событий, произошедших после остановки теста: 0\n",
      "Число событий пользователей не из EU: 1278\n"
     ]
    }
   ],
   "source": [
    "print('Число событий пользователей, пришедших не во время теста: {}'.format(df[(df['first_date'] >= '2020-12-21') | (df['first_date'] <= '2020-12-07')]['user_id'].count()))\n",
    "print('Число событий, произошедших после остановки теста: {}'.format(df[df['event_dt'] >= '2021-01-04']['user_id'].count()))\n",
    "print('Число событий пользователей не из EU: {}'.format(df[df['region'] != 'EU']['user_id'].count()))"
   ]
  },
  {
   "cell_type": "markdown",
   "metadata": {},
   "source": [
    "После остановки теста события не происходили. Уберем лишнее:"
   ]
  },
  {
   "cell_type": "code",
   "execution_count": 23,
   "metadata": {
    "scrolled": false
   },
   "outputs": [
    {
     "data": {
      "text/html": [
       "<div>\n",
       "<style scoped>\n",
       "    .dataframe tbody tr th:only-of-type {\n",
       "        vertical-align: middle;\n",
       "    }\n",
       "\n",
       "    .dataframe tbody tr th {\n",
       "        vertical-align: top;\n",
       "    }\n",
       "\n",
       "    .dataframe thead th {\n",
       "        text-align: right;\n",
       "    }\n",
       "</style>\n",
       "<table border=\"1\" class=\"dataframe\">\n",
       "  <thead>\n",
       "    <tr style=\"text-align: right;\">\n",
       "      <th></th>\n",
       "      <th>user_id</th>\n",
       "      <th>group</th>\n",
       "      <th>ab_test</th>\n",
       "      <th>first_date</th>\n",
       "      <th>region</th>\n",
       "      <th>device</th>\n",
       "      <th>event_dt</th>\n",
       "      <th>event_name</th>\n",
       "      <th>details</th>\n",
       "    </tr>\n",
       "  </thead>\n",
       "  <tbody>\n",
       "    <tr>\n",
       "      <th>0</th>\n",
       "      <td>A7A3664BD6242119</td>\n",
       "      <td>A</td>\n",
       "      <td>recommender_system_test</td>\n",
       "      <td>2020-12-20</td>\n",
       "      <td>EU</td>\n",
       "      <td>iPhone</td>\n",
       "      <td>2020-12-20 15:46:06</td>\n",
       "      <td>product_page</td>\n",
       "      <td>NaN</td>\n",
       "    </tr>\n",
       "    <tr>\n",
       "      <th>1</th>\n",
       "      <td>A7A3664BD6242119</td>\n",
       "      <td>A</td>\n",
       "      <td>recommender_system_test</td>\n",
       "      <td>2020-12-20</td>\n",
       "      <td>EU</td>\n",
       "      <td>iPhone</td>\n",
       "      <td>2020-12-21 00:40:59</td>\n",
       "      <td>product_page</td>\n",
       "      <td>NaN</td>\n",
       "    </tr>\n",
       "    <tr>\n",
       "      <th>2</th>\n",
       "      <td>A7A3664BD6242119</td>\n",
       "      <td>A</td>\n",
       "      <td>recommender_system_test</td>\n",
       "      <td>2020-12-20</td>\n",
       "      <td>EU</td>\n",
       "      <td>iPhone</td>\n",
       "      <td>2020-12-25 05:19:45</td>\n",
       "      <td>product_page</td>\n",
       "      <td>NaN</td>\n",
       "    </tr>\n",
       "    <tr>\n",
       "      <th>3</th>\n",
       "      <td>A7A3664BD6242119</td>\n",
       "      <td>A</td>\n",
       "      <td>recommender_system_test</td>\n",
       "      <td>2020-12-20</td>\n",
       "      <td>EU</td>\n",
       "      <td>iPhone</td>\n",
       "      <td>2020-12-20 15:46:02</td>\n",
       "      <td>login</td>\n",
       "      <td>NaN</td>\n",
       "    </tr>\n",
       "    <tr>\n",
       "      <th>4</th>\n",
       "      <td>A7A3664BD6242119</td>\n",
       "      <td>A</td>\n",
       "      <td>recommender_system_test</td>\n",
       "      <td>2020-12-20</td>\n",
       "      <td>EU</td>\n",
       "      <td>iPhone</td>\n",
       "      <td>2020-12-21 00:40:58</td>\n",
       "      <td>login</td>\n",
       "      <td>NaN</td>\n",
       "    </tr>\n",
       "    <tr>\n",
       "      <th>...</th>\n",
       "      <td>...</td>\n",
       "      <td>...</td>\n",
       "      <td>...</td>\n",
       "      <td>...</td>\n",
       "      <td>...</td>\n",
       "      <td>...</td>\n",
       "      <td>...</td>\n",
       "      <td>...</td>\n",
       "      <td>...</td>\n",
       "    </tr>\n",
       "    <tr>\n",
       "      <th>13590</th>\n",
       "      <td>80712ED4EA1B52A5</td>\n",
       "      <td>A</td>\n",
       "      <td>recommender_system_test</td>\n",
       "      <td>2020-12-14</td>\n",
       "      <td>EU</td>\n",
       "      <td>Android</td>\n",
       "      <td>2020-12-15 20:10:06</td>\n",
       "      <td>product_page</td>\n",
       "      <td>NaN</td>\n",
       "    </tr>\n",
       "    <tr>\n",
       "      <th>13591</th>\n",
       "      <td>80712ED4EA1B52A5</td>\n",
       "      <td>A</td>\n",
       "      <td>recommender_system_test</td>\n",
       "      <td>2020-12-14</td>\n",
       "      <td>EU</td>\n",
       "      <td>Android</td>\n",
       "      <td>2020-12-20 20:01:34</td>\n",
       "      <td>product_page</td>\n",
       "      <td>NaN</td>\n",
       "    </tr>\n",
       "    <tr>\n",
       "      <th>13592</th>\n",
       "      <td>80712ED4EA1B52A5</td>\n",
       "      <td>A</td>\n",
       "      <td>recommender_system_test</td>\n",
       "      <td>2020-12-14</td>\n",
       "      <td>EU</td>\n",
       "      <td>Android</td>\n",
       "      <td>2020-12-14 05:48:50</td>\n",
       "      <td>login</td>\n",
       "      <td>NaN</td>\n",
       "    </tr>\n",
       "    <tr>\n",
       "      <th>13593</th>\n",
       "      <td>80712ED4EA1B52A5</td>\n",
       "      <td>A</td>\n",
       "      <td>recommender_system_test</td>\n",
       "      <td>2020-12-14</td>\n",
       "      <td>EU</td>\n",
       "      <td>Android</td>\n",
       "      <td>2020-12-15 20:10:03</td>\n",
       "      <td>login</td>\n",
       "      <td>NaN</td>\n",
       "    </tr>\n",
       "    <tr>\n",
       "      <th>13594</th>\n",
       "      <td>80712ED4EA1B52A5</td>\n",
       "      <td>A</td>\n",
       "      <td>recommender_system_test</td>\n",
       "      <td>2020-12-14</td>\n",
       "      <td>EU</td>\n",
       "      <td>Android</td>\n",
       "      <td>2020-12-20 20:01:32</td>\n",
       "      <td>login</td>\n",
       "      <td>NaN</td>\n",
       "    </tr>\n",
       "  </tbody>\n",
       "</table>\n",
       "<p>13595 rows × 9 columns</p>\n",
       "</div>"
      ],
      "text/plain": [
       "                user_id group                  ab_test first_date region  \\\n",
       "0      A7A3664BD6242119     A  recommender_system_test 2020-12-20     EU   \n",
       "1      A7A3664BD6242119     A  recommender_system_test 2020-12-20     EU   \n",
       "2      A7A3664BD6242119     A  recommender_system_test 2020-12-20     EU   \n",
       "3      A7A3664BD6242119     A  recommender_system_test 2020-12-20     EU   \n",
       "4      A7A3664BD6242119     A  recommender_system_test 2020-12-20     EU   \n",
       "...                 ...   ...                      ...        ...    ...   \n",
       "13590  80712ED4EA1B52A5     A  recommender_system_test 2020-12-14     EU   \n",
       "13591  80712ED4EA1B52A5     A  recommender_system_test 2020-12-14     EU   \n",
       "13592  80712ED4EA1B52A5     A  recommender_system_test 2020-12-14     EU   \n",
       "13593  80712ED4EA1B52A5     A  recommender_system_test 2020-12-14     EU   \n",
       "13594  80712ED4EA1B52A5     A  recommender_system_test 2020-12-14     EU   \n",
       "\n",
       "        device             event_dt    event_name  details  \n",
       "0       iPhone  2020-12-20 15:46:06  product_page      NaN  \n",
       "1       iPhone  2020-12-21 00:40:59  product_page      NaN  \n",
       "2       iPhone  2020-12-25 05:19:45  product_page      NaN  \n",
       "3       iPhone  2020-12-20 15:46:02         login      NaN  \n",
       "4       iPhone  2020-12-21 00:40:58         login      NaN  \n",
       "...        ...                  ...           ...      ...  \n",
       "13590  Android  2020-12-15 20:10:06  product_page      NaN  \n",
       "13591  Android  2020-12-20 20:01:34  product_page      NaN  \n",
       "13592  Android  2020-12-14 05:48:50         login      NaN  \n",
       "13593  Android  2020-12-15 20:10:03         login      NaN  \n",
       "13594  Android  2020-12-20 20:01:32         login      NaN  \n",
       "\n",
       "[13595 rows x 9 columns]"
      ]
     },
     "execution_count": 23,
     "metadata": {},
     "output_type": "execute_result"
    }
   ],
   "source": [
    "df = df[(df['first_date'] < '2020-12-21') & (df['first_date'] > '2020-12-07')]\n",
    "df = df[df['region'] == 'EU'].reset_index(drop=True)\n",
    "\n",
    "df"
   ]
  },
  {
   "cell_type": "markdown",
   "metadata": {},
   "source": [
    "Проверим наличие отклонений по датам:"
   ]
  },
  {
   "cell_type": "code",
   "execution_count": 24,
   "metadata": {},
   "outputs": [],
   "source": [
    "sns.set_theme(style='darkgrid', palette='pastel') # зададим тему"
   ]
  },
  {
   "cell_type": "code",
   "execution_count": 52,
   "metadata": {},
   "outputs": [
    {
     "data": {
      "image/png": "[encoded data removed]",
      "text/plain": [
       "<Figure size 1224x504 with 2 Axes>"
      ]
     },
     "metadata": {},
     "output_type": "display_data"
    },
    {
     "data": {
      "text/html": [
       "<div>\n",
       "<style scoped>\n",
       "    .dataframe tbody tr th:only-of-type {\n",
       "        vertical-align: middle;\n",
       "    }\n",
       "\n",
       "    .dataframe tbody tr th {\n",
       "        vertical-align: top;\n",
       "    }\n",
       "\n",
       "    .dataframe thead th {\n",
       "        text-align: right;\n",
       "    }\n",
       "</style>\n",
       "<table border=\"1\" class=\"dataframe\">\n",
       "  <thead>\n",
       "    <tr style=\"text-align: right;\">\n",
       "      <th></th>\n",
       "      <th>0</th>\n",
       "      <th>1</th>\n",
       "      <th>2</th>\n",
       "      <th>3</th>\n",
       "      <th>4</th>\n",
       "      <th>5</th>\n",
       "      <th>6</th>\n",
       "      <th>7</th>\n",
       "      <th>8</th>\n",
       "      <th>9</th>\n",
       "      <th>10</th>\n",
       "      <th>11</th>\n",
       "      <th>12</th>\n",
       "    </tr>\n",
       "  </thead>\n",
       "  <tbody>\n",
       "    <tr>\n",
       "      <th>first_date</th>\n",
       "      <td>2020-12-08</td>\n",
       "      <td>2020-12-09</td>\n",
       "      <td>2020-12-10</td>\n",
       "      <td>2020-12-11</td>\n",
       "      <td>2020-12-12</td>\n",
       "      <td>2020-12-13</td>\n",
       "      <td>2020-12-14</td>\n",
       "      <td>2020-12-15</td>\n",
       "      <td>2020-12-16</td>\n",
       "      <td>2020-12-17</td>\n",
       "      <td>2020-12-18</td>\n",
       "      <td>2020-12-19</td>\n",
       "      <td>2020-12-20</td>\n",
       "    </tr>\n",
       "    <tr>\n",
       "      <th>user_id</th>\n",
       "      <td>602</td>\n",
       "      <td>646</td>\n",
       "      <td>336</td>\n",
       "      <td>437</td>\n",
       "      <td>403</td>\n",
       "      <td>197</td>\n",
       "      <td>2164</td>\n",
       "      <td>1116</td>\n",
       "      <td>1313</td>\n",
       "      <td>1032</td>\n",
       "      <td>1244</td>\n",
       "      <td>1125</td>\n",
       "      <td>1256</td>\n",
       "    </tr>\n",
       "  </tbody>\n",
       "</table>\n",
       "</div>"
      ],
      "text/plain": [
       "                    0           1           2           3           4   \\\n",
       "first_date  2020-12-08  2020-12-09  2020-12-10  2020-12-11  2020-12-12   \n",
       "user_id            602         646         336         437         403   \n",
       "\n",
       "                    5           6           7           8           9   \\\n",
       "first_date  2020-12-13  2020-12-14  2020-12-15  2020-12-16  2020-12-17   \n",
       "user_id            197        2164        1116        1313        1032   \n",
       "\n",
       "                    10          11          12  \n",
       "first_date  2020-12-18  2020-12-19  2020-12-20  \n",
       "user_id           1244        1125        1256  "
      ]
     },
     "metadata": {},
     "output_type": "display_data"
    },
    {
     "data": {
      "text/html": [
       "<div>\n",
       "<style scoped>\n",
       "    .dataframe tbody tr th:only-of-type {\n",
       "        vertical-align: middle;\n",
       "    }\n",
       "\n",
       "    .dataframe tbody tr th {\n",
       "        vertical-align: top;\n",
       "    }\n",
       "\n",
       "    .dataframe thead th {\n",
       "        text-align: right;\n",
       "    }\n",
       "</style>\n",
       "<table border=\"1\" class=\"dataframe\">\n",
       "  <thead>\n",
       "    <tr style=\"text-align: right;\">\n",
       "      <th></th>\n",
       "      <th>0</th>\n",
       "      <th>1</th>\n",
       "      <th>2</th>\n",
       "      <th>3</th>\n",
       "      <th>4</th>\n",
       "      <th>5</th>\n",
       "      <th>6</th>\n",
       "      <th>7</th>\n",
       "      <th>8</th>\n",
       "      <th>9</th>\n",
       "      <th>10</th>\n",
       "      <th>11</th>\n",
       "      <th>12</th>\n",
       "      <th>13</th>\n",
       "      <th>14</th>\n",
       "      <th>15</th>\n",
       "      <th>16</th>\n",
       "    </tr>\n",
       "  </thead>\n",
       "  <tbody>\n",
       "    <tr>\n",
       "      <th>event_dt</th>\n",
       "      <td>2020-12-08</td>\n",
       "      <td>2020-12-09</td>\n",
       "      <td>2020-12-10</td>\n",
       "      <td>2020-12-11</td>\n",
       "      <td>2020-12-12</td>\n",
       "      <td>2020-12-13</td>\n",
       "      <td>2020-12-14</td>\n",
       "      <td>2020-12-15</td>\n",
       "      <td>2020-12-16</td>\n",
       "      <td>2020-12-17</td>\n",
       "      <td>2020-12-18</td>\n",
       "      <td>2020-12-19</td>\n",
       "      <td>2020-12-20</td>\n",
       "      <td>2020-12-21</td>\n",
       "      <td>2020-12-22</td>\n",
       "      <td>2020-12-23</td>\n",
       "      <td>2020-12-24</td>\n",
       "    </tr>\n",
       "    <tr>\n",
       "      <th>user_id</th>\n",
       "      <td>203</td>\n",
       "      <td>353</td>\n",
       "      <td>311</td>\n",
       "      <td>291</td>\n",
       "      <td>348</td>\n",
       "      <td>274</td>\n",
       "      <td>885</td>\n",
       "      <td>895</td>\n",
       "      <td>970</td>\n",
       "      <td>1026</td>\n",
       "      <td>1077</td>\n",
       "      <td>1288</td>\n",
       "      <td>1315</td>\n",
       "      <td>931</td>\n",
       "      <td>658</td>\n",
       "      <td>552</td>\n",
       "      <td>494</td>\n",
       "    </tr>\n",
       "  </tbody>\n",
       "</table>\n",
       "</div>"
      ],
      "text/plain": [
       "                  0           1           2           3           4   \\\n",
       "event_dt  2020-12-08  2020-12-09  2020-12-10  2020-12-11  2020-12-12   \n",
       "user_id          203         353         311         291         348   \n",
       "\n",
       "                  5           6           7           8           9   \\\n",
       "event_dt  2020-12-13  2020-12-14  2020-12-15  2020-12-16  2020-12-17   \n",
       "user_id          274         885         895         970        1026   \n",
       "\n",
       "                  10          11          12          13          14  \\\n",
       "event_dt  2020-12-18  2020-12-19  2020-12-20  2020-12-21  2020-12-22   \n",
       "user_id         1077        1288        1315         931         658   \n",
       "\n",
       "                  15          16  \n",
       "event_dt  2020-12-23  2020-12-24  \n",
       "user_id          552         494  "
      ]
     },
     "metadata": {},
     "output_type": "display_data"
    }
   ],
   "source": [
    "df_dt = df.copy()\n",
    "df_dt['event_dt'] = pd.to_datetime(df_dt['event_dt']).dt.date \n",
    "df_dt['first_date'] = pd.to_datetime(df_dt['first_date']).dt.date \n",
    "\n",
    "first_date = df_dt.pivot_table(index='first_date', values='user_id', aggfunc='count').reset_index()\n",
    "event_dt = df_dt.pivot_table(index='event_dt', values='user_id', aggfunc='count').reset_index()\n",
    "\n",
    "\n",
    "fig, ax = plt.subplots(1,2, figsize=(17, 7))\n",
    "fig.suptitle('The distribution of events by dates', size=14)\n",
    "\n",
    "sns.barplot(data=first_date, x='first_date', y='user_id', ax=ax[0])\n",
    "ax[0].set_xlabel('User registration date', size=12)\n",
    "ax[0].set_ylabel('Events', size=12)\n",
    "ax[0].set_xticklabels(first_date['first_date'], rotation=90)\n",
    "\n",
    "sns.barplot(data=event_dt, x='event_dt', y='user_id', ax=ax[1])\n",
    "ax[1].set_xlabel('Event date', size=12)\n",
    "ax[1].set_ylabel('Events', size=12)\n",
    "ax[1].set_xticklabels(event_dt['event_dt'], rotation=90)\n",
    "\n",
    "plt.show()\n",
    "\n",
    "display(first_date.T)\n",
    "display(event_dt.T)\n"
   ]
  },
  {
   "cell_type": "markdown",
   "metadata": {},
   "source": [
    "В части отклонений по датам следует отметить, что **наибольшее количество пользователей (2164 чел.) зарегистрировались 14 декабря 2020 года.**\n",
    "\n",
    "В рамках событий наибольшее их число приходится на предрождественские выходные - 19 и 20 декабря 2020 года"
   ]
  },
  {
   "cell_type": "markdown",
   "metadata": {},
   "source": [
    "<div class=\"alert alert-block alert-danger\">\n",
    "<b> ❌ Комментарий ревьюера:</b> Стоит посмотреть, много ли таких событий и нет ли каких еще отклонений по датам\n",
    "</div>"
   ]
  },
  {
   "cell_type": "markdown",
   "metadata": {},
   "source": [
    "<div class=\"alert alert-info\"><b>Комментарий студента:</b> Дополнил выше</div>"
   ]
  },
  {
   "cell_type": "markdown",
   "metadata": {},
   "source": [
    "<div class=\"alert alert-block alert-success\">\n",
    "<b>✔️ Комментарий ревьюера 2:</b> Ок\n",
    "</div>"
   ]
  },
  {
   "cell_type": "markdown",
   "metadata": {},
   "source": [
    "Проверим, есть ли пересечения по датам:"
   ]
  },
  {
   "cell_type": "code",
   "execution_count": 26,
   "metadata": {},
   "outputs": [
    {
     "data": {
      "text/html": [
       "<div>\n",
       "<style scoped>\n",
       "    .dataframe tbody tr th:only-of-type {\n",
       "        vertical-align: middle;\n",
       "    }\n",
       "\n",
       "    .dataframe tbody tr th {\n",
       "        vertical-align: top;\n",
       "    }\n",
       "\n",
       "    .dataframe thead th {\n",
       "        text-align: right;\n",
       "    }\n",
       "</style>\n",
       "<table border=\"1\" class=\"dataframe\">\n",
       "  <thead>\n",
       "    <tr style=\"text-align: right;\">\n",
       "      <th></th>\n",
       "      <th>name</th>\n",
       "      <th>regions</th>\n",
       "      <th>start_dt</th>\n",
       "      <th>finish_dt</th>\n",
       "    </tr>\n",
       "  </thead>\n",
       "  <tbody>\n",
       "    <tr>\n",
       "      <th>0</th>\n",
       "      <td>Christmas&amp;New Year Promo</td>\n",
       "      <td>EU, N.America</td>\n",
       "      <td>2020-12-25</td>\n",
       "      <td>2021-01-03</td>\n",
       "    </tr>\n",
       "    <tr>\n",
       "      <th>1</th>\n",
       "      <td>St. Valentine's Day Giveaway</td>\n",
       "      <td>EU, CIS, APAC, N.America</td>\n",
       "      <td>2020-02-14</td>\n",
       "      <td>2020-02-16</td>\n",
       "    </tr>\n",
       "    <tr>\n",
       "      <th>2</th>\n",
       "      <td>St. Patric's Day Promo</td>\n",
       "      <td>EU, N.America</td>\n",
       "      <td>2020-03-17</td>\n",
       "      <td>2020-03-19</td>\n",
       "    </tr>\n",
       "    <tr>\n",
       "      <th>3</th>\n",
       "      <td>Easter Promo</td>\n",
       "      <td>EU, CIS, APAC, N.America</td>\n",
       "      <td>2020-04-12</td>\n",
       "      <td>2020-04-19</td>\n",
       "    </tr>\n",
       "    <tr>\n",
       "      <th>5</th>\n",
       "      <td>Black Friday Ads Campaign</td>\n",
       "      <td>EU, CIS, APAC, N.America</td>\n",
       "      <td>2020-11-26</td>\n",
       "      <td>2020-12-01</td>\n",
       "    </tr>\n",
       "    <tr>\n",
       "      <th>7</th>\n",
       "      <td>Labor day (May 1st) Ads Campaign</td>\n",
       "      <td>EU, CIS, APAC</td>\n",
       "      <td>2020-05-01</td>\n",
       "      <td>2020-05-03</td>\n",
       "    </tr>\n",
       "    <tr>\n",
       "      <th>8</th>\n",
       "      <td>International Women's Day Promo</td>\n",
       "      <td>EU, CIS, APAC</td>\n",
       "      <td>2020-03-08</td>\n",
       "      <td>2020-03-10</td>\n",
       "    </tr>\n",
       "  </tbody>\n",
       "</table>\n",
       "</div>"
      ],
      "text/plain": [
       "                               name                   regions   start_dt  \\\n",
       "0          Christmas&New Year Promo             EU, N.America 2020-12-25   \n",
       "1      St. Valentine's Day Giveaway  EU, CIS, APAC, N.America 2020-02-14   \n",
       "2            St. Patric's Day Promo             EU, N.America 2020-03-17   \n",
       "3                      Easter Promo  EU, CIS, APAC, N.America 2020-04-12   \n",
       "5         Black Friday Ads Campaign  EU, CIS, APAC, N.America 2020-11-26   \n",
       "7  Labor day (May 1st) Ads Campaign             EU, CIS, APAC 2020-05-01   \n",
       "8   International Women's Day Promo             EU, CIS, APAC 2020-03-08   \n",
       "\n",
       "   finish_dt  \n",
       "0 2021-01-03  \n",
       "1 2020-02-16  \n",
       "2 2020-03-19  \n",
       "3 2020-04-19  \n",
       "5 2020-12-01  \n",
       "7 2020-05-03  \n",
       "8 2020-03-10  "
      ]
     },
     "execution_count": 26,
     "metadata": {},
     "output_type": "execute_result"
    }
   ],
   "source": [
    "marketing_events_EU = marketing_events[marketing_events['regions'].str.contains('EU')].copy()\n",
    "marketing_events_EU"
   ]
  },
  {
   "cell_type": "code",
   "execution_count": 27,
   "metadata": {},
   "outputs": [
    {
     "data": {
      "text/html": [
       "<div>\n",
       "<style scoped>\n",
       "    .dataframe tbody tr th:only-of-type {\n",
       "        vertical-align: middle;\n",
       "    }\n",
       "\n",
       "    .dataframe tbody tr th {\n",
       "        vertical-align: top;\n",
       "    }\n",
       "\n",
       "    .dataframe thead th {\n",
       "        text-align: right;\n",
       "    }\n",
       "</style>\n",
       "<table border=\"1\" class=\"dataframe\">\n",
       "  <thead>\n",
       "    <tr style=\"text-align: right;\">\n",
       "      <th></th>\n",
       "      <th>name</th>\n",
       "      <th>regions</th>\n",
       "      <th>start_dt</th>\n",
       "      <th>finish_dt</th>\n",
       "      <th>too_early</th>\n",
       "    </tr>\n",
       "  </thead>\n",
       "  <tbody>\n",
       "    <tr>\n",
       "      <th>0</th>\n",
       "      <td>Christmas&amp;New Year Promo</td>\n",
       "      <td>EU, N.America</td>\n",
       "      <td>2020-12-25</td>\n",
       "      <td>2021-01-03</td>\n",
       "      <td>0</td>\n",
       "    </tr>\n",
       "    <tr>\n",
       "      <th>1</th>\n",
       "      <td>St. Valentine's Day Giveaway</td>\n",
       "      <td>EU, CIS, APAC, N.America</td>\n",
       "      <td>2020-02-14</td>\n",
       "      <td>2020-02-16</td>\n",
       "      <td>1</td>\n",
       "    </tr>\n",
       "    <tr>\n",
       "      <th>2</th>\n",
       "      <td>St. Patric's Day Promo</td>\n",
       "      <td>EU, N.America</td>\n",
       "      <td>2020-03-17</td>\n",
       "      <td>2020-03-19</td>\n",
       "      <td>1</td>\n",
       "    </tr>\n",
       "    <tr>\n",
       "      <th>3</th>\n",
       "      <td>Easter Promo</td>\n",
       "      <td>EU, CIS, APAC, N.America</td>\n",
       "      <td>2020-04-12</td>\n",
       "      <td>2020-04-19</td>\n",
       "      <td>1</td>\n",
       "    </tr>\n",
       "    <tr>\n",
       "      <th>5</th>\n",
       "      <td>Black Friday Ads Campaign</td>\n",
       "      <td>EU, CIS, APAC, N.America</td>\n",
       "      <td>2020-11-26</td>\n",
       "      <td>2020-12-01</td>\n",
       "      <td>1</td>\n",
       "    </tr>\n",
       "    <tr>\n",
       "      <th>7</th>\n",
       "      <td>Labor day (May 1st) Ads Campaign</td>\n",
       "      <td>EU, CIS, APAC</td>\n",
       "      <td>2020-05-01</td>\n",
       "      <td>2020-05-03</td>\n",
       "      <td>1</td>\n",
       "    </tr>\n",
       "    <tr>\n",
       "      <th>8</th>\n",
       "      <td>International Women's Day Promo</td>\n",
       "      <td>EU, CIS, APAC</td>\n",
       "      <td>2020-03-08</td>\n",
       "      <td>2020-03-10</td>\n",
       "      <td>1</td>\n",
       "    </tr>\n",
       "  </tbody>\n",
       "</table>\n",
       "</div>"
      ],
      "text/plain": [
       "                               name                   regions   start_dt  \\\n",
       "0          Christmas&New Year Promo             EU, N.America 2020-12-25   \n",
       "1      St. Valentine's Day Giveaway  EU, CIS, APAC, N.America 2020-02-14   \n",
       "2            St. Patric's Day Promo             EU, N.America 2020-03-17   \n",
       "3                      Easter Promo  EU, CIS, APAC, N.America 2020-04-12   \n",
       "5         Black Friday Ads Campaign  EU, CIS, APAC, N.America 2020-11-26   \n",
       "7  Labor day (May 1st) Ads Campaign             EU, CIS, APAC 2020-05-01   \n",
       "8   International Women's Day Promo             EU, CIS, APAC 2020-03-08   \n",
       "\n",
       "   finish_dt  too_early  \n",
       "0 2021-01-03          0  \n",
       "1 2020-02-16          1  \n",
       "2 2020-03-19          1  \n",
       "3 2020-04-19          1  \n",
       "5 2020-12-01          1  \n",
       "7 2020-05-03          1  \n",
       "8 2020-03-10          1  "
      ]
     },
     "execution_count": 27,
     "metadata": {},
     "output_type": "execute_result"
    }
   ],
   "source": [
    "marketing_events_EU.loc[marketing_events_EU['start_dt'] < '2020-12-07', 'too_early'] = 1\n",
    "marketing_events_EU.loc[marketing_events_EU['start_dt'] >= '2020-12-07', 'too_early'] = 0\n",
    "marketing_events_EU['too_early'] = marketing_events_EU['too_early'].astype('int64')\n",
    "\n",
    "marketing_events_EU"
   ]
  },
  {
   "cell_type": "markdown",
   "metadata": {},
   "source": [
    "Требуется удалить только рождественские и новогодние события, остальные произошли слишком рано"
   ]
  },
  {
   "cell_type": "markdown",
   "metadata": {},
   "source": [
    "<div class=\"alert alert-block alert-success\">\n",
    "<b>✔️ Комментарий ревьюера:</b> Ты правильно выделяешь событие промо-акции по датам и региону\n",
    "</div>"
   ]
  },
  {
   "cell_type": "code",
   "execution_count": 28,
   "metadata": {},
   "outputs": [
    {
     "data": {
      "text/html": [
       "<div>\n",
       "<style scoped>\n",
       "    .dataframe tbody tr th:only-of-type {\n",
       "        vertical-align: middle;\n",
       "    }\n",
       "\n",
       "    .dataframe tbody tr th {\n",
       "        vertical-align: top;\n",
       "    }\n",
       "\n",
       "    .dataframe thead th {\n",
       "        text-align: right;\n",
       "    }\n",
       "</style>\n",
       "<table border=\"1\" class=\"dataframe\">\n",
       "  <thead>\n",
       "    <tr style=\"text-align: right;\">\n",
       "      <th></th>\n",
       "      <th>user_id</th>\n",
       "      <th>group</th>\n",
       "      <th>ab_test</th>\n",
       "      <th>first_date</th>\n",
       "      <th>region</th>\n",
       "      <th>device</th>\n",
       "      <th>event_dt</th>\n",
       "      <th>event_name</th>\n",
       "      <th>details</th>\n",
       "    </tr>\n",
       "  </thead>\n",
       "  <tbody>\n",
       "    <tr>\n",
       "      <th>0</th>\n",
       "      <td>A7A3664BD6242119</td>\n",
       "      <td>A</td>\n",
       "      <td>recommender_system_test</td>\n",
       "      <td>2020-12-20</td>\n",
       "      <td>EU</td>\n",
       "      <td>iPhone</td>\n",
       "      <td>2020-12-20 15:46:06</td>\n",
       "      <td>product_page</td>\n",
       "      <td>NaN</td>\n",
       "    </tr>\n",
       "    <tr>\n",
       "      <th>1</th>\n",
       "      <td>A7A3664BD6242119</td>\n",
       "      <td>A</td>\n",
       "      <td>recommender_system_test</td>\n",
       "      <td>2020-12-20</td>\n",
       "      <td>EU</td>\n",
       "      <td>iPhone</td>\n",
       "      <td>2020-12-21 00:40:59</td>\n",
       "      <td>product_page</td>\n",
       "      <td>NaN</td>\n",
       "    </tr>\n",
       "    <tr>\n",
       "      <th>2</th>\n",
       "      <td>A7A3664BD6242119</td>\n",
       "      <td>A</td>\n",
       "      <td>recommender_system_test</td>\n",
       "      <td>2020-12-20</td>\n",
       "      <td>EU</td>\n",
       "      <td>iPhone</td>\n",
       "      <td>2020-12-20 15:46:02</td>\n",
       "      <td>login</td>\n",
       "      <td>NaN</td>\n",
       "    </tr>\n",
       "    <tr>\n",
       "      <th>3</th>\n",
       "      <td>A7A3664BD6242119</td>\n",
       "      <td>A</td>\n",
       "      <td>recommender_system_test</td>\n",
       "      <td>2020-12-20</td>\n",
       "      <td>EU</td>\n",
       "      <td>iPhone</td>\n",
       "      <td>2020-12-21 00:40:58</td>\n",
       "      <td>login</td>\n",
       "      <td>NaN</td>\n",
       "    </tr>\n",
       "    <tr>\n",
       "      <th>4</th>\n",
       "      <td>4FF2998A348C484F</td>\n",
       "      <td>A</td>\n",
       "      <td>recommender_system_test</td>\n",
       "      <td>2020-12-20</td>\n",
       "      <td>EU</td>\n",
       "      <td>Mac</td>\n",
       "      <td>2020-12-20 19:06:22</td>\n",
       "      <td>purchase</td>\n",
       "      <td>4.99</td>\n",
       "    </tr>\n",
       "    <tr>\n",
       "      <th>...</th>\n",
       "      <td>...</td>\n",
       "      <td>...</td>\n",
       "      <td>...</td>\n",
       "      <td>...</td>\n",
       "      <td>...</td>\n",
       "      <td>...</td>\n",
       "      <td>...</td>\n",
       "      <td>...</td>\n",
       "      <td>...</td>\n",
       "    </tr>\n",
       "    <tr>\n",
       "      <th>11937</th>\n",
       "      <td>80712ED4EA1B52A5</td>\n",
       "      <td>A</td>\n",
       "      <td>recommender_system_test</td>\n",
       "      <td>2020-12-14</td>\n",
       "      <td>EU</td>\n",
       "      <td>Android</td>\n",
       "      <td>2020-12-15 20:10:06</td>\n",
       "      <td>product_page</td>\n",
       "      <td>NaN</td>\n",
       "    </tr>\n",
       "    <tr>\n",
       "      <th>11938</th>\n",
       "      <td>80712ED4EA1B52A5</td>\n",
       "      <td>A</td>\n",
       "      <td>recommender_system_test</td>\n",
       "      <td>2020-12-14</td>\n",
       "      <td>EU</td>\n",
       "      <td>Android</td>\n",
       "      <td>2020-12-20 20:01:34</td>\n",
       "      <td>product_page</td>\n",
       "      <td>NaN</td>\n",
       "    </tr>\n",
       "    <tr>\n",
       "      <th>11939</th>\n",
       "      <td>80712ED4EA1B52A5</td>\n",
       "      <td>A</td>\n",
       "      <td>recommender_system_test</td>\n",
       "      <td>2020-12-14</td>\n",
       "      <td>EU</td>\n",
       "      <td>Android</td>\n",
       "      <td>2020-12-14 05:48:50</td>\n",
       "      <td>login</td>\n",
       "      <td>NaN</td>\n",
       "    </tr>\n",
       "    <tr>\n",
       "      <th>11940</th>\n",
       "      <td>80712ED4EA1B52A5</td>\n",
       "      <td>A</td>\n",
       "      <td>recommender_system_test</td>\n",
       "      <td>2020-12-14</td>\n",
       "      <td>EU</td>\n",
       "      <td>Android</td>\n",
       "      <td>2020-12-15 20:10:03</td>\n",
       "      <td>login</td>\n",
       "      <td>NaN</td>\n",
       "    </tr>\n",
       "    <tr>\n",
       "      <th>11941</th>\n",
       "      <td>80712ED4EA1B52A5</td>\n",
       "      <td>A</td>\n",
       "      <td>recommender_system_test</td>\n",
       "      <td>2020-12-14</td>\n",
       "      <td>EU</td>\n",
       "      <td>Android</td>\n",
       "      <td>2020-12-20 20:01:32</td>\n",
       "      <td>login</td>\n",
       "      <td>NaN</td>\n",
       "    </tr>\n",
       "  </tbody>\n",
       "</table>\n",
       "<p>11942 rows × 9 columns</p>\n",
       "</div>"
      ],
      "text/plain": [
       "                user_id group                  ab_test first_date region  \\\n",
       "0      A7A3664BD6242119     A  recommender_system_test 2020-12-20     EU   \n",
       "1      A7A3664BD6242119     A  recommender_system_test 2020-12-20     EU   \n",
       "2      A7A3664BD6242119     A  recommender_system_test 2020-12-20     EU   \n",
       "3      A7A3664BD6242119     A  recommender_system_test 2020-12-20     EU   \n",
       "4      4FF2998A348C484F     A  recommender_system_test 2020-12-20     EU   \n",
       "...                 ...   ...                      ...        ...    ...   \n",
       "11937  80712ED4EA1B52A5     A  recommender_system_test 2020-12-14     EU   \n",
       "11938  80712ED4EA1B52A5     A  recommender_system_test 2020-12-14     EU   \n",
       "11939  80712ED4EA1B52A5     A  recommender_system_test 2020-12-14     EU   \n",
       "11940  80712ED4EA1B52A5     A  recommender_system_test 2020-12-14     EU   \n",
       "11941  80712ED4EA1B52A5     A  recommender_system_test 2020-12-14     EU   \n",
       "\n",
       "        device             event_dt    event_name  details  \n",
       "0       iPhone  2020-12-20 15:46:06  product_page      NaN  \n",
       "1       iPhone  2020-12-21 00:40:59  product_page      NaN  \n",
       "2       iPhone  2020-12-20 15:46:02         login      NaN  \n",
       "3       iPhone  2020-12-21 00:40:58         login      NaN  \n",
       "4          Mac  2020-12-20 19:06:22      purchase     4.99  \n",
       "...        ...                  ...           ...      ...  \n",
       "11937  Android  2020-12-15 20:10:06  product_page      NaN  \n",
       "11938  Android  2020-12-20 20:01:34  product_page      NaN  \n",
       "11939  Android  2020-12-14 05:48:50         login      NaN  \n",
       "11940  Android  2020-12-15 20:10:03         login      NaN  \n",
       "11941  Android  2020-12-20 20:01:32         login      NaN  \n",
       "\n",
       "[11942 rows x 9 columns]"
      ]
     },
     "execution_count": 28,
     "metadata": {},
     "output_type": "execute_result"
    }
   ],
   "source": [
    "df = df[~(df['event_dt'] >= '2020-12-25') & (df['event_dt'] <= '2021-01-03')].reset_index(drop=True)\n",
    "df"
   ]
  },
  {
   "cell_type": "code",
   "execution_count": 29,
   "metadata": {},
   "outputs": [
    {
     "data": {
      "text/plain": [
       "2010"
      ]
     },
     "execution_count": 29,
     "metadata": {},
     "output_type": "execute_result"
    }
   ],
   "source": [
    "df['user_id'].nunique()"
   ]
  },
  {
   "cell_type": "markdown",
   "metadata": {},
   "source": [
    "Число пользователей ниже 6 тысяч, указанных в ТЗ, однако иные участники не подходили по параметрам."
   ]
  },
  {
   "cell_type": "code",
   "execution_count": 30,
   "metadata": {},
   "outputs": [
    {
     "data": {
      "text/html": [
       "<div>\n",
       "<style scoped>\n",
       "    .dataframe tbody tr th:only-of-type {\n",
       "        vertical-align: middle;\n",
       "    }\n",
       "\n",
       "    .dataframe tbody tr th {\n",
       "        vertical-align: top;\n",
       "    }\n",
       "\n",
       "    .dataframe thead th {\n",
       "        text-align: right;\n",
       "    }\n",
       "</style>\n",
       "<table border=\"1\" class=\"dataframe\">\n",
       "  <thead>\n",
       "    <tr style=\"text-align: right;\">\n",
       "      <th></th>\n",
       "      <th>user_id</th>\n",
       "    </tr>\n",
       "    <tr>\n",
       "      <th>group</th>\n",
       "      <th></th>\n",
       "    </tr>\n",
       "  </thead>\n",
       "  <tbody>\n",
       "    <tr>\n",
       "      <th>A</th>\n",
       "      <td>1542</td>\n",
       "    </tr>\n",
       "    <tr>\n",
       "      <th>B</th>\n",
       "      <td>468</td>\n",
       "    </tr>\n",
       "  </tbody>\n",
       "</table>\n",
       "</div>"
      ],
      "text/plain": [
       "       user_id\n",
       "group         \n",
       "A         1542\n",
       "B          468"
      ]
     },
     "execution_count": 30,
     "metadata": {},
     "output_type": "execute_result"
    }
   ],
   "source": [
    "df.pivot_table(index='group', values='user_id', aggfunc='nunique')"
   ]
  },
  {
   "cell_type": "markdown",
   "metadata": {},
   "source": [
    "Группы разделены неравномерно: в контрольной группе А пользователей больше почти в 3,3 раза."
   ]
  },
  {
   "cell_type": "markdown",
   "metadata": {},
   "source": [
    "<div class=\"alert alert-block alert-danger\">\n",
    "<b> ❌ Комментарий ревьюера:</b> На этом шаге тобой не проведена оценка количества событий после 14 дня с момента регистрации для каждого конкретного пользователя. То есть, например, У пользователя зарегистрированного 7 декабря, могут быть события 30 декабря. Для теста нам эти события не нужны\n",
    "</div>"
   ]
  },
  {
   "cell_type": "markdown",
   "metadata": {},
   "source": [
    "<div class=\"alert alert-info\"><b>Комментарий студента:</b> Дополнил:</div>"
   ]
  },
  {
   "cell_type": "code",
   "execution_count": 31,
   "metadata": {},
   "outputs": [
    {
     "data": {
      "text/plain": [
       "6978     17.0\n",
       "2727     17.0\n",
       "2723     17.0\n",
       "6981     17.0\n",
       "11387    16.9\n",
       "         ... \n",
       "6168      0.0\n",
       "4612      0.0\n",
       "4610      0.0\n",
       "4608      0.0\n",
       "2867      0.0\n",
       "Name: diff_days, Length: 11942, dtype: float64"
      ]
     },
     "execution_count": 31,
     "metadata": {},
     "output_type": "execute_result"
    }
   ],
   "source": [
    "df['event_dt'] = pd.to_datetime(df['event_dt'])\n",
    "df['diff_days'] =((df['event_dt'] - df['first_date']) / np.timedelta64 (1, 'D')).round(1)\n",
    "\n",
    "df['diff_days'].sort_values(ascending=False)"
   ]
  },
  {
   "cell_type": "markdown",
   "metadata": {},
   "source": [
    "Исключим события, произошедшие после 14 дней после регистрации:"
   ]
  },
  {
   "cell_type": "code",
   "execution_count": 32,
   "metadata": {
    "scrolled": false
   },
   "outputs": [
    {
     "data": {
      "text/html": [
       "<div>\n",
       "<style scoped>\n",
       "    .dataframe tbody tr th:only-of-type {\n",
       "        vertical-align: middle;\n",
       "    }\n",
       "\n",
       "    .dataframe tbody tr th {\n",
       "        vertical-align: top;\n",
       "    }\n",
       "\n",
       "    .dataframe thead th {\n",
       "        text-align: right;\n",
       "    }\n",
       "</style>\n",
       "<table border=\"1\" class=\"dataframe\">\n",
       "  <thead>\n",
       "    <tr style=\"text-align: right;\">\n",
       "      <th></th>\n",
       "      <th>user_id</th>\n",
       "      <th>group</th>\n",
       "      <th>ab_test</th>\n",
       "      <th>first_date</th>\n",
       "      <th>region</th>\n",
       "      <th>device</th>\n",
       "      <th>event_dt</th>\n",
       "      <th>event_name</th>\n",
       "      <th>details</th>\n",
       "      <th>diff_days</th>\n",
       "    </tr>\n",
       "  </thead>\n",
       "  <tbody>\n",
       "    <tr>\n",
       "      <th>0</th>\n",
       "      <td>A7A3664BD6242119</td>\n",
       "      <td>A</td>\n",
       "      <td>recommender_system_test</td>\n",
       "      <td>2020-12-20</td>\n",
       "      <td>EU</td>\n",
       "      <td>iPhone</td>\n",
       "      <td>2020-12-20 15:46:06</td>\n",
       "      <td>product_page</td>\n",
       "      <td>NaN</td>\n",
       "      <td>0.7</td>\n",
       "    </tr>\n",
       "    <tr>\n",
       "      <th>1</th>\n",
       "      <td>A7A3664BD6242119</td>\n",
       "      <td>A</td>\n",
       "      <td>recommender_system_test</td>\n",
       "      <td>2020-12-20</td>\n",
       "      <td>EU</td>\n",
       "      <td>iPhone</td>\n",
       "      <td>2020-12-21 00:40:59</td>\n",
       "      <td>product_page</td>\n",
       "      <td>NaN</td>\n",
       "      <td>1.0</td>\n",
       "    </tr>\n",
       "    <tr>\n",
       "      <th>2</th>\n",
       "      <td>A7A3664BD6242119</td>\n",
       "      <td>A</td>\n",
       "      <td>recommender_system_test</td>\n",
       "      <td>2020-12-20</td>\n",
       "      <td>EU</td>\n",
       "      <td>iPhone</td>\n",
       "      <td>2020-12-20 15:46:02</td>\n",
       "      <td>login</td>\n",
       "      <td>NaN</td>\n",
       "      <td>0.7</td>\n",
       "    </tr>\n",
       "    <tr>\n",
       "      <th>3</th>\n",
       "      <td>A7A3664BD6242119</td>\n",
       "      <td>A</td>\n",
       "      <td>recommender_system_test</td>\n",
       "      <td>2020-12-20</td>\n",
       "      <td>EU</td>\n",
       "      <td>iPhone</td>\n",
       "      <td>2020-12-21 00:40:58</td>\n",
       "      <td>login</td>\n",
       "      <td>NaN</td>\n",
       "      <td>1.0</td>\n",
       "    </tr>\n",
       "    <tr>\n",
       "      <th>4</th>\n",
       "      <td>4FF2998A348C484F</td>\n",
       "      <td>A</td>\n",
       "      <td>recommender_system_test</td>\n",
       "      <td>2020-12-20</td>\n",
       "      <td>EU</td>\n",
       "      <td>Mac</td>\n",
       "      <td>2020-12-20 19:06:22</td>\n",
       "      <td>purchase</td>\n",
       "      <td>4.99</td>\n",
       "      <td>0.8</td>\n",
       "    </tr>\n",
       "    <tr>\n",
       "      <th>...</th>\n",
       "      <td>...</td>\n",
       "      <td>...</td>\n",
       "      <td>...</td>\n",
       "      <td>...</td>\n",
       "      <td>...</td>\n",
       "      <td>...</td>\n",
       "      <td>...</td>\n",
       "      <td>...</td>\n",
       "      <td>...</td>\n",
       "      <td>...</td>\n",
       "    </tr>\n",
       "    <tr>\n",
       "      <th>11866</th>\n",
       "      <td>80712ED4EA1B52A5</td>\n",
       "      <td>A</td>\n",
       "      <td>recommender_system_test</td>\n",
       "      <td>2020-12-14</td>\n",
       "      <td>EU</td>\n",
       "      <td>Android</td>\n",
       "      <td>2020-12-15 20:10:06</td>\n",
       "      <td>product_page</td>\n",
       "      <td>NaN</td>\n",
       "      <td>1.8</td>\n",
       "    </tr>\n",
       "    <tr>\n",
       "      <th>11867</th>\n",
       "      <td>80712ED4EA1B52A5</td>\n",
       "      <td>A</td>\n",
       "      <td>recommender_system_test</td>\n",
       "      <td>2020-12-14</td>\n",
       "      <td>EU</td>\n",
       "      <td>Android</td>\n",
       "      <td>2020-12-20 20:01:34</td>\n",
       "      <td>product_page</td>\n",
       "      <td>NaN</td>\n",
       "      <td>6.8</td>\n",
       "    </tr>\n",
       "    <tr>\n",
       "      <th>11868</th>\n",
       "      <td>80712ED4EA1B52A5</td>\n",
       "      <td>A</td>\n",
       "      <td>recommender_system_test</td>\n",
       "      <td>2020-12-14</td>\n",
       "      <td>EU</td>\n",
       "      <td>Android</td>\n",
       "      <td>2020-12-14 05:48:50</td>\n",
       "      <td>login</td>\n",
       "      <td>NaN</td>\n",
       "      <td>0.2</td>\n",
       "    </tr>\n",
       "    <tr>\n",
       "      <th>11869</th>\n",
       "      <td>80712ED4EA1B52A5</td>\n",
       "      <td>A</td>\n",
       "      <td>recommender_system_test</td>\n",
       "      <td>2020-12-14</td>\n",
       "      <td>EU</td>\n",
       "      <td>Android</td>\n",
       "      <td>2020-12-15 20:10:03</td>\n",
       "      <td>login</td>\n",
       "      <td>NaN</td>\n",
       "      <td>1.8</td>\n",
       "    </tr>\n",
       "    <tr>\n",
       "      <th>11870</th>\n",
       "      <td>80712ED4EA1B52A5</td>\n",
       "      <td>A</td>\n",
       "      <td>recommender_system_test</td>\n",
       "      <td>2020-12-14</td>\n",
       "      <td>EU</td>\n",
       "      <td>Android</td>\n",
       "      <td>2020-12-20 20:01:32</td>\n",
       "      <td>login</td>\n",
       "      <td>NaN</td>\n",
       "      <td>6.8</td>\n",
       "    </tr>\n",
       "  </tbody>\n",
       "</table>\n",
       "<p>11871 rows × 10 columns</p>\n",
       "</div>"
      ],
      "text/plain": [
       "                user_id group                  ab_test first_date region  \\\n",
       "0      A7A3664BD6242119     A  recommender_system_test 2020-12-20     EU   \n",
       "1      A7A3664BD6242119     A  recommender_system_test 2020-12-20     EU   \n",
       "2      A7A3664BD6242119     A  recommender_system_test 2020-12-20     EU   \n",
       "3      A7A3664BD6242119     A  recommender_system_test 2020-12-20     EU   \n",
       "4      4FF2998A348C484F     A  recommender_system_test 2020-12-20     EU   \n",
       "...                 ...   ...                      ...        ...    ...   \n",
       "11866  80712ED4EA1B52A5     A  recommender_system_test 2020-12-14     EU   \n",
       "11867  80712ED4EA1B52A5     A  recommender_system_test 2020-12-14     EU   \n",
       "11868  80712ED4EA1B52A5     A  recommender_system_test 2020-12-14     EU   \n",
       "11869  80712ED4EA1B52A5     A  recommender_system_test 2020-12-14     EU   \n",
       "11870  80712ED4EA1B52A5     A  recommender_system_test 2020-12-14     EU   \n",
       "\n",
       "        device            event_dt    event_name  details  diff_days  \n",
       "0       iPhone 2020-12-20 15:46:06  product_page      NaN        0.7  \n",
       "1       iPhone 2020-12-21 00:40:59  product_page      NaN        1.0  \n",
       "2       iPhone 2020-12-20 15:46:02         login      NaN        0.7  \n",
       "3       iPhone 2020-12-21 00:40:58         login      NaN        1.0  \n",
       "4          Mac 2020-12-20 19:06:22      purchase     4.99        0.8  \n",
       "...        ...                 ...           ...      ...        ...  \n",
       "11866  Android 2020-12-15 20:10:06  product_page      NaN        1.8  \n",
       "11867  Android 2020-12-20 20:01:34  product_page      NaN        6.8  \n",
       "11868  Android 2020-12-14 05:48:50         login      NaN        0.2  \n",
       "11869  Android 2020-12-15 20:10:03         login      NaN        1.8  \n",
       "11870  Android 2020-12-20 20:01:32         login      NaN        6.8  \n",
       "\n",
       "[11871 rows x 10 columns]"
      ]
     },
     "execution_count": 32,
     "metadata": {},
     "output_type": "execute_result"
    }
   ],
   "source": [
    "df = df[df['diff_days'] <= 14].reset_index(drop=True)\n",
    "df"
   ]
  },
  {
   "cell_type": "markdown",
   "metadata": {},
   "source": [
    "<div class=\"alert alert-block alert-success\">\n",
    "<b>✔️ Комментарий ревьюера 2:</b> Проверка проведена\n",
    "</div>"
   ]
  },
  {
   "cell_type": "markdown",
   "metadata": {},
   "source": [
    "<div class=\"alert alert-block alert-danger\">\n",
    "<b> ❌ Комментарий ревьюера:</b> Здесь нужно проверить соотношение участинков теста в Европе ко всем новым пользователям в Европе на те же даты(!)\n",
    "</div>"
   ]
  },
  {
   "cell_type": "markdown",
   "metadata": {},
   "source": [
    "<div class=\"alert alert-info\"><b>Комментарий студента:</b> Дополнил:</div>"
   ]
  },
  {
   "cell_type": "code",
   "execution_count": 33,
   "metadata": {},
   "outputs": [
    {
     "data": {
      "text/plain": [
       "33485"
      ]
     },
     "execution_count": 33,
     "metadata": {},
     "output_type": "execute_result"
    }
   ],
   "source": [
    "dates = list(df['first_date'].unique())\n",
    "number_of_users_total = new_users[(new_users['region'] == 'EU') \n",
    "                                       & (new_users['first_date'].isin(dates)\n",
    "                                         )]['user_id'].nunique()\n",
    "number_of_users_total"
   ]
  },
  {
   "cell_type": "markdown",
   "metadata": {},
   "source": [
    "Всего 33485 пользователей из Европы на эти даты. Посмотрим пропорцию:"
   ]
  },
  {
   "cell_type": "code",
   "execution_count": 34,
   "metadata": {},
   "outputs": [
    {
     "data": {
      "text/plain": [
       "0.060026877706435715"
      ]
     },
     "execution_count": 34,
     "metadata": {},
     "output_type": "execute_result"
    }
   ],
   "source": [
    "number_of_users_test = df['user_id'].nunique()\n",
    "\n",
    "number_of_users_test / number_of_users_total"
   ]
  },
  {
   "cell_type": "markdown",
   "metadata": {},
   "source": [
    "Всего 6% пользователей от числа всех новых пользователей в Европе на те же даты стали участниками теста\n",
    "\n"
   ]
  },
  {
   "cell_type": "markdown",
   "metadata": {},
   "source": [
    "**Промежуточный вывод:**\n",
    "\n",
    "ТЗ соблюдено не в полной мере: \n",
    " - вместо 6000 чел. количество участников составило 2010 чел.; \n",
    " - вместо 15% новых пользователей из региона EU - 6%. "
   ]
  },
  {
   "cell_type": "markdown",
   "metadata": {},
   "source": [
    "<div class=\"alert alert-block alert-success\">\n",
    "<b>✔️ Комментарий ревьюера 2:</b> Верно\n",
    "</div>"
   ]
  },
  {
   "cell_type": "markdown",
   "metadata": {},
   "source": [
    "##  Исследовательский анализ данных"
   ]
  },
  {
   "cell_type": "code",
   "execution_count": 35,
   "metadata": {},
   "outputs": [
    {
     "data": {
      "text/html": [
       "<div>\n",
       "<style scoped>\n",
       "    .dataframe tbody tr th:only-of-type {\n",
       "        vertical-align: middle;\n",
       "    }\n",
       "\n",
       "    .dataframe tbody tr th {\n",
       "        vertical-align: top;\n",
       "    }\n",
       "\n",
       "    .dataframe thead tr th {\n",
       "        text-align: left;\n",
       "    }\n",
       "\n",
       "    .dataframe thead tr:last-of-type th {\n",
       "        text-align: right;\n",
       "    }\n",
       "</style>\n",
       "<table border=\"1\" class=\"dataframe\">\n",
       "  <thead>\n",
       "    <tr>\n",
       "      <th></th>\n",
       "      <th>events</th>\n",
       "      <th>users</th>\n",
       "      <th>mean</th>\n",
       "    </tr>\n",
       "    <tr>\n",
       "      <th></th>\n",
       "      <th></th>\n",
       "      <th></th>\n",
       "      <th></th>\n",
       "    </tr>\n",
       "    <tr>\n",
       "      <th>group</th>\n",
       "      <th></th>\n",
       "      <th></th>\n",
       "      <th></th>\n",
       "    </tr>\n",
       "  </thead>\n",
       "  <tbody>\n",
       "    <tr>\n",
       "      <th>A</th>\n",
       "      <td>9608</td>\n",
       "      <td>1542</td>\n",
       "      <td>6.2</td>\n",
       "    </tr>\n",
       "    <tr>\n",
       "      <th>B</th>\n",
       "      <td>2263</td>\n",
       "      <td>468</td>\n",
       "      <td>4.8</td>\n",
       "    </tr>\n",
       "  </tbody>\n",
       "</table>\n",
       "</div>"
      ],
      "text/plain": [
       "      events users mean\n",
       "                       \n",
       "group                  \n",
       "A       9608  1542  6.2\n",
       "B       2263   468  4.8"
      ]
     },
     "execution_count": 35,
     "metadata": {},
     "output_type": "execute_result"
    }
   ],
   "source": [
    "# количество событий на пользователя по группам\n",
    "\n",
    "events_per_user = df.pivot_table(index='group', values='user_id', aggfunc=['count', 'nunique']).rename(\n",
    "    columns={'user_id': '', 'count': 'events', 'nunique': 'users'})\n",
    "events_per_user['mean'] = (events_per_user['events'] / events_per_user['users']).round(1)\n",
    "\n",
    "events_per_user"
   ]
  },
  {
   "cell_type": "markdown",
   "metadata": {},
   "source": [
    "Разница по среднему количеству событий на пользователя не столько сущенственна: 6,3 для группы А и 4,9 для группы B."
   ]
  },
  {
   "cell_type": "code",
   "execution_count": 53,
   "metadata": {},
   "outputs": [
    {
     "data": {
      "application/vnd.plotly.v1+json": {
       "config": {
        "plotlyServerURL": "https://plot.ly"
       },
       "data": [
        {
         "alignmentgroup": "True",
         "hovertemplate": "group=A<br>event_name=%{x}<br>user_id=%{text}<extra></extra>",
         "legendgroup": "A",
         "marker": {
          "color": "#636efa",
          "pattern": {
           "shape": ""
          }
         },
         "name": "A",
         "offsetgroup": "A",
         "orientation": "v",
         "showlegend": true,
         "text": [
          4245,
          1341,
          2736,
          1286
         ],
         "textposition": "auto",
         "type": "bar",
         "x": [
          "login",
          "product_cart",
          "product_page",
          "purchase"
         ],
         "xaxis": "x",
         "y": [
          4245,
          1341,
          2736,
          1286
         ],
         "yaxis": "y"
        },
        {
         "alignmentgroup": "True",
         "hovertemplate": "group=B<br>event_name=%{x}<br>user_id=%{text}<extra></extra>",
         "legendgroup": "B",
         "marker": {
          "color": "#EF553B",
          "pattern": {
           "shape": ""
          }
         },
         "name": "B",
         "offsetgroup": "B",
         "orientation": "v",
         "showlegend": true,
         "text": [
          1131,
          322,
          556,
          254
         ],
         "textposition": "auto",
         "type": "bar",
         "x": [
          "login",
          "product_cart",
          "product_page",
          "purchase"
         ],
         "xaxis": "x",
         "y": [
          1131,
          322,
          556,
          254
         ],
         "yaxis": "y"
        }
       ],
       "layout": {
        "barmode": "group",
        "legend": {
         "title": {
          "text": "Groups"
         },
         "tracegroupgap": 0
        },
        "margin": {
         "b": 0,
         "l": 0,
         "r": 0,
         "t": 30
        },
        "template": {
         "data": {
          "bar": [
           {
            "error_x": {
             "color": "#2a3f5f"
            },
            "error_y": {
             "color": "#2a3f5f"
            },
            "marker": {
             "line": {
              "color": "#E5ECF6",
              "width": 0.5
             },
             "pattern": {
              "fillmode": "overlay",
              "size": 10,
              "solidity": 0.2
             }
            },
            "type": "bar"
           }
          ],
          "barpolar": [
           {
            "marker": {
             "line": {
              "color": "#E5ECF6",
              "width": 0.5
             },
             "pattern": {
              "fillmode": "overlay",
              "size": 10,
              "solidity": 0.2
             }
            },
            "type": "barpolar"
           }
          ],
          "carpet": [
           {
            "aaxis": {
             "endlinecolor": "#2a3f5f",
             "gridcolor": "white",
             "linecolor": "white",
             "minorgridcolor": "white",
             "startlinecolor": "#2a3f5f"
            },
            "baxis": {
             "endlinecolor": "#2a3f5f",
             "gridcolor": "white",
             "linecolor": "white",
             "minorgridcolor": "white",
             "startlinecolor": "#2a3f5f"
            },
            "type": "carpet"
           }
          ],
          "choropleth": [
           {
            "colorbar": {
             "outlinewidth": 0,
             "ticks": ""
            },
            "type": "choropleth"
           }
          ],
          "contour": [
           {
            "colorbar": {
             "outlinewidth": 0,
             "ticks": ""
            },
            "colorscale": [
             [
              0,
              "#0d0887"
             ],
             [
              0.1111111111111111,
              "#46039f"
             ],
             [
              0.2222222222222222,
              "#7201a8"
             ],
             [
              0.3333333333333333,
              "#9c179e"
             ],
             [
              0.4444444444444444,
              "#bd3786"
             ],
             [
              0.5555555555555556,
              "#d8576b"
             ],
             [
              0.6666666666666666,
              "#ed7953"
             ],
             [
              0.7777777777777778,
              "#fb9f3a"
             ],
             [
              0.8888888888888888,
              "#fdca26"
             ],
             [
              1,
              "#f0f921"
             ]
            ],
            "type": "contour"
           }
          ],
          "contourcarpet": [
           {
            "colorbar": {
             "outlinewidth": 0,
             "ticks": ""
            },
            "type": "contourcarpet"
           }
          ],
          "heatmap": [
           {
            "colorbar": {
             "outlinewidth": 0,
             "ticks": ""
            },
            "colorscale": [
             [
              0,
              "#0d0887"
             ],
             [
              0.1111111111111111,
              "#46039f"
             ],
             [
              0.2222222222222222,
              "#7201a8"
             ],
             [
              0.3333333333333333,
              "#9c179e"
             ],
             [
              0.4444444444444444,
              "#bd3786"
             ],
             [
              0.5555555555555556,
              "#d8576b"
             ],
             [
              0.6666666666666666,
              "#ed7953"
             ],
             [
              0.7777777777777778,
              "#fb9f3a"
             ],
             [
              0.8888888888888888,
              "#fdca26"
             ],
             [
              1,
              "#f0f921"
             ]
            ],
            "type": "heatmap"
           }
          ],
          "heatmapgl": [
           {
            "colorbar": {
             "outlinewidth": 0,
             "ticks": ""
            },
            "colorscale": [
             [
              0,
              "#0d0887"
             ],
             [
              0.1111111111111111,
              "#46039f"
             ],
             [
              0.2222222222222222,
              "#7201a8"
             ],
             [
              0.3333333333333333,
              "#9c179e"
             ],
             [
              0.4444444444444444,
              "#bd3786"
             ],
             [
              0.5555555555555556,
              "#d8576b"
             ],
             [
              0.6666666666666666,
              "#ed7953"
             ],
             [
              0.7777777777777778,
              "#fb9f3a"
             ],
             [
              0.8888888888888888,
              "#fdca26"
             ],
             [
              1,
              "#f0f921"
             ]
            ],
            "type": "heatmapgl"
           }
          ],
          "histogram": [
           {
            "marker": {
             "pattern": {
              "fillmode": "overlay",
              "size": 10,
              "solidity": 0.2
             }
            },
            "type": "histogram"
           }
          ],
          "histogram2d": [
           {
            "colorbar": {
             "outlinewidth": 0,
             "ticks": ""
            },
            "colorscale": [
             [
              0,
              "#0d0887"
             ],
             [
              0.1111111111111111,
              "#46039f"
             ],
             [
              0.2222222222222222,
              "#7201a8"
             ],
             [
              0.3333333333333333,
              "#9c179e"
             ],
             [
              0.4444444444444444,
              "#bd3786"
             ],
             [
              0.5555555555555556,
              "#d8576b"
             ],
             [
              0.6666666666666666,
              "#ed7953"
             ],
             [
              0.7777777777777778,
              "#fb9f3a"
             ],
             [
              0.8888888888888888,
              "#fdca26"
             ],
             [
              1,
              "#f0f921"
             ]
            ],
            "type": "histogram2d"
           }
          ],
          "histogram2dcontour": [
           {
            "colorbar": {
             "outlinewidth": 0,
             "ticks": ""
            },
            "colorscale": [
             [
              0,
              "#0d0887"
             ],
             [
              0.1111111111111111,
              "#46039f"
             ],
             [
              0.2222222222222222,
              "#7201a8"
             ],
             [
              0.3333333333333333,
              "#9c179e"
             ],
             [
              0.4444444444444444,
              "#bd3786"
             ],
             [
              0.5555555555555556,
              "#d8576b"
             ],
             [
              0.6666666666666666,
              "#ed7953"
             ],
             [
              0.7777777777777778,
              "#fb9f3a"
             ],
             [
              0.8888888888888888,
              "#fdca26"
             ],
             [
              1,
              "#f0f921"
             ]
            ],
            "type": "histogram2dcontour"
           }
          ],
          "mesh3d": [
           {
            "colorbar": {
             "outlinewidth": 0,
             "ticks": ""
            },
            "type": "mesh3d"
           }
          ],
          "parcoords": [
           {
            "line": {
             "colorbar": {
              "outlinewidth": 0,
              "ticks": ""
             }
            },
            "type": "parcoords"
           }
          ],
          "pie": [
           {
            "automargin": true,
            "type": "pie"
           }
          ],
          "scatter": [
           {
            "marker": {
             "colorbar": {
              "outlinewidth": 0,
              "ticks": ""
             }
            },
            "type": "scatter"
           }
          ],
          "scatter3d": [
           {
            "line": {
             "colorbar": {
              "outlinewidth": 0,
              "ticks": ""
             }
            },
            "marker": {
             "colorbar": {
              "outlinewidth": 0,
              "ticks": ""
             }
            },
            "type": "scatter3d"
           }
          ],
          "scattercarpet": [
           {
            "marker": {
             "colorbar": {
              "outlinewidth": 0,
              "ticks": ""
             }
            },
            "type": "scattercarpet"
           }
          ],
          "scattergeo": [
           {
            "marker": {
             "colorbar": {
              "outlinewidth": 0,
              "ticks": ""
             }
            },
            "type": "scattergeo"
           }
          ],
          "scattergl": [
           {
            "marker": {
             "colorbar": {
              "outlinewidth": 0,
              "ticks": ""
             }
            },
            "type": "scattergl"
           }
          ],
          "scattermapbox": [
           {
            "marker": {
             "colorbar": {
              "outlinewidth": 0,
              "ticks": ""
             }
            },
            "type": "scattermapbox"
           }
          ],
          "scatterpolar": [
           {
            "marker": {
             "colorbar": {
              "outlinewidth": 0,
              "ticks": ""
             }
            },
            "type": "scatterpolar"
           }
          ],
          "scatterpolargl": [
           {
            "marker": {
             "colorbar": {
              "outlinewidth": 0,
              "ticks": ""
             }
            },
            "type": "scatterpolargl"
           }
          ],
          "scatterternary": [
           {
            "marker": {
             "colorbar": {
              "outlinewidth": 0,
              "ticks": ""
             }
            },
            "type": "scatterternary"
           }
          ],
          "surface": [
           {
            "colorbar": {
             "outlinewidth": 0,
             "ticks": ""
            },
            "colorscale": [
             [
              0,
              "#0d0887"
             ],
             [
              0.1111111111111111,
              "#46039f"
             ],
             [
              0.2222222222222222,
              "#7201a8"
             ],
             [
              0.3333333333333333,
              "#9c179e"
             ],
             [
              0.4444444444444444,
              "#bd3786"
             ],
             [
              0.5555555555555556,
              "#d8576b"
             ],
             [
              0.6666666666666666,
              "#ed7953"
             ],
             [
              0.7777777777777778,
              "#fb9f3a"
             ],
             [
              0.8888888888888888,
              "#fdca26"
             ],
             [
              1,
              "#f0f921"
             ]
            ],
            "type": "surface"
           }
          ],
          "table": [
           {
            "cells": {
             "fill": {
              "color": "#EBF0F8"
             },
             "line": {
              "color": "white"
             }
            },
            "header": {
             "fill": {
              "color": "#C8D4E3"
             },
             "line": {
              "color": "white"
             }
            },
            "type": "table"
           }
          ]
         },
         "layout": {
          "annotationdefaults": {
           "arrowcolor": "#2a3f5f",
           "arrowhead": 0,
           "arrowwidth": 1
          },
          "autotypenumbers": "strict",
          "coloraxis": {
           "colorbar": {
            "outlinewidth": 0,
            "ticks": ""
           }
          },
          "colorscale": {
           "diverging": [
            [
             0,
             "#8e0152"
            ],
            [
             0.1,
             "#c51b7d"
            ],
            [
             0.2,
             "#de77ae"
            ],
            [
             0.3,
             "#f1b6da"
            ],
            [
             0.4,
             "#fde0ef"
            ],
            [
             0.5,
             "#f7f7f7"
            ],
            [
             0.6,
             "#e6f5d0"
            ],
            [
             0.7,
             "#b8e186"
            ],
            [
             0.8,
             "#7fbc41"
            ],
            [
             0.9,
             "#4d9221"
            ],
            [
             1,
             "#276419"
            ]
           ],
           "sequential": [
            [
             0,
             "#0d0887"
            ],
            [
             0.1111111111111111,
             "#46039f"
            ],
            [
             0.2222222222222222,
             "#7201a8"
            ],
            [
             0.3333333333333333,
             "#9c179e"
            ],
            [
             0.4444444444444444,
             "#bd3786"
            ],
            [
             0.5555555555555556,
             "#d8576b"
            ],
            [
             0.6666666666666666,
             "#ed7953"
            ],
            [
             0.7777777777777778,
             "#fb9f3a"
            ],
            [
             0.8888888888888888,
             "#fdca26"
            ],
            [
             1,
             "#f0f921"
            ]
           ],
           "sequentialminus": [
            [
             0,
             "#0d0887"
            ],
            [
             0.1111111111111111,
             "#46039f"
            ],
            [
             0.2222222222222222,
             "#7201a8"
            ],
            [
             0.3333333333333333,
             "#9c179e"
            ],
            [
             0.4444444444444444,
             "#bd3786"
            ],
            [
             0.5555555555555556,
             "#d8576b"
            ],
            [
             0.6666666666666666,
             "#ed7953"
            ],
            [
             0.7777777777777778,
             "#fb9f3a"
            ],
            [
             0.8888888888888888,
             "#fdca26"
            ],
            [
             1,
             "#f0f921"
            ]
           ]
          },
          "colorway": [
           "#636efa",
           "#EF553B",
           "#00cc96",
           "#ab63fa",
           "#FFA15A",
           "#19d3f3",
           "#FF6692",
           "#B6E880",
           "#FF97FF",
           "#FECB52"
          ],
          "font": {
           "color": "#2a3f5f"
          },
          "geo": {
           "bgcolor": "white",
           "lakecolor": "white",
           "landcolor": "#E5ECF6",
           "showlakes": true,
           "showland": true,
           "subunitcolor": "white"
          },
          "hoverlabel": {
           "align": "left"
          },
          "hovermode": "closest",
          "mapbox": {
           "style": "light"
          },
          "paper_bgcolor": "white",
          "plot_bgcolor": "#E5ECF6",
          "polar": {
           "angularaxis": {
            "gridcolor": "white",
            "linecolor": "white",
            "ticks": ""
           },
           "bgcolor": "#E5ECF6",
           "radialaxis": {
            "gridcolor": "white",
            "linecolor": "white",
            "ticks": ""
           }
          },
          "scene": {
           "xaxis": {
            "backgroundcolor": "#E5ECF6",
            "gridcolor": "white",
            "gridwidth": 2,
            "linecolor": "white",
            "showbackground": true,
            "ticks": "",
            "zerolinecolor": "white"
           },
           "yaxis": {
            "backgroundcolor": "#E5ECF6",
            "gridcolor": "white",
            "gridwidth": 2,
            "linecolor": "white",
            "showbackground": true,
            "ticks": "",
            "zerolinecolor": "white"
           },
           "zaxis": {
            "backgroundcolor": "#E5ECF6",
            "gridcolor": "white",
            "gridwidth": 2,
            "linecolor": "white",
            "showbackground": true,
            "ticks": "",
            "zerolinecolor": "white"
           }
          },
          "shapedefaults": {
           "line": {
            "color": "#2a3f5f"
           }
          },
          "ternary": {
           "aaxis": {
            "gridcolor": "white",
            "linecolor": "white",
            "ticks": ""
           },
           "baxis": {
            "gridcolor": "white",
            "linecolor": "white",
            "ticks": ""
           },
           "bgcolor": "#E5ECF6",
           "caxis": {
            "gridcolor": "white",
            "linecolor": "white",
            "ticks": ""
           }
          },
          "title": {
           "x": 0.05
          },
          "xaxis": {
           "automargin": true,
           "gridcolor": "white",
           "linecolor": "white",
           "ticks": "",
           "title": {
            "standoff": 15
           },
           "zerolinecolor": "white",
           "zerolinewidth": 2
          },
          "yaxis": {
           "automargin": true,
           "gridcolor": "white",
           "linecolor": "white",
           "ticks": "",
           "title": {
            "standoff": 15
           },
           "zerolinecolor": "white",
           "zerolinewidth": 2
          }
         }
        },
        "title": {
         "text": "The number of events by groups",
         "x": 0.5
        },
        "xaxis": {
         "anchor": "y",
         "domain": [
          0,
          1
         ],
         "title": {
          "text": "Groups"
         }
        },
        "yaxis": {
         "anchor": "x",
         "domain": [
          0,
          1
         ],
         "title": {
          "text": "Number of events"
         }
        }
       }
      },
      "text/html": [
       "<div>                            <div id=\"6cdd21c6-7d11-401f-9be8-31cab18220f9\" class=\"plotly-graph-div\" style=\"height:525px; width:100%;\"></div>            <script type=\"text/javascript\">                require([\"plotly\"], function(Plotly) {                    window.PLOTLYENV=window.PLOTLYENV || {};                                    if (document.getElementById(\"6cdd21c6-7d11-401f-9be8-31cab18220f9\")) {                    Plotly.newPlot(                        \"6cdd21c6-7d11-401f-9be8-31cab18220f9\",                        [{\"alignmentgroup\":\"True\",\"hovertemplate\":\"group=A<br>event_name=%{x}<br>user_id=%{text}<extra></extra>\",\"legendgroup\":\"A\",\"marker\":{\"color\":\"#636efa\",\"pattern\":{\"shape\":\"\"}},\"name\":\"A\",\"offsetgroup\":\"A\",\"orientation\":\"v\",\"showlegend\":true,\"text\":[4245.0,1341.0,2736.0,1286.0],\"textposition\":\"auto\",\"x\":[\"login\",\"product_cart\",\"product_page\",\"purchase\"],\"xaxis\":\"x\",\"y\":[4245,1341,2736,1286],\"yaxis\":\"y\",\"type\":\"bar\"},{\"alignmentgroup\":\"True\",\"hovertemplate\":\"group=B<br>event_name=%{x}<br>user_id=%{text}<extra></extra>\",\"legendgroup\":\"B\",\"marker\":{\"color\":\"#EF553B\",\"pattern\":{\"shape\":\"\"}},\"name\":\"B\",\"offsetgroup\":\"B\",\"orientation\":\"v\",\"showlegend\":true,\"text\":[1131.0,322.0,556.0,254.0],\"textposition\":\"auto\",\"x\":[\"login\",\"product_cart\",\"product_page\",\"purchase\"],\"xaxis\":\"x\",\"y\":[1131,322,556,254],\"yaxis\":\"y\",\"type\":\"bar\"}],                        {\"template\":{\"data\":{\"bar\":[{\"error_x\":{\"color\":\"#2a3f5f\"},\"error_y\":{\"color\":\"#2a3f5f\"},\"marker\":{\"line\":{\"color\":\"#E5ECF6\",\"width\":0.5},\"pattern\":{\"fillmode\":\"overlay\",\"size\":10,\"solidity\":0.2}},\"type\":\"bar\"}],\"barpolar\":[{\"marker\":{\"line\":{\"color\":\"#E5ECF6\",\"width\":0.5},\"pattern\":{\"fillmode\":\"overlay\",\"size\":10,\"solidity\":0.2}},\"type\":\"barpolar\"}],\"carpet\":[{\"aaxis\":{\"endlinecolor\":\"#2a3f5f\",\"gridcolor\":\"white\",\"linecolor\":\"white\",\"minorgridcolor\":\"white\",\"startlinecolor\":\"#2a3f5f\"},\"baxis\":{\"endlinecolor\":\"#2a3f5f\",\"gridcolor\":\"white\",\"linecolor\":\"white\",\"minorgridcolor\":\"white\",\"startlinecolor\":\"#2a3f5f\"},\"type\":\"carpet\"}],\"choropleth\":[{\"colorbar\":{\"outlinewidth\":0,\"ticks\":\"\"},\"type\":\"choropleth\"}],\"contour\":[{\"colorbar\":{\"outlinewidth\":0,\"ticks\":\"\"},\"colorscale\":[[0.0,\"#0d0887\"],[0.1111111111111111,\"#46039f\"],[0.2222222222222222,\"#7201a8\"],[0.3333333333333333,\"#9c179e\"],[0.4444444444444444,\"#bd3786\"],[0.5555555555555556,\"#d8576b\"],[0.6666666666666666,\"#ed7953\"],[0.7777777777777778,\"#fb9f3a\"],[0.8888888888888888,\"#fdca26\"],[1.0,\"#f0f921\"]],\"type\":\"contour\"}],\"contourcarpet\":[{\"colorbar\":{\"outlinewidth\":0,\"ticks\":\"\"},\"type\":\"contourcarpet\"}],\"heatmap\":[{\"colorbar\":{\"outlinewidth\":0,\"ticks\":\"\"},\"colorscale\":[[0.0,\"#0d0887\"],[0.1111111111111111,\"#46039f\"],[0.2222222222222222,\"#7201a8\"],[0.3333333333333333,\"#9c179e\"],[0.4444444444444444,\"#bd3786\"],[0.5555555555555556,\"#d8576b\"],[0.6666666666666666,\"#ed7953\"],[0.7777777777777778,\"#fb9f3a\"],[0.8888888888888888,\"#fdca26\"],[1.0,\"#f0f921\"]],\"type\":\"heatmap\"}],\"heatmapgl\":[{\"colorbar\":{\"outlinewidth\":0,\"ticks\":\"\"},\"colorscale\":[[0.0,\"#0d0887\"],[0.1111111111111111,\"#46039f\"],[0.2222222222222222,\"#7201a8\"],[0.3333333333333333,\"#9c179e\"],[0.4444444444444444,\"#bd3786\"],[0.5555555555555556,\"#d8576b\"],[0.6666666666666666,\"#ed7953\"],[0.7777777777777778,\"#fb9f3a\"],[0.8888888888888888,\"#fdca26\"],[1.0,\"#f0f921\"]],\"type\":\"heatmapgl\"}],\"histogram\":[{\"marker\":{\"pattern\":{\"fillmode\":\"overlay\",\"size\":10,\"solidity\":0.2}},\"type\":\"histogram\"}],\"histogram2d\":[{\"colorbar\":{\"outlinewidth\":0,\"ticks\":\"\"},\"colorscale\":[[0.0,\"#0d0887\"],[0.1111111111111111,\"#46039f\"],[0.2222222222222222,\"#7201a8\"],[0.3333333333333333,\"#9c179e\"],[0.4444444444444444,\"#bd3786\"],[0.5555555555555556,\"#d8576b\"],[0.6666666666666666,\"#ed7953\"],[0.7777777777777778,\"#fb9f3a\"],[0.8888888888888888,\"#fdca26\"],[1.0,\"#f0f921\"]],\"type\":\"histogram2d\"}],\"histogram2dcontour\":[{\"colorbar\":{\"outlinewidth\":0,\"ticks\":\"\"},\"colorscale\":[[0.0,\"#0d0887\"],[0.1111111111111111,\"#46039f\"],[0.2222222222222222,\"#7201a8\"],[0.3333333333333333,\"#9c179e\"],[0.4444444444444444,\"#bd3786\"],[0.5555555555555556,\"#d8576b\"],[0.6666666666666666,\"#ed7953\"],[0.7777777777777778,\"#fb9f3a\"],[0.8888888888888888,\"#fdca26\"],[1.0,\"#f0f921\"]],\"type\":\"histogram2dcontour\"}],\"mesh3d\":[{\"colorbar\":{\"outlinewidth\":0,\"ticks\":\"\"},\"type\":\"mesh3d\"}],\"parcoords\":[{\"line\":{\"colorbar\":{\"outlinewidth\":0,\"ticks\":\"\"}},\"type\":\"parcoords\"}],\"pie\":[{\"automargin\":true,\"type\":\"pie\"}],\"scatter\":[{\"marker\":{\"colorbar\":{\"outlinewidth\":0,\"ticks\":\"\"}},\"type\":\"scatter\"}],\"scatter3d\":[{\"line\":{\"colorbar\":{\"outlinewidth\":0,\"ticks\":\"\"}},\"marker\":{\"colorbar\":{\"outlinewidth\":0,\"ticks\":\"\"}},\"type\":\"scatter3d\"}],\"scattercarpet\":[{\"marker\":{\"colorbar\":{\"outlinewidth\":0,\"ticks\":\"\"}},\"type\":\"scattercarpet\"}],\"scattergeo\":[{\"marker\":{\"colorbar\":{\"outlinewidth\":0,\"ticks\":\"\"}},\"type\":\"scattergeo\"}],\"scattergl\":[{\"marker\":{\"colorbar\":{\"outlinewidth\":0,\"ticks\":\"\"}},\"type\":\"scattergl\"}],\"scattermapbox\":[{\"marker\":{\"colorbar\":{\"outlinewidth\":0,\"ticks\":\"\"}},\"type\":\"scattermapbox\"}],\"scatterpolar\":[{\"marker\":{\"colorbar\":{\"outlinewidth\":0,\"ticks\":\"\"}},\"type\":\"scatterpolar\"}],\"scatterpolargl\":[{\"marker\":{\"colorbar\":{\"outlinewidth\":0,\"ticks\":\"\"}},\"type\":\"scatterpolargl\"}],\"scatterternary\":[{\"marker\":{\"colorbar\":{\"outlinewidth\":0,\"ticks\":\"\"}},\"type\":\"scatterternary\"}],\"surface\":[{\"colorbar\":{\"outlinewidth\":0,\"ticks\":\"\"},\"colorscale\":[[0.0,\"#0d0887\"],[0.1111111111111111,\"#46039f\"],[0.2222222222222222,\"#7201a8\"],[0.3333333333333333,\"#9c179e\"],[0.4444444444444444,\"#bd3786\"],[0.5555555555555556,\"#d8576b\"],[0.6666666666666666,\"#ed7953\"],[0.7777777777777778,\"#fb9f3a\"],[0.8888888888888888,\"#fdca26\"],[1.0,\"#f0f921\"]],\"type\":\"surface\"}],\"table\":[{\"cells\":{\"fill\":{\"color\":\"#EBF0F8\"},\"line\":{\"color\":\"white\"}},\"header\":{\"fill\":{\"color\":\"#C8D4E3\"},\"line\":{\"color\":\"white\"}},\"type\":\"table\"}]},\"layout\":{\"annotationdefaults\":{\"arrowcolor\":\"#2a3f5f\",\"arrowhead\":0,\"arrowwidth\":1},\"autotypenumbers\":\"strict\",\"coloraxis\":{\"colorbar\":{\"outlinewidth\":0,\"ticks\":\"\"}},\"colorscale\":{\"diverging\":[[0,\"#8e0152\"],[0.1,\"#c51b7d\"],[0.2,\"#de77ae\"],[0.3,\"#f1b6da\"],[0.4,\"#fde0ef\"],[0.5,\"#f7f7f7\"],[0.6,\"#e6f5d0\"],[0.7,\"#b8e186\"],[0.8,\"#7fbc41\"],[0.9,\"#4d9221\"],[1,\"#276419\"]],\"sequential\":[[0.0,\"#0d0887\"],[0.1111111111111111,\"#46039f\"],[0.2222222222222222,\"#7201a8\"],[0.3333333333333333,\"#9c179e\"],[0.4444444444444444,\"#bd3786\"],[0.5555555555555556,\"#d8576b\"],[0.6666666666666666,\"#ed7953\"],[0.7777777777777778,\"#fb9f3a\"],[0.8888888888888888,\"#fdca26\"],[1.0,\"#f0f921\"]],\"sequentialminus\":[[0.0,\"#0d0887\"],[0.1111111111111111,\"#46039f\"],[0.2222222222222222,\"#7201a8\"],[0.3333333333333333,\"#9c179e\"],[0.4444444444444444,\"#bd3786\"],[0.5555555555555556,\"#d8576b\"],[0.6666666666666666,\"#ed7953\"],[0.7777777777777778,\"#fb9f3a\"],[0.8888888888888888,\"#fdca26\"],[1.0,\"#f0f921\"]]},\"colorway\":[\"#636efa\",\"#EF553B\",\"#00cc96\",\"#ab63fa\",\"#FFA15A\",\"#19d3f3\",\"#FF6692\",\"#B6E880\",\"#FF97FF\",\"#FECB52\"],\"font\":{\"color\":\"#2a3f5f\"},\"geo\":{\"bgcolor\":\"white\",\"lakecolor\":\"white\",\"landcolor\":\"#E5ECF6\",\"showlakes\":true,\"showland\":true,\"subunitcolor\":\"white\"},\"hoverlabel\":{\"align\":\"left\"},\"hovermode\":\"closest\",\"mapbox\":{\"style\":\"light\"},\"paper_bgcolor\":\"white\",\"plot_bgcolor\":\"#E5ECF6\",\"polar\":{\"angularaxis\":{\"gridcolor\":\"white\",\"linecolor\":\"white\",\"ticks\":\"\"},\"bgcolor\":\"#E5ECF6\",\"radialaxis\":{\"gridcolor\":\"white\",\"linecolor\":\"white\",\"ticks\":\"\"}},\"scene\":{\"xaxis\":{\"backgroundcolor\":\"#E5ECF6\",\"gridcolor\":\"white\",\"gridwidth\":2,\"linecolor\":\"white\",\"showbackground\":true,\"ticks\":\"\",\"zerolinecolor\":\"white\"},\"yaxis\":{\"backgroundcolor\":\"#E5ECF6\",\"gridcolor\":\"white\",\"gridwidth\":2,\"linecolor\":\"white\",\"showbackground\":true,\"ticks\":\"\",\"zerolinecolor\":\"white\"},\"zaxis\":{\"backgroundcolor\":\"#E5ECF6\",\"gridcolor\":\"white\",\"gridwidth\":2,\"linecolor\":\"white\",\"showbackground\":true,\"ticks\":\"\",\"zerolinecolor\":\"white\"}},\"shapedefaults\":{\"line\":{\"color\":\"#2a3f5f\"}},\"ternary\":{\"aaxis\":{\"gridcolor\":\"white\",\"linecolor\":\"white\",\"ticks\":\"\"},\"baxis\":{\"gridcolor\":\"white\",\"linecolor\":\"white\",\"ticks\":\"\"},\"bgcolor\":\"#E5ECF6\",\"caxis\":{\"gridcolor\":\"white\",\"linecolor\":\"white\",\"ticks\":\"\"}},\"title\":{\"x\":0.05},\"xaxis\":{\"automargin\":true,\"gridcolor\":\"white\",\"linecolor\":\"white\",\"ticks\":\"\",\"title\":{\"standoff\":15},\"zerolinecolor\":\"white\",\"zerolinewidth\":2},\"yaxis\":{\"automargin\":true,\"gridcolor\":\"white\",\"linecolor\":\"white\",\"ticks\":\"\",\"title\":{\"standoff\":15},\"zerolinecolor\":\"white\",\"zerolinewidth\":2}}},\"xaxis\":{\"anchor\":\"y\",\"domain\":[0.0,1.0],\"title\":{\"text\":\"Groups\"}},\"yaxis\":{\"anchor\":\"x\",\"domain\":[0.0,1.0],\"title\":{\"text\":\"Number of events\"}},\"legend\":{\"title\":{\"text\":\"Groups\"},\"tracegroupgap\":0},\"margin\":{\"t\":30,\"l\":0,\"r\":0,\"b\":0},\"barmode\":\"group\",\"title\":{\"text\":\"The number of events by groups\",\"x\":0.5}},                        {\"responsive\": true}                    ).then(function(){\n",
       "                            \n",
       "var gd = document.getElementById('6cdd21c6-7d11-401f-9be8-31cab18220f9');\n",
       "var x = new MutationObserver(function (mutations, observer) {{\n",
       "        var display = window.getComputedStyle(gd).display;\n",
       "        if (!display || display === 'none') {{\n",
       "            console.log([gd, 'removed!']);\n",
       "            Plotly.purge(gd);\n",
       "            observer.disconnect();\n",
       "        }}\n",
       "}});\n",
       "\n",
       "// Listen for the removal of the full notebook cells\n",
       "var notebookContainer = gd.closest('#notebook-container');\n",
       "if (notebookContainer) {{\n",
       "    x.observe(notebookContainer, {childList: true});\n",
       "}}\n",
       "\n",
       "// Listen for the clearing of the current output cell\n",
       "var outputEl = gd.closest('.output');\n",
       "if (outputEl) {{\n",
       "    x.observe(outputEl, {childList: true});\n",
       "}}\n",
       "\n",
       "                        })                };                });            </script>        </div>"
      ]
     },
     "metadata": {},
     "output_type": "display_data"
    },
    {
     "data": {
      "text/html": [
       "<div>\n",
       "<style scoped>\n",
       "    .dataframe tbody tr th:only-of-type {\n",
       "        vertical-align: middle;\n",
       "    }\n",
       "\n",
       "    .dataframe tbody tr th {\n",
       "        vertical-align: top;\n",
       "    }\n",
       "\n",
       "    .dataframe thead th {\n",
       "        text-align: right;\n",
       "    }\n",
       "</style>\n",
       "<table border=\"1\" class=\"dataframe\">\n",
       "  <thead>\n",
       "    <tr style=\"text-align: right;\">\n",
       "      <th></th>\n",
       "      <th>group</th>\n",
       "      <th>event_name</th>\n",
       "      <th>user_id</th>\n",
       "    </tr>\n",
       "  </thead>\n",
       "  <tbody>\n",
       "    <tr>\n",
       "      <th>0</th>\n",
       "      <td>A</td>\n",
       "      <td>login</td>\n",
       "      <td>4245</td>\n",
       "    </tr>\n",
       "    <tr>\n",
       "      <th>1</th>\n",
       "      <td>A</td>\n",
       "      <td>product_cart</td>\n",
       "      <td>1341</td>\n",
       "    </tr>\n",
       "    <tr>\n",
       "      <th>2</th>\n",
       "      <td>A</td>\n",
       "      <td>product_page</td>\n",
       "      <td>2736</td>\n",
       "    </tr>\n",
       "    <tr>\n",
       "      <th>3</th>\n",
       "      <td>A</td>\n",
       "      <td>purchase</td>\n",
       "      <td>1286</td>\n",
       "    </tr>\n",
       "    <tr>\n",
       "      <th>4</th>\n",
       "      <td>B</td>\n",
       "      <td>login</td>\n",
       "      <td>1131</td>\n",
       "    </tr>\n",
       "    <tr>\n",
       "      <th>5</th>\n",
       "      <td>B</td>\n",
       "      <td>product_cart</td>\n",
       "      <td>322</td>\n",
       "    </tr>\n",
       "    <tr>\n",
       "      <th>6</th>\n",
       "      <td>B</td>\n",
       "      <td>product_page</td>\n",
       "      <td>556</td>\n",
       "    </tr>\n",
       "    <tr>\n",
       "      <th>7</th>\n",
       "      <td>B</td>\n",
       "      <td>purchase</td>\n",
       "      <td>254</td>\n",
       "    </tr>\n",
       "  </tbody>\n",
       "</table>\n",
       "</div>"
      ],
      "text/plain": [
       "  group    event_name  user_id\n",
       "0     A         login     4245\n",
       "1     A  product_cart     1341\n",
       "2     A  product_page     2736\n",
       "3     A      purchase     1286\n",
       "4     B         login     1131\n",
       "5     B  product_cart      322\n",
       "6     B  product_page      556\n",
       "7     B      purchase      254"
      ]
     },
     "metadata": {},
     "output_type": "display_data"
    }
   ],
   "source": [
    "spreading = df.pivot_table(index=['group', 'event_name'], values='user_id', \n",
    "                           aggfunc='count').reset_index()\n",
    "\n",
    "fig = px.bar(spreading, \n",
    "             x='event_name', \n",
    "             y='user_id', \n",
    "             color='group', \n",
    "             text='user_id',\n",
    "             barmode='group')\n",
    "fig.update_layout(\n",
    "        title='The number of events by groups',\n",
    "        title_x = 0.5,\n",
    "        xaxis_title='Groups',\n",
    "        yaxis_title='Number of events',\n",
    "        margin=dict(l=0, r=0, t=30, b=0),\n",
    "        legend_title_text='Groups'\n",
    "   )\n",
    "fig.show()\n",
    "\n",
    "display(spreading)"
   ]
  },
  {
   "cell_type": "markdown",
   "metadata": {},
   "source": [
    "В абсолютном выражении разница более выражена, однако и число пользователей в группе А больше более чем в 3 раза. "
   ]
  },
  {
   "cell_type": "markdown",
   "metadata": {},
   "source": [
    "<div class=\"alert alert-block alert-success\">\n",
    "<b>✔️ Комментарий ревьюера:</b> У тебя получились хорошие графики, помогающие визуально оценить разницу между группами\n",
    "</div>"
   ]
  },
  {
   "cell_type": "code",
   "execution_count": 54,
   "metadata": {},
   "outputs": [
    {
     "data": {
      "image/png": "[encoded data removed]",
      "text/plain": [
       "<Figure size 1152x504 with 1 Axes>"
      ]
     },
     "metadata": {},
     "output_type": "display_data"
    },
    {
     "data": {
      "text/html": [
       "<div>\n",
       "<style scoped>\n",
       "    .dataframe tbody tr th:only-of-type {\n",
       "        vertical-align: middle;\n",
       "    }\n",
       "\n",
       "    .dataframe tbody tr th {\n",
       "        vertical-align: top;\n",
       "    }\n",
       "\n",
       "    .dataframe thead th {\n",
       "        text-align: right;\n",
       "    }\n",
       "</style>\n",
       "<table border=\"1\" class=\"dataframe\">\n",
       "  <thead>\n",
       "    <tr style=\"text-align: right;\">\n",
       "      <th></th>\n",
       "      <th>0</th>\n",
       "      <th>1</th>\n",
       "      <th>2</th>\n",
       "      <th>3</th>\n",
       "      <th>4</th>\n",
       "      <th>5</th>\n",
       "      <th>6</th>\n",
       "      <th>7</th>\n",
       "      <th>8</th>\n",
       "      <th>9</th>\n",
       "      <th>10</th>\n",
       "      <th>11</th>\n",
       "      <th>12</th>\n",
       "      <th>13</th>\n",
       "      <th>14</th>\n",
       "      <th>15</th>\n",
       "      <th>16</th>\n",
       "    </tr>\n",
       "  </thead>\n",
       "  <tbody>\n",
       "    <tr>\n",
       "      <th>event_dt</th>\n",
       "      <td>2020-12-08</td>\n",
       "      <td>2020-12-09</td>\n",
       "      <td>2020-12-10</td>\n",
       "      <td>2020-12-11</td>\n",
       "      <td>2020-12-12</td>\n",
       "      <td>2020-12-13</td>\n",
       "      <td>2020-12-14</td>\n",
       "      <td>2020-12-15</td>\n",
       "      <td>2020-12-16</td>\n",
       "      <td>2020-12-17</td>\n",
       "      <td>2020-12-18</td>\n",
       "      <td>2020-12-19</td>\n",
       "      <td>2020-12-20</td>\n",
       "      <td>2020-12-21</td>\n",
       "      <td>2020-12-22</td>\n",
       "      <td>2020-12-23</td>\n",
       "      <td>2020-12-24</td>\n",
       "    </tr>\n",
       "    <tr>\n",
       "      <th>user_id</th>\n",
       "      <td>203</td>\n",
       "      <td>353</td>\n",
       "      <td>311</td>\n",
       "      <td>291</td>\n",
       "      <td>348</td>\n",
       "      <td>274</td>\n",
       "      <td>885</td>\n",
       "      <td>895</td>\n",
       "      <td>970</td>\n",
       "      <td>1026</td>\n",
       "      <td>1077</td>\n",
       "      <td>1288</td>\n",
       "      <td>1315</td>\n",
       "      <td>931</td>\n",
       "      <td>658</td>\n",
       "      <td>552</td>\n",
       "      <td>494</td>\n",
       "    </tr>\n",
       "  </tbody>\n",
       "</table>\n",
       "</div>"
      ],
      "text/plain": [
       "                  0           1           2           3           4   \\\n",
       "event_dt  2020-12-08  2020-12-09  2020-12-10  2020-12-11  2020-12-12   \n",
       "user_id          203         353         311         291         348   \n",
       "\n",
       "                  5           6           7           8           9   \\\n",
       "event_dt  2020-12-13  2020-12-14  2020-12-15  2020-12-16  2020-12-17   \n",
       "user_id          274         885         895         970        1026   \n",
       "\n",
       "                  10          11          12          13          14  \\\n",
       "event_dt  2020-12-18  2020-12-19  2020-12-20  2020-12-21  2020-12-22   \n",
       "user_id         1077        1288        1315         931         658   \n",
       "\n",
       "                  15          16  \n",
       "event_dt  2020-12-23  2020-12-24  \n",
       "user_id          552         494  "
      ]
     },
     "execution_count": 54,
     "metadata": {},
     "output_type": "execute_result"
    }
   ],
   "source": [
    "# распределение по дням\n",
    "\n",
    "df_date = df.copy()\n",
    "df_date['event_dt'] = pd.to_datetime(df_date['event_dt']).dt.date # уберем время\n",
    "\n",
    "days_consolidated = df_date.pivot_table(index='event_dt', values='user_id', aggfunc='count').reset_index()\n",
    "\n",
    "plt.figure(figsize=(16, 7))\n",
    "sns.barplot(data=days_consolidated, x='event_dt', y='user_id')\n",
    "plt.title('The number of events by date', size=14)\n",
    "plt.xlabel('Date')\n",
    "plt.ylabel('Number of events')\n",
    "plt.xticks(rotation=45)\n",
    "plt.show()\n",
    "\n",
    "days_consolidated.T"
   ]
  },
  {
   "cell_type": "markdown",
   "metadata": {},
   "source": [
    "Как видно, наибольшее число событий приходится на 19 и 20 декабря 2020 года - субботу и воскресенье (1288 и 1315 шт. соответственно). По календарю это даты перед рождеством - вероятно пользователи активно выбирали подарки."
   ]
  },
  {
   "cell_type": "markdown",
   "metadata": {},
   "source": [
    "<div class=\"alert alert-block alert-danger\">\n",
    "<b> ❌ Комментарий ревьюера:</b>  Здесь нужно посмотреть динамику по группам\n",
    "</div>"
   ]
  },
  {
   "cell_type": "markdown",
   "metadata": {},
   "source": [
    "<div class=\"alert alert-info\"><b>Комментарий студента:</b> Дополнил</div>"
   ]
  },
  {
   "cell_type": "code",
   "execution_count": 55,
   "metadata": {},
   "outputs": [
    {
     "data": {
      "image/png": "[encoded data removed]",
      "text/plain": [
       "<Figure size 1224x576 with 1 Axes>"
      ]
     },
     "metadata": {},
     "output_type": "display_data"
    },
    {
     "data": {
      "image/png": "[encoded data removed]",
      "text/plain": [
       "<Figure size 1224x504 with 2 Axes>"
      ]
     },
     "metadata": {},
     "output_type": "display_data"
    }
   ],
   "source": [
    "# динамика по группам\n",
    "df_date = df.copy()\n",
    "df_date['event_dt'] = pd.to_datetime(df_date['event_dt']).dt.date # уберем врем\n",
    "days = df_date.pivot_table(index=['event_dt', 'group'], values='user_id', aggfunc='count').reset_index()\n",
    "\n",
    "# сводный график\n",
    "plt.figure(figsize=(17, 8))\n",
    "sns.barplot(data=days, x='event_dt', y='user_id', hue='group')\n",
    "plt.title('The number of events by dates and groups', size=14)\n",
    "plt.xlabel('Date')\n",
    "plt.ylabel('Number of events')\n",
    "plt.legend(title='Group')\n",
    "plt.xticks(rotation=45)\n",
    "plt.show()\n",
    "\n",
    "# отдельные графики\n",
    "fig, ax = plt.subplots(1,2, figsize=(17, 7))\n",
    "fig.suptitle('The distribution of events by dates', size=14)\n",
    "i = 0\n",
    "\n",
    "for group in list(days['group'].unique()):\n",
    "    sns.barplot(data=days[days['group'] == group], x='event_dt', y='user_id', ax=ax[i])\n",
    "    ax[i].set_xlabel('Date')\n",
    "    ax[i].set_ylabel('Number of events')\n",
    "    ax[i].set_xticklabels(days[days['group'] == group]['event_dt'], rotation=90)\n",
    "    ax[i].title.set_text('Group {}'.format(group))\n",
    "    i += 1\n",
    "plt.show()\n",
    "    "
   ]
  },
  {
   "cell_type": "markdown",
   "metadata": {},
   "source": [
    "Как видно, динамика по группам отличается: так, для группы B характерно неожиданное увеличение событий 16 декабря 2020 г. (в среду) а также закономерные увеличения 19 и 20 декабря 2020 года - в субботу и воскресенье перед Рождеством.\n",
    "\n",
    "Кроме того, изначально наблюдается относительно высокое число событий 9 декабря 2020 г, в среду. Спад в последующие дни также более стремителен в сравнении с группой A."
   ]
  },
  {
   "cell_type": "markdown",
   "metadata": {},
   "source": [
    "<div class=\"alert alert-block alert-warning\">\n",
    "<b> ⚠️ Комментарий ревьюера 2:</b> Стоит по-подробнее описать причины, которые могли вызвать резкое увеличение событий группы А\n",
    "</div>"
   ]
  },
  {
   "cell_type": "markdown",
   "metadata": {},
   "source": [
    "<div class=\"alert alert-info\"><b>Комментарий студента 2:</b> Предполагаю, что причины могу быть следующими:</div>"
   ]
  },
  {
   "cell_type": "markdown",
   "metadata": {},
   "source": [
    "Так как в рамках A/B-тестирования проводился анализ улучшенной рекомендательной системы, можно предположить, что в контрольной группе A поведение пользователей было во многом случайным. Так, люди совершали больше действий для того, чтобы определить, что именно они хотели приобрести.\n",
    "\n",
    "В свою очередь, тестовая группа B получала соответствующие их запросам рекомендации, что, вероятно, позволило оптимизировать клиентский путь."
   ]
  },
  {
   "cell_type": "code",
   "execution_count": 56,
   "metadata": {},
   "outputs": [
    {
     "data": {
      "application/vnd.plotly.v1+json": {
       "config": {
        "plotlyServerURL": "https://plot.ly"
       },
       "data": [
        {
         "marker": {
          "color": "#1c1847"
         },
         "text": [
          null,
          "65.1%",
          "48.6%",
          "100.2%"
         ],
         "textposition": "inside",
         "type": "funnel",
         "x": [
          1542,
          1004,
          488,
          489
         ],
         "xaxis": "x",
         "y": [
          "login",
          "product_page",
          "product_cart",
          "purchase"
         ],
         "yaxis": "y"
        },
        {
         "marker": {
          "color": "#ff0000"
         },
         "text": [
          null,
          "52.8%",
          "55.1%",
          "88.2%"
         ],
         "textposition": "inside",
         "type": "funnel",
         "x": [
          468,
          247,
          136,
          120
         ],
         "xaxis": "x2",
         "y": [
          "login",
          "product_page",
          "product_cart",
          "purchase"
         ],
         "yaxis": "y2"
        }
       ],
       "layout": {
        "annotations": [
         {
          "font": {
           "size": 16
          },
          "showarrow": false,
          "text": "Group A",
          "x": 0.225,
          "xanchor": "center",
          "xref": "paper",
          "y": 1,
          "yanchor": "bottom",
          "yref": "paper"
         },
         {
          "font": {
           "size": 16
          },
          "showarrow": false,
          "text": "Group B",
          "x": 0.775,
          "xanchor": "center",
          "xref": "paper",
          "y": 1,
          "yanchor": "bottom",
          "yref": "paper"
         }
        ],
        "showlegend": false,
        "template": {
         "data": {
          "bar": [
           {
            "error_x": {
             "color": "#2a3f5f"
            },
            "error_y": {
             "color": "#2a3f5f"
            },
            "marker": {
             "line": {
              "color": "#E5ECF6",
              "width": 0.5
             },
             "pattern": {
              "fillmode": "overlay",
              "size": 10,
              "solidity": 0.2
             }
            },
            "type": "bar"
           }
          ],
          "barpolar": [
           {
            "marker": {
             "line": {
              "color": "#E5ECF6",
              "width": 0.5
             },
             "pattern": {
              "fillmode": "overlay",
              "size": 10,
              "solidity": 0.2
             }
            },
            "type": "barpolar"
           }
          ],
          "carpet": [
           {
            "aaxis": {
             "endlinecolor": "#2a3f5f",
             "gridcolor": "white",
             "linecolor": "white",
             "minorgridcolor": "white",
             "startlinecolor": "#2a3f5f"
            },
            "baxis": {
             "endlinecolor": "#2a3f5f",
             "gridcolor": "white",
             "linecolor": "white",
             "minorgridcolor": "white",
             "startlinecolor": "#2a3f5f"
            },
            "type": "carpet"
           }
          ],
          "choropleth": [
           {
            "colorbar": {
             "outlinewidth": 0,
             "ticks": ""
            },
            "type": "choropleth"
           }
          ],
          "contour": [
           {
            "colorbar": {
             "outlinewidth": 0,
             "ticks": ""
            },
            "colorscale": [
             [
              0,
              "#0d0887"
             ],
             [
              0.1111111111111111,
              "#46039f"
             ],
             [
              0.2222222222222222,
              "#7201a8"
             ],
             [
              0.3333333333333333,
              "#9c179e"
             ],
             [
              0.4444444444444444,
              "#bd3786"
             ],
             [
              0.5555555555555556,
              "#d8576b"
             ],
             [
              0.6666666666666666,
              "#ed7953"
             ],
             [
              0.7777777777777778,
              "#fb9f3a"
             ],
             [
              0.8888888888888888,
              "#fdca26"
             ],
             [
              1,
              "#f0f921"
             ]
            ],
            "type": "contour"
           }
          ],
          "contourcarpet": [
           {
            "colorbar": {
             "outlinewidth": 0,
             "ticks": ""
            },
            "type": "contourcarpet"
           }
          ],
          "heatmap": [
           {
            "colorbar": {
             "outlinewidth": 0,
             "ticks": ""
            },
            "colorscale": [
             [
              0,
              "#0d0887"
             ],
             [
              0.1111111111111111,
              "#46039f"
             ],
             [
              0.2222222222222222,
              "#7201a8"
             ],
             [
              0.3333333333333333,
              "#9c179e"
             ],
             [
              0.4444444444444444,
              "#bd3786"
             ],
             [
              0.5555555555555556,
              "#d8576b"
             ],
             [
              0.6666666666666666,
              "#ed7953"
             ],
             [
              0.7777777777777778,
              "#fb9f3a"
             ],
             [
              0.8888888888888888,
              "#fdca26"
             ],
             [
              1,
              "#f0f921"
             ]
            ],
            "type": "heatmap"
           }
          ],
          "heatmapgl": [
           {
            "colorbar": {
             "outlinewidth": 0,
             "ticks": ""
            },
            "colorscale": [
             [
              0,
              "#0d0887"
             ],
             [
              0.1111111111111111,
              "#46039f"
             ],
             [
              0.2222222222222222,
              "#7201a8"
             ],
             [
              0.3333333333333333,
              "#9c179e"
             ],
             [
              0.4444444444444444,
              "#bd3786"
             ],
             [
              0.5555555555555556,
              "#d8576b"
             ],
             [
              0.6666666666666666,
              "#ed7953"
             ],
             [
              0.7777777777777778,
              "#fb9f3a"
             ],
             [
              0.8888888888888888,
              "#fdca26"
             ],
             [
              1,
              "#f0f921"
             ]
            ],
            "type": "heatmapgl"
           }
          ],
          "histogram": [
           {
            "marker": {
             "pattern": {
              "fillmode": "overlay",
              "size": 10,
              "solidity": 0.2
             }
            },
            "type": "histogram"
           }
          ],
          "histogram2d": [
           {
            "colorbar": {
             "outlinewidth": 0,
             "ticks": ""
            },
            "colorscale": [
             [
              0,
              "#0d0887"
             ],
             [
              0.1111111111111111,
              "#46039f"
             ],
             [
              0.2222222222222222,
              "#7201a8"
             ],
             [
              0.3333333333333333,
              "#9c179e"
             ],
             [
              0.4444444444444444,
              "#bd3786"
             ],
             [
              0.5555555555555556,
              "#d8576b"
             ],
             [
              0.6666666666666666,
              "#ed7953"
             ],
             [
              0.7777777777777778,
              "#fb9f3a"
             ],
             [
              0.8888888888888888,
              "#fdca26"
             ],
             [
              1,
              "#f0f921"
             ]
            ],
            "type": "histogram2d"
           }
          ],
          "histogram2dcontour": [
           {
            "colorbar": {
             "outlinewidth": 0,
             "ticks": ""
            },
            "colorscale": [
             [
              0,
              "#0d0887"
             ],
             [
              0.1111111111111111,
              "#46039f"
             ],
             [
              0.2222222222222222,
              "#7201a8"
             ],
             [
              0.3333333333333333,
              "#9c179e"
             ],
             [
              0.4444444444444444,
              "#bd3786"
             ],
             [
              0.5555555555555556,
              "#d8576b"
             ],
             [
              0.6666666666666666,
              "#ed7953"
             ],
             [
              0.7777777777777778,
              "#fb9f3a"
             ],
             [
              0.8888888888888888,
              "#fdca26"
             ],
             [
              1,
              "#f0f921"
             ]
            ],
            "type": "histogram2dcontour"
           }
          ],
          "mesh3d": [
           {
            "colorbar": {
             "outlinewidth": 0,
             "ticks": ""
            },
            "type": "mesh3d"
           }
          ],
          "parcoords": [
           {
            "line": {
             "colorbar": {
              "outlinewidth": 0,
              "ticks": ""
             }
            },
            "type": "parcoords"
           }
          ],
          "pie": [
           {
            "automargin": true,
            "type": "pie"
           }
          ],
          "scatter": [
           {
            "marker": {
             "colorbar": {
              "outlinewidth": 0,
              "ticks": ""
             }
            },
            "type": "scatter"
           }
          ],
          "scatter3d": [
           {
            "line": {
             "colorbar": {
              "outlinewidth": 0,
              "ticks": ""
             }
            },
            "marker": {
             "colorbar": {
              "outlinewidth": 0,
              "ticks": ""
             }
            },
            "type": "scatter3d"
           }
          ],
          "scattercarpet": [
           {
            "marker": {
             "colorbar": {
              "outlinewidth": 0,
              "ticks": ""
             }
            },
            "type": "scattercarpet"
           }
          ],
          "scattergeo": [
           {
            "marker": {
             "colorbar": {
              "outlinewidth": 0,
              "ticks": ""
             }
            },
            "type": "scattergeo"
           }
          ],
          "scattergl": [
           {
            "marker": {
             "colorbar": {
              "outlinewidth": 0,
              "ticks": ""
             }
            },
            "type": "scattergl"
           }
          ],
          "scattermapbox": [
           {
            "marker": {
             "colorbar": {
              "outlinewidth": 0,
              "ticks": ""
             }
            },
            "type": "scattermapbox"
           }
          ],
          "scatterpolar": [
           {
            "marker": {
             "colorbar": {
              "outlinewidth": 0,
              "ticks": ""
             }
            },
            "type": "scatterpolar"
           }
          ],
          "scatterpolargl": [
           {
            "marker": {
             "colorbar": {
              "outlinewidth": 0,
              "ticks": ""
             }
            },
            "type": "scatterpolargl"
           }
          ],
          "scatterternary": [
           {
            "marker": {
             "colorbar": {
              "outlinewidth": 0,
              "ticks": ""
             }
            },
            "type": "scatterternary"
           }
          ],
          "surface": [
           {
            "colorbar": {
             "outlinewidth": 0,
             "ticks": ""
            },
            "colorscale": [
             [
              0,
              "#0d0887"
             ],
             [
              0.1111111111111111,
              "#46039f"
             ],
             [
              0.2222222222222222,
              "#7201a8"
             ],
             [
              0.3333333333333333,
              "#9c179e"
             ],
             [
              0.4444444444444444,
              "#bd3786"
             ],
             [
              0.5555555555555556,
              "#d8576b"
             ],
             [
              0.6666666666666666,
              "#ed7953"
             ],
             [
              0.7777777777777778,
              "#fb9f3a"
             ],
             [
              0.8888888888888888,
              "#fdca26"
             ],
             [
              1,
              "#f0f921"
             ]
            ],
            "type": "surface"
           }
          ],
          "table": [
           {
            "cells": {
             "fill": {
              "color": "#EBF0F8"
             },
             "line": {
              "color": "white"
             }
            },
            "header": {
             "fill": {
              "color": "#C8D4E3"
             },
             "line": {
              "color": "white"
             }
            },
            "type": "table"
           }
          ]
         },
         "layout": {
          "annotationdefaults": {
           "arrowcolor": "#2a3f5f",
           "arrowhead": 0,
           "arrowwidth": 1
          },
          "autotypenumbers": "strict",
          "coloraxis": {
           "colorbar": {
            "outlinewidth": 0,
            "ticks": ""
           }
          },
          "colorscale": {
           "diverging": [
            [
             0,
             "#8e0152"
            ],
            [
             0.1,
             "#c51b7d"
            ],
            [
             0.2,
             "#de77ae"
            ],
            [
             0.3,
             "#f1b6da"
            ],
            [
             0.4,
             "#fde0ef"
            ],
            [
             0.5,
             "#f7f7f7"
            ],
            [
             0.6,
             "#e6f5d0"
            ],
            [
             0.7,
             "#b8e186"
            ],
            [
             0.8,
             "#7fbc41"
            ],
            [
             0.9,
             "#4d9221"
            ],
            [
             1,
             "#276419"
            ]
           ],
           "sequential": [
            [
             0,
             "#0d0887"
            ],
            [
             0.1111111111111111,
             "#46039f"
            ],
            [
             0.2222222222222222,
             "#7201a8"
            ],
            [
             0.3333333333333333,
             "#9c179e"
            ],
            [
             0.4444444444444444,
             "#bd3786"
            ],
            [
             0.5555555555555556,
             "#d8576b"
            ],
            [
             0.6666666666666666,
             "#ed7953"
            ],
            [
             0.7777777777777778,
             "#fb9f3a"
            ],
            [
             0.8888888888888888,
             "#fdca26"
            ],
            [
             1,
             "#f0f921"
            ]
           ],
           "sequentialminus": [
            [
             0,
             "#0d0887"
            ],
            [
             0.1111111111111111,
             "#46039f"
            ],
            [
             0.2222222222222222,
             "#7201a8"
            ],
            [
             0.3333333333333333,
             "#9c179e"
            ],
            [
             0.4444444444444444,
             "#bd3786"
            ],
            [
             0.5555555555555556,
             "#d8576b"
            ],
            [
             0.6666666666666666,
             "#ed7953"
            ],
            [
             0.7777777777777778,
             "#fb9f3a"
            ],
            [
             0.8888888888888888,
             "#fdca26"
            ],
            [
             1,
             "#f0f921"
            ]
           ]
          },
          "colorway": [
           "#636efa",
           "#EF553B",
           "#00cc96",
           "#ab63fa",
           "#FFA15A",
           "#19d3f3",
           "#FF6692",
           "#B6E880",
           "#FF97FF",
           "#FECB52"
          ],
          "font": {
           "color": "#2a3f5f"
          },
          "geo": {
           "bgcolor": "white",
           "lakecolor": "white",
           "landcolor": "#E5ECF6",
           "showlakes": true,
           "showland": true,
           "subunitcolor": "white"
          },
          "hoverlabel": {
           "align": "left"
          },
          "hovermode": "closest",
          "mapbox": {
           "style": "light"
          },
          "paper_bgcolor": "white",
          "plot_bgcolor": "#E5ECF6",
          "polar": {
           "angularaxis": {
            "gridcolor": "white",
            "linecolor": "white",
            "ticks": ""
           },
           "bgcolor": "#E5ECF6",
           "radialaxis": {
            "gridcolor": "white",
            "linecolor": "white",
            "ticks": ""
           }
          },
          "scene": {
           "xaxis": {
            "backgroundcolor": "#E5ECF6",
            "gridcolor": "white",
            "gridwidth": 2,
            "linecolor": "white",
            "showbackground": true,
            "ticks": "",
            "zerolinecolor": "white"
           },
           "yaxis": {
            "backgroundcolor": "#E5ECF6",
            "gridcolor": "white",
            "gridwidth": 2,
            "linecolor": "white",
            "showbackground": true,
            "ticks": "",
            "zerolinecolor": "white"
           },
           "zaxis": {
            "backgroundcolor": "#E5ECF6",
            "gridcolor": "white",
            "gridwidth": 2,
            "linecolor": "white",
            "showbackground": true,
            "ticks": "",
            "zerolinecolor": "white"
           }
          },
          "shapedefaults": {
           "line": {
            "color": "#2a3f5f"
           }
          },
          "ternary": {
           "aaxis": {
            "gridcolor": "white",
            "linecolor": "white",
            "ticks": ""
           },
           "baxis": {
            "gridcolor": "white",
            "linecolor": "white",
            "ticks": ""
           },
           "bgcolor": "#E5ECF6",
           "caxis": {
            "gridcolor": "white",
            "linecolor": "white",
            "ticks": ""
           }
          },
          "title": {
           "x": 0.05
          },
          "xaxis": {
           "automargin": true,
           "gridcolor": "white",
           "linecolor": "white",
           "ticks": "",
           "title": {
            "standoff": 15
           },
           "zerolinecolor": "white",
           "zerolinewidth": 2
          },
          "yaxis": {
           "automargin": true,
           "gridcolor": "white",
           "linecolor": "white",
           "ticks": "",
           "title": {
            "standoff": 15
           },
           "zerolinecolor": "white",
           "zerolinewidth": 2
          }
         }
        },
        "title": {
         "text": "Group funnels",
         "x": 0.5
        },
        "xaxis": {
         "anchor": "y",
         "domain": [
          0,
          0.45
         ]
        },
        "xaxis2": {
         "anchor": "y2",
         "domain": [
          0.55,
          1
         ]
        },
        "yaxis": {
         "anchor": "x",
         "domain": [
          0,
          1
         ]
        },
        "yaxis2": {
         "anchor": "x2",
         "domain": [
          0,
          1
         ]
        }
       }
      },
      "text/html": [
       "<div>                            <div id=\"3f75824a-02dc-4ce4-a663-3c37047865c3\" class=\"plotly-graph-div\" style=\"height:525px; width:100%;\"></div>            <script type=\"text/javascript\">                require([\"plotly\"], function(Plotly) {                    window.PLOTLYENV=window.PLOTLYENV || {};                                    if (document.getElementById(\"3f75824a-02dc-4ce4-a663-3c37047865c3\")) {                    Plotly.newPlot(                        \"3f75824a-02dc-4ce4-a663-3c37047865c3\",                        [{\"marker\":{\"color\":\"#1c1847\"},\"text\":[null,\"65.1%\",\"48.6%\",\"100.2%\"],\"textposition\":\"inside\",\"x\":[1542,1004,488,489],\"y\":[\"login\",\"product_page\",\"product_cart\",\"purchase\"],\"type\":\"funnel\",\"xaxis\":\"x\",\"yaxis\":\"y\"},{\"marker\":{\"color\":\"#ff0000\"},\"text\":[null,\"52.8%\",\"55.1%\",\"88.2%\"],\"textposition\":\"inside\",\"x\":[468,247,136,120],\"y\":[\"login\",\"product_page\",\"product_cart\",\"purchase\"],\"type\":\"funnel\",\"xaxis\":\"x2\",\"yaxis\":\"y2\"}],                        {\"template\":{\"data\":{\"bar\":[{\"error_x\":{\"color\":\"#2a3f5f\"},\"error_y\":{\"color\":\"#2a3f5f\"},\"marker\":{\"line\":{\"color\":\"#E5ECF6\",\"width\":0.5},\"pattern\":{\"fillmode\":\"overlay\",\"size\":10,\"solidity\":0.2}},\"type\":\"bar\"}],\"barpolar\":[{\"marker\":{\"line\":{\"color\":\"#E5ECF6\",\"width\":0.5},\"pattern\":{\"fillmode\":\"overlay\",\"size\":10,\"solidity\":0.2}},\"type\":\"barpolar\"}],\"carpet\":[{\"aaxis\":{\"endlinecolor\":\"#2a3f5f\",\"gridcolor\":\"white\",\"linecolor\":\"white\",\"minorgridcolor\":\"white\",\"startlinecolor\":\"#2a3f5f\"},\"baxis\":{\"endlinecolor\":\"#2a3f5f\",\"gridcolor\":\"white\",\"linecolor\":\"white\",\"minorgridcolor\":\"white\",\"startlinecolor\":\"#2a3f5f\"},\"type\":\"carpet\"}],\"choropleth\":[{\"colorbar\":{\"outlinewidth\":0,\"ticks\":\"\"},\"type\":\"choropleth\"}],\"contour\":[{\"colorbar\":{\"outlinewidth\":0,\"ticks\":\"\"},\"colorscale\":[[0.0,\"#0d0887\"],[0.1111111111111111,\"#46039f\"],[0.2222222222222222,\"#7201a8\"],[0.3333333333333333,\"#9c179e\"],[0.4444444444444444,\"#bd3786\"],[0.5555555555555556,\"#d8576b\"],[0.6666666666666666,\"#ed7953\"],[0.7777777777777778,\"#fb9f3a\"],[0.8888888888888888,\"#fdca26\"],[1.0,\"#f0f921\"]],\"type\":\"contour\"}],\"contourcarpet\":[{\"colorbar\":{\"outlinewidth\":0,\"ticks\":\"\"},\"type\":\"contourcarpet\"}],\"heatmap\":[{\"colorbar\":{\"outlinewidth\":0,\"ticks\":\"\"},\"colorscale\":[[0.0,\"#0d0887\"],[0.1111111111111111,\"#46039f\"],[0.2222222222222222,\"#7201a8\"],[0.3333333333333333,\"#9c179e\"],[0.4444444444444444,\"#bd3786\"],[0.5555555555555556,\"#d8576b\"],[0.6666666666666666,\"#ed7953\"],[0.7777777777777778,\"#fb9f3a\"],[0.8888888888888888,\"#fdca26\"],[1.0,\"#f0f921\"]],\"type\":\"heatmap\"}],\"heatmapgl\":[{\"colorbar\":{\"outlinewidth\":0,\"ticks\":\"\"},\"colorscale\":[[0.0,\"#0d0887\"],[0.1111111111111111,\"#46039f\"],[0.2222222222222222,\"#7201a8\"],[0.3333333333333333,\"#9c179e\"],[0.4444444444444444,\"#bd3786\"],[0.5555555555555556,\"#d8576b\"],[0.6666666666666666,\"#ed7953\"],[0.7777777777777778,\"#fb9f3a\"],[0.8888888888888888,\"#fdca26\"],[1.0,\"#f0f921\"]],\"type\":\"heatmapgl\"}],\"histogram\":[{\"marker\":{\"pattern\":{\"fillmode\":\"overlay\",\"size\":10,\"solidity\":0.2}},\"type\":\"histogram\"}],\"histogram2d\":[{\"colorbar\":{\"outlinewidth\":0,\"ticks\":\"\"},\"colorscale\":[[0.0,\"#0d0887\"],[0.1111111111111111,\"#46039f\"],[0.2222222222222222,\"#7201a8\"],[0.3333333333333333,\"#9c179e\"],[0.4444444444444444,\"#bd3786\"],[0.5555555555555556,\"#d8576b\"],[0.6666666666666666,\"#ed7953\"],[0.7777777777777778,\"#fb9f3a\"],[0.8888888888888888,\"#fdca26\"],[1.0,\"#f0f921\"]],\"type\":\"histogram2d\"}],\"histogram2dcontour\":[{\"colorbar\":{\"outlinewidth\":0,\"ticks\":\"\"},\"colorscale\":[[0.0,\"#0d0887\"],[0.1111111111111111,\"#46039f\"],[0.2222222222222222,\"#7201a8\"],[0.3333333333333333,\"#9c179e\"],[0.4444444444444444,\"#bd3786\"],[0.5555555555555556,\"#d8576b\"],[0.6666666666666666,\"#ed7953\"],[0.7777777777777778,\"#fb9f3a\"],[0.8888888888888888,\"#fdca26\"],[1.0,\"#f0f921\"]],\"type\":\"histogram2dcontour\"}],\"mesh3d\":[{\"colorbar\":{\"outlinewidth\":0,\"ticks\":\"\"},\"type\":\"mesh3d\"}],\"parcoords\":[{\"line\":{\"colorbar\":{\"outlinewidth\":0,\"ticks\":\"\"}},\"type\":\"parcoords\"}],\"pie\":[{\"automargin\":true,\"type\":\"pie\"}],\"scatter\":[{\"marker\":{\"colorbar\":{\"outlinewidth\":0,\"ticks\":\"\"}},\"type\":\"scatter\"}],\"scatter3d\":[{\"line\":{\"colorbar\":{\"outlinewidth\":0,\"ticks\":\"\"}},\"marker\":{\"colorbar\":{\"outlinewidth\":0,\"ticks\":\"\"}},\"type\":\"scatter3d\"}],\"scattercarpet\":[{\"marker\":{\"colorbar\":{\"outlinewidth\":0,\"ticks\":\"\"}},\"type\":\"scattercarpet\"}],\"scattergeo\":[{\"marker\":{\"colorbar\":{\"outlinewidth\":0,\"ticks\":\"\"}},\"type\":\"scattergeo\"}],\"scattergl\":[{\"marker\":{\"colorbar\":{\"outlinewidth\":0,\"ticks\":\"\"}},\"type\":\"scattergl\"}],\"scattermapbox\":[{\"marker\":{\"colorbar\":{\"outlinewidth\":0,\"ticks\":\"\"}},\"type\":\"scattermapbox\"}],\"scatterpolar\":[{\"marker\":{\"colorbar\":{\"outlinewidth\":0,\"ticks\":\"\"}},\"type\":\"scatterpolar\"}],\"scatterpolargl\":[{\"marker\":{\"colorbar\":{\"outlinewidth\":0,\"ticks\":\"\"}},\"type\":\"scatterpolargl\"}],\"scatterternary\":[{\"marker\":{\"colorbar\":{\"outlinewidth\":0,\"ticks\":\"\"}},\"type\":\"scatterternary\"}],\"surface\":[{\"colorbar\":{\"outlinewidth\":0,\"ticks\":\"\"},\"colorscale\":[[0.0,\"#0d0887\"],[0.1111111111111111,\"#46039f\"],[0.2222222222222222,\"#7201a8\"],[0.3333333333333333,\"#9c179e\"],[0.4444444444444444,\"#bd3786\"],[0.5555555555555556,\"#d8576b\"],[0.6666666666666666,\"#ed7953\"],[0.7777777777777778,\"#fb9f3a\"],[0.8888888888888888,\"#fdca26\"],[1.0,\"#f0f921\"]],\"type\":\"surface\"}],\"table\":[{\"cells\":{\"fill\":{\"color\":\"#EBF0F8\"},\"line\":{\"color\":\"white\"}},\"header\":{\"fill\":{\"color\":\"#C8D4E3\"},\"line\":{\"color\":\"white\"}},\"type\":\"table\"}]},\"layout\":{\"annotationdefaults\":{\"arrowcolor\":\"#2a3f5f\",\"arrowhead\":0,\"arrowwidth\":1},\"autotypenumbers\":\"strict\",\"coloraxis\":{\"colorbar\":{\"outlinewidth\":0,\"ticks\":\"\"}},\"colorscale\":{\"diverging\":[[0,\"#8e0152\"],[0.1,\"#c51b7d\"],[0.2,\"#de77ae\"],[0.3,\"#f1b6da\"],[0.4,\"#fde0ef\"],[0.5,\"#f7f7f7\"],[0.6,\"#e6f5d0\"],[0.7,\"#b8e186\"],[0.8,\"#7fbc41\"],[0.9,\"#4d9221\"],[1,\"#276419\"]],\"sequential\":[[0.0,\"#0d0887\"],[0.1111111111111111,\"#46039f\"],[0.2222222222222222,\"#7201a8\"],[0.3333333333333333,\"#9c179e\"],[0.4444444444444444,\"#bd3786\"],[0.5555555555555556,\"#d8576b\"],[0.6666666666666666,\"#ed7953\"],[0.7777777777777778,\"#fb9f3a\"],[0.8888888888888888,\"#fdca26\"],[1.0,\"#f0f921\"]],\"sequentialminus\":[[0.0,\"#0d0887\"],[0.1111111111111111,\"#46039f\"],[0.2222222222222222,\"#7201a8\"],[0.3333333333333333,\"#9c179e\"],[0.4444444444444444,\"#bd3786\"],[0.5555555555555556,\"#d8576b\"],[0.6666666666666666,\"#ed7953\"],[0.7777777777777778,\"#fb9f3a\"],[0.8888888888888888,\"#fdca26\"],[1.0,\"#f0f921\"]]},\"colorway\":[\"#636efa\",\"#EF553B\",\"#00cc96\",\"#ab63fa\",\"#FFA15A\",\"#19d3f3\",\"#FF6692\",\"#B6E880\",\"#FF97FF\",\"#FECB52\"],\"font\":{\"color\":\"#2a3f5f\"},\"geo\":{\"bgcolor\":\"white\",\"lakecolor\":\"white\",\"landcolor\":\"#E5ECF6\",\"showlakes\":true,\"showland\":true,\"subunitcolor\":\"white\"},\"hoverlabel\":{\"align\":\"left\"},\"hovermode\":\"closest\",\"mapbox\":{\"style\":\"light\"},\"paper_bgcolor\":\"white\",\"plot_bgcolor\":\"#E5ECF6\",\"polar\":{\"angularaxis\":{\"gridcolor\":\"white\",\"linecolor\":\"white\",\"ticks\":\"\"},\"bgcolor\":\"#E5ECF6\",\"radialaxis\":{\"gridcolor\":\"white\",\"linecolor\":\"white\",\"ticks\":\"\"}},\"scene\":{\"xaxis\":{\"backgroundcolor\":\"#E5ECF6\",\"gridcolor\":\"white\",\"gridwidth\":2,\"linecolor\":\"white\",\"showbackground\":true,\"ticks\":\"\",\"zerolinecolor\":\"white\"},\"yaxis\":{\"backgroundcolor\":\"#E5ECF6\",\"gridcolor\":\"white\",\"gridwidth\":2,\"linecolor\":\"white\",\"showbackground\":true,\"ticks\":\"\",\"zerolinecolor\":\"white\"},\"zaxis\":{\"backgroundcolor\":\"#E5ECF6\",\"gridcolor\":\"white\",\"gridwidth\":2,\"linecolor\":\"white\",\"showbackground\":true,\"ticks\":\"\",\"zerolinecolor\":\"white\"}},\"shapedefaults\":{\"line\":{\"color\":\"#2a3f5f\"}},\"ternary\":{\"aaxis\":{\"gridcolor\":\"white\",\"linecolor\":\"white\",\"ticks\":\"\"},\"baxis\":{\"gridcolor\":\"white\",\"linecolor\":\"white\",\"ticks\":\"\"},\"bgcolor\":\"#E5ECF6\",\"caxis\":{\"gridcolor\":\"white\",\"linecolor\":\"white\",\"ticks\":\"\"}},\"title\":{\"x\":0.05},\"xaxis\":{\"automargin\":true,\"gridcolor\":\"white\",\"linecolor\":\"white\",\"ticks\":\"\",\"title\":{\"standoff\":15},\"zerolinecolor\":\"white\",\"zerolinewidth\":2},\"yaxis\":{\"automargin\":true,\"gridcolor\":\"white\",\"linecolor\":\"white\",\"ticks\":\"\",\"title\":{\"standoff\":15},\"zerolinecolor\":\"white\",\"zerolinewidth\":2}}},\"xaxis\":{\"anchor\":\"y\",\"domain\":[0.0,0.45]},\"yaxis\":{\"anchor\":\"x\",\"domain\":[0.0,1.0]},\"xaxis2\":{\"anchor\":\"y2\",\"domain\":[0.55,1.0]},\"yaxis2\":{\"anchor\":\"x2\",\"domain\":[0.0,1.0]},\"annotations\":[{\"font\":{\"size\":16},\"showarrow\":false,\"text\":\"Group A\",\"x\":0.225,\"xanchor\":\"center\",\"xref\":\"paper\",\"y\":1.0,\"yanchor\":\"bottom\",\"yref\":\"paper\"},{\"font\":{\"size\":16},\"showarrow\":false,\"text\":\"Group B\",\"x\":0.775,\"xanchor\":\"center\",\"xref\":\"paper\",\"y\":1.0,\"yanchor\":\"bottom\",\"yref\":\"paper\"}],\"title\":{\"text\":\"Group funnels\",\"x\":0.5},\"showlegend\":false},                        {\"responsive\": true}                    ).then(function(){\n",
       "                            \n",
       "var gd = document.getElementById('3f75824a-02dc-4ce4-a663-3c37047865c3');\n",
       "var x = new MutationObserver(function (mutations, observer) {{\n",
       "        var display = window.getComputedStyle(gd).display;\n",
       "        if (!display || display === 'none') {{\n",
       "            console.log([gd, 'removed!']);\n",
       "            Plotly.purge(gd);\n",
       "            observer.disconnect();\n",
       "        }}\n",
       "}});\n",
       "\n",
       "// Listen for the removal of the full notebook cells\n",
       "var notebookContainer = gd.closest('#notebook-container');\n",
       "if (notebookContainer) {{\n",
       "    x.observe(notebookContainer, {childList: true});\n",
       "}}\n",
       "\n",
       "// Listen for the clearing of the current output cell\n",
       "var outputEl = gd.closest('.output');\n",
       "if (outputEl) {{\n",
       "    x.observe(outputEl, {childList: true});\n",
       "}}\n",
       "\n",
       "                        })                };                });            </script>        </div>"
      ]
     },
     "metadata": {},
     "output_type": "display_data"
    },
    {
     "data": {
      "text/html": [
       "<div>\n",
       "<style scoped>\n",
       "    .dataframe tbody tr th:only-of-type {\n",
       "        vertical-align: middle;\n",
       "    }\n",
       "\n",
       "    .dataframe tbody tr th {\n",
       "        vertical-align: top;\n",
       "    }\n",
       "\n",
       "    .dataframe thead th {\n",
       "        text-align: right;\n",
       "    }\n",
       "</style>\n",
       "<table border=\"1\" class=\"dataframe\">\n",
       "  <thead>\n",
       "    <tr style=\"text-align: right;\">\n",
       "      <th></th>\n",
       "      <th>event_name</th>\n",
       "      <th>user_id</th>\n",
       "      <th>previous_stage</th>\n",
       "      <th>user_loss</th>\n",
       "    </tr>\n",
       "  </thead>\n",
       "  <tbody>\n",
       "    <tr>\n",
       "      <th>0</th>\n",
       "      <td>login</td>\n",
       "      <td>1542</td>\n",
       "      <td>NaN</td>\n",
       "      <td>NaN</td>\n",
       "    </tr>\n",
       "    <tr>\n",
       "      <th>2</th>\n",
       "      <td>product_page</td>\n",
       "      <td>1004</td>\n",
       "      <td>65.1%</td>\n",
       "      <td>34.9</td>\n",
       "    </tr>\n",
       "    <tr>\n",
       "      <th>1</th>\n",
       "      <td>product_cart</td>\n",
       "      <td>488</td>\n",
       "      <td>48.6%</td>\n",
       "      <td>51.4</td>\n",
       "    </tr>\n",
       "    <tr>\n",
       "      <th>3</th>\n",
       "      <td>purchase</td>\n",
       "      <td>489</td>\n",
       "      <td>100.2%</td>\n",
       "      <td>-0.2</td>\n",
       "    </tr>\n",
       "  </tbody>\n",
       "</table>\n",
       "</div>"
      ],
      "text/plain": [
       "     event_name  user_id previous_stage  user_loss\n",
       "0         login     1542            NaN        NaN\n",
       "2  product_page     1004          65.1%       34.9\n",
       "1  product_cart      488          48.6%       51.4\n",
       "3      purchase      489         100.2%       -0.2"
      ]
     },
     "metadata": {},
     "output_type": "display_data"
    },
    {
     "data": {
      "text/html": [
       "<div>\n",
       "<style scoped>\n",
       "    .dataframe tbody tr th:only-of-type {\n",
       "        vertical-align: middle;\n",
       "    }\n",
       "\n",
       "    .dataframe tbody tr th {\n",
       "        vertical-align: top;\n",
       "    }\n",
       "\n",
       "    .dataframe thead th {\n",
       "        text-align: right;\n",
       "    }\n",
       "</style>\n",
       "<table border=\"1\" class=\"dataframe\">\n",
       "  <thead>\n",
       "    <tr style=\"text-align: right;\">\n",
       "      <th></th>\n",
       "      <th>event_name</th>\n",
       "      <th>user_id</th>\n",
       "      <th>previous_stage</th>\n",
       "      <th>user_loss</th>\n",
       "    </tr>\n",
       "  </thead>\n",
       "  <tbody>\n",
       "    <tr>\n",
       "      <th>0</th>\n",
       "      <td>login</td>\n",
       "      <td>468</td>\n",
       "      <td>NaN</td>\n",
       "      <td>NaN</td>\n",
       "    </tr>\n",
       "    <tr>\n",
       "      <th>2</th>\n",
       "      <td>product_page</td>\n",
       "      <td>247</td>\n",
       "      <td>52.8%</td>\n",
       "      <td>47.2</td>\n",
       "    </tr>\n",
       "    <tr>\n",
       "      <th>1</th>\n",
       "      <td>product_cart</td>\n",
       "      <td>136</td>\n",
       "      <td>55.1%</td>\n",
       "      <td>44.9</td>\n",
       "    </tr>\n",
       "    <tr>\n",
       "      <th>3</th>\n",
       "      <td>purchase</td>\n",
       "      <td>120</td>\n",
       "      <td>88.2%</td>\n",
       "      <td>11.8</td>\n",
       "    </tr>\n",
       "  </tbody>\n",
       "</table>\n",
       "</div>"
      ],
      "text/plain": [
       "     event_name  user_id previous_stage  user_loss\n",
       "0         login      468            NaN        NaN\n",
       "2  product_page      247          52.8%       47.2\n",
       "1  product_cart      136          55.1%       44.9\n",
       "3      purchase      120          88.2%       11.8"
      ]
     },
     "metadata": {},
     "output_type": "display_data"
    }
   ],
   "source": [
    "# воронки\n",
    "funnel_a = df[df['group'] == 'A'].pivot_table(index='event_name', values='user_id', \n",
    "                           aggfunc='nunique').reset_index()\n",
    "funnel_a = funnel_a.reindex([0,2,1,3])\n",
    "funnel_a = funnel_a.assign(previous_stage = lambda x: x['user_id'] / x['user_id'].shift() * 100).round(1) # доля предыдущего этапа\n",
    "funnel_a = funnel_a.assign(user_loss = lambda x: (1 - x['user_id'] / x['user_id'].shift()) * 100).round(1) # потери\n",
    "funnel_a['previous_stage'] = funnel_a['previous_stage'][funnel_a['previous_stage'].notna()].astype(str) + '%'\n",
    "\n",
    "\n",
    "funnel_b = df[df['group'] == 'B'].pivot_table(index='event_name', values='user_id', \n",
    "                           aggfunc='nunique').reset_index()\n",
    "funnel_b = funnel_b.reindex([0,2,1,3])\n",
    "funnel_b = funnel_b.assign(previous_stage = lambda x: x['user_id'] / x['user_id'].shift() * 100).round(1) # доля предыдущего этапа\n",
    "funnel_b = funnel_b.assign(user_loss = lambda x: (1 - x['user_id'] / x['user_id'].shift()) * 100).round(1) # потери\n",
    "funnel_b['previous_stage'] = funnel_b['previous_stage'][funnel_b['previous_stage'].notna()].astype(str) + '%'\n",
    "\n",
    "\n",
    "fig = make_subplots(rows=1, cols=2, subplot_titles=('Group A', 'Group B'))\n",
    "\n",
    "fig.add_trace(\n",
    "    go.Funnel(\n",
    "    y = funnel_a['event_name'],\n",
    "    x = funnel_a['user_id'],\n",
    "    textposition = 'inside',\n",
    "    text = funnel_a['previous_stage'],\n",
    "    marker = {'color': '#1c1847'}),\n",
    "    row=1, col=1)\n",
    "\n",
    "fig.add_trace(\n",
    "    go.Funnel(\n",
    "    y = funnel_b['event_name'],\n",
    "    x = funnel_b['user_id'],\n",
    "    textposition = 'inside',\n",
    "    text = funnel_b['previous_stage'],\n",
    "    marker = {'color': '#ff0000'}),\n",
    "    row=1, col=2)\n",
    "\n",
    "fig.update_layout(showlegend=False,\n",
    "                 title='Group funnels',\n",
    "                 title_x = 0.5)\n",
    "fig.show()\n",
    "\n",
    "display(funnel_a)\n",
    "display(funnel_b)"
   ]
  },
  {
   "cell_type": "markdown",
   "metadata": {},
   "source": [
    "Конверсия для групп отличается не столь значительно, однако требуется статистическая проверка данной гипотезы."
   ]
  },
  {
   "cell_type": "markdown",
   "metadata": {},
   "source": [
    "**При этом из особенностей при проведении A/B-тестирования нужно учесть, что контрольная группа более чем в 3 раза больше тестовой.**"
   ]
  },
  {
   "cell_type": "markdown",
   "metadata": {},
   "source": [
    "<div class=\"alert alert-block alert-danger\">\n",
    "<b> ❌ Комментарий ревьюера:</b> Мы изучаем путь пользователя, а не количество совершенных событий, поэтому следует посчитать воронку через количество уникальных пользователей на каждом этапе\n",
    "</div>"
   ]
  },
  {
   "cell_type": "markdown",
   "metadata": {},
   "source": [
    "<div class=\"alert alert-info\"><b>Комментарий студента:</b> Воронки переработал</div>"
   ]
  },
  {
   "cell_type": "markdown",
   "metadata": {},
   "source": [
    "<div class=\"alert alert-block alert-success\">\n",
    "<b>✔️ Комментарий ревьюера 2:</b> Воронки построены верно\n",
    "</div>"
   ]
  },
  {
   "cell_type": "markdown",
   "metadata": {},
   "source": [
    "**Промежуточные выводы**\n",
    "\n",
    "Мы провели исследовательский анализ данных. Удалось установить следующее:\n",
    "\n",
    "- в группе А пользователей больше почти в 3,3 раза;\n",
    " \n",
    "- разница по среднему количеству событий на пользователя не столько сущенственна: 6,3 для группы А и 4,9 для группы B;\n",
    " \n",
    "- наибольшее число событий приходится на 19 и 20 декабря 2020 года - субботу и воскресенье (1288 шт. и 1315 шт. соответственно);\n",
    " \n",
    "- для группы B характерно неожиданное увеличение событий 16 декабря 2020 г. (в среду), и спад в последующие дни также более стремителен в сравнении с группой A;\n",
    " \n",
    "- конверсия для групп отличается не столь значительно, однако требуется статистическая проверка данной гипотезы."
   ]
  },
  {
   "cell_type": "markdown",
   "metadata": {},
   "source": [
    "## Оценка результатов A/B-тестирования"
   ]
  },
  {
   "cell_type": "code",
   "execution_count": 40,
   "metadata": {},
   "outputs": [
    {
     "data": {
      "text/html": [
       "<div>\n",
       "<style scoped>\n",
       "    .dataframe tbody tr th:only-of-type {\n",
       "        vertical-align: middle;\n",
       "    }\n",
       "\n",
       "    .dataframe tbody tr th {\n",
       "        vertical-align: top;\n",
       "    }\n",
       "\n",
       "    .dataframe thead tr th {\n",
       "        text-align: left;\n",
       "    }\n",
       "\n",
       "    .dataframe thead tr:last-of-type th {\n",
       "        text-align: right;\n",
       "    }\n",
       "</style>\n",
       "<table border=\"1\" class=\"dataframe\">\n",
       "  <thead>\n",
       "    <tr>\n",
       "      <th></th>\n",
       "      <th>events</th>\n",
       "      <th>users</th>\n",
       "      <th>mean</th>\n",
       "    </tr>\n",
       "    <tr>\n",
       "      <th></th>\n",
       "      <th></th>\n",
       "      <th></th>\n",
       "      <th></th>\n",
       "    </tr>\n",
       "    <tr>\n",
       "      <th>group</th>\n",
       "      <th></th>\n",
       "      <th></th>\n",
       "      <th></th>\n",
       "    </tr>\n",
       "  </thead>\n",
       "  <tbody>\n",
       "    <tr>\n",
       "      <th>A</th>\n",
       "      <td>9608</td>\n",
       "      <td>1542</td>\n",
       "      <td>6.2</td>\n",
       "    </tr>\n",
       "    <tr>\n",
       "      <th>B</th>\n",
       "      <td>2263</td>\n",
       "      <td>468</td>\n",
       "      <td>4.8</td>\n",
       "    </tr>\n",
       "  </tbody>\n",
       "</table>\n",
       "</div>"
      ],
      "text/plain": [
       "      events users mean\n",
       "                       \n",
       "group                  \n",
       "A       9608  1542  6.2\n",
       "B       2263   468  4.8"
      ]
     },
     "execution_count": 40,
     "metadata": {},
     "output_type": "execute_result"
    }
   ],
   "source": [
    "events_per_user"
   ]
  },
  {
   "cell_type": "markdown",
   "metadata": {},
   "source": [
    "Контрольная группа А включает 1542 человека, тестовая группа B - 468 человека."
   ]
  },
  {
   "cell_type": "markdown",
   "metadata": {},
   "source": [
    "**В качестве порогового уровеня статистической значимост (alpha) предлагается взять значение 0,05.** "
   ]
  },
  {
   "cell_type": "code",
   "execution_count": 41,
   "metadata": {},
   "outputs": [],
   "source": [
    "alpha = 0.05"
   ]
  },
  {
   "cell_type": "markdown",
   "metadata": {},
   "source": [
    "Проверим, находят ли статистические критерии разницу между группами A и B.\n",
    "\n",
    "Создадим таблицу для сравнения действий пользователей в группах:"
   ]
  },
  {
   "cell_type": "code",
   "execution_count": 42,
   "metadata": {},
   "outputs": [
    {
     "data": {
      "text/html": [
       "<div>\n",
       "<style scoped>\n",
       "    .dataframe tbody tr th:only-of-type {\n",
       "        vertical-align: middle;\n",
       "    }\n",
       "\n",
       "    .dataframe tbody tr th {\n",
       "        vertical-align: top;\n",
       "    }\n",
       "\n",
       "    .dataframe thead th {\n",
       "        text-align: right;\n",
       "    }\n",
       "</style>\n",
       "<table border=\"1\" class=\"dataframe\">\n",
       "  <thead>\n",
       "    <tr style=\"text-align: right;\">\n",
       "      <th>group</th>\n",
       "      <th>A</th>\n",
       "      <th>B</th>\n",
       "    </tr>\n",
       "    <tr>\n",
       "      <th>event_name</th>\n",
       "      <th></th>\n",
       "      <th></th>\n",
       "    </tr>\n",
       "  </thead>\n",
       "  <tbody>\n",
       "    <tr>\n",
       "      <th>login</th>\n",
       "      <td>1542</td>\n",
       "      <td>468</td>\n",
       "    </tr>\n",
       "    <tr>\n",
       "      <th>product_cart</th>\n",
       "      <td>488</td>\n",
       "      <td>136</td>\n",
       "    </tr>\n",
       "    <tr>\n",
       "      <th>product_page</th>\n",
       "      <td>1004</td>\n",
       "      <td>247</td>\n",
       "    </tr>\n",
       "    <tr>\n",
       "      <th>purchase</th>\n",
       "      <td>489</td>\n",
       "      <td>120</td>\n",
       "    </tr>\n",
       "  </tbody>\n",
       "</table>\n",
       "</div>"
      ],
      "text/plain": [
       "group            A    B\n",
       "event_name             \n",
       "login         1542  468\n",
       "product_cart   488  136\n",
       "product_page  1004  247\n",
       "purchase       489  120"
      ]
     },
     "execution_count": 42,
     "metadata": {},
     "output_type": "execute_result"
    }
   ],
   "source": [
    "user_groups = df.pivot_table(index='event_name', values='user_id', columns='group', aggfunc='nunique').reset_index()\n",
    "user_groups = user_groups.set_index('event_name')\n",
    "user_groups"
   ]
  },
  {
   "cell_type": "markdown",
   "metadata": {},
   "source": [
    "Наша задача проверить, оказало ли влияние внедрение улучшенной рекомендательной системы на увеличение каждой метрики не менее, чем на 10%. *При этом согласно ТЗ событие login мы не тестируем.*\n",
    "\n",
    "**Сформулируем гипотезы:**\n",
    "\n",
    "1) Нулевая гипотеза: различий в количестве событий между группами нет.\n",
    "\n",
    "2) Обратная гипотеза: различия в количестве событий между группами есть."
   ]
  },
  {
   "cell_type": "markdown",
   "metadata": {},
   "source": [
    "<div class=\"alert alert-block alert-success\">\n",
    "<b>✔️ Комментарий ревьюера:</b> Ты правильно расставляешь акценты в формировании гипотез и формулируешь в соответствии со статистическими нормами\n",
    "</div>"
   ]
  },
  {
   "cell_type": "code",
   "execution_count": 43,
   "metadata": {},
   "outputs": [],
   "source": [
    "# функция для z-теста\n",
    "\n",
    "def mega_stat_check(name, group_1, group_2, alpha):\n",
    "    \n",
    "    # события в группах\n",
    "    n_unique_gr1 = df[(df['group'] == group_1) & (df['event_name'] != 'login')][\n",
    "        'user_id'].nunique() # событие login мы не тестируем\n",
    "    n_unique_gr2 = df[(df['group'] == group_2) & (df['event_name'] != 'login')][\n",
    "        'user_id'].nunique() # событие login мы не тестируем\n",
    "\n",
    "    # пропорции событий в группах:\n",
    "    p1 = user_groups.loc[name, group_1] / n_unique_gr1\n",
    "    p2 = user_groups.loc[name, group_2] / n_unique_gr2\n",
    "    \n",
    "    # пропорция в комбинированном датасете:\n",
    "    p_combined = (user_groups.loc[name, group_1] + user_groups.loc[name, group_2]) / (n_unique_gr1 + n_unique_gr2)\n",
    "\n",
    "    # разница пропорций в датасетах\n",
    "    difference = p1 - p2 \n",
    "\n",
    "    # считаем статистику в ст.отклонениях стандартного нормального распределения\n",
    "    z_value = difference / mth.sqrt(p_combined * (1 - p_combined) * (1/n_unique_gr1 + 1/n_unique_gr2))\n",
    "\n",
    "    # задаем стандартное нормальное распределение (среднее 0, ст.отклонение 1)\n",
    "    distr = st.norm(0, 1)  \n",
    "    p_value = (1 - distr.cdf(abs(z_value))) * 2\n",
    "    \n",
    "    print('{}:'.format(name))\n",
    "    print('P-value составляет:', p_value)\n",
    "\n",
    "    if p_value < alpha:\n",
    "        print('Отвергаем нулевую гипотезу: между долями есть значимая разница.')\n",
    "    else:\n",
    "        print('Не получилось отвергнуть нулевую гипотезу, нет оснований считать доли разными.')\n",
    "    print()"
   ]
  },
  {
   "cell_type": "code",
   "execution_count": 44,
   "metadata": {},
   "outputs": [
    {
     "name": "stdout",
     "output_type": "stream",
     "text": [
      "product_cart:\n",
      "P-value составляет: 0.6869262576818445\n",
      "Не получилось отвергнуть нулевую гипотезу, нет оснований считать доли разными.\n",
      "\n",
      "product_page:\n",
      "P-value составляет: 0.005096981356092822\n",
      "Отвергаем нулевую гипотезу: между долями есть значимая разница.\n",
      "\n",
      "purchase:\n",
      "P-value составляет: 0.22905773201319102\n",
      "Не получилось отвергнуть нулевую гипотезу, нет оснований считать доли разными.\n",
      "\n"
     ]
    }
   ],
   "source": [
    "for name in list(user_groups.index[1:]):\n",
    "    mega_stat_check(name, 'A', 'B', alpha)"
   ]
  },
  {
   "cell_type": "markdown",
   "metadata": {},
   "source": [
    "Статистически значимая разница наблюдается только для события product_page.\n",
    "\n",
    "Тем не менее, так как проверка событий у нас множественная, **воспользуемся поправкой Бонферрони**:"
   ]
  },
  {
   "cell_type": "code",
   "execution_count": 45,
   "metadata": {},
   "outputs": [
    {
     "data": {
      "text/plain": [
       "0.016666666666666666"
      ]
     },
     "execution_count": 45,
     "metadata": {},
     "output_type": "execute_result"
    }
   ],
   "source": [
    "alpha_bonferroni = alpha / 3\n",
    "alpha_bonferroni"
   ]
  },
  {
   "cell_type": "code",
   "execution_count": 46,
   "metadata": {},
   "outputs": [
    {
     "name": "stdout",
     "output_type": "stream",
     "text": [
      "product_cart:\n",
      "P-value составляет: 0.6869262576818445\n",
      "Не получилось отвергнуть нулевую гипотезу, нет оснований считать доли разными.\n",
      "\n",
      "product_page:\n",
      "P-value составляет: 0.005096981356092822\n",
      "Отвергаем нулевую гипотезу: между долями есть значимая разница.\n",
      "\n",
      "purchase:\n",
      "P-value составляет: 0.22905773201319102\n",
      "Не получилось отвергнуть нулевую гипотезу, нет оснований считать доли разными.\n",
      "\n"
     ]
    }
   ],
   "source": [
    "for name in list(user_groups.index[1:]):\n",
    "    mega_stat_check(name, 'A', 'B', alpha_bonferroni)"
   ]
  },
  {
   "cell_type": "markdown",
   "metadata": {},
   "source": [
    "**Промежуточный вывод**\n",
    "\n",
    "Для событий product_cart и purchase контрольные и тестовые группы равны между собой, в связи с чем внедрение улучшенной рекомендательной системы не оказывает влияние на увеличение соответствующих метрик.\n",
    "\n",
    "В свою очередь, для product_page наблюдается увеличение количества пользователей.\n",
    "\n",
    "Таким образом, ожидаемый эффект от внедрения новой рекомендательной системы не подвердился: **за 14 дней с момента регистрации в системе пользователи не показали улучшение каждой метрики не менее, чем на 10%**. "
   ]
  },
  {
   "cell_type": "markdown",
   "metadata": {},
   "source": [
    "<div class=\"alert alert-block alert-danger\">\n",
    "<b> ❌ Комментарий ревьюера:</b>  Здесь также надо проверять исходя из количества пользователей, а не событий\n",
    "</div>"
   ]
  },
  {
   "cell_type": "markdown",
   "metadata": {},
   "source": [
    "<div class=\"alert alert-info\"><b>Комментарий студента:</b> Переработал</div>"
   ]
  },
  {
   "cell_type": "markdown",
   "metadata": {},
   "source": [
    "<div class=\"alert alert-block alert-success\">\n",
    "<b>✔️ Комментарий ревьюера 2:</b> Отлично\n",
    "</div>"
   ]
  },
  {
   "cell_type": "markdown",
   "metadata": {},
   "source": [
    "## Выводы"
   ]
  },
  {
   "cell_type": "markdown",
   "metadata": {},
   "source": [
    "Мы проанализировали 11871 событие 2010 пользователей, разбитых на 2 группы, тестовую и контрольную.\n",
    "\n",
    "Следует отметить, что **ТЗ для при проведении A/B-тестирования было соблюдено не в полной мере.** В частности:\n",
    " - вместо 6000 чел. количество участников теста составило 2010 чел.;\n",
    " - вместо 15% новых пользователей из региона EU - лишь 6%.\n",
    "\n",
    "Таким образом, к результатам теста остаются вопросы. Тем не менее, в результате нализа удалось установить следующее:\n",
    "\n",
    "- в контрольной группе А пользователей больше почти в 3,3 раза, чем в тестовой группе B (1542 и 468 человек соответственно);\n",
    "- разница по среднему количеству событий на пользователя не столько существенна: 6,3 для группы А и 4,9 для группы B;\n",
    "- для группы B характерно неожиданное увеличение событий 16 декабря 2020 г. (среда), а также закономерные увеличения 19 и 20 декабря 2020 года - в субботу и воскресенье перед Рождеством; кроме того, наблюдается относительно высокое число событий 9 декабря 2020 г., также в среду. Спад в последующие дни более стремителен в сравнении с группой A;\n",
    "- конверсия для групп отличается не столь значительно.\n",
    "\n",
    "В части результатов A/B-тестирования:\n",
    "- для событий product_cart и purchase контрольные и тестовые группы равны между собой, в связи с чем внедрение улучшенной рекомендательной системы не оказывает влияние на увеличение соответствующих метрик\n",
    "- в свою очередь, для product_page наблюдается увеличение количества пользователей\n",
    "\n",
    "На основе данных имеющихся данных ожидаемый эффект от внедрения новой рекомендательной системы не подвердился: за 14 дней с момента регистрации в системе пользователи не показали улучшение каждой метрики не менее, чем на 10%. \n",
    "\n",
    "**Вместе с тем, так как ТЗ не было соблюдено, результаты A/B-теста доверия не вызывают. В связи с этим для решения бизнес-задачи внедрения улучшенной рекомендательной систему для всех пользователей или сохранения текущей, необходимо провести A/B-тестирование заново, соблюдая требования технического задания."
   ]
  },
  {
   "cell_type": "markdown",
   "metadata": {},
   "source": [
    "<div class=\"alert alert-block alert-danger\">\n",
    "<b> ❌ Комментарий ревьюера:</b> Нужно добавить больше информации, в чем проблема ТЗ, а также сделать вывод о том, корректно ли проведён тест и можно ли ему доверять\n",
    "</div>"
   ]
  },
  {
   "cell_type": "markdown",
   "metadata": {},
   "source": [
    "<div class=\"alert alert-info\"><b>Комментарий студента:</b> Вывод дополнил</div>"
   ]
  },
  {
   "cell_type": "markdown",
   "metadata": {},
   "source": [
    "<div class=\"alert alert-block alert-danger\">\n",
    "<b> ❌ Комментарий ревьюера 2:</b> То есть ты считаешь, что несмотря на много ошибок, тесту можно доверять?\n",
    "</div>"
   ]
  },
  {
   "cell_type": "markdown",
   "metadata": {},
   "source": [
    "<div class=\"alert alert-info\"><b>Комментарий студента 2:</b> Нет, нельзя - я неправильно расставил акценты в выводе) Переписал </div>"
   ]
  },
  {
   "cell_type": "markdown",
   "metadata": {},
   "source": [
    "<div class=\"alert alert-block alert-success\">\n",
    "<b>✔️ Комментарий ревьюера 3:</b> Хорошо, теперь выводы обоснованы и все обстоятельства учтены\n",
    "</div>"
   ]
  },
  {
   "cell_type": "code",
   "execution_count": null,
   "metadata": {},
   "outputs": [],
   "source": []
  }
 ],
 "metadata": {
  "ExecuteTimeLog": [
   {
    "duration": 384,
    "start_time": "2022-11-29T08:59:01.010Z"
   },
   {
    "duration": 101,
    "start_time": "2022-11-29T08:59:30.772Z"
   },
   {
    "duration": 81,
    "start_time": "2022-11-29T09:17:30.304Z"
   },
   {
    "duration": 67,
    "start_time": "2022-11-29T09:17:33.581Z"
   },
   {
    "duration": 47,
    "start_time": "2022-11-29T09:18:08.607Z"
   },
   {
    "duration": 1836,
    "start_time": "2022-11-29T09:19:45.786Z"
   },
   {
    "duration": 8,
    "start_time": "2022-11-29T09:21:10.155Z"
   },
   {
    "duration": 38,
    "start_time": "2022-11-29T09:21:29.433Z"
   },
   {
    "duration": 8,
    "start_time": "2022-11-29T09:22:35.090Z"
   },
   {
    "duration": 1055,
    "start_time": "2022-11-29T09:22:36.213Z"
   },
   {
    "duration": 30,
    "start_time": "2022-11-29T09:22:37.270Z"
   },
   {
    "duration": 32,
    "start_time": "2022-11-29T09:23:18.353Z"
   },
   {
    "duration": 11,
    "start_time": "2022-11-29T09:29:22.253Z"
   },
   {
    "duration": 3,
    "start_time": "2022-11-29T09:30:57.439Z"
   },
   {
    "duration": 600,
    "start_time": "2022-11-29T09:53:01.519Z"
   },
   {
    "duration": 12,
    "start_time": "2022-11-29T09:53:13.056Z"
   },
   {
    "duration": 12,
    "start_time": "2022-11-29T09:53:19.780Z"
   },
   {
    "duration": 16,
    "start_time": "2022-11-29T09:53:26.227Z"
   },
   {
    "duration": 17,
    "start_time": "2022-11-29T09:53:44.771Z"
   },
   {
    "duration": 21,
    "start_time": "2022-11-29T09:53:55.100Z"
   },
   {
    "duration": 18,
    "start_time": "2022-11-29T09:55:47.105Z"
   },
   {
    "duration": 18,
    "start_time": "2022-11-29T09:56:38.618Z"
   },
   {
    "duration": 15,
    "start_time": "2022-11-29T09:57:36.701Z"
   },
   {
    "duration": 7,
    "start_time": "2022-11-29T09:57:51.903Z"
   },
   {
    "duration": 7,
    "start_time": "2022-11-29T09:57:58.754Z"
   },
   {
    "duration": 33,
    "start_time": "2022-11-29T09:58:25.461Z"
   },
   {
    "duration": 78,
    "start_time": "2022-11-29T09:59:07.897Z"
   },
   {
    "duration": 49,
    "start_time": "2022-11-29T09:59:41.805Z"
   },
   {
    "duration": 22,
    "start_time": "2022-11-29T10:02:29.135Z"
   },
   {
    "duration": 50,
    "start_time": "2022-11-29T10:03:12.029Z"
   },
   {
    "duration": 49,
    "start_time": "2022-11-29T10:03:17.460Z"
   },
   {
    "duration": 46,
    "start_time": "2022-11-29T10:03:20.377Z"
   },
   {
    "duration": 51,
    "start_time": "2022-11-29T10:03:22.585Z"
   },
   {
    "duration": 59,
    "start_time": "2022-11-29T10:06:36.634Z"
   },
   {
    "duration": 28,
    "start_time": "2022-11-29T10:06:44.434Z"
   },
   {
    "duration": 26,
    "start_time": "2022-11-29T10:06:55.815Z"
   },
   {
    "duration": 26,
    "start_time": "2022-11-29T10:07:16.632Z"
   },
   {
    "duration": 48,
    "start_time": "2022-11-29T10:07:40.700Z"
   },
   {
    "duration": 87,
    "start_time": "2022-11-29T10:08:44.269Z"
   },
   {
    "duration": 183,
    "start_time": "2022-11-29T10:08:57.444Z"
   },
   {
    "duration": 13,
    "start_time": "2022-11-29T10:14:41.987Z"
   },
   {
    "duration": 6,
    "start_time": "2022-11-29T10:15:09.617Z"
   },
   {
    "duration": 158,
    "start_time": "2022-11-29T10:15:17.986Z"
   },
   {
    "duration": 394,
    "start_time": "2022-11-29T10:16:15.925Z"
   },
   {
    "duration": 1455,
    "start_time": "2022-11-29T10:16:16.321Z"
   },
   {
    "duration": 40,
    "start_time": "2022-11-29T10:16:17.778Z"
   },
   {
    "duration": 12,
    "start_time": "2022-11-29T10:16:17.820Z"
   },
   {
    "duration": 61,
    "start_time": "2022-11-29T10:16:17.835Z"
   },
   {
    "duration": 51,
    "start_time": "2022-11-29T10:16:17.897Z"
   },
   {
    "duration": 24,
    "start_time": "2022-11-29T10:16:17.949Z"
   },
   {
    "duration": 94,
    "start_time": "2022-11-29T10:16:17.974Z"
   },
   {
    "duration": 51,
    "start_time": "2022-11-29T10:16:18.069Z"
   },
   {
    "duration": 34,
    "start_time": "2022-11-29T10:16:18.122Z"
   },
   {
    "duration": 65,
    "start_time": "2022-11-29T10:16:18.158Z"
   },
   {
    "duration": 42,
    "start_time": "2022-11-29T10:16:18.225Z"
   },
   {
    "duration": 107,
    "start_time": "2022-11-29T10:16:18.269Z"
   },
   {
    "duration": 205,
    "start_time": "2022-11-29T10:16:18.379Z"
   },
   {
    "duration": 12,
    "start_time": "2022-11-29T10:16:18.585Z"
   },
   {
    "duration": 182,
    "start_time": "2022-11-29T10:16:18.599Z"
   },
   {
    "duration": 27,
    "start_time": "2022-11-29T10:19:17.487Z"
   },
   {
    "duration": 27,
    "start_time": "2022-11-29T10:19:33.033Z"
   },
   {
    "duration": 372,
    "start_time": "2022-11-29T13:51:51.779Z"
   },
   {
    "duration": 1476,
    "start_time": "2022-11-29T13:51:52.154Z"
   },
   {
    "duration": 43,
    "start_time": "2022-11-29T13:51:53.632Z"
   },
   {
    "duration": 11,
    "start_time": "2022-11-29T13:51:53.677Z"
   },
   {
    "duration": 51,
    "start_time": "2022-11-29T13:51:53.690Z"
   },
   {
    "duration": 23,
    "start_time": "2022-11-29T13:51:53.743Z"
   },
   {
    "duration": 12,
    "start_time": "2022-11-29T13:51:53.768Z"
   },
   {
    "duration": 64,
    "start_time": "2022-11-29T13:51:53.782Z"
   },
   {
    "duration": 63,
    "start_time": "2022-11-29T13:51:53.848Z"
   },
   {
    "duration": 43,
    "start_time": "2022-11-29T13:51:53.913Z"
   },
   {
    "duration": 49,
    "start_time": "2022-11-29T13:51:53.958Z"
   },
   {
    "duration": 53,
    "start_time": "2022-11-29T13:51:54.009Z"
   },
   {
    "duration": 103,
    "start_time": "2022-11-29T13:51:54.064Z"
   },
   {
    "duration": 208,
    "start_time": "2022-11-29T13:51:54.170Z"
   },
   {
    "duration": 12,
    "start_time": "2022-11-29T13:51:54.379Z"
   },
   {
    "duration": 168,
    "start_time": "2022-11-29T13:51:54.393Z"
   },
   {
    "duration": 1280,
    "start_time": "2022-11-29T13:55:18.828Z"
   },
   {
    "duration": 10,
    "start_time": "2022-11-29T13:55:38.994Z"
   },
   {
    "duration": 5,
    "start_time": "2022-11-29T14:09:38.899Z"
   },
   {
    "duration": 11,
    "start_time": "2022-11-29T14:09:44.779Z"
   },
   {
    "duration": 6,
    "start_time": "2022-11-29T14:10:22.109Z"
   },
   {
    "duration": 13,
    "start_time": "2022-11-29T15:25:47.657Z"
   },
   {
    "duration": 11,
    "start_time": "2022-11-29T15:26:06.565Z"
   },
   {
    "duration": 11,
    "start_time": "2022-11-29T15:26:10.084Z"
   },
   {
    "duration": 14,
    "start_time": "2022-11-29T15:27:01.573Z"
   },
   {
    "duration": 9,
    "start_time": "2022-11-29T15:27:21.991Z"
   },
   {
    "duration": 11,
    "start_time": "2022-11-29T15:28:01.705Z"
   },
   {
    "duration": 76,
    "start_time": "2022-11-29T15:28:51.850Z"
   },
   {
    "duration": 40,
    "start_time": "2022-11-29T15:28:57.031Z"
   },
   {
    "duration": 26,
    "start_time": "2022-11-29T15:29:12.734Z"
   },
   {
    "duration": 127,
    "start_time": "2022-11-29T15:30:04.424Z"
   },
   {
    "duration": 141,
    "start_time": "2022-11-29T15:30:28.366Z"
   },
   {
    "duration": 39,
    "start_time": "2022-11-29T15:31:01.511Z"
   },
   {
    "duration": 37,
    "start_time": "2022-11-29T15:31:43.655Z"
   },
   {
    "duration": 139,
    "start_time": "2022-11-29T15:33:52.286Z"
   },
   {
    "duration": 16,
    "start_time": "2022-11-29T15:34:15.413Z"
   },
   {
    "duration": 15,
    "start_time": "2022-11-29T15:40:13.304Z"
   },
   {
    "duration": 7,
    "start_time": "2022-11-29T15:40:23.401Z"
   },
   {
    "duration": 20,
    "start_time": "2022-11-29T15:40:51.778Z"
   },
   {
    "duration": 11,
    "start_time": "2022-11-29T15:41:40.940Z"
   },
   {
    "duration": 23,
    "start_time": "2022-11-29T15:42:34.613Z"
   },
   {
    "duration": 19,
    "start_time": "2022-11-29T15:42:47.832Z"
   },
   {
    "duration": 10,
    "start_time": "2022-11-29T15:42:53.536Z"
   },
   {
    "duration": 23,
    "start_time": "2022-11-29T15:43:00.059Z"
   },
   {
    "duration": 3,
    "start_time": "2022-11-29T15:43:58.062Z"
   },
   {
    "duration": 22,
    "start_time": "2022-11-29T15:45:46.738Z"
   },
   {
    "duration": 14,
    "start_time": "2022-11-29T15:46:37.557Z"
   },
   {
    "duration": 17,
    "start_time": "2022-11-29T15:46:48.968Z"
   },
   {
    "duration": 15,
    "start_time": "2022-11-29T15:46:51.366Z"
   },
   {
    "duration": 121,
    "start_time": "2022-11-29T15:47:08.980Z"
   },
   {
    "duration": 132,
    "start_time": "2022-11-29T15:47:12.239Z"
   },
   {
    "duration": 17,
    "start_time": "2022-11-29T15:47:14.162Z"
   },
   {
    "duration": 26,
    "start_time": "2022-11-29T15:47:17.973Z"
   },
   {
    "duration": 4,
    "start_time": "2022-11-29T15:48:33.418Z"
   },
   {
    "duration": 7,
    "start_time": "2022-11-29T15:48:48.882Z"
   },
   {
    "duration": 11,
    "start_time": "2022-11-29T15:51:53.425Z"
   },
   {
    "duration": 13,
    "start_time": "2022-11-29T15:53:43.905Z"
   },
   {
    "duration": 16,
    "start_time": "2022-11-29T15:53:51.166Z"
   },
   {
    "duration": 16,
    "start_time": "2022-11-29T15:54:00.237Z"
   },
   {
    "duration": 12,
    "start_time": "2022-11-29T15:54:04.343Z"
   },
   {
    "duration": 15,
    "start_time": "2022-11-29T15:59:18.321Z"
   },
   {
    "duration": 385,
    "start_time": "2022-11-29T15:59:35.600Z"
   },
   {
    "duration": 2095,
    "start_time": "2022-11-29T15:59:35.987Z"
   },
   {
    "duration": 35,
    "start_time": "2022-11-29T15:59:38.083Z"
   },
   {
    "duration": 10,
    "start_time": "2022-11-29T15:59:38.120Z"
   },
   {
    "duration": 20,
    "start_time": "2022-11-29T15:59:38.132Z"
   },
   {
    "duration": 18,
    "start_time": "2022-11-29T15:59:38.153Z"
   },
   {
    "duration": 15,
    "start_time": "2022-11-29T15:59:38.173Z"
   },
   {
    "duration": 27,
    "start_time": "2022-11-29T15:59:38.189Z"
   },
   {
    "duration": 58,
    "start_time": "2022-11-29T15:59:38.238Z"
   },
   {
    "duration": 39,
    "start_time": "2022-11-29T15:59:38.298Z"
   },
   {
    "duration": 54,
    "start_time": "2022-11-29T15:59:38.339Z"
   },
   {
    "duration": 35,
    "start_time": "2022-11-29T15:59:38.394Z"
   },
   {
    "duration": 101,
    "start_time": "2022-11-29T15:59:38.437Z"
   },
   {
    "duration": 183,
    "start_time": "2022-11-29T15:59:38.539Z"
   },
   {
    "duration": 17,
    "start_time": "2022-11-29T15:59:38.724Z"
   },
   {
    "duration": 191,
    "start_time": "2022-11-29T15:59:38.743Z"
   },
   {
    "duration": 8,
    "start_time": "2022-11-29T15:59:38.939Z"
   },
   {
    "duration": 19,
    "start_time": "2022-11-29T15:59:38.948Z"
   },
   {
    "duration": 14,
    "start_time": "2022-11-29T15:59:38.969Z"
   },
   {
    "duration": 171,
    "start_time": "2022-11-29T15:59:38.984Z"
   },
   {
    "duration": 12,
    "start_time": "2022-11-29T15:59:39.156Z"
   },
   {
    "duration": 6,
    "start_time": "2022-11-29T15:59:39.170Z"
   },
   {
    "duration": 23,
    "start_time": "2022-11-29T15:59:50.104Z"
   },
   {
    "duration": 9,
    "start_time": "2022-11-29T16:01:39.940Z"
   },
   {
    "duration": 6,
    "start_time": "2022-11-29T16:01:48.486Z"
   },
   {
    "duration": 4,
    "start_time": "2022-11-29T16:01:51.595Z"
   },
   {
    "duration": 1195,
    "start_time": "2022-11-29T16:02:00.655Z"
   },
   {
    "duration": 10,
    "start_time": "2022-11-29T16:02:05.288Z"
   },
   {
    "duration": 9,
    "start_time": "2022-11-29T16:02:10.348Z"
   },
   {
    "duration": 10,
    "start_time": "2022-11-29T16:03:23.254Z"
   },
   {
    "duration": 84,
    "start_time": "2022-11-29T16:07:54.685Z"
   },
   {
    "duration": 3,
    "start_time": "2022-11-29T16:26:09.031Z"
   },
   {
    "duration": 12,
    "start_time": "2022-11-29T16:26:32.029Z"
   },
   {
    "duration": 12,
    "start_time": "2022-11-29T16:26:57.270Z"
   },
   {
    "duration": 4,
    "start_time": "2022-11-29T16:29:04.836Z"
   },
   {
    "duration": 3,
    "start_time": "2022-11-29T16:29:21.780Z"
   },
   {
    "duration": 1102,
    "start_time": "2022-11-29T16:31:19.104Z"
   },
   {
    "duration": 20,
    "start_time": "2022-11-29T16:33:10.754Z"
   },
   {
    "duration": 14,
    "start_time": "2022-11-29T16:35:18.677Z"
   },
   {
    "duration": 14,
    "start_time": "2022-11-29T16:36:31.609Z"
   },
   {
    "duration": 11,
    "start_time": "2022-11-29T16:43:00.591Z"
   },
   {
    "duration": 9,
    "start_time": "2022-11-29T16:45:13.179Z"
   },
   {
    "duration": 436,
    "start_time": "2022-11-29T16:45:30.021Z"
   },
   {
    "duration": 1457,
    "start_time": "2022-11-29T16:45:30.459Z"
   },
   {
    "duration": 36,
    "start_time": "2022-11-29T16:45:31.917Z"
   },
   {
    "duration": 9,
    "start_time": "2022-11-29T16:45:31.954Z"
   },
   {
    "duration": 40,
    "start_time": "2022-11-29T16:45:31.965Z"
   },
   {
    "duration": 18,
    "start_time": "2022-11-29T16:45:32.006Z"
   },
   {
    "duration": 33,
    "start_time": "2022-11-29T16:45:32.025Z"
   },
   {
    "duration": 39,
    "start_time": "2022-11-29T16:45:32.060Z"
   },
   {
    "duration": 61,
    "start_time": "2022-11-29T16:45:32.101Z"
   },
   {
    "duration": 25,
    "start_time": "2022-11-29T16:45:32.163Z"
   },
   {
    "duration": 70,
    "start_time": "2022-11-29T16:45:32.190Z"
   },
   {
    "duration": 29,
    "start_time": "2022-11-29T16:45:32.262Z"
   },
   {
    "duration": 107,
    "start_time": "2022-11-29T16:45:32.293Z"
   },
   {
    "duration": 199,
    "start_time": "2022-11-29T16:45:32.402Z"
   },
   {
    "duration": 12,
    "start_time": "2022-11-29T16:45:32.603Z"
   },
   {
    "duration": 174,
    "start_time": "2022-11-29T16:45:32.617Z"
   },
   {
    "duration": 6,
    "start_time": "2022-11-29T16:45:32.793Z"
   },
   {
    "duration": 12,
    "start_time": "2022-11-29T16:45:32.801Z"
   },
   {
    "duration": 31,
    "start_time": "2022-11-29T16:45:32.815Z"
   },
   {
    "duration": 170,
    "start_time": "2022-11-29T16:45:32.847Z"
   },
   {
    "duration": 35,
    "start_time": "2022-11-29T16:45:33.018Z"
   },
   {
    "duration": 9,
    "start_time": "2022-11-29T16:45:33.055Z"
   },
   {
    "duration": 78,
    "start_time": "2022-11-29T16:45:33.066Z"
   },
   {
    "duration": 0,
    "start_time": "2022-11-29T16:45:33.146Z"
   },
   {
    "duration": 20,
    "start_time": "2022-11-29T16:45:42.263Z"
   },
   {
    "duration": 9,
    "start_time": "2022-11-29T16:45:49.169Z"
   },
   {
    "duration": 19,
    "start_time": "2022-11-29T16:45:54.958Z"
   },
   {
    "duration": 7,
    "start_time": "2022-11-29T16:46:14.857Z"
   },
   {
    "duration": 22,
    "start_time": "2022-11-29T16:46:18.024Z"
   },
   {
    "duration": 14,
    "start_time": "2022-11-29T16:46:51.837Z"
   },
   {
    "duration": 10,
    "start_time": "2022-11-29T16:47:32.410Z"
   },
   {
    "duration": 17,
    "start_time": "2022-11-29T16:48:54.440Z"
   },
   {
    "duration": 15,
    "start_time": "2022-11-29T16:49:00.319Z"
   },
   {
    "duration": 4,
    "start_time": "2022-11-29T16:49:22.247Z"
   },
   {
    "duration": 444,
    "start_time": "2022-11-29T16:49:45.340Z"
   },
   {
    "duration": 1620,
    "start_time": "2022-11-29T16:49:45.787Z"
   },
   {
    "duration": 35,
    "start_time": "2022-11-29T16:49:47.409Z"
   },
   {
    "duration": 10,
    "start_time": "2022-11-29T16:49:47.446Z"
   },
   {
    "duration": 26,
    "start_time": "2022-11-29T16:49:47.458Z"
   },
   {
    "duration": 26,
    "start_time": "2022-11-29T16:49:47.486Z"
   },
   {
    "duration": 28,
    "start_time": "2022-11-29T16:49:47.514Z"
   },
   {
    "duration": 36,
    "start_time": "2022-11-29T16:49:47.544Z"
   },
   {
    "duration": 67,
    "start_time": "2022-11-29T16:49:47.582Z"
   },
   {
    "duration": 41,
    "start_time": "2022-11-29T16:49:47.651Z"
   },
   {
    "duration": 61,
    "start_time": "2022-11-29T16:49:47.695Z"
   },
   {
    "duration": 50,
    "start_time": "2022-11-29T16:49:47.758Z"
   },
   {
    "duration": 127,
    "start_time": "2022-11-29T16:49:47.809Z"
   },
   {
    "duration": 235,
    "start_time": "2022-11-29T16:49:47.938Z"
   },
   {
    "duration": 12,
    "start_time": "2022-11-29T16:49:48.175Z"
   },
   {
    "duration": 187,
    "start_time": "2022-11-29T16:49:48.188Z"
   },
   {
    "duration": 7,
    "start_time": "2022-11-29T16:49:48.376Z"
   },
   {
    "duration": 20,
    "start_time": "2022-11-29T16:49:48.386Z"
   },
   {
    "duration": 31,
    "start_time": "2022-11-29T16:49:48.408Z"
   },
   {
    "duration": 172,
    "start_time": "2022-11-29T16:49:48.442Z"
   },
   {
    "duration": 35,
    "start_time": "2022-11-29T16:49:48.616Z"
   },
   {
    "duration": 10,
    "start_time": "2022-11-29T16:49:48.652Z"
   },
   {
    "duration": 92,
    "start_time": "2022-11-29T16:49:48.663Z"
   },
   {
    "duration": 0,
    "start_time": "2022-11-29T16:49:48.756Z"
   },
   {
    "duration": 21,
    "start_time": "2022-11-29T16:50:35.991Z"
   },
   {
    "duration": 14,
    "start_time": "2022-11-29T16:50:41.807Z"
   },
   {
    "duration": 419,
    "start_time": "2022-11-29T16:51:23.356Z"
   },
   {
    "duration": 1285,
    "start_time": "2022-11-29T16:51:23.777Z"
   },
   {
    "duration": 40,
    "start_time": "2022-11-29T16:51:25.064Z"
   },
   {
    "duration": 10,
    "start_time": "2022-11-29T16:51:25.106Z"
   },
   {
    "duration": 22,
    "start_time": "2022-11-29T16:51:25.137Z"
   },
   {
    "duration": 17,
    "start_time": "2022-11-29T16:51:25.161Z"
   },
   {
    "duration": 14,
    "start_time": "2022-11-29T16:51:25.180Z"
   },
   {
    "duration": 53,
    "start_time": "2022-11-29T16:51:25.196Z"
   },
   {
    "duration": 62,
    "start_time": "2022-11-29T16:51:25.251Z"
   },
   {
    "duration": 38,
    "start_time": "2022-11-29T16:51:25.315Z"
   },
   {
    "duration": 58,
    "start_time": "2022-11-29T16:51:25.355Z"
   },
   {
    "duration": 41,
    "start_time": "2022-11-29T16:51:25.415Z"
   },
   {
    "duration": 105,
    "start_time": "2022-11-29T16:51:25.459Z"
   },
   {
    "duration": 196,
    "start_time": "2022-11-29T16:51:25.568Z"
   },
   {
    "duration": 14,
    "start_time": "2022-11-29T16:51:25.766Z"
   },
   {
    "duration": 198,
    "start_time": "2022-11-29T16:51:25.781Z"
   },
   {
    "duration": 7,
    "start_time": "2022-11-29T16:51:25.982Z"
   },
   {
    "duration": 19,
    "start_time": "2022-11-29T16:51:25.991Z"
   },
   {
    "duration": 29,
    "start_time": "2022-11-29T16:51:26.012Z"
   },
   {
    "duration": 194,
    "start_time": "2022-11-29T16:51:26.044Z"
   },
   {
    "duration": 27,
    "start_time": "2022-11-29T16:51:26.240Z"
   },
   {
    "duration": 11,
    "start_time": "2022-11-29T16:51:26.268Z"
   },
   {
    "duration": 71,
    "start_time": "2022-11-29T16:51:26.281Z"
   },
   {
    "duration": 0,
    "start_time": "2022-11-29T16:51:26.353Z"
   },
   {
    "duration": 1248,
    "start_time": "2022-11-29T16:52:57.521Z"
   },
   {
    "duration": 1232,
    "start_time": "2022-11-29T16:53:12.238Z"
   },
   {
    "duration": 4,
    "start_time": "2022-11-29T16:53:25.436Z"
   },
   {
    "duration": 5,
    "start_time": "2022-11-29T16:53:38.773Z"
   },
   {
    "duration": 2,
    "start_time": "2022-11-29T16:56:11.870Z"
   },
   {
    "duration": 4,
    "start_time": "2022-11-29T16:56:59.429Z"
   },
   {
    "duration": 4,
    "start_time": "2022-11-29T16:57:09.119Z"
   },
   {
    "duration": 3,
    "start_time": "2022-11-29T16:57:24.737Z"
   },
   {
    "duration": 11,
    "start_time": "2022-11-29T16:57:35.895Z"
   },
   {
    "duration": 9,
    "start_time": "2022-11-29T16:57:54.436Z"
   },
   {
    "duration": 4,
    "start_time": "2022-11-29T16:58:00.006Z"
   },
   {
    "duration": 386,
    "start_time": "2022-11-29T16:58:07.265Z"
   },
   {
    "duration": 1312,
    "start_time": "2022-11-29T16:58:07.653Z"
   },
   {
    "duration": 46,
    "start_time": "2022-11-29T16:58:08.967Z"
   },
   {
    "duration": 13,
    "start_time": "2022-11-29T16:58:09.038Z"
   },
   {
    "duration": 29,
    "start_time": "2022-11-29T16:58:09.053Z"
   },
   {
    "duration": 23,
    "start_time": "2022-11-29T16:58:09.084Z"
   },
   {
    "duration": 38,
    "start_time": "2022-11-29T16:58:09.109Z"
   },
   {
    "duration": 31,
    "start_time": "2022-11-29T16:58:09.149Z"
   },
   {
    "duration": 72,
    "start_time": "2022-11-29T16:58:09.181Z"
   },
   {
    "duration": 25,
    "start_time": "2022-11-29T16:58:09.256Z"
   },
   {
    "duration": 68,
    "start_time": "2022-11-29T16:58:09.282Z"
   },
   {
    "duration": 28,
    "start_time": "2022-11-29T16:58:09.351Z"
   },
   {
    "duration": 100,
    "start_time": "2022-11-29T16:58:09.381Z"
   },
   {
    "duration": 198,
    "start_time": "2022-11-29T16:58:09.483Z"
   },
   {
    "duration": 13,
    "start_time": "2022-11-29T16:58:09.683Z"
   },
   {
    "duration": 185,
    "start_time": "2022-11-29T16:58:09.698Z"
   },
   {
    "duration": 7,
    "start_time": "2022-11-29T16:58:09.884Z"
   },
   {
    "duration": 17,
    "start_time": "2022-11-29T16:58:09.892Z"
   },
   {
    "duration": 27,
    "start_time": "2022-11-29T16:58:09.911Z"
   },
   {
    "duration": 154,
    "start_time": "2022-11-29T16:58:09.939Z"
   },
   {
    "duration": 25,
    "start_time": "2022-11-29T16:58:10.095Z"
   },
   {
    "duration": 23,
    "start_time": "2022-11-29T16:58:10.121Z"
   },
   {
    "duration": 6,
    "start_time": "2022-11-29T16:58:10.145Z"
   },
   {
    "duration": 98,
    "start_time": "2022-11-29T16:58:10.153Z"
   },
   {
    "duration": 0,
    "start_time": "2022-11-29T16:58:10.252Z"
   },
   {
    "duration": 12,
    "start_time": "2022-11-29T16:58:18.619Z"
   },
   {
    "duration": 11,
    "start_time": "2022-11-29T16:58:37.806Z"
   },
   {
    "duration": 10,
    "start_time": "2022-11-29T17:04:02.126Z"
   },
   {
    "duration": 374,
    "start_time": "2022-11-29T17:04:10.574Z"
   },
   {
    "duration": 2351,
    "start_time": "2022-11-29T17:04:10.950Z"
   },
   {
    "duration": 38,
    "start_time": "2022-11-29T17:04:13.303Z"
   },
   {
    "duration": 9,
    "start_time": "2022-11-29T17:04:13.343Z"
   },
   {
    "duration": 24,
    "start_time": "2022-11-29T17:04:13.354Z"
   },
   {
    "duration": 22,
    "start_time": "2022-11-29T17:04:13.380Z"
   },
   {
    "duration": 38,
    "start_time": "2022-11-29T17:04:13.403Z"
   },
   {
    "duration": 30,
    "start_time": "2022-11-29T17:04:13.443Z"
   },
   {
    "duration": 73,
    "start_time": "2022-11-29T17:04:13.475Z"
   },
   {
    "duration": 26,
    "start_time": "2022-11-29T17:04:13.551Z"
   },
   {
    "duration": 71,
    "start_time": "2022-11-29T17:04:13.578Z"
   },
   {
    "duration": 29,
    "start_time": "2022-11-29T17:04:13.651Z"
   },
   {
    "duration": 104,
    "start_time": "2022-11-29T17:04:13.682Z"
   },
   {
    "duration": 190,
    "start_time": "2022-11-29T17:04:13.788Z"
   },
   {
    "duration": 12,
    "start_time": "2022-11-29T17:04:13.979Z"
   },
   {
    "duration": 180,
    "start_time": "2022-11-29T17:04:13.992Z"
   },
   {
    "duration": 7,
    "start_time": "2022-11-29T17:04:14.174Z"
   },
   {
    "duration": 12,
    "start_time": "2022-11-29T17:04:14.182Z"
   },
   {
    "duration": 14,
    "start_time": "2022-11-29T17:04:14.196Z"
   },
   {
    "duration": 178,
    "start_time": "2022-11-29T17:04:14.212Z"
   },
   {
    "duration": 25,
    "start_time": "2022-11-29T17:04:14.392Z"
   },
   {
    "duration": 22,
    "start_time": "2022-11-29T17:04:14.419Z"
   },
   {
    "duration": 11,
    "start_time": "2022-11-29T17:04:14.443Z"
   },
   {
    "duration": 13,
    "start_time": "2022-11-29T17:04:14.455Z"
   },
   {
    "duration": 4,
    "start_time": "2022-11-29T17:04:14.469Z"
   },
   {
    "duration": 12,
    "start_time": "2022-11-29T17:04:28.820Z"
   },
   {
    "duration": 10,
    "start_time": "2022-11-29T17:07:02.248Z"
   },
   {
    "duration": 9,
    "start_time": "2022-11-29T17:07:21.401Z"
   },
   {
    "duration": 385,
    "start_time": "2022-11-29T17:07:31.778Z"
   },
   {
    "duration": 1208,
    "start_time": "2022-11-29T17:07:32.165Z"
   },
   {
    "duration": 41,
    "start_time": "2022-11-29T17:07:33.374Z"
   },
   {
    "duration": 10,
    "start_time": "2022-11-29T17:07:33.418Z"
   },
   {
    "duration": 20,
    "start_time": "2022-11-29T17:07:33.438Z"
   },
   {
    "duration": 19,
    "start_time": "2022-11-29T17:07:33.460Z"
   },
   {
    "duration": 17,
    "start_time": "2022-11-29T17:07:33.481Z"
   },
   {
    "duration": 57,
    "start_time": "2022-11-29T17:07:33.500Z"
   },
   {
    "duration": 64,
    "start_time": "2022-11-29T17:07:33.559Z"
   },
   {
    "duration": 35,
    "start_time": "2022-11-29T17:07:33.626Z"
   },
   {
    "duration": 78,
    "start_time": "2022-11-29T17:07:33.663Z"
   },
   {
    "duration": 30,
    "start_time": "2022-11-29T17:07:33.742Z"
   },
   {
    "duration": 106,
    "start_time": "2022-11-29T17:07:33.773Z"
   },
   {
    "duration": 206,
    "start_time": "2022-11-29T17:07:33.881Z"
   },
   {
    "duration": 12,
    "start_time": "2022-11-29T17:07:34.089Z"
   },
   {
    "duration": 183,
    "start_time": "2022-11-29T17:07:34.103Z"
   },
   {
    "duration": 6,
    "start_time": "2022-11-29T17:07:34.288Z"
   },
   {
    "duration": 15,
    "start_time": "2022-11-29T17:07:34.296Z"
   },
   {
    "duration": 30,
    "start_time": "2022-11-29T17:07:34.313Z"
   },
   {
    "duration": 167,
    "start_time": "2022-11-29T17:07:34.345Z"
   },
   {
    "duration": 34,
    "start_time": "2022-11-29T17:07:34.513Z"
   },
   {
    "duration": 10,
    "start_time": "2022-11-29T17:07:34.548Z"
   },
   {
    "duration": 14,
    "start_time": "2022-11-29T17:07:34.559Z"
   },
   {
    "duration": 11,
    "start_time": "2022-11-29T17:07:34.575Z"
   },
   {
    "duration": 6,
    "start_time": "2022-11-29T17:07:34.588Z"
   },
   {
    "duration": 19,
    "start_time": "2022-11-29T17:07:42.051Z"
   },
   {
    "duration": 10,
    "start_time": "2022-11-29T17:08:00.027Z"
   },
   {
    "duration": 21,
    "start_time": "2022-11-29T17:08:46.528Z"
   },
   {
    "duration": 66,
    "start_time": "2022-11-29T17:09:44.923Z"
   },
   {
    "duration": 26,
    "start_time": "2022-11-29T17:09:48.942Z"
   },
   {
    "duration": 23,
    "start_time": "2022-11-29T17:10:03.705Z"
   },
   {
    "duration": 7,
    "start_time": "2022-11-29T17:10:44.964Z"
   },
   {
    "duration": 9,
    "start_time": "2022-11-29T17:13:13.292Z"
   },
   {
    "duration": 7,
    "start_time": "2022-11-29T17:13:20.429Z"
   },
   {
    "duration": 19,
    "start_time": "2022-11-29T17:13:54.482Z"
   },
   {
    "duration": 7,
    "start_time": "2022-11-29T17:14:00.626Z"
   },
   {
    "duration": 23,
    "start_time": "2022-11-29T17:14:02.445Z"
   },
   {
    "duration": 15,
    "start_time": "2022-11-29T17:14:09.381Z"
   },
   {
    "duration": 14,
    "start_time": "2022-11-29T17:14:13.961Z"
   },
   {
    "duration": 426,
    "start_time": "2022-11-29T17:14:26.404Z"
   },
   {
    "duration": 1279,
    "start_time": "2022-11-29T17:14:26.832Z"
   },
   {
    "duration": 36,
    "start_time": "2022-11-29T17:14:28.112Z"
   },
   {
    "duration": 9,
    "start_time": "2022-11-29T17:14:28.149Z"
   },
   {
    "duration": 23,
    "start_time": "2022-11-29T17:14:28.160Z"
   },
   {
    "duration": 18,
    "start_time": "2022-11-29T17:14:28.184Z"
   },
   {
    "duration": 37,
    "start_time": "2022-11-29T17:14:28.203Z"
   },
   {
    "duration": 31,
    "start_time": "2022-11-29T17:14:28.241Z"
   },
   {
    "duration": 73,
    "start_time": "2022-11-29T17:14:28.274Z"
   },
   {
    "duration": 25,
    "start_time": "2022-11-29T17:14:28.349Z"
   },
   {
    "duration": 70,
    "start_time": "2022-11-29T17:14:28.376Z"
   },
   {
    "duration": 29,
    "start_time": "2022-11-29T17:14:28.448Z"
   },
   {
    "duration": 101,
    "start_time": "2022-11-29T17:14:28.479Z"
   },
   {
    "duration": 201,
    "start_time": "2022-11-29T17:14:28.583Z"
   },
   {
    "duration": 12,
    "start_time": "2022-11-29T17:14:28.785Z"
   },
   {
    "duration": 213,
    "start_time": "2022-11-29T17:14:28.798Z"
   },
   {
    "duration": 9,
    "start_time": "2022-11-29T17:14:29.013Z"
   },
   {
    "duration": 25,
    "start_time": "2022-11-29T17:14:29.024Z"
   },
   {
    "duration": 15,
    "start_time": "2022-11-29T17:14:29.051Z"
   },
   {
    "duration": 175,
    "start_time": "2022-11-29T17:14:29.067Z"
   },
   {
    "duration": 26,
    "start_time": "2022-11-29T17:14:29.244Z"
   },
   {
    "duration": 11,
    "start_time": "2022-11-29T17:14:29.271Z"
   },
   {
    "duration": 10,
    "start_time": "2022-11-29T17:14:29.284Z"
   },
   {
    "duration": 45,
    "start_time": "2022-11-29T17:14:29.296Z"
   },
   {
    "duration": 7,
    "start_time": "2022-11-29T17:14:29.343Z"
   },
   {
    "duration": 9,
    "start_time": "2022-11-29T17:14:29.352Z"
   },
   {
    "duration": 62,
    "start_time": "2022-11-29T17:15:28.239Z"
   },
   {
    "duration": 6,
    "start_time": "2022-11-29T17:15:36.493Z"
   },
   {
    "duration": 384,
    "start_time": "2022-11-29T17:21:04.361Z"
   },
   {
    "duration": 2189,
    "start_time": "2022-11-29T17:21:04.747Z"
   },
   {
    "duration": 37,
    "start_time": "2022-11-29T17:21:06.938Z"
   },
   {
    "duration": 10,
    "start_time": "2022-11-29T17:21:06.977Z"
   },
   {
    "duration": 51,
    "start_time": "2022-11-29T17:21:06.990Z"
   },
   {
    "duration": 20,
    "start_time": "2022-11-29T17:21:07.043Z"
   },
   {
    "duration": 15,
    "start_time": "2022-11-29T17:21:07.065Z"
   },
   {
    "duration": 32,
    "start_time": "2022-11-29T17:21:07.081Z"
   },
   {
    "duration": 83,
    "start_time": "2022-11-29T17:21:07.115Z"
   },
   {
    "duration": 44,
    "start_time": "2022-11-29T17:21:07.201Z"
   },
   {
    "duration": 55,
    "start_time": "2022-11-29T17:21:07.247Z"
   },
   {
    "duration": 42,
    "start_time": "2022-11-29T17:21:07.304Z"
   },
   {
    "duration": 103,
    "start_time": "2022-11-29T17:21:07.348Z"
   },
   {
    "duration": 209,
    "start_time": "2022-11-29T17:21:07.453Z"
   },
   {
    "duration": 13,
    "start_time": "2022-11-29T17:21:07.664Z"
   },
   {
    "duration": 210,
    "start_time": "2022-11-29T17:21:07.678Z"
   },
   {
    "duration": 8,
    "start_time": "2022-11-29T17:21:07.890Z"
   },
   {
    "duration": 16,
    "start_time": "2022-11-29T17:21:07.901Z"
   },
   {
    "duration": 33,
    "start_time": "2022-11-29T17:21:07.919Z"
   },
   {
    "duration": 194,
    "start_time": "2022-11-29T17:21:07.954Z"
   },
   {
    "duration": 37,
    "start_time": "2022-11-29T17:21:08.149Z"
   },
   {
    "duration": 12,
    "start_time": "2022-11-29T17:21:08.187Z"
   },
   {
    "duration": 18,
    "start_time": "2022-11-29T17:21:08.201Z"
   },
   {
    "duration": 23,
    "start_time": "2022-11-29T17:21:08.238Z"
   },
   {
    "duration": 7,
    "start_time": "2022-11-29T17:21:08.263Z"
   },
   {
    "duration": 17,
    "start_time": "2022-11-29T17:21:08.271Z"
   },
   {
    "duration": 10,
    "start_time": "2022-11-29T17:22:01.378Z"
   },
   {
    "duration": 13,
    "start_time": "2022-11-29T17:22:03.219Z"
   },
   {
    "duration": 17,
    "start_time": "2022-11-29T17:22:05.688Z"
   },
   {
    "duration": 4,
    "start_time": "2022-11-29T17:22:31.897Z"
   },
   {
    "duration": 2,
    "start_time": "2022-11-29T17:22:35.314Z"
   },
   {
    "duration": 11,
    "start_time": "2022-11-29T17:22:39.274Z"
   },
   {
    "duration": 11,
    "start_time": "2022-11-29T17:22:42.184Z"
   },
   {
    "duration": 475,
    "start_time": "2022-11-29T17:22:48.673Z"
   },
   {
    "duration": 1034,
    "start_time": "2022-11-29T17:22:49.151Z"
   },
   {
    "duration": 36,
    "start_time": "2022-11-29T17:22:50.187Z"
   },
   {
    "duration": 10,
    "start_time": "2022-11-29T17:22:50.226Z"
   },
   {
    "duration": 25,
    "start_time": "2022-11-29T17:22:50.237Z"
   },
   {
    "duration": 20,
    "start_time": "2022-11-29T17:22:50.264Z"
   },
   {
    "duration": 13,
    "start_time": "2022-11-29T17:22:50.285Z"
   },
   {
    "duration": 52,
    "start_time": "2022-11-29T17:22:50.300Z"
   },
   {
    "duration": 58,
    "start_time": "2022-11-29T17:22:50.353Z"
   },
   {
    "duration": 39,
    "start_time": "2022-11-29T17:22:50.415Z"
   },
   {
    "duration": 58,
    "start_time": "2022-11-29T17:22:50.456Z"
   },
   {
    "duration": 47,
    "start_time": "2022-11-29T17:22:50.516Z"
   },
   {
    "duration": 103,
    "start_time": "2022-11-29T17:22:50.564Z"
   },
   {
    "duration": 205,
    "start_time": "2022-11-29T17:22:50.669Z"
   },
   {
    "duration": 11,
    "start_time": "2022-11-29T17:22:50.876Z"
   },
   {
    "duration": 186,
    "start_time": "2022-11-29T17:22:50.888Z"
   },
   {
    "duration": 7,
    "start_time": "2022-11-29T17:22:51.076Z"
   },
   {
    "duration": 12,
    "start_time": "2022-11-29T17:22:51.084Z"
   },
   {
    "duration": 13,
    "start_time": "2022-11-29T17:22:51.098Z"
   },
   {
    "duration": 200,
    "start_time": "2022-11-29T17:22:51.112Z"
   },
   {
    "duration": 38,
    "start_time": "2022-11-29T17:22:51.314Z"
   },
   {
    "duration": 10,
    "start_time": "2022-11-29T17:22:51.353Z"
   },
   {
    "duration": 17,
    "start_time": "2022-11-29T17:22:51.365Z"
   },
   {
    "duration": 22,
    "start_time": "2022-11-29T17:22:51.383Z"
   },
   {
    "duration": 6,
    "start_time": "2022-11-29T17:22:51.406Z"
   },
   {
    "duration": 16,
    "start_time": "2022-11-29T17:22:51.438Z"
   },
   {
    "duration": 14,
    "start_time": "2022-11-29T17:22:57.369Z"
   },
   {
    "duration": 16,
    "start_time": "2022-11-29T17:24:03.873Z"
   },
   {
    "duration": 13,
    "start_time": "2022-11-29T17:24:39.406Z"
   },
   {
    "duration": 13,
    "start_time": "2022-11-29T17:24:45.700Z"
   },
   {
    "duration": 14,
    "start_time": "2022-11-29T17:32:11.603Z"
   },
   {
    "duration": 17,
    "start_time": "2022-11-29T17:32:26.132Z"
   },
   {
    "duration": 19,
    "start_time": "2022-11-29T17:33:15.126Z"
   },
   {
    "duration": 19,
    "start_time": "2022-11-29T17:33:44.814Z"
   },
   {
    "duration": 17,
    "start_time": "2022-11-29T17:33:48.000Z"
   },
   {
    "duration": 730,
    "start_time": "2022-11-29T17:34:57.038Z"
   },
   {
    "duration": 20,
    "start_time": "2022-11-29T17:35:18.244Z"
   },
   {
    "duration": 186,
    "start_time": "2022-11-29T17:36:56.088Z"
   },
   {
    "duration": 4,
    "start_time": "2022-11-29T17:37:39.250Z"
   },
   {
    "duration": 271,
    "start_time": "2022-11-29T17:38:28.931Z"
   },
   {
    "duration": 224,
    "start_time": "2022-11-29T17:38:47.863Z"
   },
   {
    "duration": 212,
    "start_time": "2022-11-29T17:39:12.987Z"
   },
   {
    "duration": 312,
    "start_time": "2022-11-29T17:39:25.699Z"
   },
   {
    "duration": 211,
    "start_time": "2022-11-29T17:39:30.829Z"
   },
   {
    "duration": 32,
    "start_time": "2022-11-29T17:39:54.574Z"
   },
   {
    "duration": 200,
    "start_time": "2022-11-29T17:39:56.680Z"
   },
   {
    "duration": 206,
    "start_time": "2022-11-29T17:44:45.975Z"
   },
   {
    "duration": 283,
    "start_time": "2022-11-29T17:48:07.309Z"
   },
   {
    "duration": 1155,
    "start_time": "2022-11-29T17:48:49.754Z"
   },
   {
    "duration": 1478,
    "start_time": "2022-11-29T17:48:50.910Z"
   },
   {
    "duration": 35,
    "start_time": "2022-11-29T17:48:52.390Z"
   },
   {
    "duration": 9,
    "start_time": "2022-11-29T17:48:52.427Z"
   },
   {
    "duration": 26,
    "start_time": "2022-11-29T17:48:52.438Z"
   },
   {
    "duration": 23,
    "start_time": "2022-11-29T17:48:52.470Z"
   },
   {
    "duration": 16,
    "start_time": "2022-11-29T17:48:52.495Z"
   },
   {
    "duration": 49,
    "start_time": "2022-11-29T17:48:52.513Z"
   },
   {
    "duration": 60,
    "start_time": "2022-11-29T17:48:52.564Z"
   },
   {
    "duration": 26,
    "start_time": "2022-11-29T17:48:52.638Z"
   },
   {
    "duration": 77,
    "start_time": "2022-11-29T17:48:52.666Z"
   },
   {
    "duration": 29,
    "start_time": "2022-11-29T17:48:52.745Z"
   },
   {
    "duration": 101,
    "start_time": "2022-11-29T17:48:52.776Z"
   },
   {
    "duration": 206,
    "start_time": "2022-11-29T17:48:52.881Z"
   },
   {
    "duration": 12,
    "start_time": "2022-11-29T17:48:53.089Z"
   },
   {
    "duration": 179,
    "start_time": "2022-11-29T17:48:53.102Z"
   },
   {
    "duration": 8,
    "start_time": "2022-11-29T17:48:53.283Z"
   },
   {
    "duration": 21,
    "start_time": "2022-11-29T17:48:53.293Z"
   },
   {
    "duration": 32,
    "start_time": "2022-11-29T17:48:53.316Z"
   },
   {
    "duration": 181,
    "start_time": "2022-11-29T17:48:53.350Z"
   },
   {
    "duration": 27,
    "start_time": "2022-11-29T17:48:53.536Z"
   },
   {
    "duration": 10,
    "start_time": "2022-11-29T17:48:53.564Z"
   },
   {
    "duration": 16,
    "start_time": "2022-11-29T17:48:53.576Z"
   },
   {
    "duration": 47,
    "start_time": "2022-11-29T17:48:53.594Z"
   },
   {
    "duration": 7,
    "start_time": "2022-11-29T17:48:53.643Z"
   },
   {
    "duration": 21,
    "start_time": "2022-11-29T17:48:53.651Z"
   },
   {
    "duration": 3,
    "start_time": "2022-11-29T17:48:53.674Z"
   },
   {
    "duration": 261,
    "start_time": "2022-11-29T17:48:53.679Z"
   },
   {
    "duration": 23,
    "start_time": "2022-11-29T17:55:49.943Z"
   },
   {
    "duration": 24,
    "start_time": "2022-11-29T17:57:04.293Z"
   },
   {
    "duration": 22,
    "start_time": "2022-11-29T17:57:15.178Z"
   },
   {
    "duration": 27,
    "start_time": "2022-11-29T17:57:22.541Z"
   },
   {
    "duration": 28,
    "start_time": "2022-11-29T17:58:34.121Z"
   },
   {
    "duration": 29,
    "start_time": "2022-11-29T17:58:42.742Z"
   },
   {
    "duration": 30,
    "start_time": "2022-11-29T17:58:56.374Z"
   },
   {
    "duration": 30,
    "start_time": "2022-11-29T17:59:08.551Z"
   },
   {
    "duration": 28,
    "start_time": "2022-11-29T17:59:12.554Z"
   },
   {
    "duration": 27,
    "start_time": "2022-11-29T17:59:30.426Z"
   },
   {
    "duration": 2,
    "start_time": "2022-11-29T18:03:32.978Z"
   },
   {
    "duration": 213,
    "start_time": "2022-11-29T18:03:33.826Z"
   },
   {
    "duration": 219,
    "start_time": "2022-11-29T18:07:54.902Z"
   },
   {
    "duration": 3,
    "start_time": "2022-11-29T18:11:11.309Z"
   },
   {
    "duration": 18,
    "start_time": "2022-11-29T18:11:45.966Z"
   },
   {
    "duration": 11,
    "start_time": "2022-11-29T18:12:21.947Z"
   },
   {
    "duration": 18,
    "start_time": "2022-11-29T18:12:26.448Z"
   },
   {
    "duration": 120,
    "start_time": "2022-11-29T18:14:40.707Z"
   },
   {
    "duration": 1196,
    "start_time": "2022-11-29T18:14:48.152Z"
   },
   {
    "duration": 1799,
    "start_time": "2022-11-29T18:14:49.350Z"
   },
   {
    "duration": 33,
    "start_time": "2022-11-29T18:14:51.151Z"
   },
   {
    "duration": 10,
    "start_time": "2022-11-29T18:14:51.186Z"
   },
   {
    "duration": 45,
    "start_time": "2022-11-29T18:14:51.197Z"
   },
   {
    "duration": 18,
    "start_time": "2022-11-29T18:14:51.244Z"
   },
   {
    "duration": 13,
    "start_time": "2022-11-29T18:14:51.264Z"
   },
   {
    "duration": 29,
    "start_time": "2022-11-29T18:14:51.279Z"
   },
   {
    "duration": 82,
    "start_time": "2022-11-29T18:14:51.310Z"
   },
   {
    "duration": 24,
    "start_time": "2022-11-29T18:14:51.395Z"
   },
   {
    "duration": 67,
    "start_time": "2022-11-29T18:14:51.421Z"
   },
   {
    "duration": 29,
    "start_time": "2022-11-29T18:14:51.489Z"
   },
   {
    "duration": 201,
    "start_time": "2022-11-29T18:14:51.538Z"
   },
   {
    "duration": 184,
    "start_time": "2022-11-29T18:14:51.741Z"
   },
   {
    "duration": 15,
    "start_time": "2022-11-29T18:14:51.927Z"
   },
   {
    "duration": 162,
    "start_time": "2022-11-29T18:14:51.944Z"
   },
   {
    "duration": 7,
    "start_time": "2022-11-29T18:14:52.107Z"
   },
   {
    "duration": 23,
    "start_time": "2022-11-29T18:14:52.115Z"
   },
   {
    "duration": 18,
    "start_time": "2022-11-29T18:14:52.140Z"
   },
   {
    "duration": 201,
    "start_time": "2022-11-29T18:14:52.159Z"
   },
   {
    "duration": 374,
    "start_time": "2022-11-29T18:14:52.362Z"
   },
   {
    "duration": 0,
    "start_time": "2022-11-29T18:14:52.738Z"
   },
   {
    "duration": 0,
    "start_time": "2022-11-29T18:14:52.739Z"
   },
   {
    "duration": 0,
    "start_time": "2022-11-29T18:14:52.741Z"
   },
   {
    "duration": 0,
    "start_time": "2022-11-29T18:14:52.742Z"
   },
   {
    "duration": 0,
    "start_time": "2022-11-29T18:14:52.743Z"
   },
   {
    "duration": 0,
    "start_time": "2022-11-29T18:14:52.744Z"
   },
   {
    "duration": 0,
    "start_time": "2022-11-29T18:14:52.745Z"
   },
   {
    "duration": 0,
    "start_time": "2022-11-29T18:14:52.746Z"
   },
   {
    "duration": 0,
    "start_time": "2022-11-29T18:14:52.747Z"
   },
   {
    "duration": 0,
    "start_time": "2022-11-29T18:14:52.748Z"
   },
   {
    "duration": 72,
    "start_time": "2022-11-29T18:15:49.812Z"
   },
   {
    "duration": 1182,
    "start_time": "2022-11-29T18:15:57.103Z"
   },
   {
    "duration": 1241,
    "start_time": "2022-11-29T18:15:58.287Z"
   },
   {
    "duration": 33,
    "start_time": "2022-11-29T18:15:59.530Z"
   },
   {
    "duration": 11,
    "start_time": "2022-11-29T18:15:59.565Z"
   },
   {
    "duration": 20,
    "start_time": "2022-11-29T18:15:59.578Z"
   },
   {
    "duration": 43,
    "start_time": "2022-11-29T18:15:59.600Z"
   },
   {
    "duration": 13,
    "start_time": "2022-11-29T18:15:59.645Z"
   },
   {
    "duration": 30,
    "start_time": "2022-11-29T18:15:59.659Z"
   },
   {
    "duration": 81,
    "start_time": "2022-11-29T18:15:59.691Z"
   },
   {
    "duration": 30,
    "start_time": "2022-11-29T18:15:59.774Z"
   },
   {
    "duration": 69,
    "start_time": "2022-11-29T18:15:59.806Z"
   },
   {
    "duration": 28,
    "start_time": "2022-11-29T18:15:59.877Z"
   },
   {
    "duration": 106,
    "start_time": "2022-11-29T18:15:59.907Z"
   },
   {
    "duration": 197,
    "start_time": "2022-11-29T18:16:00.016Z"
   },
   {
    "duration": 11,
    "start_time": "2022-11-29T18:16:00.215Z"
   },
   {
    "duration": 164,
    "start_time": "2022-11-29T18:16:00.238Z"
   },
   {
    "duration": 6,
    "start_time": "2022-11-29T18:16:00.404Z"
   },
   {
    "duration": 31,
    "start_time": "2022-11-29T18:16:00.412Z"
   },
   {
    "duration": 35,
    "start_time": "2022-11-29T18:16:00.445Z"
   },
   {
    "duration": 171,
    "start_time": "2022-11-29T18:16:00.482Z"
   },
   {
    "duration": 26,
    "start_time": "2022-11-29T18:16:00.655Z"
   },
   {
    "duration": 11,
    "start_time": "2022-11-29T18:16:00.683Z"
   },
   {
    "duration": 30,
    "start_time": "2022-11-29T18:16:00.696Z"
   },
   {
    "duration": 63,
    "start_time": "2022-11-29T18:16:00.728Z"
   },
   {
    "duration": 7,
    "start_time": "2022-11-29T18:16:00.792Z"
   },
   {
    "duration": 50,
    "start_time": "2022-11-29T18:16:00.800Z"
   },
   {
    "duration": 36,
    "start_time": "2022-11-29T18:16:00.852Z"
   },
   {
    "duration": 3,
    "start_time": "2022-11-29T18:16:00.890Z"
   },
   {
    "duration": 232,
    "start_time": "2022-11-29T18:16:00.894Z"
   },
   {
    "duration": 29,
    "start_time": "2022-11-29T18:16:01.127Z"
   },
   {
    "duration": 19,
    "start_time": "2022-11-29T18:16:01.157Z"
   },
   {
    "duration": 19,
    "start_time": "2022-11-29T18:18:47.178Z"
   },
   {
    "duration": 33,
    "start_time": "2022-11-29T18:19:17.129Z"
   },
   {
    "duration": 30,
    "start_time": "2022-11-29T18:20:52.295Z"
   },
   {
    "duration": 121,
    "start_time": "2022-11-29T18:22:56.120Z"
   },
   {
    "duration": 36,
    "start_time": "2022-11-29T18:23:16.852Z"
   },
   {
    "duration": 30,
    "start_time": "2022-11-29T18:23:35.121Z"
   },
   {
    "duration": 38,
    "start_time": "2022-11-29T18:23:40.280Z"
   },
   {
    "duration": 272,
    "start_time": "2022-11-29T18:24:19.842Z"
   },
   {
    "duration": 283,
    "start_time": "2022-11-29T18:25:06.429Z"
   },
   {
    "duration": 206,
    "start_time": "2022-11-29T18:26:30.038Z"
   },
   {
    "duration": 330,
    "start_time": "2022-11-29T18:26:45.543Z"
   },
   {
    "duration": 306,
    "start_time": "2022-11-29T18:26:53.697Z"
   },
   {
    "duration": 285,
    "start_time": "2022-11-29T18:28:34.710Z"
   },
   {
    "duration": 360,
    "start_time": "2022-11-29T18:28:39.043Z"
   },
   {
    "duration": 291,
    "start_time": "2022-11-29T18:29:58.146Z"
   },
   {
    "duration": 323,
    "start_time": "2022-11-29T18:30:03.816Z"
   },
   {
    "duration": 325,
    "start_time": "2022-11-29T18:30:19.455Z"
   },
   {
    "duration": 382,
    "start_time": "2022-11-29T18:30:25.832Z"
   },
   {
    "duration": 1273,
    "start_time": "2022-11-30T09:10:56.659Z"
   },
   {
    "duration": 1102,
    "start_time": "2022-11-30T09:10:57.934Z"
   },
   {
    "duration": 34,
    "start_time": "2022-11-30T09:10:59.038Z"
   },
   {
    "duration": 10,
    "start_time": "2022-11-30T09:10:59.074Z"
   },
   {
    "duration": 25,
    "start_time": "2022-11-30T09:10:59.085Z"
   },
   {
    "duration": 41,
    "start_time": "2022-11-30T09:10:59.111Z"
   },
   {
    "duration": 16,
    "start_time": "2022-11-30T09:10:59.154Z"
   },
   {
    "duration": 28,
    "start_time": "2022-11-30T09:10:59.172Z"
   },
   {
    "duration": 67,
    "start_time": "2022-11-30T09:10:59.202Z"
   },
   {
    "duration": 26,
    "start_time": "2022-11-30T09:10:59.272Z"
   },
   {
    "duration": 72,
    "start_time": "2022-11-30T09:10:59.299Z"
   },
   {
    "duration": 26,
    "start_time": "2022-11-30T09:10:59.373Z"
   },
   {
    "duration": 102,
    "start_time": "2022-11-30T09:10:59.400Z"
   },
   {
    "duration": 197,
    "start_time": "2022-11-30T09:10:59.504Z"
   },
   {
    "duration": 11,
    "start_time": "2022-11-30T09:10:59.703Z"
   },
   {
    "duration": 162,
    "start_time": "2022-11-30T09:10:59.716Z"
   },
   {
    "duration": 7,
    "start_time": "2022-11-30T09:10:59.879Z"
   },
   {
    "duration": 19,
    "start_time": "2022-11-30T09:10:59.888Z"
   },
   {
    "duration": 15,
    "start_time": "2022-11-30T09:10:59.908Z"
   },
   {
    "duration": 171,
    "start_time": "2022-11-30T09:10:59.924Z"
   },
   {
    "duration": 26,
    "start_time": "2022-11-30T09:11:00.096Z"
   },
   {
    "duration": 10,
    "start_time": "2022-11-30T09:11:00.123Z"
   },
   {
    "duration": 29,
    "start_time": "2022-11-30T09:11:00.134Z"
   },
   {
    "duration": 29,
    "start_time": "2022-11-30T09:11:00.164Z"
   },
   {
    "duration": 6,
    "start_time": "2022-11-30T09:11:00.195Z"
   },
   {
    "duration": 19,
    "start_time": "2022-11-30T09:11:00.202Z"
   },
   {
    "duration": 45,
    "start_time": "2022-11-30T09:11:00.223Z"
   },
   {
    "duration": 3,
    "start_time": "2022-11-30T09:11:00.271Z"
   },
   {
    "duration": 221,
    "start_time": "2022-11-30T09:11:00.276Z"
   },
   {
    "duration": 312,
    "start_time": "2022-11-30T09:11:00.499Z"
   },
   {
    "duration": 74,
    "start_time": "2022-11-30T09:17:35.263Z"
   },
   {
    "duration": 408,
    "start_time": "2022-11-30T09:18:05.554Z"
   },
   {
    "duration": 60,
    "start_time": "2022-11-30T09:30:48.534Z"
   },
   {
    "duration": 57,
    "start_time": "2022-11-30T09:31:09.263Z"
   },
   {
    "duration": 63,
    "start_time": "2022-11-30T09:31:20.098Z"
   },
   {
    "duration": 64,
    "start_time": "2022-11-30T09:32:09.353Z"
   },
   {
    "duration": 1220,
    "start_time": "2022-11-30T09:40:34.527Z"
   },
   {
    "duration": 1659,
    "start_time": "2022-11-30T09:40:35.749Z"
   },
   {
    "duration": 34,
    "start_time": "2022-11-30T09:40:37.410Z"
   },
   {
    "duration": 10,
    "start_time": "2022-11-30T09:40:37.446Z"
   },
   {
    "duration": 20,
    "start_time": "2022-11-30T09:40:37.458Z"
   },
   {
    "duration": 17,
    "start_time": "2022-11-30T09:40:37.480Z"
   },
   {
    "duration": 11,
    "start_time": "2022-11-30T09:40:37.498Z"
   },
   {
    "duration": 51,
    "start_time": "2022-11-30T09:40:37.511Z"
   },
   {
    "duration": 49,
    "start_time": "2022-11-30T09:40:37.563Z"
   },
   {
    "duration": 39,
    "start_time": "2022-11-30T09:40:37.614Z"
   },
   {
    "duration": 52,
    "start_time": "2022-11-30T09:40:37.654Z"
   },
   {
    "duration": 44,
    "start_time": "2022-11-30T09:40:37.708Z"
   },
   {
    "duration": 82,
    "start_time": "2022-11-30T09:40:37.754Z"
   },
   {
    "duration": 184,
    "start_time": "2022-11-30T09:40:37.838Z"
   },
   {
    "duration": 11,
    "start_time": "2022-11-30T09:40:38.023Z"
   },
   {
    "duration": 164,
    "start_time": "2022-11-30T09:40:38.036Z"
   },
   {
    "duration": 6,
    "start_time": "2022-11-30T09:40:38.202Z"
   },
   {
    "duration": 25,
    "start_time": "2022-11-30T09:40:38.210Z"
   },
   {
    "duration": 21,
    "start_time": "2022-11-30T09:40:38.237Z"
   },
   {
    "duration": 152,
    "start_time": "2022-11-30T09:40:38.259Z"
   },
   {
    "duration": 25,
    "start_time": "2022-11-30T09:40:38.412Z"
   },
   {
    "duration": 16,
    "start_time": "2022-11-30T09:40:38.438Z"
   },
   {
    "duration": 14,
    "start_time": "2022-11-30T09:40:38.456Z"
   },
   {
    "duration": 27,
    "start_time": "2022-11-30T09:40:38.471Z"
   },
   {
    "duration": 6,
    "start_time": "2022-11-30T09:40:38.499Z"
   },
   {
    "duration": 15,
    "start_time": "2022-11-30T09:40:38.507Z"
   },
   {
    "duration": 52,
    "start_time": "2022-11-30T09:40:38.524Z"
   },
   {
    "duration": 2,
    "start_time": "2022-11-30T09:40:38.579Z"
   },
   {
    "duration": 378,
    "start_time": "2022-11-30T09:40:38.583Z"
   },
   {
    "duration": 426,
    "start_time": "2022-11-30T09:40:38.963Z"
   },
   {
    "duration": 3,
    "start_time": "2022-11-30T09:41:05.334Z"
   },
   {
    "duration": 304,
    "start_time": "2022-11-30T09:41:07.882Z"
   },
   {
    "duration": 13,
    "start_time": "2022-11-30T10:40:00.857Z"
   },
   {
    "duration": 16,
    "start_time": "2022-11-30T10:40:13.020Z"
   },
   {
    "duration": 23,
    "start_time": "2022-11-30T10:41:42.660Z"
   },
   {
    "duration": 23,
    "start_time": "2022-11-30T13:51:15.076Z"
   },
   {
    "duration": 38,
    "start_time": "2022-11-30T13:52:05.280Z"
   },
   {
    "duration": 41,
    "start_time": "2022-11-30T13:52:14.434Z"
   },
   {
    "duration": 46,
    "start_time": "2022-11-30T13:53:38.603Z"
   },
   {
    "duration": 44,
    "start_time": "2022-11-30T13:54:21.383Z"
   },
   {
    "duration": 41,
    "start_time": "2022-11-30T13:54:25.785Z"
   },
   {
    "duration": 81,
    "start_time": "2022-11-30T13:56:37.475Z"
   },
   {
    "duration": 69,
    "start_time": "2022-11-30T13:56:52.085Z"
   },
   {
    "duration": 78,
    "start_time": "2022-11-30T13:57:01.783Z"
   },
   {
    "duration": 76,
    "start_time": "2022-11-30T13:57:06.147Z"
   },
   {
    "duration": 22,
    "start_time": "2022-11-30T13:59:47.688Z"
   },
   {
    "duration": 156,
    "start_time": "2022-11-30T13:59:53.705Z"
   },
   {
    "duration": 27,
    "start_time": "2022-11-30T13:59:56.724Z"
   },
   {
    "duration": 41,
    "start_time": "2022-11-30T14:00:25.985Z"
   },
   {
    "duration": 27,
    "start_time": "2022-11-30T14:01:13.981Z"
   },
   {
    "duration": 19,
    "start_time": "2022-11-30T14:01:34.680Z"
   },
   {
    "duration": 12,
    "start_time": "2022-11-30T14:02:15.220Z"
   },
   {
    "duration": 17,
    "start_time": "2022-11-30T14:02:25.066Z"
   },
   {
    "duration": 12,
    "start_time": "2022-11-30T14:02:46.547Z"
   },
   {
    "duration": 85,
    "start_time": "2022-11-30T14:02:59.485Z"
   },
   {
    "duration": 16,
    "start_time": "2022-11-30T14:03:06.660Z"
   },
   {
    "duration": 41,
    "start_time": "2022-11-30T14:03:26.377Z"
   },
   {
    "duration": 18,
    "start_time": "2022-11-30T14:04:14.526Z"
   },
   {
    "duration": 45,
    "start_time": "2022-11-30T14:04:17.679Z"
   },
   {
    "duration": 11,
    "start_time": "2022-11-30T14:05:17.527Z"
   },
   {
    "duration": 53,
    "start_time": "2022-11-30T14:06:13.422Z"
   },
   {
    "duration": 44,
    "start_time": "2022-11-30T14:07:17.814Z"
   },
   {
    "duration": 87,
    "start_time": "2022-11-30T14:07:36.187Z"
   },
   {
    "duration": 10,
    "start_time": "2022-11-30T14:12:16.677Z"
   },
   {
    "duration": 15,
    "start_time": "2022-11-30T14:12:32.821Z"
   },
   {
    "duration": 3,
    "start_time": "2022-11-30T14:13:51.709Z"
   },
   {
    "duration": 16,
    "start_time": "2022-11-30T14:14:16.520Z"
   },
   {
    "duration": 78,
    "start_time": "2022-11-30T14:14:25.275Z"
   },
   {
    "duration": 21,
    "start_time": "2022-11-30T14:14:28.439Z"
   },
   {
    "duration": 76,
    "start_time": "2022-11-30T14:16:37.323Z"
   },
   {
    "duration": 66,
    "start_time": "2022-11-30T14:16:43.294Z"
   },
   {
    "duration": 70,
    "start_time": "2022-11-30T14:16:46.220Z"
   },
   {
    "duration": 72,
    "start_time": "2022-11-30T14:17:38.483Z"
   },
   {
    "duration": 3,
    "start_time": "2022-11-30T14:19:51.535Z"
   },
   {
    "duration": 124,
    "start_time": "2022-11-30T14:20:40.474Z"
   },
   {
    "duration": 72,
    "start_time": "2022-11-30T14:20:49.183Z"
   },
   {
    "duration": 76,
    "start_time": "2022-11-30T14:20:55.029Z"
   },
   {
    "duration": 5,
    "start_time": "2022-11-30T14:21:19.155Z"
   },
   {
    "duration": 26,
    "start_time": "2022-11-30T14:21:26.059Z"
   },
   {
    "duration": 30,
    "start_time": "2022-11-30T14:24:14.274Z"
   },
   {
    "duration": 27,
    "start_time": "2022-11-30T14:24:32.707Z"
   },
   {
    "duration": 29,
    "start_time": "2022-11-30T14:24:42.782Z"
   },
   {
    "duration": 25,
    "start_time": "2022-11-30T14:24:50.447Z"
   },
   {
    "duration": 40,
    "start_time": "2022-11-30T14:25:06.161Z"
   },
   {
    "duration": 25,
    "start_time": "2022-11-30T14:25:12.689Z"
   },
   {
    "duration": 64,
    "start_time": "2022-11-30T14:26:15.957Z"
   },
   {
    "duration": 67,
    "start_time": "2022-11-30T14:26:55.875Z"
   },
   {
    "duration": 70,
    "start_time": "2022-11-30T14:27:04.897Z"
   },
   {
    "duration": 63,
    "start_time": "2022-11-30T14:27:07.588Z"
   },
   {
    "duration": 74,
    "start_time": "2022-11-30T14:27:18.732Z"
   },
   {
    "duration": 60,
    "start_time": "2022-11-30T14:27:27.195Z"
   },
   {
    "duration": 63,
    "start_time": "2022-11-30T14:27:31.564Z"
   },
   {
    "duration": 77,
    "start_time": "2022-11-30T14:28:04.848Z"
   },
   {
    "duration": 61,
    "start_time": "2022-11-30T14:28:18.422Z"
   },
   {
    "duration": 63,
    "start_time": "2022-11-30T14:29:02.971Z"
   },
   {
    "duration": 1195,
    "start_time": "2022-11-30T14:36:27.240Z"
   },
   {
    "duration": 1108,
    "start_time": "2022-11-30T14:36:28.437Z"
   },
   {
    "duration": 38,
    "start_time": "2022-11-30T14:36:29.547Z"
   },
   {
    "duration": 11,
    "start_time": "2022-11-30T14:36:29.586Z"
   },
   {
    "duration": 19,
    "start_time": "2022-11-30T14:36:29.599Z"
   },
   {
    "duration": 41,
    "start_time": "2022-11-30T14:36:29.620Z"
   },
   {
    "duration": 12,
    "start_time": "2022-11-30T14:36:29.663Z"
   },
   {
    "duration": 28,
    "start_time": "2022-11-30T14:36:29.676Z"
   },
   {
    "duration": 75,
    "start_time": "2022-11-30T14:36:29.705Z"
   },
   {
    "duration": 24,
    "start_time": "2022-11-30T14:36:29.781Z"
   },
   {
    "duration": 67,
    "start_time": "2022-11-30T14:36:29.807Z"
   },
   {
    "duration": 25,
    "start_time": "2022-11-30T14:36:29.876Z"
   },
   {
    "duration": 106,
    "start_time": "2022-11-30T14:36:29.903Z"
   },
   {
    "duration": 195,
    "start_time": "2022-11-30T14:36:30.012Z"
   },
   {
    "duration": 11,
    "start_time": "2022-11-30T14:36:30.209Z"
   },
   {
    "duration": 171,
    "start_time": "2022-11-30T14:36:30.222Z"
   },
   {
    "duration": 6,
    "start_time": "2022-11-30T14:36:30.394Z"
   },
   {
    "duration": 25,
    "start_time": "2022-11-30T14:36:30.402Z"
   },
   {
    "duration": 16,
    "start_time": "2022-11-30T14:36:30.429Z"
   },
   {
    "duration": 168,
    "start_time": "2022-11-30T14:36:30.447Z"
   },
   {
    "duration": 26,
    "start_time": "2022-11-30T14:36:30.617Z"
   },
   {
    "duration": 16,
    "start_time": "2022-11-30T14:36:30.644Z"
   },
   {
    "duration": 22,
    "start_time": "2022-11-30T14:36:30.661Z"
   },
   {
    "duration": 31,
    "start_time": "2022-11-30T14:36:30.684Z"
   },
   {
    "duration": 5,
    "start_time": "2022-11-30T14:36:30.717Z"
   },
   {
    "duration": 42,
    "start_time": "2022-11-30T14:36:30.724Z"
   },
   {
    "duration": 47,
    "start_time": "2022-11-30T14:36:30.767Z"
   },
   {
    "duration": 361,
    "start_time": "2022-11-30T14:36:30.816Z"
   },
   {
    "duration": 4,
    "start_time": "2022-11-30T14:36:31.178Z"
   },
   {
    "duration": 498,
    "start_time": "2022-11-30T14:36:31.183Z"
   },
   {
    "duration": 76,
    "start_time": "2022-11-30T14:36:31.682Z"
   },
   {
    "duration": 64,
    "start_time": "2022-11-30T14:38:19.606Z"
   },
   {
    "duration": 64,
    "start_time": "2022-11-30T14:38:34.052Z"
   },
   {
    "duration": 63,
    "start_time": "2022-11-30T14:38:36.858Z"
   },
   {
    "duration": 151,
    "start_time": "2022-11-30T14:41:54.229Z"
   },
   {
    "duration": 10,
    "start_time": "2022-11-30T14:41:58.081Z"
   },
   {
    "duration": 10,
    "start_time": "2022-11-30T14:42:03.147Z"
   },
   {
    "duration": 10,
    "start_time": "2022-11-30T14:42:16.539Z"
   },
   {
    "duration": 13,
    "start_time": "2022-11-30T14:42:22.476Z"
   },
   {
    "duration": 13,
    "start_time": "2022-11-30T14:42:45.644Z"
   },
   {
    "duration": 19,
    "start_time": "2022-11-30T14:42:51.638Z"
   },
   {
    "duration": 46,
    "start_time": "2022-11-30T14:43:48.482Z"
   },
   {
    "duration": 43,
    "start_time": "2022-11-30T14:44:24.332Z"
   },
   {
    "duration": 1169,
    "start_time": "2022-11-30T14:53:40.874Z"
   },
   {
    "duration": 1384,
    "start_time": "2022-11-30T14:53:42.045Z"
   },
   {
    "duration": 33,
    "start_time": "2022-11-30T14:53:43.430Z"
   },
   {
    "duration": 11,
    "start_time": "2022-11-30T14:53:43.465Z"
   },
   {
    "duration": 25,
    "start_time": "2022-11-30T14:53:43.478Z"
   },
   {
    "duration": 35,
    "start_time": "2022-11-30T14:53:43.505Z"
   },
   {
    "duration": 50,
    "start_time": "2022-11-30T14:53:43.542Z"
   },
   {
    "duration": 53,
    "start_time": "2022-11-30T14:53:43.594Z"
   },
   {
    "duration": 72,
    "start_time": "2022-11-30T14:53:43.648Z"
   },
   {
    "duration": 25,
    "start_time": "2022-11-30T14:53:43.722Z"
   },
   {
    "duration": 88,
    "start_time": "2022-11-30T14:53:43.749Z"
   },
   {
    "duration": 30,
    "start_time": "2022-11-30T14:53:43.839Z"
   },
   {
    "duration": 115,
    "start_time": "2022-11-30T14:53:43.871Z"
   },
   {
    "duration": 176,
    "start_time": "2022-11-30T14:53:43.988Z"
   },
   {
    "duration": 13,
    "start_time": "2022-11-30T14:53:44.166Z"
   },
   {
    "duration": 181,
    "start_time": "2022-11-30T14:53:44.180Z"
   },
   {
    "duration": 6,
    "start_time": "2022-11-30T14:53:44.363Z"
   },
   {
    "duration": 24,
    "start_time": "2022-11-30T14:53:44.371Z"
   },
   {
    "duration": 13,
    "start_time": "2022-11-30T14:53:44.397Z"
   },
   {
    "duration": 169,
    "start_time": "2022-11-30T14:53:44.411Z"
   },
   {
    "duration": 26,
    "start_time": "2022-11-30T14:53:44.581Z"
   },
   {
    "duration": 11,
    "start_time": "2022-11-30T14:53:44.609Z"
   },
   {
    "duration": 32,
    "start_time": "2022-11-30T14:53:44.622Z"
   },
   {
    "duration": 33,
    "start_time": "2022-11-30T14:53:44.656Z"
   },
   {
    "duration": 9,
    "start_time": "2022-11-30T14:53:44.691Z"
   },
   {
    "duration": 27,
    "start_time": "2022-11-30T14:53:44.701Z"
   },
   {
    "duration": 27,
    "start_time": "2022-11-30T14:53:44.729Z"
   },
   {
    "duration": 370,
    "start_time": "2022-11-30T14:53:44.759Z"
   },
   {
    "duration": 3,
    "start_time": "2022-11-30T14:53:45.131Z"
   },
   {
    "duration": 497,
    "start_time": "2022-11-30T14:53:45.135Z"
   },
   {
    "duration": 84,
    "start_time": "2022-11-30T14:53:45.634Z"
   },
   {
    "duration": 56,
    "start_time": "2022-11-30T14:53:45.719Z"
   },
   {
    "duration": 8,
    "start_time": "2022-11-30T14:59:23.320Z"
   },
   {
    "duration": 3,
    "start_time": "2022-11-30T15:29:08.162Z"
   },
   {
    "duration": 19,
    "start_time": "2022-11-30T15:31:38.206Z"
   },
   {
    "duration": 74,
    "start_time": "2022-11-30T15:36:30.307Z"
   },
   {
    "duration": 16,
    "start_time": "2022-11-30T15:36:34.273Z"
   },
   {
    "duration": 21,
    "start_time": "2022-11-30T15:37:46.877Z"
   },
   {
    "duration": 1381,
    "start_time": "2022-11-30T20:59:33.528Z"
   },
   {
    "duration": 1506,
    "start_time": "2022-11-30T20:59:34.911Z"
   },
   {
    "duration": 34,
    "start_time": "2022-11-30T20:59:36.418Z"
   },
   {
    "duration": 10,
    "start_time": "2022-11-30T20:59:36.454Z"
   },
   {
    "duration": 18,
    "start_time": "2022-11-30T20:59:36.467Z"
   },
   {
    "duration": 17,
    "start_time": "2022-11-30T20:59:36.487Z"
   },
   {
    "duration": 41,
    "start_time": "2022-11-30T20:59:36.506Z"
   },
   {
    "duration": 30,
    "start_time": "2022-11-30T20:59:36.549Z"
   },
   {
    "duration": 75,
    "start_time": "2022-11-30T20:59:36.581Z"
   },
   {
    "duration": 25,
    "start_time": "2022-11-30T20:59:36.658Z"
   },
   {
    "duration": 71,
    "start_time": "2022-11-30T20:59:36.685Z"
   },
   {
    "duration": 27,
    "start_time": "2022-11-30T20:59:36.757Z"
   },
   {
    "duration": 98,
    "start_time": "2022-11-30T20:59:36.786Z"
   },
   {
    "duration": 173,
    "start_time": "2022-11-30T20:59:36.886Z"
   },
   {
    "duration": 12,
    "start_time": "2022-11-30T20:59:37.061Z"
   },
   {
    "duration": 164,
    "start_time": "2022-11-30T20:59:37.074Z"
   },
   {
    "duration": 7,
    "start_time": "2022-11-30T20:59:37.239Z"
   },
   {
    "duration": 11,
    "start_time": "2022-11-30T20:59:37.248Z"
   },
   {
    "duration": 14,
    "start_time": "2022-11-30T20:59:37.260Z"
   },
   {
    "duration": 172,
    "start_time": "2022-11-30T20:59:37.275Z"
   },
   {
    "duration": 25,
    "start_time": "2022-11-30T20:59:37.448Z"
   },
   {
    "duration": 9,
    "start_time": "2022-11-30T20:59:37.474Z"
   },
   {
    "duration": 16,
    "start_time": "2022-11-30T20:59:37.484Z"
   },
   {
    "duration": 44,
    "start_time": "2022-11-30T20:59:37.502Z"
   },
   {
    "duration": 6,
    "start_time": "2022-11-30T20:59:37.547Z"
   },
   {
    "duration": 16,
    "start_time": "2022-11-30T20:59:37.554Z"
   },
   {
    "duration": 26,
    "start_time": "2022-11-30T20:59:37.571Z"
   },
   {
    "duration": 405,
    "start_time": "2022-11-30T20:59:37.598Z"
   },
   {
    "duration": 3,
    "start_time": "2022-11-30T20:59:38.005Z"
   },
   {
    "duration": 463,
    "start_time": "2022-11-30T20:59:38.010Z"
   },
   {
    "duration": 86,
    "start_time": "2022-11-30T20:59:38.475Z"
   },
   {
    "duration": 43,
    "start_time": "2022-11-30T20:59:38.563Z"
   },
   {
    "duration": 30,
    "start_time": "2022-11-30T20:59:38.608Z"
   },
   {
    "duration": 3,
    "start_time": "2022-11-30T20:59:38.640Z"
   },
   {
    "duration": 27,
    "start_time": "2022-11-30T20:59:38.644Z"
   },
   {
    "duration": 72,
    "start_time": "2022-11-30T20:59:52.496Z"
   },
   {
    "duration": 69,
    "start_time": "2022-11-30T21:00:19.500Z"
   },
   {
    "duration": 67,
    "start_time": "2022-11-30T21:00:41.316Z"
   },
   {
    "duration": 1785,
    "start_time": "2022-11-30T21:11:32.590Z"
   },
   {
    "duration": 1136,
    "start_time": "2022-11-30T21:11:47.785Z"
   },
   {
    "duration": 1173,
    "start_time": "2022-11-30T21:12:12.150Z"
   },
   {
    "duration": 1147,
    "start_time": "2022-11-30T21:12:20.508Z"
   },
   {
    "duration": 9,
    "start_time": "2022-11-30T21:14:00.827Z"
   },
   {
    "duration": 18,
    "start_time": "2022-11-30T21:15:14.180Z"
   },
   {
    "duration": 8,
    "start_time": "2022-11-30T21:15:26.434Z"
   },
   {
    "duration": 3,
    "start_time": "2022-11-30T21:16:31.924Z"
   },
   {
    "duration": 4,
    "start_time": "2022-11-30T21:16:33.365Z"
   },
   {
    "duration": 3,
    "start_time": "2022-11-30T21:17:02.214Z"
   },
   {
    "duration": 6,
    "start_time": "2022-11-30T21:17:25.951Z"
   },
   {
    "duration": 10,
    "start_time": "2022-11-30T21:18:06.767Z"
   },
   {
    "duration": 10,
    "start_time": "2022-11-30T21:18:19.298Z"
   },
   {
    "duration": 16,
    "start_time": "2022-11-30T21:18:44.402Z"
   },
   {
    "duration": 18,
    "start_time": "2022-11-30T21:18:48.249Z"
   },
   {
    "duration": 18,
    "start_time": "2022-11-30T21:19:55.630Z"
   },
   {
    "duration": 4,
    "start_time": "2022-11-30T21:20:23.229Z"
   },
   {
    "duration": 4,
    "start_time": "2022-11-30T21:20:31.576Z"
   },
   {
    "duration": 4,
    "start_time": "2022-11-30T21:20:43.243Z"
   },
   {
    "duration": 21,
    "start_time": "2022-11-30T21:20:51.464Z"
   },
   {
    "duration": 21,
    "start_time": "2022-11-30T21:21:29.146Z"
   },
   {
    "duration": 72,
    "start_time": "2022-11-30T21:23:11.541Z"
   },
   {
    "duration": 10,
    "start_time": "2022-11-30T21:23:32.593Z"
   },
   {
    "duration": 13,
    "start_time": "2022-11-30T21:23:36.109Z"
   },
   {
    "duration": 10,
    "start_time": "2022-11-30T21:24:10.695Z"
   },
   {
    "duration": 12,
    "start_time": "2022-11-30T21:24:14.303Z"
   },
   {
    "duration": 13,
    "start_time": "2022-11-30T21:24:19.143Z"
   },
   {
    "duration": 12,
    "start_time": "2022-11-30T21:25:14.010Z"
   },
   {
    "duration": 16,
    "start_time": "2022-11-30T21:25:19.004Z"
   },
   {
    "duration": 12,
    "start_time": "2022-11-30T21:25:30.837Z"
   },
   {
    "duration": 13,
    "start_time": "2022-11-30T21:25:35.138Z"
   },
   {
    "duration": 19,
    "start_time": "2022-11-30T21:25:49.631Z"
   },
   {
    "duration": 13,
    "start_time": "2022-11-30T21:26:26.906Z"
   },
   {
    "duration": 14,
    "start_time": "2022-11-30T21:26:54.607Z"
   },
   {
    "duration": 14,
    "start_time": "2022-11-30T21:27:00.631Z"
   },
   {
    "duration": 29,
    "start_time": "2022-11-30T21:28:41.482Z"
   },
   {
    "duration": 28,
    "start_time": "2022-11-30T21:28:53.849Z"
   },
   {
    "duration": 17,
    "start_time": "2022-11-30T21:29:01.094Z"
   },
   {
    "duration": 25,
    "start_time": "2022-11-30T21:29:28.996Z"
   },
   {
    "duration": 20,
    "start_time": "2022-11-30T21:29:51.957Z"
   },
   {
    "duration": 19,
    "start_time": "2022-11-30T21:29:58.412Z"
   },
   {
    "duration": 16,
    "start_time": "2022-11-30T21:30:16.199Z"
   },
   {
    "duration": 18,
    "start_time": "2022-11-30T21:30:23.174Z"
   },
   {
    "duration": 21,
    "start_time": "2022-11-30T21:31:01.499Z"
   },
   {
    "duration": 23,
    "start_time": "2022-11-30T21:31:20.139Z"
   },
   {
    "duration": 18,
    "start_time": "2022-11-30T21:31:28.112Z"
   },
   {
    "duration": 20,
    "start_time": "2022-11-30T21:31:37.562Z"
   },
   {
    "duration": 6,
    "start_time": "2022-11-30T21:31:43.204Z"
   },
   {
    "duration": 27,
    "start_time": "2022-11-30T21:31:52.239Z"
   },
   {
    "duration": 4,
    "start_time": "2022-11-30T21:32:14.005Z"
   },
   {
    "duration": 26,
    "start_time": "2022-11-30T21:32:32.879Z"
   },
   {
    "duration": 26,
    "start_time": "2022-11-30T21:32:35.533Z"
   },
   {
    "duration": 15,
    "start_time": "2022-11-30T21:33:47.608Z"
   },
   {
    "duration": 20,
    "start_time": "2022-11-30T21:35:02.382Z"
   },
   {
    "duration": 8,
    "start_time": "2022-11-30T21:35:16.572Z"
   },
   {
    "duration": 10,
    "start_time": "2022-11-30T21:35:20.711Z"
   },
   {
    "duration": 31,
    "start_time": "2022-11-30T21:35:29.435Z"
   },
   {
    "duration": 6,
    "start_time": "2022-11-30T21:35:51.655Z"
   },
   {
    "duration": 6,
    "start_time": "2022-11-30T21:37:21.253Z"
   },
   {
    "duration": 7,
    "start_time": "2022-11-30T21:37:23.250Z"
   },
   {
    "duration": 29,
    "start_time": "2022-11-30T21:37:24.342Z"
   },
   {
    "duration": 7,
    "start_time": "2022-11-30T21:39:08.609Z"
   },
   {
    "duration": 27,
    "start_time": "2022-11-30T21:39:09.849Z"
   },
   {
    "duration": 11,
    "start_time": "2022-11-30T21:40:57.505Z"
   },
   {
    "duration": 13,
    "start_time": "2022-11-30T21:41:11.152Z"
   },
   {
    "duration": 23,
    "start_time": "2022-11-30T21:41:13.894Z"
   },
   {
    "duration": 14,
    "start_time": "2022-11-30T21:43:45.672Z"
   },
   {
    "duration": 13,
    "start_time": "2022-11-30T21:44:06.165Z"
   },
   {
    "duration": 13,
    "start_time": "2022-11-30T21:44:24.441Z"
   },
   {
    "duration": 12,
    "start_time": "2022-11-30T21:45:10.726Z"
   },
   {
    "duration": 13,
    "start_time": "2022-11-30T21:45:16.567Z"
   },
   {
    "duration": 13,
    "start_time": "2022-11-30T21:45:22.873Z"
   },
   {
    "duration": 13,
    "start_time": "2022-11-30T21:45:43.065Z"
   },
   {
    "duration": 14,
    "start_time": "2022-11-30T21:45:57.873Z"
   },
   {
    "duration": 75,
    "start_time": "2022-11-30T21:48:42.043Z"
   },
   {
    "duration": 7,
    "start_time": "2022-11-30T21:49:02.514Z"
   },
   {
    "duration": 27,
    "start_time": "2022-11-30T21:49:03.978Z"
   },
   {
    "duration": 75,
    "start_time": "2022-11-30T21:51:48.958Z"
   },
   {
    "duration": 21,
    "start_time": "2022-11-30T21:51:52.646Z"
   },
   {
    "duration": 21,
    "start_time": "2022-11-30T21:52:04.947Z"
   },
   {
    "duration": 22,
    "start_time": "2022-11-30T21:52:11.538Z"
   },
   {
    "duration": 19,
    "start_time": "2022-11-30T21:52:19.708Z"
   },
   {
    "duration": 20,
    "start_time": "2022-11-30T21:52:28.114Z"
   },
   {
    "duration": 17,
    "start_time": "2022-11-30T21:52:47.749Z"
   },
   {
    "duration": 20,
    "start_time": "2022-11-30T21:52:50.880Z"
   },
   {
    "duration": 8,
    "start_time": "2022-11-30T21:53:01.021Z"
   },
   {
    "duration": 37,
    "start_time": "2022-11-30T21:53:02.801Z"
   },
   {
    "duration": 20,
    "start_time": "2022-11-30T21:54:17.258Z"
   },
   {
    "duration": 7,
    "start_time": "2022-11-30T21:54:19.579Z"
   },
   {
    "duration": 6,
    "start_time": "2022-11-30T21:54:23.051Z"
   },
   {
    "duration": 33,
    "start_time": "2022-11-30T21:54:24.987Z"
   },
   {
    "duration": 20,
    "start_time": "2022-11-30T21:55:16.774Z"
   },
   {
    "duration": 5,
    "start_time": "2022-11-30T21:55:18.669Z"
   },
   {
    "duration": 6,
    "start_time": "2022-11-30T21:56:21.786Z"
   },
   {
    "duration": 25,
    "start_time": "2022-11-30T21:56:23.878Z"
   },
   {
    "duration": 24,
    "start_time": "2022-11-30T21:57:26.092Z"
   },
   {
    "duration": 19,
    "start_time": "2022-11-30T21:57:59.468Z"
   },
   {
    "duration": 23,
    "start_time": "2022-11-30T21:58:02.487Z"
   },
   {
    "duration": 6,
    "start_time": "2022-11-30T21:58:34.514Z"
   },
   {
    "duration": 23,
    "start_time": "2022-11-30T21:58:36.770Z"
   },
   {
    "duration": 24,
    "start_time": "2022-11-30T21:58:55.526Z"
   },
   {
    "duration": 19,
    "start_time": "2022-11-30T21:59:38.708Z"
   },
   {
    "duration": 10,
    "start_time": "2022-11-30T22:00:27.951Z"
   },
   {
    "duration": 10,
    "start_time": "2022-11-30T22:00:35.760Z"
   },
   {
    "duration": 8,
    "start_time": "2022-11-30T22:00:41.848Z"
   },
   {
    "duration": 18,
    "start_time": "2022-11-30T22:01:07.323Z"
   },
   {
    "duration": 7,
    "start_time": "2022-11-30T22:01:10.218Z"
   },
   {
    "duration": 7,
    "start_time": "2022-11-30T22:01:12.354Z"
   },
   {
    "duration": 32,
    "start_time": "2022-11-30T22:01:13.700Z"
   },
   {
    "duration": 6,
    "start_time": "2022-11-30T22:01:58.210Z"
   },
   {
    "duration": 9,
    "start_time": "2022-11-30T22:02:01.606Z"
   },
   {
    "duration": 22,
    "start_time": "2022-11-30T22:02:03.431Z"
   },
   {
    "duration": 22,
    "start_time": "2022-11-30T22:02:13.883Z"
   },
   {
    "duration": 6,
    "start_time": "2022-11-30T22:02:16.748Z"
   },
   {
    "duration": 34,
    "start_time": "2022-11-30T22:02:19.869Z"
   },
   {
    "duration": 1715,
    "start_time": "2022-12-01T11:36:12.858Z"
   },
   {
    "duration": 1309,
    "start_time": "2022-12-01T11:36:14.576Z"
   },
   {
    "duration": 40,
    "start_time": "2022-12-01T11:36:15.887Z"
   },
   {
    "duration": 25,
    "start_time": "2022-12-01T11:36:15.930Z"
   },
   {
    "duration": 34,
    "start_time": "2022-12-01T11:36:15.958Z"
   },
   {
    "duration": 32,
    "start_time": "2022-12-01T11:36:15.995Z"
   },
   {
    "duration": 43,
    "start_time": "2022-12-01T11:36:16.029Z"
   },
   {
    "duration": 40,
    "start_time": "2022-12-01T11:36:16.074Z"
   },
   {
    "duration": 89,
    "start_time": "2022-12-01T11:36:16.116Z"
   },
   {
    "duration": 31,
    "start_time": "2022-12-01T11:36:16.209Z"
   },
   {
    "duration": 80,
    "start_time": "2022-12-01T11:36:16.252Z"
   },
   {
    "duration": 54,
    "start_time": "2022-12-01T11:36:16.334Z"
   },
   {
    "duration": 124,
    "start_time": "2022-12-01T11:36:16.390Z"
   },
   {
    "duration": 257,
    "start_time": "2022-12-01T11:36:16.516Z"
   },
   {
    "duration": 15,
    "start_time": "2022-12-01T11:36:16.774Z"
   },
   {
    "duration": 222,
    "start_time": "2022-12-01T11:36:16.791Z"
   },
   {
    "duration": 9,
    "start_time": "2022-12-01T11:36:17.015Z"
   },
   {
    "duration": 33,
    "start_time": "2022-12-01T11:36:17.026Z"
   },
   {
    "duration": 35,
    "start_time": "2022-12-01T11:36:17.061Z"
   },
   {
    "duration": 217,
    "start_time": "2022-12-01T11:36:17.098Z"
   },
   {
    "duration": 54,
    "start_time": "2022-12-01T11:36:17.316Z"
   },
   {
    "duration": 12,
    "start_time": "2022-12-01T11:36:17.372Z"
   },
   {
    "duration": 17,
    "start_time": "2022-12-01T11:36:17.386Z"
   },
   {
    "duration": 28,
    "start_time": "2022-12-01T11:36:17.405Z"
   },
   {
    "duration": 10,
    "start_time": "2022-12-01T11:36:17.457Z"
   },
   {
    "duration": 22,
    "start_time": "2022-12-01T11:36:17.472Z"
   },
   {
    "duration": 31,
    "start_time": "2022-12-01T11:36:17.495Z"
   },
   {
    "duration": 511,
    "start_time": "2022-12-01T11:36:17.530Z"
   },
   {
    "duration": 5,
    "start_time": "2022-12-01T11:36:18.043Z"
   },
   {
    "duration": 613,
    "start_time": "2022-12-01T11:36:18.050Z"
   },
   {
    "duration": 100,
    "start_time": "2022-12-01T11:36:18.665Z"
   },
   {
    "duration": 11,
    "start_time": "2022-12-01T11:36:18.772Z"
   },
   {
    "duration": 13,
    "start_time": "2022-12-01T11:36:18.785Z"
   },
   {
    "duration": 36,
    "start_time": "2022-12-01T11:36:18.800Z"
   },
   {
    "duration": 20,
    "start_time": "2022-12-01T11:36:18.838Z"
   },
   {
    "duration": 25,
    "start_time": "2022-12-01T11:36:18.860Z"
   },
   {
    "duration": 44,
    "start_time": "2022-12-01T11:36:18.887Z"
   },
   {
    "duration": 30,
    "start_time": "2022-12-01T11:39:40.489Z"
   },
   {
    "duration": 8,
    "start_time": "2022-12-01T11:39:42.859Z"
   },
   {
    "duration": 28,
    "start_time": "2022-12-01T11:41:38.630Z"
   },
   {
    "duration": 34,
    "start_time": "2022-12-01T11:42:17.618Z"
   },
   {
    "duration": 52,
    "start_time": "2022-12-01T11:48:29.654Z"
   },
   {
    "duration": 25,
    "start_time": "2022-12-01T11:48:43.780Z"
   },
   {
    "duration": 7,
    "start_time": "2022-12-01T11:48:45.078Z"
   },
   {
    "duration": 38,
    "start_time": "2022-12-01T11:48:48.411Z"
   },
   {
    "duration": 5,
    "start_time": "2022-12-01T12:02:20.870Z"
   },
   {
    "duration": 34,
    "start_time": "2022-12-01T12:03:38.256Z"
   },
   {
    "duration": 24,
    "start_time": "2022-12-01T12:19:32.964Z"
   },
   {
    "duration": 6,
    "start_time": "2022-12-01T12:19:34.396Z"
   },
   {
    "duration": 40,
    "start_time": "2022-12-01T12:20:06.026Z"
   },
   {
    "duration": 165,
    "start_time": "2022-12-01T12:21:20.067Z"
   },
   {
    "duration": 42,
    "start_time": "2022-12-01T12:21:25.120Z"
   },
   {
    "duration": 39,
    "start_time": "2022-12-01T12:22:19.529Z"
   },
   {
    "duration": 133,
    "start_time": "2022-12-01T12:35:41.263Z"
   },
   {
    "duration": 18,
    "start_time": "2022-12-01T12:36:06.044Z"
   },
   {
    "duration": 9,
    "start_time": "2022-12-01T12:37:08.906Z"
   },
   {
    "duration": 26,
    "start_time": "2022-12-01T12:37:10.661Z"
   },
   {
    "duration": 20,
    "start_time": "2022-12-01T12:37:36.189Z"
   },
   {
    "duration": 7,
    "start_time": "2022-12-01T12:37:40.003Z"
   },
   {
    "duration": 30,
    "start_time": "2022-12-01T12:37:41.481Z"
   },
   {
    "duration": 22,
    "start_time": "2022-12-01T12:38:33.324Z"
   },
   {
    "duration": 76,
    "start_time": "2022-12-01T12:38:34.610Z"
   },
   {
    "duration": 7,
    "start_time": "2022-12-01T12:38:40.740Z"
   },
   {
    "duration": 12,
    "start_time": "2022-12-01T12:38:43.209Z"
   },
   {
    "duration": 18,
    "start_time": "2022-12-01T12:38:50.744Z"
   },
   {
    "duration": 6,
    "start_time": "2022-12-01T12:39:38.007Z"
   },
   {
    "duration": 6,
    "start_time": "2022-12-01T12:39:48.256Z"
   },
   {
    "duration": 11,
    "start_time": "2022-12-01T12:39:51.056Z"
   },
   {
    "duration": 32,
    "start_time": "2022-12-01T12:40:03.189Z"
   },
   {
    "duration": 5,
    "start_time": "2022-12-01T12:40:09.736Z"
   },
   {
    "duration": 34,
    "start_time": "2022-12-01T12:40:11.170Z"
   },
   {
    "duration": 20,
    "start_time": "2022-12-01T12:41:28.328Z"
   },
   {
    "duration": 7,
    "start_time": "2022-12-01T12:41:30.094Z"
   },
   {
    "duration": 4,
    "start_time": "2022-12-01T12:41:34.159Z"
   },
   {
    "duration": 36,
    "start_time": "2022-12-01T12:41:35.495Z"
   },
   {
    "duration": 7,
    "start_time": "2022-12-01T12:48:45.572Z"
   },
   {
    "duration": 38,
    "start_time": "2022-12-01T12:48:47.907Z"
   },
   {
    "duration": 35,
    "start_time": "2022-12-01T12:49:05.905Z"
   },
   {
    "duration": 4,
    "start_time": "2022-12-01T12:49:56.935Z"
   },
   {
    "duration": 38,
    "start_time": "2022-12-01T12:49:57.922Z"
   },
   {
    "duration": 13,
    "start_time": "2022-12-01T12:50:09.391Z"
   },
   {
    "duration": 13,
    "start_time": "2022-12-01T12:50:12.707Z"
   },
   {
    "duration": 32,
    "start_time": "2022-12-01T12:50:17.964Z"
   },
   {
    "duration": 12,
    "start_time": "2022-12-01T12:57:04.665Z"
   },
   {
    "duration": 4,
    "start_time": "2022-12-01T12:59:12.203Z"
   },
   {
    "duration": 5,
    "start_time": "2022-12-01T12:59:24.859Z"
   },
   {
    "duration": 5,
    "start_time": "2022-12-01T13:01:54.747Z"
   },
   {
    "duration": 1417,
    "start_time": "2022-12-01T13:03:38.730Z"
   },
   {
    "duration": 1621,
    "start_time": "2022-12-01T13:03:40.150Z"
   },
   {
    "duration": 37,
    "start_time": "2022-12-01T13:03:41.772Z"
   },
   {
    "duration": 12,
    "start_time": "2022-12-01T13:03:41.811Z"
   },
   {
    "duration": 41,
    "start_time": "2022-12-01T13:03:41.825Z"
   },
   {
    "duration": 19,
    "start_time": "2022-12-01T13:03:41.868Z"
   },
   {
    "duration": 15,
    "start_time": "2022-12-01T13:03:41.888Z"
   },
   {
    "duration": 55,
    "start_time": "2022-12-01T13:03:41.905Z"
   },
   {
    "duration": 64,
    "start_time": "2022-12-01T13:03:41.961Z"
   },
   {
    "duration": 42,
    "start_time": "2022-12-01T13:03:42.027Z"
   },
   {
    "duration": 60,
    "start_time": "2022-12-01T13:03:42.071Z"
   },
   {
    "duration": 55,
    "start_time": "2022-12-01T13:03:42.133Z"
   },
   {
    "duration": 119,
    "start_time": "2022-12-01T13:03:42.190Z"
   },
   {
    "duration": 197,
    "start_time": "2022-12-01T13:03:42.312Z"
   },
   {
    "duration": 12,
    "start_time": "2022-12-01T13:03:42.510Z"
   },
   {
    "duration": 198,
    "start_time": "2022-12-01T13:03:42.524Z"
   },
   {
    "duration": 8,
    "start_time": "2022-12-01T13:03:42.723Z"
   },
   {
    "duration": 26,
    "start_time": "2022-12-01T13:03:42.733Z"
   },
   {
    "duration": 15,
    "start_time": "2022-12-01T13:03:42.761Z"
   },
   {
    "duration": 192,
    "start_time": "2022-12-01T13:03:42.778Z"
   },
   {
    "duration": 29,
    "start_time": "2022-12-01T13:03:42.971Z"
   },
   {
    "duration": 11,
    "start_time": "2022-12-01T13:03:43.001Z"
   },
   {
    "duration": 38,
    "start_time": "2022-12-01T13:03:43.014Z"
   },
   {
    "duration": 26,
    "start_time": "2022-12-01T13:03:43.054Z"
   },
   {
    "duration": 6,
    "start_time": "2022-12-01T13:03:43.082Z"
   },
   {
    "duration": 18,
    "start_time": "2022-12-01T13:03:43.090Z"
   },
   {
    "duration": 49,
    "start_time": "2022-12-01T13:03:43.110Z"
   },
   {
    "duration": 413,
    "start_time": "2022-12-01T13:03:43.161Z"
   },
   {
    "duration": 3,
    "start_time": "2022-12-01T13:03:43.576Z"
   },
   {
    "duration": 518,
    "start_time": "2022-12-01T13:03:43.581Z"
   },
   {
    "duration": 92,
    "start_time": "2022-12-01T13:03:44.101Z"
   },
   {
    "duration": 7,
    "start_time": "2022-12-01T13:03:44.195Z"
   },
   {
    "duration": 5,
    "start_time": "2022-12-01T13:03:44.204Z"
   },
   {
    "duration": 41,
    "start_time": "2022-12-01T13:03:44.210Z"
   },
   {
    "duration": 7,
    "start_time": "2022-12-01T13:03:44.253Z"
   },
   {
    "duration": 56,
    "start_time": "2022-12-01T13:03:44.261Z"
   },
   {
    "duration": 4,
    "start_time": "2022-12-01T13:03:44.319Z"
   },
   {
    "duration": 50,
    "start_time": "2022-12-01T13:03:44.324Z"
   },
   {
    "duration": 1380,
    "start_time": "2022-12-02T07:26:27.500Z"
   },
   {
    "duration": 1161,
    "start_time": "2022-12-02T07:26:28.882Z"
   },
   {
    "duration": 35,
    "start_time": "2022-12-02T07:26:30.045Z"
   },
   {
    "duration": 39,
    "start_time": "2022-12-02T07:26:30.082Z"
   },
   {
    "duration": 52,
    "start_time": "2022-12-02T07:26:30.123Z"
   },
   {
    "duration": 69,
    "start_time": "2022-12-02T07:26:30.177Z"
   },
   {
    "duration": 54,
    "start_time": "2022-12-02T07:26:30.248Z"
   },
   {
    "duration": 115,
    "start_time": "2022-12-02T07:26:30.304Z"
   },
   {
    "duration": 80,
    "start_time": "2022-12-02T07:26:30.421Z"
   },
   {
    "duration": 25,
    "start_time": "2022-12-02T07:26:30.503Z"
   },
   {
    "duration": 83,
    "start_time": "2022-12-02T07:26:30.529Z"
   },
   {
    "duration": 49,
    "start_time": "2022-12-02T07:26:30.614Z"
   },
   {
    "duration": 118,
    "start_time": "2022-12-02T07:26:30.665Z"
   },
   {
    "duration": 224,
    "start_time": "2022-12-02T07:26:30.784Z"
   },
   {
    "duration": 11,
    "start_time": "2022-12-02T07:26:31.010Z"
   },
   {
    "duration": 167,
    "start_time": "2022-12-02T07:26:31.023Z"
   },
   {
    "duration": 6,
    "start_time": "2022-12-02T07:26:31.192Z"
   },
   {
    "duration": 102,
    "start_time": "2022-12-02T07:26:31.200Z"
   },
   {
    "duration": 84,
    "start_time": "2022-12-02T07:26:31.303Z"
   },
   {
    "duration": 213,
    "start_time": "2022-12-02T07:26:31.389Z"
   },
   {
    "duration": 36,
    "start_time": "2022-12-02T07:26:31.603Z"
   },
   {
    "duration": 76,
    "start_time": "2022-12-02T07:26:31.641Z"
   },
   {
    "duration": 82,
    "start_time": "2022-12-02T07:26:31.719Z"
   },
   {
    "duration": 94,
    "start_time": "2022-12-02T07:26:31.803Z"
   },
   {
    "duration": 20,
    "start_time": "2022-12-02T07:26:31.898Z"
   },
   {
    "duration": 45,
    "start_time": "2022-12-02T07:26:31.920Z"
   },
   {
    "duration": 64,
    "start_time": "2022-12-02T07:26:31.967Z"
   },
   {
    "duration": 398,
    "start_time": "2022-12-02T07:26:32.034Z"
   },
   {
    "duration": 3,
    "start_time": "2022-12-02T07:26:32.434Z"
   },
   {
    "duration": 493,
    "start_time": "2022-12-02T07:26:32.439Z"
   },
   {
    "duration": 67,
    "start_time": "2022-12-02T07:26:32.933Z"
   },
   {
    "duration": 23,
    "start_time": "2022-12-02T07:26:33.001Z"
   },
   {
    "duration": 67,
    "start_time": "2022-12-02T07:26:33.026Z"
   },
   {
    "duration": 99,
    "start_time": "2022-12-02T07:26:33.094Z"
   },
   {
    "duration": 49,
    "start_time": "2022-12-02T07:26:33.195Z"
   },
   {
    "duration": 91,
    "start_time": "2022-12-02T07:26:33.245Z"
   },
   {
    "duration": 54,
    "start_time": "2022-12-02T07:26:33.338Z"
   },
   {
    "duration": 170,
    "start_time": "2022-12-02T07:26:33.394Z"
   },
   {
    "duration": 79,
    "start_time": "2022-12-02T10:20:40.244Z"
   },
   {
    "duration": 1486,
    "start_time": "2022-12-02T11:10:43.590Z"
   },
   {
    "duration": 2059,
    "start_time": "2022-12-02T11:10:45.078Z"
   },
   {
    "duration": 37,
    "start_time": "2022-12-02T11:10:47.138Z"
   },
   {
    "duration": 11,
    "start_time": "2022-12-02T11:10:47.177Z"
   },
   {
    "duration": 29,
    "start_time": "2022-12-02T11:10:47.190Z"
   },
   {
    "duration": 18,
    "start_time": "2022-12-02T11:10:47.238Z"
   },
   {
    "duration": 21,
    "start_time": "2022-12-02T11:10:47.258Z"
   },
   {
    "duration": 48,
    "start_time": "2022-12-02T11:10:47.281Z"
   },
   {
    "duration": 64,
    "start_time": "2022-12-02T11:10:47.331Z"
   },
   {
    "duration": 33,
    "start_time": "2022-12-02T11:10:47.397Z"
   },
   {
    "duration": 57,
    "start_time": "2022-12-02T11:10:47.438Z"
   },
   {
    "duration": 47,
    "start_time": "2022-12-02T11:10:47.497Z"
   },
   {
    "duration": 101,
    "start_time": "2022-12-02T11:10:47.546Z"
   },
   {
    "duration": 191,
    "start_time": "2022-12-02T11:10:47.649Z"
   },
   {
    "duration": 13,
    "start_time": "2022-12-02T11:10:47.842Z"
   },
   {
    "duration": 191,
    "start_time": "2022-12-02T11:10:47.857Z"
   },
   {
    "duration": 7,
    "start_time": "2022-12-02T11:10:48.050Z"
   },
   {
    "duration": 29,
    "start_time": "2022-12-02T11:10:48.059Z"
   },
   {
    "duration": 109,
    "start_time": "2022-12-02T11:10:48.090Z"
   },
   {
    "duration": 0,
    "start_time": "2022-12-02T11:10:48.201Z"
   },
   {
    "duration": 0,
    "start_time": "2022-12-02T11:10:48.203Z"
   },
   {
    "duration": 0,
    "start_time": "2022-12-02T11:10:48.205Z"
   },
   {
    "duration": 0,
    "start_time": "2022-12-02T11:10:48.206Z"
   },
   {
    "duration": 0,
    "start_time": "2022-12-02T11:10:48.208Z"
   },
   {
    "duration": 0,
    "start_time": "2022-12-02T11:10:48.209Z"
   },
   {
    "duration": 0,
    "start_time": "2022-12-02T11:10:48.211Z"
   },
   {
    "duration": 0,
    "start_time": "2022-12-02T11:10:48.212Z"
   },
   {
    "duration": 0,
    "start_time": "2022-12-02T11:10:48.214Z"
   },
   {
    "duration": 0,
    "start_time": "2022-12-02T11:10:48.215Z"
   },
   {
    "duration": 0,
    "start_time": "2022-12-02T11:10:48.216Z"
   },
   {
    "duration": 0,
    "start_time": "2022-12-02T11:10:48.218Z"
   },
   {
    "duration": 0,
    "start_time": "2022-12-02T11:10:48.219Z"
   },
   {
    "duration": 0,
    "start_time": "2022-12-02T11:10:48.220Z"
   },
   {
    "duration": 0,
    "start_time": "2022-12-02T11:10:48.222Z"
   },
   {
    "duration": 0,
    "start_time": "2022-12-02T11:10:48.223Z"
   },
   {
    "duration": 0,
    "start_time": "2022-12-02T11:10:48.225Z"
   },
   {
    "duration": 0,
    "start_time": "2022-12-02T11:10:48.226Z"
   },
   {
    "duration": 0,
    "start_time": "2022-12-02T11:10:48.228Z"
   },
   {
    "duration": 0,
    "start_time": "2022-12-02T11:10:48.229Z"
   },
   {
    "duration": 22,
    "start_time": "2022-12-02T11:12:13.776Z"
   },
   {
    "duration": 23,
    "start_time": "2022-12-02T11:13:00.198Z"
   },
   {
    "duration": 75,
    "start_time": "2022-12-02T11:16:32.066Z"
   },
   {
    "duration": 109,
    "start_time": "2022-12-02T11:17:45.983Z"
   },
   {
    "duration": 13,
    "start_time": "2022-12-02T11:18:08.594Z"
   },
   {
    "duration": 15,
    "start_time": "2022-12-02T11:18:16.877Z"
   },
   {
    "duration": 14,
    "start_time": "2022-12-02T11:23:49.574Z"
   },
   {
    "duration": 15,
    "start_time": "2022-12-02T11:27:35.665Z"
   },
   {
    "duration": 16,
    "start_time": "2022-12-02T11:31:18.995Z"
   },
   {
    "duration": 14,
    "start_time": "2022-12-02T11:31:31.046Z"
   },
   {
    "duration": 1267,
    "start_time": "2022-12-02T11:31:43.024Z"
   },
   {
    "duration": 2045,
    "start_time": "2022-12-02T11:31:44.293Z"
   },
   {
    "duration": 35,
    "start_time": "2022-12-02T11:31:46.340Z"
   },
   {
    "duration": 10,
    "start_time": "2022-12-02T11:31:46.377Z"
   },
   {
    "duration": 19,
    "start_time": "2022-12-02T11:31:46.389Z"
   },
   {
    "duration": 45,
    "start_time": "2022-12-02T11:31:46.409Z"
   },
   {
    "duration": 15,
    "start_time": "2022-12-02T11:31:46.455Z"
   },
   {
    "duration": 29,
    "start_time": "2022-12-02T11:31:46.472Z"
   },
   {
    "duration": 94,
    "start_time": "2022-12-02T11:31:46.503Z"
   },
   {
    "duration": 38,
    "start_time": "2022-12-02T11:31:46.600Z"
   },
   {
    "duration": 55,
    "start_time": "2022-12-02T11:31:46.640Z"
   },
   {
    "duration": 46,
    "start_time": "2022-12-02T11:31:46.697Z"
   },
   {
    "duration": 102,
    "start_time": "2022-12-02T11:31:46.745Z"
   },
   {
    "duration": 177,
    "start_time": "2022-12-02T11:31:46.848Z"
   },
   {
    "duration": 17,
    "start_time": "2022-12-02T11:31:47.027Z"
   },
   {
    "duration": 162,
    "start_time": "2022-12-02T11:31:47.046Z"
   },
   {
    "duration": 7,
    "start_time": "2022-12-02T11:31:47.210Z"
   },
   {
    "duration": 30,
    "start_time": "2022-12-02T11:31:47.218Z"
   },
   {
    "duration": 12,
    "start_time": "2022-12-02T11:31:47.250Z"
   },
   {
    "duration": 11,
    "start_time": "2022-12-02T11:31:47.263Z"
   },
   {
    "duration": 19,
    "start_time": "2022-12-02T11:31:47.275Z"
   },
   {
    "duration": 181,
    "start_time": "2022-12-02T11:31:47.296Z"
   },
   {
    "duration": 25,
    "start_time": "2022-12-02T11:31:47.479Z"
   },
   {
    "duration": 10,
    "start_time": "2022-12-02T11:31:47.505Z"
   },
   {
    "duration": 30,
    "start_time": "2022-12-02T11:31:47.517Z"
   },
   {
    "duration": 26,
    "start_time": "2022-12-02T11:31:47.549Z"
   },
   {
    "duration": 6,
    "start_time": "2022-12-02T11:31:47.577Z"
   },
   {
    "duration": 16,
    "start_time": "2022-12-02T11:31:47.586Z"
   },
   {
    "duration": 52,
    "start_time": "2022-12-02T11:31:47.604Z"
   },
   {
    "duration": 427,
    "start_time": "2022-12-02T11:31:47.657Z"
   },
   {
    "duration": 4,
    "start_time": "2022-12-02T11:31:48.086Z"
   },
   {
    "duration": 510,
    "start_time": "2022-12-02T11:31:48.091Z"
   },
   {
    "duration": 88,
    "start_time": "2022-12-02T11:31:48.602Z"
   },
   {
    "duration": 8,
    "start_time": "2022-12-02T11:31:48.691Z"
   },
   {
    "duration": 5,
    "start_time": "2022-12-02T11:31:48.701Z"
   },
   {
    "duration": 38,
    "start_time": "2022-12-02T11:31:48.707Z"
   },
   {
    "duration": 8,
    "start_time": "2022-12-02T11:31:48.747Z"
   },
   {
    "duration": 34,
    "start_time": "2022-12-02T11:31:48.757Z"
   },
   {
    "duration": 4,
    "start_time": "2022-12-02T11:31:48.792Z"
   },
   {
    "duration": 49,
    "start_time": "2022-12-02T11:31:48.799Z"
   },
   {
    "duration": 10,
    "start_time": "2022-12-02T11:33:32.158Z"
   },
   {
    "duration": 14,
    "start_time": "2022-12-02T11:33:43.870Z"
   },
   {
    "duration": 1342,
    "start_time": "2022-12-02T11:33:51.370Z"
   },
   {
    "duration": 1323,
    "start_time": "2022-12-02T11:33:52.714Z"
   },
   {
    "duration": 34,
    "start_time": "2022-12-02T11:33:54.038Z"
   },
   {
    "duration": 10,
    "start_time": "2022-12-02T11:33:54.074Z"
   },
   {
    "duration": 19,
    "start_time": "2022-12-02T11:33:54.085Z"
   },
   {
    "duration": 45,
    "start_time": "2022-12-02T11:33:54.106Z"
   },
   {
    "duration": 16,
    "start_time": "2022-12-02T11:33:54.153Z"
   },
   {
    "duration": 37,
    "start_time": "2022-12-02T11:33:54.171Z"
   },
   {
    "duration": 85,
    "start_time": "2022-12-02T11:33:54.210Z"
   },
   {
    "duration": 40,
    "start_time": "2022-12-02T11:33:54.298Z"
   },
   {
    "duration": 54,
    "start_time": "2022-12-02T11:33:54.341Z"
   },
   {
    "duration": 48,
    "start_time": "2022-12-02T11:33:54.397Z"
   },
   {
    "duration": 95,
    "start_time": "2022-12-02T11:33:54.447Z"
   },
   {
    "duration": 175,
    "start_time": "2022-12-02T11:33:54.544Z"
   },
   {
    "duration": 17,
    "start_time": "2022-12-02T11:33:54.721Z"
   },
   {
    "duration": 157,
    "start_time": "2022-12-02T11:33:54.740Z"
   },
   {
    "duration": 7,
    "start_time": "2022-12-02T11:33:54.900Z"
   },
   {
    "duration": 33,
    "start_time": "2022-12-02T11:33:54.908Z"
   },
   {
    "duration": 11,
    "start_time": "2022-12-02T11:33:54.942Z"
   },
   {
    "duration": 11,
    "start_time": "2022-12-02T11:33:54.955Z"
   },
   {
    "duration": 14,
    "start_time": "2022-12-02T11:33:54.967Z"
   },
   {
    "duration": 167,
    "start_time": "2022-12-02T11:33:54.982Z"
   },
   {
    "duration": 26,
    "start_time": "2022-12-02T11:33:55.151Z"
   },
   {
    "duration": 9,
    "start_time": "2022-12-02T11:33:55.178Z"
   },
   {
    "duration": 14,
    "start_time": "2022-12-02T11:33:55.189Z"
   },
   {
    "duration": 46,
    "start_time": "2022-12-02T11:33:55.205Z"
   },
   {
    "duration": 6,
    "start_time": "2022-12-02T11:33:55.253Z"
   },
   {
    "duration": 18,
    "start_time": "2022-12-02T11:33:55.262Z"
   },
   {
    "duration": 24,
    "start_time": "2022-12-02T11:33:55.282Z"
   },
   {
    "duration": 390,
    "start_time": "2022-12-02T11:33:55.308Z"
   },
   {
    "duration": 4,
    "start_time": "2022-12-02T11:33:55.700Z"
   },
   {
    "duration": 521,
    "start_time": "2022-12-02T11:33:55.706Z"
   },
   {
    "duration": 76,
    "start_time": "2022-12-02T11:33:56.229Z"
   },
   {
    "duration": 9,
    "start_time": "2022-12-02T11:33:56.307Z"
   },
   {
    "duration": 3,
    "start_time": "2022-12-02T11:33:56.338Z"
   },
   {
    "duration": 20,
    "start_time": "2022-12-02T11:33:56.343Z"
   },
   {
    "duration": 7,
    "start_time": "2022-12-02T11:33:56.365Z"
   },
   {
    "duration": 29,
    "start_time": "2022-12-02T11:33:56.374Z"
   },
   {
    "duration": 32,
    "start_time": "2022-12-02T11:33:56.405Z"
   },
   {
    "duration": 27,
    "start_time": "2022-12-02T11:33:56.440Z"
   },
   {
    "duration": 22,
    "start_time": "2022-12-02T11:34:54.261Z"
   },
   {
    "duration": 13,
    "start_time": "2022-12-02T11:35:05.126Z"
   },
   {
    "duration": 12,
    "start_time": "2022-12-02T11:35:13.022Z"
   },
   {
    "duration": 14,
    "start_time": "2022-12-02T11:35:24.015Z"
   },
   {
    "duration": 1240,
    "start_time": "2022-12-02T11:35:37.794Z"
   },
   {
    "duration": 1452,
    "start_time": "2022-12-02T11:35:39.037Z"
   },
   {
    "duration": 34,
    "start_time": "2022-12-02T11:35:40.491Z"
   },
   {
    "duration": 10,
    "start_time": "2022-12-02T11:35:40.526Z"
   },
   {
    "duration": 20,
    "start_time": "2022-12-02T11:35:40.538Z"
   },
   {
    "duration": 18,
    "start_time": "2022-12-02T11:35:40.560Z"
   },
   {
    "duration": 15,
    "start_time": "2022-12-02T11:35:40.579Z"
   },
   {
    "duration": 54,
    "start_time": "2022-12-02T11:35:40.597Z"
   },
   {
    "duration": 62,
    "start_time": "2022-12-02T11:35:40.653Z"
   },
   {
    "duration": 34,
    "start_time": "2022-12-02T11:35:40.717Z"
   },
   {
    "duration": 57,
    "start_time": "2022-12-02T11:35:40.753Z"
   },
   {
    "duration": 51,
    "start_time": "2022-12-02T11:35:40.812Z"
   },
   {
    "duration": 100,
    "start_time": "2022-12-02T11:35:40.865Z"
   },
   {
    "duration": 179,
    "start_time": "2022-12-02T11:35:40.968Z"
   },
   {
    "duration": 12,
    "start_time": "2022-12-02T11:35:41.148Z"
   },
   {
    "duration": 177,
    "start_time": "2022-12-02T11:35:41.161Z"
   },
   {
    "duration": 7,
    "start_time": "2022-12-02T11:35:41.339Z"
   },
   {
    "duration": 28,
    "start_time": "2022-12-02T11:35:41.348Z"
   },
   {
    "duration": 12,
    "start_time": "2022-12-02T11:35:41.377Z"
   },
   {
    "duration": 15,
    "start_time": "2022-12-02T11:35:41.390Z"
   },
   {
    "duration": 43,
    "start_time": "2022-12-02T11:35:41.406Z"
   },
   {
    "duration": 159,
    "start_time": "2022-12-02T11:35:41.451Z"
   },
   {
    "duration": 32,
    "start_time": "2022-12-02T11:35:41.612Z"
   },
   {
    "duration": 9,
    "start_time": "2022-12-02T11:35:41.646Z"
   },
   {
    "duration": 18,
    "start_time": "2022-12-02T11:35:41.657Z"
   },
   {
    "duration": 22,
    "start_time": "2022-12-02T11:35:41.676Z"
   },
   {
    "duration": 12,
    "start_time": "2022-12-02T11:35:41.700Z"
   },
   {
    "duration": 38,
    "start_time": "2022-12-02T11:35:41.714Z"
   },
   {
    "duration": 31,
    "start_time": "2022-12-02T11:35:41.754Z"
   },
   {
    "duration": 389,
    "start_time": "2022-12-02T11:35:41.786Z"
   },
   {
    "duration": 3,
    "start_time": "2022-12-02T11:35:42.177Z"
   },
   {
    "duration": 482,
    "start_time": "2022-12-02T11:35:42.182Z"
   },
   {
    "duration": 86,
    "start_time": "2022-12-02T11:35:42.665Z"
   },
   {
    "duration": 9,
    "start_time": "2022-12-02T11:35:42.753Z"
   },
   {
    "duration": 4,
    "start_time": "2022-12-02T11:35:42.764Z"
   },
   {
    "duration": 35,
    "start_time": "2022-12-02T11:35:42.770Z"
   },
   {
    "duration": 7,
    "start_time": "2022-12-02T11:35:42.807Z"
   },
   {
    "duration": 45,
    "start_time": "2022-12-02T11:35:42.816Z"
   },
   {
    "duration": 3,
    "start_time": "2022-12-02T11:35:42.863Z"
   },
   {
    "duration": 27,
    "start_time": "2022-12-02T11:35:42.868Z"
   },
   {
    "duration": 13,
    "start_time": "2022-12-02T11:35:59.413Z"
   },
   {
    "duration": 1192,
    "start_time": "2022-12-02T11:36:13.098Z"
   },
   {
    "duration": 961,
    "start_time": "2022-12-02T11:36:14.291Z"
   },
   {
    "duration": 34,
    "start_time": "2022-12-02T11:36:15.254Z"
   },
   {
    "duration": 10,
    "start_time": "2022-12-02T11:36:15.290Z"
   },
   {
    "duration": 43,
    "start_time": "2022-12-02T11:36:15.302Z"
   },
   {
    "duration": 19,
    "start_time": "2022-12-02T11:36:15.346Z"
   },
   {
    "duration": 22,
    "start_time": "2022-12-02T11:36:15.367Z"
   },
   {
    "duration": 47,
    "start_time": "2022-12-02T11:36:15.391Z"
   },
   {
    "duration": 61,
    "start_time": "2022-12-02T11:36:15.440Z"
   },
   {
    "duration": 39,
    "start_time": "2022-12-02T11:36:15.504Z"
   },
   {
    "duration": 54,
    "start_time": "2022-12-02T11:36:15.545Z"
   },
   {
    "duration": 45,
    "start_time": "2022-12-02T11:36:15.601Z"
   },
   {
    "duration": 93,
    "start_time": "2022-12-02T11:36:15.648Z"
   },
   {
    "duration": 184,
    "start_time": "2022-12-02T11:36:15.743Z"
   },
   {
    "duration": 14,
    "start_time": "2022-12-02T11:36:15.929Z"
   },
   {
    "duration": 154,
    "start_time": "2022-12-02T11:36:15.945Z"
   },
   {
    "duration": 6,
    "start_time": "2022-12-02T11:36:16.100Z"
   },
   {
    "duration": 31,
    "start_time": "2022-12-02T11:36:16.107Z"
   },
   {
    "duration": 12,
    "start_time": "2022-12-02T11:36:16.140Z"
   },
   {
    "duration": 13,
    "start_time": "2022-12-02T11:36:16.154Z"
   },
   {
    "duration": 13,
    "start_time": "2022-12-02T11:36:16.169Z"
   },
   {
    "duration": 159,
    "start_time": "2022-12-02T11:36:16.183Z"
   },
   {
    "duration": 23,
    "start_time": "2022-12-02T11:36:16.343Z"
   },
   {
    "duration": 9,
    "start_time": "2022-12-02T11:36:16.368Z"
   },
   {
    "duration": 16,
    "start_time": "2022-12-02T11:36:16.379Z"
   },
   {
    "duration": 42,
    "start_time": "2022-12-02T11:36:16.396Z"
   },
   {
    "duration": 6,
    "start_time": "2022-12-02T11:36:16.440Z"
   },
   {
    "duration": 15,
    "start_time": "2022-12-02T11:36:16.449Z"
   },
   {
    "duration": 27,
    "start_time": "2022-12-02T11:36:16.466Z"
   },
   {
    "duration": 391,
    "start_time": "2022-12-02T11:36:16.495Z"
   },
   {
    "duration": 3,
    "start_time": "2022-12-02T11:36:16.888Z"
   },
   {
    "duration": 481,
    "start_time": "2022-12-02T11:36:16.893Z"
   },
   {
    "duration": 97,
    "start_time": "2022-12-02T11:36:17.377Z"
   },
   {
    "duration": 12,
    "start_time": "2022-12-02T11:36:17.477Z"
   },
   {
    "duration": 8,
    "start_time": "2022-12-02T11:36:17.491Z"
   },
   {
    "duration": 40,
    "start_time": "2022-12-02T11:36:17.500Z"
   },
   {
    "duration": 8,
    "start_time": "2022-12-02T11:36:17.542Z"
   },
   {
    "duration": 39,
    "start_time": "2022-12-02T11:36:17.552Z"
   },
   {
    "duration": 4,
    "start_time": "2022-12-02T11:36:17.593Z"
   },
   {
    "duration": 49,
    "start_time": "2022-12-02T11:36:17.599Z"
   },
   {
    "duration": 103,
    "start_time": "2022-12-02T11:42:38.359Z"
   },
   {
    "duration": 153,
    "start_time": "2022-12-02T11:42:53.064Z"
   },
   {
    "duration": 12,
    "start_time": "2022-12-02T11:42:57.114Z"
   },
   {
    "duration": 9,
    "start_time": "2022-12-02T11:43:05.238Z"
   },
   {
    "duration": 17,
    "start_time": "2022-12-02T11:43:13.369Z"
   },
   {
    "duration": 10,
    "start_time": "2022-12-02T11:43:45.882Z"
   },
   {
    "duration": 1301,
    "start_time": "2022-12-02T11:43:55.699Z"
   },
   {
    "duration": 1034,
    "start_time": "2022-12-02T11:43:57.002Z"
   },
   {
    "duration": 35,
    "start_time": "2022-12-02T11:43:58.038Z"
   },
   {
    "duration": 11,
    "start_time": "2022-12-02T11:43:58.075Z"
   },
   {
    "duration": 21,
    "start_time": "2022-12-02T11:43:58.087Z"
   },
   {
    "duration": 20,
    "start_time": "2022-12-02T11:43:58.137Z"
   },
   {
    "duration": 12,
    "start_time": "2022-12-02T11:43:58.159Z"
   },
   {
    "duration": 31,
    "start_time": "2022-12-02T11:43:58.173Z"
   },
   {
    "duration": 82,
    "start_time": "2022-12-02T11:43:58.206Z"
   },
   {
    "duration": 25,
    "start_time": "2022-12-02T11:43:58.291Z"
   },
   {
    "duration": 69,
    "start_time": "2022-12-02T11:43:58.318Z"
   },
   {
    "duration": 31,
    "start_time": "2022-12-02T11:43:58.389Z"
   },
   {
    "duration": 100,
    "start_time": "2022-12-02T11:43:58.438Z"
   },
   {
    "duration": 198,
    "start_time": "2022-12-02T11:43:58.539Z"
   },
   {
    "duration": 12,
    "start_time": "2022-12-02T11:43:58.738Z"
   },
   {
    "duration": 202,
    "start_time": "2022-12-02T11:43:58.751Z"
   },
   {
    "duration": 9,
    "start_time": "2022-12-02T11:43:58.955Z"
   },
   {
    "duration": 30,
    "start_time": "2022-12-02T11:43:58.966Z"
   },
   {
    "duration": 16,
    "start_time": "2022-12-02T11:43:58.998Z"
   },
   {
    "duration": 37,
    "start_time": "2022-12-02T11:43:59.016Z"
   },
   {
    "duration": 21,
    "start_time": "2022-12-02T11:43:59.055Z"
   },
   {
    "duration": 182,
    "start_time": "2022-12-02T11:43:59.078Z"
   },
   {
    "duration": 11,
    "start_time": "2022-12-02T11:43:59.263Z"
   },
   {
    "duration": 73,
    "start_time": "2022-12-02T11:43:59.276Z"
   },
   {
    "duration": 0,
    "start_time": "2022-12-02T11:43:59.351Z"
   },
   {
    "duration": 0,
    "start_time": "2022-12-02T11:43:59.352Z"
   },
   {
    "duration": 0,
    "start_time": "2022-12-02T11:43:59.354Z"
   },
   {
    "duration": 0,
    "start_time": "2022-12-02T11:43:59.355Z"
   },
   {
    "duration": 0,
    "start_time": "2022-12-02T11:43:59.356Z"
   },
   {
    "duration": 0,
    "start_time": "2022-12-02T11:43:59.357Z"
   },
   {
    "duration": 0,
    "start_time": "2022-12-02T11:43:59.359Z"
   },
   {
    "duration": 0,
    "start_time": "2022-12-02T11:43:59.360Z"
   },
   {
    "duration": 0,
    "start_time": "2022-12-02T11:43:59.361Z"
   },
   {
    "duration": 0,
    "start_time": "2022-12-02T11:43:59.362Z"
   },
   {
    "duration": 0,
    "start_time": "2022-12-02T11:43:59.363Z"
   },
   {
    "duration": 0,
    "start_time": "2022-12-02T11:43:59.365Z"
   },
   {
    "duration": 0,
    "start_time": "2022-12-02T11:43:59.366Z"
   },
   {
    "duration": 0,
    "start_time": "2022-12-02T11:43:59.368Z"
   },
   {
    "duration": 0,
    "start_time": "2022-12-02T11:43:59.369Z"
   },
   {
    "duration": 0,
    "start_time": "2022-12-02T11:43:59.370Z"
   },
   {
    "duration": 0,
    "start_time": "2022-12-02T11:43:59.371Z"
   },
   {
    "duration": 10,
    "start_time": "2022-12-02T11:47:55.416Z"
   },
   {
    "duration": 69,
    "start_time": "2022-12-02T11:48:33.936Z"
   },
   {
    "duration": 65,
    "start_time": "2022-12-02T11:48:42.722Z"
   },
   {
    "duration": 25,
    "start_time": "2022-12-02T11:48:46.015Z"
   },
   {
    "duration": 25,
    "start_time": "2022-12-02T11:49:02.535Z"
   },
   {
    "duration": 22,
    "start_time": "2022-12-02T11:49:09.360Z"
   },
   {
    "duration": 1293,
    "start_time": "2022-12-02T11:49:20.602Z"
   },
   {
    "duration": 1222,
    "start_time": "2022-12-02T11:49:21.897Z"
   },
   {
    "duration": 37,
    "start_time": "2022-12-02T11:49:23.121Z"
   },
   {
    "duration": 11,
    "start_time": "2022-12-02T11:49:23.160Z"
   },
   {
    "duration": 24,
    "start_time": "2022-12-02T11:49:23.173Z"
   },
   {
    "duration": 40,
    "start_time": "2022-12-02T11:49:23.198Z"
   },
   {
    "duration": 16,
    "start_time": "2022-12-02T11:49:23.240Z"
   },
   {
    "duration": 29,
    "start_time": "2022-12-02T11:49:23.258Z"
   },
   {
    "duration": 83,
    "start_time": "2022-12-02T11:49:23.289Z"
   },
   {
    "duration": 26,
    "start_time": "2022-12-02T11:49:23.375Z"
   },
   {
    "duration": 70,
    "start_time": "2022-12-02T11:49:23.403Z"
   },
   {
    "duration": 31,
    "start_time": "2022-12-02T11:49:23.475Z"
   },
   {
    "duration": 131,
    "start_time": "2022-12-02T11:49:23.507Z"
   },
   {
    "duration": 213,
    "start_time": "2022-12-02T11:49:23.640Z"
   },
   {
    "duration": 13,
    "start_time": "2022-12-02T11:49:23.855Z"
   },
   {
    "duration": 189,
    "start_time": "2022-12-02T11:49:23.870Z"
   },
   {
    "duration": 7,
    "start_time": "2022-12-02T11:49:24.061Z"
   },
   {
    "duration": 29,
    "start_time": "2022-12-02T11:49:24.069Z"
   },
   {
    "duration": 12,
    "start_time": "2022-12-02T11:49:24.099Z"
   },
   {
    "duration": 36,
    "start_time": "2022-12-02T11:49:24.112Z"
   },
   {
    "duration": 28,
    "start_time": "2022-12-02T11:49:24.151Z"
   },
   {
    "duration": 193,
    "start_time": "2022-12-02T11:49:24.181Z"
   },
   {
    "duration": 13,
    "start_time": "2022-12-02T11:49:24.376Z"
   },
   {
    "duration": 24,
    "start_time": "2022-12-02T11:49:24.391Z"
   },
   {
    "duration": 68,
    "start_time": "2022-12-02T11:49:24.417Z"
   },
   {
    "duration": 0,
    "start_time": "2022-12-02T11:49:24.487Z"
   },
   {
    "duration": 0,
    "start_time": "2022-12-02T11:49:24.488Z"
   },
   {
    "duration": 0,
    "start_time": "2022-12-02T11:49:24.490Z"
   },
   {
    "duration": 0,
    "start_time": "2022-12-02T11:49:24.491Z"
   },
   {
    "duration": 0,
    "start_time": "2022-12-02T11:49:24.492Z"
   },
   {
    "duration": 0,
    "start_time": "2022-12-02T11:49:24.493Z"
   },
   {
    "duration": 0,
    "start_time": "2022-12-02T11:49:24.494Z"
   },
   {
    "duration": 0,
    "start_time": "2022-12-02T11:49:24.495Z"
   },
   {
    "duration": 0,
    "start_time": "2022-12-02T11:49:24.496Z"
   },
   {
    "duration": 0,
    "start_time": "2022-12-02T11:49:24.498Z"
   },
   {
    "duration": 0,
    "start_time": "2022-12-02T11:49:24.499Z"
   },
   {
    "duration": 0,
    "start_time": "2022-12-02T11:49:24.500Z"
   },
   {
    "duration": 0,
    "start_time": "2022-12-02T11:49:24.501Z"
   },
   {
    "duration": 0,
    "start_time": "2022-12-02T11:49:24.502Z"
   },
   {
    "duration": 0,
    "start_time": "2022-12-02T11:49:24.503Z"
   },
   {
    "duration": 0,
    "start_time": "2022-12-02T11:49:24.504Z"
   },
   {
    "duration": 13,
    "start_time": "2022-12-02T11:56:57.750Z"
   },
   {
    "duration": 5,
    "start_time": "2022-12-02T11:57:03.790Z"
   },
   {
    "duration": 8,
    "start_time": "2022-12-02T11:57:09.761Z"
   },
   {
    "duration": 10,
    "start_time": "2022-12-02T11:57:32.519Z"
   },
   {
    "duration": 125,
    "start_time": "2022-12-02T12:00:05.335Z"
   },
   {
    "duration": 17,
    "start_time": "2022-12-02T12:37:34.564Z"
   },
   {
    "duration": 13,
    "start_time": "2022-12-02T12:37:46.607Z"
   },
   {
    "duration": 10,
    "start_time": "2022-12-02T12:38:38.789Z"
   },
   {
    "duration": 12,
    "start_time": "2022-12-02T12:39:10.354Z"
   },
   {
    "duration": 1327,
    "start_time": "2022-12-02T12:46:05.372Z"
   },
   {
    "duration": 1023,
    "start_time": "2022-12-02T12:46:06.701Z"
   },
   {
    "duration": 35,
    "start_time": "2022-12-02T12:46:07.726Z"
   },
   {
    "duration": 12,
    "start_time": "2022-12-02T12:46:07.763Z"
   },
   {
    "duration": 24,
    "start_time": "2022-12-02T12:46:07.777Z"
   },
   {
    "duration": 45,
    "start_time": "2022-12-02T12:46:07.803Z"
   },
   {
    "duration": 27,
    "start_time": "2022-12-02T12:46:07.851Z"
   },
   {
    "duration": 58,
    "start_time": "2022-12-02T12:46:07.880Z"
   },
   {
    "duration": 69,
    "start_time": "2022-12-02T12:46:07.939Z"
   },
   {
    "duration": 42,
    "start_time": "2022-12-02T12:46:08.011Z"
   },
   {
    "duration": 60,
    "start_time": "2022-12-02T12:46:08.054Z"
   },
   {
    "duration": 33,
    "start_time": "2022-12-02T12:46:08.138Z"
   },
   {
    "duration": 118,
    "start_time": "2022-12-02T12:46:08.172Z"
   },
   {
    "duration": 221,
    "start_time": "2022-12-02T12:46:08.291Z"
   },
   {
    "duration": 29,
    "start_time": "2022-12-02T12:46:08.514Z"
   },
   {
    "duration": 205,
    "start_time": "2022-12-02T12:46:08.545Z"
   },
   {
    "duration": 9,
    "start_time": "2022-12-02T12:46:08.752Z"
   },
   {
    "duration": 40,
    "start_time": "2022-12-02T12:46:08.763Z"
   },
   {
    "duration": 36,
    "start_time": "2022-12-02T12:46:08.805Z"
   },
   {
    "duration": 21,
    "start_time": "2022-12-02T12:46:08.844Z"
   },
   {
    "duration": 48,
    "start_time": "2022-12-02T12:46:08.868Z"
   },
   {
    "duration": 273,
    "start_time": "2022-12-02T12:46:08.918Z"
   },
   {
    "duration": 17,
    "start_time": "2022-12-02T12:46:09.194Z"
   },
   {
    "duration": 46,
    "start_time": "2022-12-02T12:46:09.213Z"
   },
   {
    "duration": 11,
    "start_time": "2022-12-02T12:46:09.261Z"
   },
   {
    "duration": 13,
    "start_time": "2022-12-02T12:46:09.274Z"
   },
   {
    "duration": 23,
    "start_time": "2022-12-02T12:46:09.289Z"
   },
   {
    "duration": 47,
    "start_time": "2022-12-02T12:46:09.315Z"
   },
   {
    "duration": 8,
    "start_time": "2022-12-02T12:46:09.365Z"
   },
   {
    "duration": 21,
    "start_time": "2022-12-02T12:46:09.375Z"
   },
   {
    "duration": 60,
    "start_time": "2022-12-02T12:46:09.398Z"
   },
   {
    "duration": 400,
    "start_time": "2022-12-02T12:46:09.460Z"
   },
   {
    "duration": 4,
    "start_time": "2022-12-02T12:46:09.862Z"
   },
   {
    "duration": 564,
    "start_time": "2022-12-02T12:46:09.868Z"
   },
   {
    "duration": 82,
    "start_time": "2022-12-02T12:46:10.436Z"
   },
   {
    "duration": 9,
    "start_time": "2022-12-02T12:46:10.538Z"
   },
   {
    "duration": 9,
    "start_time": "2022-12-02T12:46:10.548Z"
   },
   {
    "duration": 20,
    "start_time": "2022-12-02T12:46:10.559Z"
   },
   {
    "duration": 7,
    "start_time": "2022-12-02T12:46:10.581Z"
   },
   {
    "duration": 50,
    "start_time": "2022-12-02T12:46:10.590Z"
   },
   {
    "duration": 4,
    "start_time": "2022-12-02T12:46:10.642Z"
   },
   {
    "duration": 27,
    "start_time": "2022-12-02T12:46:10.648Z"
   },
   {
    "duration": 12,
    "start_time": "2022-12-02T12:57:43.754Z"
   },
   {
    "duration": 27,
    "start_time": "2022-12-02T12:57:56.070Z"
   },
   {
    "duration": 27,
    "start_time": "2022-12-02T12:58:10.767Z"
   },
   {
    "duration": 26,
    "start_time": "2022-12-02T12:58:26.973Z"
   },
   {
    "duration": 38,
    "start_time": "2022-12-02T12:58:34.502Z"
   },
   {
    "duration": 62,
    "start_time": "2022-12-02T12:58:39.832Z"
   },
   {
    "duration": 24,
    "start_time": "2022-12-02T12:58:53.585Z"
   },
   {
    "duration": 35,
    "start_time": "2022-12-02T12:59:34.916Z"
   },
   {
    "duration": 34,
    "start_time": "2022-12-02T13:00:16.469Z"
   },
   {
    "duration": 16,
    "start_time": "2022-12-02T13:00:41.495Z"
   },
   {
    "duration": 1380,
    "start_time": "2022-12-02T13:00:52.718Z"
   },
   {
    "duration": 1392,
    "start_time": "2022-12-02T13:00:54.100Z"
   },
   {
    "duration": 56,
    "start_time": "2022-12-02T13:00:55.494Z"
   },
   {
    "duration": 12,
    "start_time": "2022-12-02T13:00:55.552Z"
   },
   {
    "duration": 52,
    "start_time": "2022-12-02T13:00:55.567Z"
   },
   {
    "duration": 58,
    "start_time": "2022-12-02T13:00:55.622Z"
   },
   {
    "duration": 37,
    "start_time": "2022-12-02T13:00:55.682Z"
   },
   {
    "duration": 40,
    "start_time": "2022-12-02T13:00:55.721Z"
   },
   {
    "duration": 93,
    "start_time": "2022-12-02T13:00:55.763Z"
   },
   {
    "duration": 36,
    "start_time": "2022-12-02T13:00:55.859Z"
   },
   {
    "duration": 76,
    "start_time": "2022-12-02T13:00:55.896Z"
   },
   {
    "duration": 32,
    "start_time": "2022-12-02T13:00:55.974Z"
   },
   {
    "duration": 112,
    "start_time": "2022-12-02T13:00:56.008Z"
   },
   {
    "duration": 223,
    "start_time": "2022-12-02T13:00:56.122Z"
   },
   {
    "duration": 13,
    "start_time": "2022-12-02T13:00:56.347Z"
   },
   {
    "duration": 199,
    "start_time": "2022-12-02T13:00:56.363Z"
   },
   {
    "duration": 10,
    "start_time": "2022-12-02T13:00:56.565Z"
   },
   {
    "duration": 52,
    "start_time": "2022-12-02T13:00:56.578Z"
   },
   {
    "duration": 18,
    "start_time": "2022-12-02T13:00:56.632Z"
   },
   {
    "duration": 16,
    "start_time": "2022-12-02T13:00:56.652Z"
   },
   {
    "duration": 16,
    "start_time": "2022-12-02T13:00:56.670Z"
   },
   {
    "duration": 195,
    "start_time": "2022-12-02T13:00:56.689Z"
   },
   {
    "duration": 429,
    "start_time": "2022-12-02T13:00:56.886Z"
   },
   {
    "duration": 0,
    "start_time": "2022-12-02T13:00:57.319Z"
   },
   {
    "duration": 0,
    "start_time": "2022-12-02T13:00:57.321Z"
   },
   {
    "duration": 1,
    "start_time": "2022-12-02T13:00:57.322Z"
   },
   {
    "duration": 0,
    "start_time": "2022-12-02T13:00:57.324Z"
   },
   {
    "duration": 0,
    "start_time": "2022-12-02T13:00:57.326Z"
   },
   {
    "duration": 0,
    "start_time": "2022-12-02T13:00:57.328Z"
   },
   {
    "duration": 0,
    "start_time": "2022-12-02T13:00:57.330Z"
   },
   {
    "duration": 0,
    "start_time": "2022-12-02T13:00:57.331Z"
   },
   {
    "duration": 0,
    "start_time": "2022-12-02T13:00:57.333Z"
   },
   {
    "duration": 0,
    "start_time": "2022-12-02T13:00:57.335Z"
   },
   {
    "duration": 0,
    "start_time": "2022-12-02T13:00:57.336Z"
   },
   {
    "duration": 0,
    "start_time": "2022-12-02T13:00:57.338Z"
   },
   {
    "duration": 0,
    "start_time": "2022-12-02T13:00:57.340Z"
   },
   {
    "duration": 0,
    "start_time": "2022-12-02T13:00:57.341Z"
   },
   {
    "duration": 0,
    "start_time": "2022-12-02T13:00:57.343Z"
   },
   {
    "duration": 0,
    "start_time": "2022-12-02T13:00:57.344Z"
   },
   {
    "duration": 0,
    "start_time": "2022-12-02T13:00:57.345Z"
   },
   {
    "duration": 0,
    "start_time": "2022-12-02T13:00:57.347Z"
   },
   {
    "duration": 0,
    "start_time": "2022-12-02T13:00:57.348Z"
   },
   {
    "duration": 1430,
    "start_time": "2022-12-02T13:02:01.294Z"
   },
   {
    "duration": 1166,
    "start_time": "2022-12-02T13:02:02.726Z"
   },
   {
    "duration": 55,
    "start_time": "2022-12-02T13:02:03.894Z"
   },
   {
    "duration": 12,
    "start_time": "2022-12-02T13:02:03.952Z"
   },
   {
    "duration": 34,
    "start_time": "2022-12-02T13:02:03.968Z"
   },
   {
    "duration": 37,
    "start_time": "2022-12-02T13:02:04.004Z"
   },
   {
    "duration": 32,
    "start_time": "2022-12-02T13:02:04.043Z"
   },
   {
    "duration": 48,
    "start_time": "2022-12-02T13:02:04.077Z"
   },
   {
    "duration": 72,
    "start_time": "2022-12-02T13:02:04.127Z"
   },
   {
    "duration": 44,
    "start_time": "2022-12-02T13:02:04.201Z"
   },
   {
    "duration": 89,
    "start_time": "2022-12-02T13:02:04.248Z"
   },
   {
    "duration": 33,
    "start_time": "2022-12-02T13:02:04.339Z"
   },
   {
    "duration": 323,
    "start_time": "2022-12-02T13:02:04.374Z"
   },
   {
    "duration": 14,
    "start_time": "2022-12-02T13:02:04.700Z"
   },
   {
    "duration": 293,
    "start_time": "2022-12-02T13:02:04.716Z"
   },
   {
    "duration": 8,
    "start_time": "2022-12-02T13:02:05.010Z"
   },
   {
    "duration": 43,
    "start_time": "2022-12-02T13:02:05.020Z"
   },
   {
    "duration": 12,
    "start_time": "2022-12-02T13:02:05.065Z"
   },
   {
    "duration": 40,
    "start_time": "2022-12-02T13:02:05.078Z"
   },
   {
    "duration": 28,
    "start_time": "2022-12-02T13:02:05.120Z"
   },
   {
    "duration": 222,
    "start_time": "2022-12-02T13:02:05.150Z"
   },
   {
    "duration": 17,
    "start_time": "2022-12-02T13:02:05.374Z"
   },
   {
    "duration": 27,
    "start_time": "2022-12-02T13:02:05.393Z"
   },
   {
    "duration": 20,
    "start_time": "2022-12-02T13:02:05.437Z"
   },
   {
    "duration": 12,
    "start_time": "2022-12-02T13:02:05.458Z"
   },
   {
    "duration": 30,
    "start_time": "2022-12-02T13:02:05.471Z"
   },
   {
    "duration": 42,
    "start_time": "2022-12-02T13:02:05.502Z"
   },
   {
    "duration": 6,
    "start_time": "2022-12-02T13:02:05.546Z"
   },
   {
    "duration": 27,
    "start_time": "2022-12-02T13:02:05.555Z"
   },
   {
    "duration": 30,
    "start_time": "2022-12-02T13:02:05.584Z"
   },
   {
    "duration": 442,
    "start_time": "2022-12-02T13:02:05.616Z"
   },
   {
    "duration": 3,
    "start_time": "2022-12-02T13:02:06.061Z"
   },
   {
    "duration": 441,
    "start_time": "2022-12-02T13:02:06.066Z"
   },
   {
    "duration": 188,
    "start_time": "2022-12-02T13:02:06.509Z"
   },
   {
    "duration": 12,
    "start_time": "2022-12-02T13:02:06.700Z"
   },
   {
    "duration": 23,
    "start_time": "2022-12-02T13:02:06.714Z"
   },
   {
    "duration": 30,
    "start_time": "2022-12-02T13:02:06.740Z"
   },
   {
    "duration": 7,
    "start_time": "2022-12-02T13:02:06.772Z"
   },
   {
    "duration": 34,
    "start_time": "2022-12-02T13:02:06.780Z"
   },
   {
    "duration": 5,
    "start_time": "2022-12-02T13:02:06.816Z"
   },
   {
    "duration": 28,
    "start_time": "2022-12-02T13:02:06.841Z"
   },
   {
    "duration": 53,
    "start_time": "2022-12-02T13:03:43.914Z"
   },
   {
    "duration": 60,
    "start_time": "2022-12-02T13:08:19.012Z"
   },
   {
    "duration": 51,
    "start_time": "2022-12-02T13:08:41.018Z"
   },
   {
    "duration": 213,
    "start_time": "2022-12-02T13:09:46.297Z"
   },
   {
    "duration": 65,
    "start_time": "2022-12-02T13:09:52.797Z"
   },
   {
    "duration": 71,
    "start_time": "2022-12-02T13:10:55.642Z"
   },
   {
    "duration": 154,
    "start_time": "2022-12-02T13:11:07.003Z"
   },
   {
    "duration": 75,
    "start_time": "2022-12-02T13:11:22.938Z"
   },
   {
    "duration": 48,
    "start_time": "2022-12-02T13:11:26.654Z"
   },
   {
    "duration": 61,
    "start_time": "2022-12-02T13:11:38.674Z"
   },
   {
    "duration": 50,
    "start_time": "2022-12-02T13:11:43.302Z"
   },
   {
    "duration": 67,
    "start_time": "2022-12-02T13:11:52.886Z"
   },
   {
    "duration": 143,
    "start_time": "2022-12-02T13:11:59.187Z"
   },
   {
    "duration": 56,
    "start_time": "2022-12-02T13:12:13.002Z"
   },
   {
    "duration": 49,
    "start_time": "2022-12-02T13:12:28.582Z"
   },
   {
    "duration": 69,
    "start_time": "2022-12-02T13:12:55.666Z"
   },
   {
    "duration": 6,
    "start_time": "2022-12-02T13:13:43.166Z"
   },
   {
    "duration": 485,
    "start_time": "2022-12-02T13:13:50.465Z"
   },
   {
    "duration": 499,
    "start_time": "2022-12-02T13:14:00.766Z"
   },
   {
    "duration": 551,
    "start_time": "2022-12-02T13:14:16.827Z"
   },
   {
    "duration": 349,
    "start_time": "2022-12-02T13:14:23.801Z"
   },
   {
    "duration": 302,
    "start_time": "2022-12-02T13:14:41.923Z"
   },
   {
    "duration": 279,
    "start_time": "2022-12-02T13:16:37.369Z"
   },
   {
    "duration": 137,
    "start_time": "2022-12-02T13:16:42.894Z"
   },
   {
    "duration": 359,
    "start_time": "2022-12-02T13:16:45.866Z"
   },
   {
    "duration": 523,
    "start_time": "2022-12-02T13:31:18.616Z"
   },
   {
    "duration": 431,
    "start_time": "2022-12-02T13:31:54.051Z"
   },
   {
    "duration": 433,
    "start_time": "2022-12-02T13:32:10.747Z"
   },
   {
    "duration": 552,
    "start_time": "2022-12-02T13:32:15.057Z"
   },
   {
    "duration": 482,
    "start_time": "2022-12-02T13:32:29.986Z"
   },
   {
    "duration": 492,
    "start_time": "2022-12-02T13:32:49.665Z"
   },
   {
    "duration": 512,
    "start_time": "2022-12-02T13:33:33.467Z"
   },
   {
    "duration": 667,
    "start_time": "2022-12-02T13:33:48.924Z"
   },
   {
    "duration": 439,
    "start_time": "2022-12-02T13:34:15.578Z"
   },
   {
    "duration": 588,
    "start_time": "2022-12-02T13:35:03.916Z"
   },
   {
    "duration": 457,
    "start_time": "2022-12-02T13:35:09.020Z"
   },
   {
    "duration": 545,
    "start_time": "2022-12-02T13:36:06.817Z"
   },
   {
    "duration": 510,
    "start_time": "2022-12-02T13:36:08.636Z"
   },
   {
    "duration": 424,
    "start_time": "2022-12-02T13:36:22.952Z"
   },
   {
    "duration": 501,
    "start_time": "2022-12-02T13:46:39.321Z"
   },
   {
    "duration": 634,
    "start_time": "2022-12-02T13:46:57.511Z"
   },
   {
    "duration": 514,
    "start_time": "2022-12-02T13:47:05.797Z"
   },
   {
    "duration": 419,
    "start_time": "2022-12-02T13:48:40.097Z"
   },
   {
    "duration": 537,
    "start_time": "2022-12-02T13:49:09.388Z"
   },
   {
    "duration": 645,
    "start_time": "2022-12-02T13:49:29.396Z"
   },
   {
    "duration": 570,
    "start_time": "2022-12-02T13:51:10.624Z"
   },
   {
    "duration": 538,
    "start_time": "2022-12-02T13:51:22.529Z"
   },
   {
    "duration": 692,
    "start_time": "2022-12-02T13:57:03.449Z"
   },
   {
    "duration": 26,
    "start_time": "2022-12-02T14:04:14.688Z"
   },
   {
    "duration": 103,
    "start_time": "2022-12-02T14:53:27.604Z"
   },
   {
    "duration": 4,
    "start_time": "2022-12-02T14:57:35.539Z"
   },
   {
    "duration": 19,
    "start_time": "2022-12-02T14:58:07.060Z"
   },
   {
    "duration": 29,
    "start_time": "2022-12-02T14:59:08.891Z"
   },
   {
    "duration": 14,
    "start_time": "2022-12-02T14:59:32.484Z"
   },
   {
    "duration": 31,
    "start_time": "2022-12-02T14:59:34.812Z"
   },
   {
    "duration": 30,
    "start_time": "2022-12-02T15:00:02.890Z"
   },
   {
    "duration": 18,
    "start_time": "2022-12-02T15:00:22.715Z"
   },
   {
    "duration": 23,
    "start_time": "2022-12-02T15:00:32.793Z"
   },
   {
    "duration": 23,
    "start_time": "2022-12-02T15:00:42.737Z"
   },
   {
    "duration": 18,
    "start_time": "2022-12-02T15:01:17.397Z"
   },
   {
    "duration": 28,
    "start_time": "2022-12-02T15:01:31.954Z"
   },
   {
    "duration": 9,
    "start_time": "2022-12-02T15:01:33.599Z"
   },
   {
    "duration": 26,
    "start_time": "2022-12-02T15:02:38.796Z"
   },
   {
    "duration": 24,
    "start_time": "2022-12-02T15:02:52.999Z"
   },
   {
    "duration": 111,
    "start_time": "2022-12-02T15:03:18.111Z"
   },
   {
    "duration": 5,
    "start_time": "2022-12-02T15:07:10.686Z"
   },
   {
    "duration": 7,
    "start_time": "2022-12-02T15:07:13.744Z"
   },
   {
    "duration": 16,
    "start_time": "2022-12-02T15:08:06.367Z"
   },
   {
    "duration": 13,
    "start_time": "2022-12-02T15:10:12.507Z"
   },
   {
    "duration": 11,
    "start_time": "2022-12-02T15:10:21.610Z"
   },
   {
    "duration": 5,
    "start_time": "2022-12-02T15:10:29.390Z"
   },
   {
    "duration": 10,
    "start_time": "2022-12-02T15:11:41.944Z"
   },
   {
    "duration": 12,
    "start_time": "2022-12-02T15:11:49.160Z"
   },
   {
    "duration": 12,
    "start_time": "2022-12-02T15:11:52.470Z"
   },
   {
    "duration": 28,
    "start_time": "2022-12-02T15:12:14.155Z"
   },
   {
    "duration": 20,
    "start_time": "2022-12-02T15:12:31.915Z"
   },
   {
    "duration": 19,
    "start_time": "2022-12-02T15:12:40.351Z"
   },
   {
    "duration": 13,
    "start_time": "2022-12-02T15:14:02.483Z"
   },
   {
    "duration": 20,
    "start_time": "2022-12-02T15:14:07.868Z"
   },
   {
    "duration": 7,
    "start_time": "2022-12-02T15:14:10.894Z"
   },
   {
    "duration": 6,
    "start_time": "2022-12-02T15:14:21.350Z"
   },
   {
    "duration": 4,
    "start_time": "2022-12-02T15:14:26.273Z"
   },
   {
    "duration": 7,
    "start_time": "2022-12-02T15:15:07.648Z"
   },
   {
    "duration": 13,
    "start_time": "2022-12-02T15:15:24.931Z"
   },
   {
    "duration": 6,
    "start_time": "2022-12-02T15:15:32.419Z"
   },
   {
    "duration": 4,
    "start_time": "2022-12-02T15:22:46.446Z"
   },
   {
    "duration": 16,
    "start_time": "2022-12-02T16:10:51.386Z"
   },
   {
    "duration": 20,
    "start_time": "2022-12-02T16:11:07.650Z"
   },
   {
    "duration": 21,
    "start_time": "2022-12-02T16:12:02.175Z"
   },
   {
    "duration": 9,
    "start_time": "2022-12-02T16:12:09.310Z"
   },
   {
    "duration": 83,
    "start_time": "2022-12-02T16:13:43.563Z"
   },
   {
    "duration": 1293,
    "start_time": "2022-12-02T16:13:49.488Z"
   },
   {
    "duration": 5,
    "start_time": "2022-12-02T16:14:27.702Z"
   },
   {
    "duration": 1307,
    "start_time": "2022-12-02T16:15:11.377Z"
   },
   {
    "duration": 1228,
    "start_time": "2022-12-02T16:15:40.866Z"
   },
   {
    "duration": 1171,
    "start_time": "2022-12-02T16:15:55.013Z"
   },
   {
    "duration": 1331,
    "start_time": "2022-12-02T16:17:05.282Z"
   },
   {
    "duration": 1440,
    "start_time": "2022-12-02T16:17:06.615Z"
   },
   {
    "duration": 37,
    "start_time": "2022-12-02T16:17:08.057Z"
   },
   {
    "duration": 10,
    "start_time": "2022-12-02T16:17:08.096Z"
   },
   {
    "duration": 46,
    "start_time": "2022-12-02T16:17:08.107Z"
   },
   {
    "duration": 19,
    "start_time": "2022-12-02T16:17:08.154Z"
   },
   {
    "duration": 14,
    "start_time": "2022-12-02T16:17:08.174Z"
   },
   {
    "duration": 56,
    "start_time": "2022-12-02T16:17:08.189Z"
   },
   {
    "duration": 65,
    "start_time": "2022-12-02T16:17:08.246Z"
   },
   {
    "duration": 45,
    "start_time": "2022-12-02T16:17:08.313Z"
   },
   {
    "duration": 58,
    "start_time": "2022-12-02T16:17:08.359Z"
   },
   {
    "duration": 45,
    "start_time": "2022-12-02T16:17:08.419Z"
   },
   {
    "duration": 289,
    "start_time": "2022-12-02T16:17:08.465Z"
   },
   {
    "duration": 11,
    "start_time": "2022-12-02T16:17:08.756Z"
   },
   {
    "duration": 298,
    "start_time": "2022-12-02T16:17:08.769Z"
   },
   {
    "duration": 6,
    "start_time": "2022-12-02T16:17:09.069Z"
   },
   {
    "duration": 31,
    "start_time": "2022-12-02T16:17:09.077Z"
   },
   {
    "duration": 28,
    "start_time": "2022-12-02T16:17:09.110Z"
   },
   {
    "duration": 12,
    "start_time": "2022-12-02T16:17:09.140Z"
   },
   {
    "duration": 14,
    "start_time": "2022-12-02T16:17:09.153Z"
   },
   {
    "duration": 209,
    "start_time": "2022-12-02T16:17:09.169Z"
   },
   {
    "duration": 16,
    "start_time": "2022-12-02T16:17:09.380Z"
   },
   {
    "duration": 45,
    "start_time": "2022-12-02T16:17:09.397Z"
   },
   {
    "duration": 4,
    "start_time": "2022-12-02T16:17:09.444Z"
   },
   {
    "duration": 646,
    "start_time": "2022-12-02T16:17:09.450Z"
   },
   {
    "duration": 10,
    "start_time": "2022-12-02T16:17:10.098Z"
   },
   {
    "duration": 33,
    "start_time": "2022-12-02T16:17:10.110Z"
   },
   {
    "duration": 25,
    "start_time": "2022-12-02T16:17:10.147Z"
   },
   {
    "duration": 5,
    "start_time": "2022-12-02T16:17:10.174Z"
   },
   {
    "duration": 14,
    "start_time": "2022-12-02T16:17:10.181Z"
   },
   {
    "duration": 58,
    "start_time": "2022-12-02T16:17:10.197Z"
   },
   {
    "duration": 21,
    "start_time": "2022-12-02T16:17:10.256Z"
   },
   {
    "duration": 19,
    "start_time": "2022-12-02T16:17:10.278Z"
   },
   {
    "duration": 6,
    "start_time": "2022-12-02T16:17:10.298Z"
   },
   {
    "duration": 27,
    "start_time": "2022-12-02T16:17:10.337Z"
   },
   {
    "duration": 452,
    "start_time": "2022-12-02T16:17:10.366Z"
   },
   {
    "duration": 267,
    "start_time": "2022-12-02T16:17:10.820Z"
   },
   {
    "duration": 0,
    "start_time": "2022-12-02T16:17:11.088Z"
   },
   {
    "duration": 0,
    "start_time": "2022-12-02T16:17:11.090Z"
   },
   {
    "duration": 0,
    "start_time": "2022-12-02T16:17:11.091Z"
   },
   {
    "duration": 0,
    "start_time": "2022-12-02T16:17:11.092Z"
   },
   {
    "duration": 0,
    "start_time": "2022-12-02T16:17:11.093Z"
   },
   {
    "duration": 0,
    "start_time": "2022-12-02T16:17:11.094Z"
   },
   {
    "duration": 0,
    "start_time": "2022-12-02T16:17:11.096Z"
   },
   {
    "duration": 0,
    "start_time": "2022-12-02T16:17:11.096Z"
   },
   {
    "duration": 0,
    "start_time": "2022-12-02T16:17:11.098Z"
   },
   {
    "duration": 0,
    "start_time": "2022-12-02T16:17:11.099Z"
   },
   {
    "duration": 1289,
    "start_time": "2022-12-02T16:18:23.008Z"
   },
   {
    "duration": 1093,
    "start_time": "2022-12-02T16:18:24.299Z"
   },
   {
    "duration": 37,
    "start_time": "2022-12-02T16:18:25.394Z"
   },
   {
    "duration": 11,
    "start_time": "2022-12-02T16:18:25.432Z"
   },
   {
    "duration": 20,
    "start_time": "2022-12-02T16:18:25.444Z"
   },
   {
    "duration": 22,
    "start_time": "2022-12-02T16:18:25.466Z"
   },
   {
    "duration": 52,
    "start_time": "2022-12-02T16:18:25.491Z"
   },
   {
    "duration": 37,
    "start_time": "2022-12-02T16:18:25.544Z"
   },
   {
    "duration": 87,
    "start_time": "2022-12-02T16:18:25.583Z"
   },
   {
    "duration": 27,
    "start_time": "2022-12-02T16:18:25.674Z"
   },
   {
    "duration": 81,
    "start_time": "2022-12-02T16:18:25.703Z"
   },
   {
    "duration": 34,
    "start_time": "2022-12-02T16:18:25.786Z"
   },
   {
    "duration": 293,
    "start_time": "2022-12-02T16:18:25.840Z"
   },
   {
    "duration": 12,
    "start_time": "2022-12-02T16:18:26.135Z"
   },
   {
    "duration": 276,
    "start_time": "2022-12-02T16:18:26.149Z"
   },
   {
    "duration": 14,
    "start_time": "2022-12-02T16:18:26.427Z"
   },
   {
    "duration": 23,
    "start_time": "2022-12-02T16:18:26.443Z"
   },
   {
    "duration": 11,
    "start_time": "2022-12-02T16:18:26.468Z"
   },
   {
    "duration": 11,
    "start_time": "2022-12-02T16:18:26.481Z"
   },
   {
    "duration": 50,
    "start_time": "2022-12-02T16:18:26.494Z"
   },
   {
    "duration": 189,
    "start_time": "2022-12-02T16:18:26.545Z"
   },
   {
    "duration": 17,
    "start_time": "2022-12-02T16:18:26.738Z"
   },
   {
    "duration": 27,
    "start_time": "2022-12-02T16:18:26.757Z"
   },
   {
    "duration": 4,
    "start_time": "2022-12-02T16:18:26.786Z"
   },
   {
    "duration": 656,
    "start_time": "2022-12-02T16:18:26.791Z"
   },
   {
    "duration": 11,
    "start_time": "2022-12-02T16:18:27.449Z"
   },
   {
    "duration": 20,
    "start_time": "2022-12-02T16:18:27.462Z"
   },
   {
    "duration": 53,
    "start_time": "2022-12-02T16:18:27.486Z"
   },
   {
    "duration": 7,
    "start_time": "2022-12-02T16:18:27.540Z"
   },
   {
    "duration": 17,
    "start_time": "2022-12-02T16:18:27.549Z"
   },
   {
    "duration": 22,
    "start_time": "2022-12-02T16:18:27.568Z"
   },
   {
    "duration": 59,
    "start_time": "2022-12-02T16:18:27.592Z"
   },
   {
    "duration": 20,
    "start_time": "2022-12-02T16:18:27.652Z"
   },
   {
    "duration": 10,
    "start_time": "2022-12-02T16:18:27.674Z"
   },
   {
    "duration": 52,
    "start_time": "2022-12-02T16:18:27.685Z"
   },
   {
    "duration": 505,
    "start_time": "2022-12-02T16:18:27.740Z"
   },
   {
    "duration": 17,
    "start_time": "2022-12-02T16:18:28.247Z"
   },
   {
    "duration": 74,
    "start_time": "2022-12-02T16:18:28.266Z"
   },
   {
    "duration": 0,
    "start_time": "2022-12-02T16:18:28.343Z"
   },
   {
    "duration": 0,
    "start_time": "2022-12-02T16:18:28.345Z"
   },
   {
    "duration": 0,
    "start_time": "2022-12-02T16:18:28.347Z"
   },
   {
    "duration": 0,
    "start_time": "2022-12-02T16:18:28.349Z"
   },
   {
    "duration": 0,
    "start_time": "2022-12-02T16:18:28.351Z"
   },
   {
    "duration": 0,
    "start_time": "2022-12-02T16:18:28.353Z"
   },
   {
    "duration": 0,
    "start_time": "2022-12-02T16:18:28.354Z"
   },
   {
    "duration": 0,
    "start_time": "2022-12-02T16:18:28.356Z"
   },
   {
    "duration": 0,
    "start_time": "2022-12-02T16:18:28.357Z"
   },
   {
    "duration": 23,
    "start_time": "2022-12-02T16:18:52.565Z"
   },
   {
    "duration": 36,
    "start_time": "2022-12-02T16:19:36.445Z"
   },
   {
    "duration": 77,
    "start_time": "2022-12-02T16:19:39.856Z"
   },
   {
    "duration": 1309,
    "start_time": "2022-12-02T16:20:07.041Z"
   },
   {
    "duration": 1140,
    "start_time": "2022-12-02T16:20:08.352Z"
   },
   {
    "duration": 38,
    "start_time": "2022-12-02T16:20:09.494Z"
   },
   {
    "duration": 11,
    "start_time": "2022-12-02T16:20:09.534Z"
   },
   {
    "duration": 25,
    "start_time": "2022-12-02T16:20:09.546Z"
   },
   {
    "duration": 18,
    "start_time": "2022-12-02T16:20:09.573Z"
   },
   {
    "duration": 13,
    "start_time": "2022-12-02T16:20:09.593Z"
   },
   {
    "duration": 59,
    "start_time": "2022-12-02T16:20:09.608Z"
   },
   {
    "duration": 83,
    "start_time": "2022-12-02T16:20:09.668Z"
   },
   {
    "duration": 27,
    "start_time": "2022-12-02T16:20:09.754Z"
   },
   {
    "duration": 85,
    "start_time": "2022-12-02T16:20:09.782Z"
   },
   {
    "duration": 29,
    "start_time": "2022-12-02T16:20:09.869Z"
   },
   {
    "duration": 306,
    "start_time": "2022-12-02T16:20:09.900Z"
   },
   {
    "duration": 12,
    "start_time": "2022-12-02T16:20:10.207Z"
   },
   {
    "duration": 316,
    "start_time": "2022-12-02T16:20:10.221Z"
   },
   {
    "duration": 7,
    "start_time": "2022-12-02T16:20:10.539Z"
   },
   {
    "duration": 30,
    "start_time": "2022-12-02T16:20:10.548Z"
   },
   {
    "duration": 11,
    "start_time": "2022-12-02T16:20:10.579Z"
   },
   {
    "duration": 14,
    "start_time": "2022-12-02T16:20:10.592Z"
   },
   {
    "duration": 41,
    "start_time": "2022-12-02T16:20:10.608Z"
   },
   {
    "duration": 228,
    "start_time": "2022-12-02T16:20:10.651Z"
   },
   {
    "duration": 16,
    "start_time": "2022-12-02T16:20:10.880Z"
   },
   {
    "duration": 44,
    "start_time": "2022-12-02T16:20:10.898Z"
   },
   {
    "duration": 4,
    "start_time": "2022-12-02T16:20:10.944Z"
   },
   {
    "duration": 619,
    "start_time": "2022-12-02T16:20:10.950Z"
   },
   {
    "duration": 11,
    "start_time": "2022-12-02T16:20:11.571Z"
   },
   {
    "duration": 15,
    "start_time": "2022-12-02T16:20:11.583Z"
   },
   {
    "duration": 54,
    "start_time": "2022-12-02T16:20:11.602Z"
   },
   {
    "duration": 6,
    "start_time": "2022-12-02T16:20:11.657Z"
   },
   {
    "duration": 17,
    "start_time": "2022-12-02T16:20:11.665Z"
   },
   {
    "duration": 22,
    "start_time": "2022-12-02T16:20:11.683Z"
   },
   {
    "duration": 51,
    "start_time": "2022-12-02T16:20:11.706Z"
   },
   {
    "duration": 19,
    "start_time": "2022-12-02T16:20:11.759Z"
   },
   {
    "duration": 6,
    "start_time": "2022-12-02T16:20:11.779Z"
   },
   {
    "duration": 61,
    "start_time": "2022-12-02T16:20:11.787Z"
   },
   {
    "duration": 462,
    "start_time": "2022-12-02T16:20:11.850Z"
   },
   {
    "duration": 50,
    "start_time": "2022-12-02T16:20:12.314Z"
   },
   {
    "duration": 713,
    "start_time": "2022-12-02T16:20:12.366Z"
   },
   {
    "duration": 327,
    "start_time": "2022-12-02T16:20:13.081Z"
   },
   {
    "duration": 93,
    "start_time": "2022-12-02T16:20:13.410Z"
   },
   {
    "duration": 8,
    "start_time": "2022-12-02T16:20:13.505Z"
   },
   {
    "duration": 22,
    "start_time": "2022-12-02T16:20:13.515Z"
   },
   {
    "duration": 20,
    "start_time": "2022-12-02T16:20:13.539Z"
   },
   {
    "duration": 7,
    "start_time": "2022-12-02T16:20:13.561Z"
   },
   {
    "duration": 30,
    "start_time": "2022-12-02T16:20:13.569Z"
   },
   {
    "duration": 3,
    "start_time": "2022-12-02T16:20:13.601Z"
   },
   {
    "duration": 51,
    "start_time": "2022-12-02T16:20:13.606Z"
   },
   {
    "duration": 167,
    "start_time": "2022-12-02T16:21:44.475Z"
   },
   {
    "duration": 183,
    "start_time": "2022-12-02T16:22:03.074Z"
   },
   {
    "duration": 26,
    "start_time": "2022-12-02T16:22:05.477Z"
   },
   {
    "duration": 20,
    "start_time": "2022-12-02T16:22:35.009Z"
   },
   {
    "duration": 16,
    "start_time": "2022-12-02T16:22:59.743Z"
   },
   {
    "duration": 16,
    "start_time": "2022-12-02T16:23:20.642Z"
   },
   {
    "duration": 20,
    "start_time": "2022-12-02T16:24:05.399Z"
   },
   {
    "duration": 19,
    "start_time": "2022-12-02T16:24:38.414Z"
   },
   {
    "duration": 158,
    "start_time": "2022-12-02T16:24:41.190Z"
   },
   {
    "duration": 52,
    "start_time": "2022-12-02T16:24:53.026Z"
   },
   {
    "duration": 20,
    "start_time": "2022-12-02T16:25:13.650Z"
   },
   {
    "duration": 36,
    "start_time": "2022-12-02T16:25:34.538Z"
   },
   {
    "duration": 61,
    "start_time": "2022-12-02T16:25:42.792Z"
   },
   {
    "duration": 34,
    "start_time": "2022-12-02T16:25:54.863Z"
   },
   {
    "duration": 37,
    "start_time": "2022-12-02T16:25:58.276Z"
   },
   {
    "duration": 58,
    "start_time": "2022-12-02T16:26:19.680Z"
   },
   {
    "duration": 348,
    "start_time": "2022-12-02T16:27:06.065Z"
   },
   {
    "duration": 433,
    "start_time": "2022-12-02T16:27:18.872Z"
   },
   {
    "duration": 523,
    "start_time": "2022-12-02T16:27:50.398Z"
   },
   {
    "duration": 409,
    "start_time": "2022-12-02T16:27:55.995Z"
   },
   {
    "duration": 412,
    "start_time": "2022-12-02T16:28:13.658Z"
   },
   {
    "duration": 417,
    "start_time": "2022-12-02T16:28:20.126Z"
   },
   {
    "duration": 495,
    "start_time": "2022-12-02T16:29:48.590Z"
   },
   {
    "duration": 339,
    "start_time": "2022-12-02T16:29:59.635Z"
   },
   {
    "duration": 412,
    "start_time": "2022-12-02T16:30:16.003Z"
   },
   {
    "duration": 446,
    "start_time": "2022-12-02T16:31:24.977Z"
   },
   {
    "duration": 525,
    "start_time": "2022-12-02T16:31:31.185Z"
   },
   {
    "duration": 489,
    "start_time": "2022-12-02T16:31:58.852Z"
   },
   {
    "duration": 455,
    "start_time": "2022-12-02T16:32:12.821Z"
   },
   {
    "duration": 423,
    "start_time": "2022-12-02T16:33:00.177Z"
   },
   {
    "duration": 928,
    "start_time": "2022-12-02T16:36:54.634Z"
   },
   {
    "duration": 860,
    "start_time": "2022-12-02T16:37:11.860Z"
   },
   {
    "duration": 1021,
    "start_time": "2022-12-02T16:37:34.133Z"
   },
   {
    "duration": 928,
    "start_time": "2022-12-02T16:38:32.347Z"
   },
   {
    "duration": 1035,
    "start_time": "2022-12-02T16:39:00.380Z"
   },
   {
    "duration": 74,
    "start_time": "2022-12-02T16:49:15.501Z"
   },
   {
    "duration": 74,
    "start_time": "2022-12-02T16:53:05.536Z"
   },
   {
    "duration": 74,
    "start_time": "2022-12-02T16:53:06.239Z"
   },
   {
    "duration": 22,
    "start_time": "2022-12-02T16:56:56.086Z"
   },
   {
    "duration": 20,
    "start_time": "2022-12-02T16:57:05.495Z"
   },
   {
    "duration": 7,
    "start_time": "2022-12-02T16:57:07.198Z"
   },
   {
    "duration": 28,
    "start_time": "2022-12-02T16:57:09.916Z"
   },
   {
    "duration": 4,
    "start_time": "2022-12-02T16:57:35.319Z"
   },
   {
    "duration": 28,
    "start_time": "2022-12-02T16:57:36.620Z"
   },
   {
    "duration": 7,
    "start_time": "2022-12-02T16:58:21.382Z"
   },
   {
    "duration": 31,
    "start_time": "2022-12-02T16:58:24.368Z"
   },
   {
    "duration": 7,
    "start_time": "2022-12-02T17:00:44.860Z"
   },
   {
    "duration": 32,
    "start_time": "2022-12-02T17:00:50.656Z"
   },
   {
    "duration": 8,
    "start_time": "2022-12-02T17:01:16.270Z"
   },
   {
    "duration": 38,
    "start_time": "2022-12-02T17:01:18.921Z"
   },
   {
    "duration": 6,
    "start_time": "2022-12-02T17:02:01.254Z"
   },
   {
    "duration": 32,
    "start_time": "2022-12-02T17:02:03.537Z"
   },
   {
    "duration": 8,
    "start_time": "2022-12-02T17:02:15.226Z"
   },
   {
    "duration": 38,
    "start_time": "2022-12-02T17:02:24.154Z"
   },
   {
    "duration": 6,
    "start_time": "2022-12-02T17:02:50.522Z"
   },
   {
    "duration": 6,
    "start_time": "2022-12-02T17:02:55.214Z"
   },
   {
    "duration": 30,
    "start_time": "2022-12-02T17:02:57.261Z"
   },
   {
    "duration": 28,
    "start_time": "2022-12-02T17:03:03.429Z"
   },
   {
    "duration": 4,
    "start_time": "2022-12-02T17:09:12.076Z"
   },
   {
    "duration": 28,
    "start_time": "2022-12-02T17:09:15.967Z"
   },
   {
    "duration": 12,
    "start_time": "2022-12-02T17:09:36.496Z"
   },
   {
    "duration": 4,
    "start_time": "2022-12-02T17:09:43.350Z"
   },
   {
    "duration": 47,
    "start_time": "2022-12-02T19:17:23.081Z"
   },
   {
    "duration": 45,
    "start_time": "2022-12-02T19:22:47.793Z"
   },
   {
    "duration": 1187,
    "start_time": "2022-12-02T19:22:56.734Z"
   },
   {
    "duration": 1158,
    "start_time": "2022-12-02T19:22:57.923Z"
   },
   {
    "duration": 43,
    "start_time": "2022-12-02T19:22:59.083Z"
   },
   {
    "duration": 11,
    "start_time": "2022-12-02T19:22:59.128Z"
   },
   {
    "duration": 24,
    "start_time": "2022-12-02T19:22:59.141Z"
   },
   {
    "duration": 18,
    "start_time": "2022-12-02T19:22:59.167Z"
   },
   {
    "duration": 40,
    "start_time": "2022-12-02T19:22:59.187Z"
   },
   {
    "duration": 30,
    "start_time": "2022-12-02T19:22:59.229Z"
   },
   {
    "duration": 71,
    "start_time": "2022-12-02T19:22:59.262Z"
   },
   {
    "duration": 25,
    "start_time": "2022-12-02T19:22:59.337Z"
   },
   {
    "duration": 71,
    "start_time": "2022-12-02T19:22:59.364Z"
   },
   {
    "duration": 34,
    "start_time": "2022-12-02T19:22:59.437Z"
   },
   {
    "duration": 305,
    "start_time": "2022-12-02T19:22:59.473Z"
   },
   {
    "duration": 11,
    "start_time": "2022-12-02T19:22:59.780Z"
   },
   {
    "duration": 299,
    "start_time": "2022-12-02T19:22:59.793Z"
   },
   {
    "duration": 6,
    "start_time": "2022-12-02T19:23:00.094Z"
   },
   {
    "duration": 22,
    "start_time": "2022-12-02T19:23:00.113Z"
   },
   {
    "duration": 13,
    "start_time": "2022-12-02T19:23:00.137Z"
   },
   {
    "duration": 12,
    "start_time": "2022-12-02T19:23:00.152Z"
   },
   {
    "duration": 25,
    "start_time": "2022-12-02T19:23:00.166Z"
   },
   {
    "duration": 299,
    "start_time": "2022-12-02T19:23:00.193Z"
   },
   {
    "duration": 27,
    "start_time": "2022-12-02T19:23:00.494Z"
   },
   {
    "duration": 76,
    "start_time": "2022-12-02T19:23:00.524Z"
   },
   {
    "duration": 4,
    "start_time": "2022-12-02T19:23:00.602Z"
   },
   {
    "duration": 617,
    "start_time": "2022-12-02T19:23:00.608Z"
   },
   {
    "duration": 11,
    "start_time": "2022-12-02T19:23:01.227Z"
   },
   {
    "duration": 35,
    "start_time": "2022-12-02T19:23:01.240Z"
   },
   {
    "duration": 50,
    "start_time": "2022-12-02T19:23:01.279Z"
   },
   {
    "duration": 15,
    "start_time": "2022-12-02T19:23:01.330Z"
   },
   {
    "duration": 43,
    "start_time": "2022-12-02T19:23:01.347Z"
   },
   {
    "duration": 35,
    "start_time": "2022-12-02T19:23:01.391Z"
   },
   {
    "duration": 20,
    "start_time": "2022-12-02T19:23:01.428Z"
   },
   {
    "duration": 19,
    "start_time": "2022-12-02T19:23:01.450Z"
   },
   {
    "duration": 43,
    "start_time": "2022-12-02T19:23:01.470Z"
   },
   {
    "duration": 45,
    "start_time": "2022-12-02T19:23:01.515Z"
   },
   {
    "duration": 480,
    "start_time": "2022-12-02T19:23:01.562Z"
   },
   {
    "duration": 376,
    "start_time": "2022-12-02T19:23:02.043Z"
   },
   {
    "duration": 850,
    "start_time": "2022-12-02T19:23:02.421Z"
   },
   {
    "duration": 89,
    "start_time": "2022-12-02T19:23:03.273Z"
   },
   {
    "duration": 9,
    "start_time": "2022-12-02T19:23:03.364Z"
   },
   {
    "duration": 9,
    "start_time": "2022-12-02T19:23:03.374Z"
   },
   {
    "duration": 34,
    "start_time": "2022-12-02T19:23:03.385Z"
   },
   {
    "duration": 6,
    "start_time": "2022-12-02T19:23:03.421Z"
   },
   {
    "duration": 28,
    "start_time": "2022-12-02T19:23:03.429Z"
   },
   {
    "duration": 4,
    "start_time": "2022-12-02T19:23:03.458Z"
   },
   {
    "duration": 50,
    "start_time": "2022-12-02T19:23:03.463Z"
   },
   {
    "duration": 1221,
    "start_time": "2022-12-02T20:46:44.704Z"
   },
   {
    "duration": 1532,
    "start_time": "2022-12-02T20:46:45.927Z"
   },
   {
    "duration": 36,
    "start_time": "2022-12-02T20:46:47.461Z"
   },
   {
    "duration": 10,
    "start_time": "2022-12-02T20:46:47.499Z"
   },
   {
    "duration": 23,
    "start_time": "2022-12-02T20:46:47.510Z"
   },
   {
    "duration": 16,
    "start_time": "2022-12-02T20:46:47.535Z"
   },
   {
    "duration": 12,
    "start_time": "2022-12-02T20:46:47.553Z"
   },
   {
    "duration": 37,
    "start_time": "2022-12-02T20:46:47.567Z"
   },
   {
    "duration": 50,
    "start_time": "2022-12-02T20:46:47.614Z"
   },
   {
    "duration": 25,
    "start_time": "2022-12-02T20:46:47.667Z"
   },
   {
    "duration": 68,
    "start_time": "2022-12-02T20:46:47.694Z"
   },
   {
    "duration": 28,
    "start_time": "2022-12-02T20:46:47.764Z"
   },
   {
    "duration": 259,
    "start_time": "2022-12-02T20:46:47.813Z"
   },
   {
    "duration": 12,
    "start_time": "2022-12-02T20:46:48.074Z"
   },
   {
    "duration": 252,
    "start_time": "2022-12-02T20:46:48.088Z"
   },
   {
    "duration": 7,
    "start_time": "2022-12-02T20:46:48.341Z"
   },
   {
    "duration": 23,
    "start_time": "2022-12-02T20:46:48.350Z"
   },
   {
    "duration": 10,
    "start_time": "2022-12-02T20:46:48.375Z"
   },
   {
    "duration": 34,
    "start_time": "2022-12-02T20:46:48.387Z"
   },
   {
    "duration": 12,
    "start_time": "2022-12-02T20:46:48.423Z"
   },
   {
    "duration": 201,
    "start_time": "2022-12-02T20:46:48.437Z"
   },
   {
    "duration": 17,
    "start_time": "2022-12-02T20:46:48.640Z"
   },
   {
    "duration": 28,
    "start_time": "2022-12-02T20:46:48.659Z"
   },
   {
    "duration": 4,
    "start_time": "2022-12-02T20:46:48.688Z"
   },
   {
    "duration": 648,
    "start_time": "2022-12-02T20:46:48.713Z"
   },
   {
    "duration": 10,
    "start_time": "2022-12-02T20:46:49.363Z"
   },
   {
    "duration": 16,
    "start_time": "2022-12-02T20:46:49.375Z"
   },
   {
    "duration": 27,
    "start_time": "2022-12-02T20:46:49.413Z"
   },
   {
    "duration": 7,
    "start_time": "2022-12-02T20:46:49.442Z"
   },
   {
    "duration": 19,
    "start_time": "2022-12-02T20:46:49.451Z"
   },
   {
    "duration": 42,
    "start_time": "2022-12-02T20:46:49.471Z"
   },
   {
    "duration": 23,
    "start_time": "2022-12-02T20:46:49.515Z"
   },
   {
    "duration": 19,
    "start_time": "2022-12-02T20:46:49.540Z"
   },
   {
    "duration": 7,
    "start_time": "2022-12-02T20:46:49.561Z"
   },
   {
    "duration": 62,
    "start_time": "2022-12-02T20:46:49.569Z"
   },
   {
    "duration": 472,
    "start_time": "2022-12-02T20:46:49.633Z"
   },
   {
    "duration": 380,
    "start_time": "2022-12-02T20:46:50.107Z"
   },
   {
    "duration": 954,
    "start_time": "2022-12-02T20:46:50.489Z"
   },
   {
    "duration": 98,
    "start_time": "2022-12-02T20:46:51.445Z"
   },
   {
    "duration": 8,
    "start_time": "2022-12-02T20:46:51.545Z"
   },
   {
    "duration": 4,
    "start_time": "2022-12-02T20:46:51.554Z"
   },
   {
    "duration": 22,
    "start_time": "2022-12-02T20:46:51.560Z"
   },
   {
    "duration": 28,
    "start_time": "2022-12-02T20:46:51.584Z"
   },
   {
    "duration": 29,
    "start_time": "2022-12-02T20:46:51.615Z"
   },
   {
    "duration": 3,
    "start_time": "2022-12-02T20:46:51.646Z"
   },
   {
    "duration": 33,
    "start_time": "2022-12-02T20:46:51.651Z"
   },
   {
    "duration": 4,
    "start_time": "2022-12-02T21:01:26.820Z"
   },
   {
    "duration": 4,
    "start_time": "2022-12-02T21:02:04.139Z"
   },
   {
    "duration": 158,
    "start_time": "2022-12-02T21:02:12.738Z"
   },
   {
    "duration": 4,
    "start_time": "2022-12-02T21:02:24.334Z"
   },
   {
    "duration": 48,
    "start_time": "2022-12-02T22:39:20.561Z"
   },
   {
    "duration": 1367,
    "start_time": "2022-12-03T19:28:19.113Z"
   },
   {
    "duration": 1389,
    "start_time": "2022-12-03T19:28:20.482Z"
   },
   {
    "duration": 39,
    "start_time": "2022-12-03T19:28:21.873Z"
   },
   {
    "duration": 11,
    "start_time": "2022-12-03T19:28:21.914Z"
   },
   {
    "duration": 25,
    "start_time": "2022-12-03T19:28:21.927Z"
   },
   {
    "duration": 34,
    "start_time": "2022-12-03T19:28:21.954Z"
   },
   {
    "duration": 12,
    "start_time": "2022-12-03T19:28:21.990Z"
   },
   {
    "duration": 29,
    "start_time": "2022-12-03T19:28:22.003Z"
   },
   {
    "duration": 69,
    "start_time": "2022-12-03T19:28:22.033Z"
   },
   {
    "duration": 25,
    "start_time": "2022-12-03T19:28:22.105Z"
   },
   {
    "duration": 70,
    "start_time": "2022-12-03T19:28:22.132Z"
   },
   {
    "duration": 26,
    "start_time": "2022-12-03T19:28:22.203Z"
   },
   {
    "duration": 265,
    "start_time": "2022-12-03T19:28:22.230Z"
   },
   {
    "duration": 10,
    "start_time": "2022-12-03T19:28:22.497Z"
   },
   {
    "duration": 273,
    "start_time": "2022-12-03T19:28:22.508Z"
   },
   {
    "duration": 6,
    "start_time": "2022-12-03T19:28:22.782Z"
   },
   {
    "duration": 23,
    "start_time": "2022-12-03T19:28:22.790Z"
   },
   {
    "duration": 11,
    "start_time": "2022-12-03T19:28:22.814Z"
   },
   {
    "duration": 13,
    "start_time": "2022-12-03T19:28:22.826Z"
   },
   {
    "duration": 39,
    "start_time": "2022-12-03T19:28:22.840Z"
   },
   {
    "duration": 190,
    "start_time": "2022-12-03T19:28:22.880Z"
   },
   {
    "duration": 18,
    "start_time": "2022-12-03T19:28:23.071Z"
   },
   {
    "duration": 21,
    "start_time": "2022-12-03T19:28:23.091Z"
   },
   {
    "duration": 2,
    "start_time": "2022-12-03T19:28:23.114Z"
   },
   {
    "duration": 748,
    "start_time": "2022-12-03T19:28:23.118Z"
   },
   {
    "duration": 12,
    "start_time": "2022-12-03T19:28:23.878Z"
   },
   {
    "duration": 20,
    "start_time": "2022-12-03T19:28:23.892Z"
   },
   {
    "duration": 31,
    "start_time": "2022-12-03T19:28:23.917Z"
   },
   {
    "duration": 29,
    "start_time": "2022-12-03T19:28:23.950Z"
   },
   {
    "duration": 40,
    "start_time": "2022-12-03T19:28:23.981Z"
   },
   {
    "duration": 24,
    "start_time": "2022-12-03T19:28:24.023Z"
   },
   {
    "duration": 30,
    "start_time": "2022-12-03T19:28:24.049Z"
   },
   {
    "duration": 20,
    "start_time": "2022-12-03T19:28:24.081Z"
   },
   {
    "duration": 15,
    "start_time": "2022-12-03T19:28:24.103Z"
   },
   {
    "duration": 32,
    "start_time": "2022-12-03T19:28:24.120Z"
   },
   {
    "duration": 482,
    "start_time": "2022-12-03T19:28:24.154Z"
   },
   {
    "duration": 560,
    "start_time": "2022-12-03T19:28:24.637Z"
   },
   {
    "duration": 1253,
    "start_time": "2022-12-03T19:28:25.198Z"
   },
   {
    "duration": 89,
    "start_time": "2022-12-03T19:28:26.452Z"
   },
   {
    "duration": 8,
    "start_time": "2022-12-03T19:28:26.543Z"
   },
   {
    "duration": 6,
    "start_time": "2022-12-03T19:28:26.552Z"
   },
   {
    "duration": 24,
    "start_time": "2022-12-03T19:28:26.560Z"
   },
   {
    "duration": 6,
    "start_time": "2022-12-03T19:28:26.586Z"
   },
   {
    "duration": 29,
    "start_time": "2022-12-03T19:28:26.594Z"
   },
   {
    "duration": 3,
    "start_time": "2022-12-03T19:28:26.625Z"
   },
   {
    "duration": 28,
    "start_time": "2022-12-03T19:28:26.630Z"
   },
   {
    "duration": 1215,
    "start_time": "2023-02-09T20:40:18.498Z"
   },
   {
    "duration": 1616,
    "start_time": "2023-02-09T20:40:19.715Z"
   },
   {
    "duration": 33,
    "start_time": "2023-02-09T20:40:21.333Z"
   },
   {
    "duration": 9,
    "start_time": "2023-02-09T20:40:21.368Z"
   },
   {
    "duration": 20,
    "start_time": "2023-02-09T20:40:21.379Z"
   },
   {
    "duration": 23,
    "start_time": "2023-02-09T20:40:21.401Z"
   },
   {
    "duration": 15,
    "start_time": "2023-02-09T20:40:21.426Z"
   },
   {
    "duration": 31,
    "start_time": "2023-02-09T20:40:21.443Z"
   },
   {
    "duration": 72,
    "start_time": "2023-02-09T20:40:21.476Z"
   },
   {
    "duration": 26,
    "start_time": "2023-02-09T20:40:21.550Z"
   },
   {
    "duration": 69,
    "start_time": "2023-02-09T20:40:21.577Z"
   },
   {
    "duration": 27,
    "start_time": "2023-02-09T20:40:21.648Z"
   },
   {
    "duration": 297,
    "start_time": "2023-02-09T20:40:21.677Z"
   },
   {
    "duration": 11,
    "start_time": "2023-02-09T20:40:21.977Z"
   },
   {
    "duration": 298,
    "start_time": "2023-02-09T20:40:21.990Z"
   },
   {
    "duration": 9,
    "start_time": "2023-02-09T20:40:22.290Z"
   },
   {
    "duration": 29,
    "start_time": "2023-02-09T20:40:22.301Z"
   },
   {
    "duration": 24,
    "start_time": "2023-02-09T20:40:22.331Z"
   },
   {
    "duration": 24,
    "start_time": "2023-02-09T20:40:22.357Z"
   },
   {
    "duration": 14,
    "start_time": "2023-02-09T20:40:22.383Z"
   },
   {
    "duration": 196,
    "start_time": "2023-02-09T20:40:22.398Z"
   },
   {
    "duration": 16,
    "start_time": "2023-02-09T20:40:22.599Z"
   },
   {
    "duration": 22,
    "start_time": "2023-02-09T20:40:22.616Z"
   },
   {
    "duration": 4,
    "start_time": "2023-02-09T20:40:22.640Z"
   },
   {
    "duration": 597,
    "start_time": "2023-02-09T20:40:22.646Z"
   },
   {
    "duration": 10,
    "start_time": "2023-02-09T20:40:23.245Z"
   },
   {
    "duration": 27,
    "start_time": "2023-02-09T20:40:23.257Z"
   },
   {
    "duration": 44,
    "start_time": "2023-02-09T20:40:23.286Z"
   },
   {
    "duration": 14,
    "start_time": "2023-02-09T20:40:23.332Z"
   },
   {
    "duration": 23,
    "start_time": "2023-02-09T20:40:23.347Z"
   },
   {
    "duration": 20,
    "start_time": "2023-02-09T20:40:23.372Z"
   },
   {
    "duration": 22,
    "start_time": "2023-02-09T20:40:23.393Z"
   },
   {
    "duration": 19,
    "start_time": "2023-02-09T20:40:23.417Z"
   },
   {
    "duration": 7,
    "start_time": "2023-02-09T20:40:23.438Z"
   },
   {
    "duration": 58,
    "start_time": "2023-02-09T20:40:23.447Z"
   },
   {
    "duration": 478,
    "start_time": "2023-02-09T20:40:23.506Z"
   },
   {
    "duration": 457,
    "start_time": "2023-02-09T20:40:23.999Z"
   },
   {
    "duration": 1041,
    "start_time": "2023-02-09T20:40:24.458Z"
   },
   {
    "duration": 123,
    "start_time": "2023-02-09T20:40:25.501Z"
   },
   {
    "duration": 10,
    "start_time": "2023-02-09T20:40:25.626Z"
   },
   {
    "duration": 18,
    "start_time": "2023-02-09T20:40:25.640Z"
   },
   {
    "duration": 32,
    "start_time": "2023-02-09T20:40:25.661Z"
   },
   {
    "duration": 7,
    "start_time": "2023-02-09T20:40:25.695Z"
   },
   {
    "duration": 36,
    "start_time": "2023-02-09T20:40:25.704Z"
   },
   {
    "duration": 4,
    "start_time": "2023-02-09T20:40:25.743Z"
   },
   {
    "duration": 57,
    "start_time": "2023-02-09T20:40:25.749Z"
   },
   {
    "duration": 52,
    "start_time": "2023-02-11T10:22:16.205Z"
   },
   {
    "duration": 1589,
    "start_time": "2023-02-11T10:22:25.496Z"
   },
   {
    "duration": 1340,
    "start_time": "2023-02-11T10:22:27.094Z"
   },
   {
    "duration": 53,
    "start_time": "2023-02-11T10:22:28.436Z"
   },
   {
    "duration": 12,
    "start_time": "2023-02-11T10:22:28.491Z"
   },
   {
    "duration": 34,
    "start_time": "2023-02-11T10:22:28.506Z"
   },
   {
    "duration": 18,
    "start_time": "2023-02-11T10:22:28.542Z"
   },
   {
    "duration": 15,
    "start_time": "2023-02-11T10:22:28.561Z"
   },
   {
    "duration": 61,
    "start_time": "2023-02-11T10:22:28.577Z"
   },
   {
    "duration": 102,
    "start_time": "2023-02-11T10:22:28.640Z"
   },
   {
    "duration": 61,
    "start_time": "2023-02-11T10:22:28.743Z"
   },
   {
    "duration": 82,
    "start_time": "2023-02-11T10:22:28.810Z"
   },
   {
    "duration": 32,
    "start_time": "2023-02-11T10:22:28.897Z"
   },
   {
    "duration": 273,
    "start_time": "2023-02-11T10:22:28.931Z"
   },
   {
    "duration": 11,
    "start_time": "2023-02-11T10:22:29.209Z"
   },
   {
    "duration": 274,
    "start_time": "2023-02-11T10:22:29.222Z"
   },
   {
    "duration": 12,
    "start_time": "2023-02-11T10:22:29.497Z"
   },
   {
    "duration": 26,
    "start_time": "2023-02-11T10:22:29.510Z"
   },
   {
    "duration": 10,
    "start_time": "2023-02-11T10:22:29.538Z"
   },
   {
    "duration": 28,
    "start_time": "2023-02-11T10:22:29.549Z"
   },
   {
    "duration": 19,
    "start_time": "2023-02-11T10:22:29.579Z"
   },
   {
    "duration": 230,
    "start_time": "2023-02-11T10:22:29.599Z"
   },
   {
    "duration": 14,
    "start_time": "2023-02-11T10:22:29.831Z"
   },
   {
    "duration": 57,
    "start_time": "2023-02-11T10:22:29.847Z"
   },
   {
    "duration": 3,
    "start_time": "2023-02-11T10:22:29.908Z"
   },
   {
    "duration": 669,
    "start_time": "2023-02-11T10:22:29.913Z"
   },
   {
    "duration": 16,
    "start_time": "2023-02-11T10:22:30.593Z"
   },
   {
    "duration": 29,
    "start_time": "2023-02-11T10:22:30.611Z"
   },
   {
    "duration": 101,
    "start_time": "2023-02-11T10:22:30.642Z"
   },
   {
    "duration": 10,
    "start_time": "2023-02-11T10:22:30.745Z"
   },
   {
    "duration": 81,
    "start_time": "2023-02-11T10:22:30.757Z"
   },
   {
    "duration": 66,
    "start_time": "2023-02-11T10:22:30.840Z"
   },
   {
    "duration": 22,
    "start_time": "2023-02-11T10:22:30.912Z"
   },
   {
    "duration": 23,
    "start_time": "2023-02-11T10:22:30.936Z"
   },
   {
    "duration": 30,
    "start_time": "2023-02-11T10:22:30.960Z"
   },
   {
    "duration": 56,
    "start_time": "2023-02-11T10:22:30.995Z"
   },
   {
    "duration": 550,
    "start_time": "2023-02-11T10:22:31.053Z"
   },
   {
    "duration": 452,
    "start_time": "2023-02-11T10:22:31.605Z"
   },
   {
    "duration": 1016,
    "start_time": "2023-02-11T10:22:32.059Z"
   },
   {
    "duration": 206,
    "start_time": "2023-02-11T10:22:33.082Z"
   },
   {
    "duration": 10,
    "start_time": "2023-02-11T10:22:33.290Z"
   },
   {
    "duration": 8,
    "start_time": "2023-02-11T10:22:33.306Z"
   },
   {
    "duration": 23,
    "start_time": "2023-02-11T10:22:33.316Z"
   },
   {
    "duration": 6,
    "start_time": "2023-02-11T10:22:33.341Z"
   },
   {
    "duration": 51,
    "start_time": "2023-02-11T10:22:33.349Z"
   },
   {
    "duration": 14,
    "start_time": "2023-02-11T10:22:33.402Z"
   },
   {
    "duration": 64,
    "start_time": "2023-02-11T10:22:33.419Z"
   },
   {
    "duration": 86,
    "start_time": "2023-02-11T10:24:26.564Z"
   },
   {
    "duration": 119,
    "start_time": "2023-02-11T10:24:35.461Z"
   },
   {
    "duration": 76,
    "start_time": "2023-02-11T10:24:44.263Z"
   },
   {
    "duration": 493,
    "start_time": "2023-02-11T10:26:24.999Z"
   },
   {
    "duration": 987,
    "start_time": "2023-02-11T10:28:07.749Z"
   },
   {
    "duration": 669,
    "start_time": "2023-02-11T10:30:17.236Z"
   },
   {
    "duration": 125,
    "start_time": "2023-02-11T10:30:45.657Z"
   },
   {
    "duration": 349,
    "start_time": "2023-02-11T10:32:25.400Z"
   },
   {
    "duration": 948,
    "start_time": "2023-02-11T10:32:39.661Z"
   },
   {
    "duration": 217,
    "start_time": "2023-02-11T10:33:38.640Z"
   }
  ],
  "kernelspec": {
   "display_name": "Python 3 (ipykernel)",
   "language": "python",
   "name": "python3"
  },
  "language_info": {
   "codemirror_mode": {
    "name": "ipython",
    "version": 3
   },
   "file_extension": ".py",
   "mimetype": "text/x-python",
   "name": "python",
   "nbconvert_exporter": "python",
   "pygments_lexer": "ipython3",
   "version": "3.9.5"
  },
  "toc": {
   "base_numbering": 1,
   "nav_menu": {},
   "number_sections": true,
   "sideBar": true,
   "skip_h1_title": true,
   "title_cell": "Table of Contents",
   "title_sidebar": "Contents",
   "toc_cell": false,
   "toc_position": {},
   "toc_section_display": true,
   "toc_window_display": false
  }
 },
 "nbformat": 4,
 "nbformat_minor": 2
}
